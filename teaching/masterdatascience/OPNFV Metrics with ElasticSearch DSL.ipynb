{
 "metadata": {
  "name": "",
  "signature": "sha256:af0ad4932591746376159beee472750b6cfe194a35f928015c8d74756fea1442"
 },
 "nbformat": 3,
 "nbformat_minor": 0,
 "worksheets": [
  {
   "cells": [
    {
     "cell_type": "code",
     "collapsed": false,
     "input": [
      "from elasticsearch import Elasticsearch\n",
      "from elasticsearch_dsl import Search\n",
      "from datetime import datetime\n",
      "\n",
      "client = Elasticsearch([\"http://127.0.0.1:9200\"])\n",
      "\n",
      "INDEX = \"git_opnfv\""
     ],
     "language": "python",
     "metadata": {},
     "outputs": [],
     "prompt_number": 17
    },
    {
     "cell_type": "markdown",
     "metadata": {},
     "source": [
      "Introduction\n",
      "------------\n",
      "\n",
      "Usual metrics needed for reports are either basic to give a context, or advanced to provide extra points of view helpful in somehow to the managers, developers and others.\n",
      "\n",
      "This is an example of how to produce some basic development metrics using elasticsearch dsl"
     ]
    },
    {
     "cell_type": "markdown",
     "metadata": {},
     "source": [
      "This analysis is based on the usual enriched Git repo provided by GrimoireLab toolchain.\n",
      "\n",
      "The following are the metrics calculated in this notebook:\n",
      "* Number of unique commits (unique hashes)\n",
      "* Number of unique commits (unique hashes) and ignoring merges (commits touching files)\n",
      "* Number of unique commits (unique hashes) filtered by date\n",
      "* Number of commits filtered by date and grouped by quarter\n",
      "* Number of unique commits (unique hashes) filtered by date and grouped by quarter\n",
      "* Number of unique commits (unique hashes) filtered by date and grouped by repository\n",
      "* Number of unique commits (unique hashes) filtered by date and grouped by author\n",
      "* Number of unique commits (unique hashes) filtered by date and grouped by repository and author\n",
      "* Number of unique commits (unique hashes) and ignoring merges filtered by date and grouped by repository and author\n",
      "\n",
      "At the very end of the analysis there is a way to print and use JSON queries for debuggins purposes.\n",
      "\n",
      "Each of the examples can be run on their own.\n"
     ]
    },
    {
     "cell_type": "markdown",
     "metadata": {},
     "source": [
      "## COUNTING UNIQUE COMMITS\n",
      "\n",
      "A commit is uniquely identified by its hash. Counting unique hashes brings the total number of unique commits.\n",
      "* As extra work: compare the number of commits and unique commits.\n",
      "* Hint: take care with the precision parameter.\n"
     ]
    },
    {
     "cell_type": "code",
     "collapsed": false,
     "input": [
      "s = Search(using=client, index=INDEX)\n",
      "s.aggs.metric('commits', 'cardinality', field='hash')\n",
      "result = s.execute()\n",
      "result.to_dict()[\"aggregations\"]\n"
     ],
     "language": "python",
     "metadata": {},
     "outputs": [
      {
       "metadata": {},
       "output_type": "pyout",
       "prompt_number": 18,
       "text": [
        "{'commits': {'value': 17849}}"
       ]
      }
     ],
     "prompt_number": 18
    },
    {
     "cell_type": "markdown",
     "metadata": {},
     "source": [
      "## COUNTING UNIQUE COMMITS AND IGNORING 'MERGES'\n",
      "\n",
      "A merge is defined as those commits that do not 'touch' any file. This is not an exact definition, but this usually works.\n",
      "* As extra work: compare the number of commits with the keyword 'Merge' and those that do not 'touch' any file"
     ]
    },
    {
     "cell_type": "code",
     "collapsed": false,
     "input": [
      "s = Search(using=client, index=INDEX).filter('range', files={'gt':0})\n",
      "s.aggs.metric('commits', 'cardinality', field='hash')\n",
      "result = s.execute()\n",
      "result.to_dict()[\"aggregations\"]\n",
      "\n"
     ],
     "language": "python",
     "metadata": {},
     "outputs": [
      {
       "metadata": {},
       "output_type": "pyout",
       "prompt_number": 19,
       "text": [
        "{'commits': {'value': 14240}}"
       ]
      }
     ],
     "prompt_number": 19
    },
    {
     "cell_type": "markdown",
     "metadata": {},
     "source": [
      "## COUNTING UNIQUE COMMITS FILTERED BY DATE\n",
      "\n",
      "Filters can be used for limiting the time of analysis as well."
     ]
    },
    {
     "cell_type": "code",
     "collapsed": false,
     "input": [
      "s = Search(using=client, index=INDEX).filter('range', author_date={'gt': datetime(2015, 12, 12)})\n",
      "s.aggs.metric('commits', 'cardinality', field='hash')\n",
      "result = s.execute()\n",
      "result.to_dict()[\"aggregations\"]"
     ],
     "language": "python",
     "metadata": {},
     "outputs": [
      {
       "metadata": {},
       "output_type": "pyout",
       "prompt_number": 20,
       "text": [
        "{'commits': {'value': 14759}}"
       ]
      }
     ],
     "prompt_number": 20
    },
    {
     "cell_type": "markdown",
     "metadata": {},
     "source": [
      "## COUNTING COMMITS FILTERED BY DATE AND GROUPED BY QUARTER\n",
      "\n",
      "The usual 'GROUP BY' clause in SQL is translated as a 'bucket' in ElasticSearch DSL."
     ]
    },
    {
     "cell_type": "code",
     "collapsed": false,
     "input": [
      "s = Search(using=client, index=INDEX).filter('range', author_date={'gt': datetime(2015, 1, 1)})\n",
      "#s = s.filter('range', created={'gte': datetime(1999, 1, 1)})\n",
      "s.aggs.bucket('histogram', 'date_histogram', field='author_date', interval='quarter')\n",
      "result = s.execute()\n",
      "result.to_dict()[\"aggregations\"]"
     ],
     "language": "python",
     "metadata": {},
     "outputs": [
      {
       "metadata": {},
       "output_type": "pyout",
       "prompt_number": 21,
       "text": [
        "{'histogram': {'buckets': [{'doc_count': 184,\n",
        "    'key_as_string': '2015-01-01T00:00:00.000Z',\n",
        "    'key': 1420070400000},\n",
        "   {'doc_count': 787,\n",
        "    'key_as_string': '2015-04-01T00:00:00.000Z',\n",
        "    'key': 1427846400000},\n",
        "   {'doc_count': 927,\n",
        "    'key_as_string': '2015-07-01T00:00:00.000Z',\n",
        "    'key': 1435708800000},\n",
        "   {'doc_count': 1632,\n",
        "    'key_as_string': '2015-10-01T00:00:00.000Z',\n",
        "    'key': 1443657600000},\n",
        "   {'doc_count': 3295,\n",
        "    'key_as_string': '2016-01-01T00:00:00.000Z',\n",
        "    'key': 1451606400000},\n",
        "   {'doc_count': 2254,\n",
        "    'key_as_string': '2016-04-01T00:00:00.000Z',\n",
        "    'key': 1459468800000},\n",
        "   {'doc_count': 4014,\n",
        "    'key_as_string': '2016-07-01T00:00:00.000Z',\n",
        "    'key': 1467331200000},\n",
        "   {'doc_count': 2266,\n",
        "    'key_as_string': '2016-10-01T00:00:00.000Z',\n",
        "    'key': 1475280000000},\n",
        "   {'doc_count': 2517,\n",
        "    'key_as_string': '2017-01-01T00:00:00.000Z',\n",
        "    'key': 1483228800000}]}}"
       ]
      }
     ],
     "prompt_number": 21
    },
    {
     "cell_type": "markdown",
     "metadata": {},
     "source": [
      "## COUNTING COMMITS FILTERED BY DATE, GROUPED BY QUARTER AND THE UNIQUE ONES\n"
     ]
    },
    {
     "cell_type": "code",
     "collapsed": false,
     "input": [
      "s = Search(using=client, index=INDEX).filter('range', author_date={'gt': datetime(2015, 1, 1)})\n",
      "#s = s.filter('range', created={'gte': datetime(1999, 1, 1)})\n",
      "s.aggs.bucket('histogram', 'date_histogram', field='author_date', interval='quarter').metric('commits', 'cardinality', field='hash')\n",
      "result = s.execute()\n",
      "result.to_dict()[\"aggregations\"]"
     ],
     "language": "python",
     "metadata": {},
     "outputs": [
      {
       "metadata": {},
       "output_type": "pyout",
       "prompt_number": 22,
       "text": [
        "{'histogram': {'buckets': [{'commits': {'value': 178},\n",
        "    'doc_count': 184,\n",
        "    'key_as_string': '2015-01-01T00:00:00.000Z',\n",
        "    'key': 1420070400000},\n",
        "   {'commits': {'value': 776},\n",
        "    'doc_count': 787,\n",
        "    'key_as_string': '2015-04-01T00:00:00.000Z',\n",
        "    'key': 1427846400000},\n",
        "   {'commits': {'value': 923},\n",
        "    'doc_count': 927,\n",
        "    'key_as_string': '2015-07-01T00:00:00.000Z',\n",
        "    'key': 1435708800000},\n",
        "   {'commits': {'value': 1526},\n",
        "    'doc_count': 1632,\n",
        "    'key_as_string': '2015-10-01T00:00:00.000Z',\n",
        "    'key': 1443657600000},\n",
        "   {'commits': {'value': 3561},\n",
        "    'doc_count': 3295,\n",
        "    'key_as_string': '2016-01-01T00:00:00.000Z',\n",
        "    'key': 1451606400000},\n",
        "   {'commits': {'value': 2266},\n",
        "    'doc_count': 2254,\n",
        "    'key_as_string': '2016-04-01T00:00:00.000Z',\n",
        "    'key': 1459468800000},\n",
        "   {'commits': {'value': 3953},\n",
        "    'doc_count': 4014,\n",
        "    'key_as_string': '2016-07-01T00:00:00.000Z',\n",
        "    'key': 1467331200000},\n",
        "   {'commits': {'value': 2295},\n",
        "    'doc_count': 2266,\n",
        "    'key_as_string': '2016-10-01T00:00:00.000Z',\n",
        "    'key': 1475280000000},\n",
        "   {'commits': {'value': 2479},\n",
        "    'doc_count': 2517,\n",
        "    'key_as_string': '2017-01-01T00:00:00.000Z',\n",
        "    'key': 1483228800000}]}}"
       ]
      }
     ],
     "prompt_number": 22
    },
    {
     "cell_type": "markdown",
     "metadata": {},
     "source": [
      "## COUNTING UNIQUE COMMITS FILTERED BY DATE AND GROUPED BY REPOSITORY\n"
     ]
    },
    {
     "cell_type": "code",
     "collapsed": false,
     "input": [
      "s = Search(using=client, index=INDEX).filter('range', author_date={'gt': datetime(2015, 12, 12)})\n",
      "s.aggs.bucket('by_repo', 'terms', field='repo_name').metric('commits', 'cardinality', field='hash')\n",
      "result = s.execute()\n",
      "result.to_dict()[\"aggregations\"]"
     ],
     "language": "python",
     "metadata": {},
     "outputs": [
      {
       "metadata": {},
       "output_type": "pyout",
       "prompt_number": 23,
       "text": [
        "{'by_repo': {'doc_count_error_upper_bound': 0,\n",
        "  'buckets': [{'commits': {'value': 2385},\n",
        "    'doc_count': 2546,\n",
        "    'key': 'git://git.opnfv.org/releng'},\n",
        "   {'commits': {'value': 2164},\n",
        "    'doc_count': 2044,\n",
        "    'key': 'git://git.opnfv.org/functest'},\n",
        "   {'commits': {'value': 1191},\n",
        "    'doc_count': 1100,\n",
        "    'key': 'git://git.opnfv.org/armband'},\n",
        "   {'commits': {'value': 1047},\n",
        "    'doc_count': 1079,\n",
        "    'key': 'git://git.opnfv.org/apex'},\n",
        "   {'commits': {'value': 1067},\n",
        "    'doc_count': 1057,\n",
        "    'key': 'git://git.opnfv.org/yardstick'},\n",
        "   {'commits': {'value': 986},\n",
        "    'doc_count': 986,\n",
        "    'key': 'git://git.opnfv.org/fuel'},\n",
        "   {'commits': {'value': 861},\n",
        "    'doc_count': 813,\n",
        "    'key': 'git://git.opnfv.org/compass4nfv'},\n",
        "   {'commits': {'value': 726},\n",
        "    'doc_count': 700,\n",
        "    'key': 'git://git.opnfv.org/joid'},\n",
        "   {'commits': {'value': 679},\n",
        "    'doc_count': 675,\n",
        "    'key': 'git://git.opnfv.org/qtip'},\n",
        "   {'commits': {'value': 411},\n",
        "    'doc_count': 388,\n",
        "    'key': 'git://git.opnfv.org/vswitchperf'}],\n",
        "  'sum_other_doc_count': 3429}}"
       ]
      }
     ],
     "prompt_number": 23
    },
    {
     "cell_type": "markdown",
     "metadata": {},
     "source": [
      "## COUNTING UNIQUE COMMITS FILTERED BY DATE AND GROUPED BY AUTHOR\n"
     ]
    },
    {
     "cell_type": "code",
     "collapsed": false,
     "input": [
      "s = Search(using=client, index=INDEX).filter('range', author_date={'gt': datetime(2015, 12, 12)})\n",
      "s.aggs.bucket('by_repo', 'terms', field='author_name').metric('commits', 'cardinality', field='hash')\n",
      "result = s.execute()\n",
      "result.to_dict()[\"aggregations\"]"
     ],
     "language": "python",
     "metadata": {},
     "outputs": [
      {
       "metadata": {},
       "output_type": "pyout",
       "prompt_number": 24,
       "text": [
        "{'by_repo': {'doc_count_error_upper_bound': 74,\n",
        "  'buckets': [{'commits': {'value': 844},\n",
        "    'doc_count': 839,\n",
        "    'key': 'Morgan Richomme'},\n",
        "   {'commits': {'value': 839}, 'doc_count': 808, 'key': 'Jose Lausuch'},\n",
        "   {'commits': {'value': 656}, 'doc_count': 691, 'key': 'Tim Rozet'},\n",
        "   {'commits': {'value': 665}, 'doc_count': 635, 'key': 'Alexandru Avadanii'},\n",
        "   {'commits': {'value': 597}, 'doc_count': 582, 'key': 'Narinder Gupta'},\n",
        "   {'commits': {'value': 537}, 'doc_count': 545, 'key': 'Fatih Degirmenci'},\n",
        "   {'commits': {'value': 416}, 'doc_count': 409, 'key': 'bryan.sullivan'},\n",
        "   {'commits': {'value': 375}, 'doc_count': 362, 'key': 'liang gao'},\n",
        "   {'commits': {'value': 349}, 'doc_count': 341, 'key': 'Ryota MIBU'},\n",
        "   {'commits': {'value': 322}, 'doc_count': 325, 'key': 'Dan Radez'}],\n",
        "  'sum_other_doc_count': 9280}}"
       ]
      }
     ],
     "prompt_number": 24
    },
    {
     "cell_type": "markdown",
     "metadata": {},
     "source": [
      "## COUNTING UNIQUE COMMITS FILTERED BY DATE AND GROUPED BY REPOSITORY AND AUTHOR\n"
     ]
    },
    {
     "cell_type": "code",
     "collapsed": false,
     "input": [
      "s = Search(using=client, index=INDEX).filter('range', author_date={'gt': datetime(2015, 12, 12)})\n",
      "s.aggs.bucket('by_repo', 'terms', field='repo_name').bucket('by_author', 'terms', field='author_name').metric('commits', 'cardinality', field='hash')\n",
      "result = s.execute()\n",
      "result.to_dict()[\"aggregations\"]"
     ],
     "language": "python",
     "metadata": {},
     "outputs": [
      {
       "metadata": {},
       "output_type": "pyout",
       "prompt_number": 25,
       "text": [
        "{'by_repo': {'doc_count_error_upper_bound': 0,\n",
        "  'buckets': [{'by_author': {'doc_count_error_upper_bound': 5,\n",
        "     'buckets': [{'commits': {'value': 619},\n",
        "       'doc_count': 523,\n",
        "       'key': 'Fatih Degirmenci'},\n",
        "      {'commits': {'value': 214}, 'doc_count': 256, 'key': 'Morgan Richomme'},\n",
        "      {'commits': {'value': 254}, 'doc_count': 227, 'key': 'Tim Rozet'},\n",
        "      {'commits': {'value': 141}, 'doc_count': 171, 'key': 'Jose Lausuch'},\n",
        "      {'commits': {'value': 166}, 'doc_count': 170, 'key': 'matthew.lijun'},\n",
        "      {'commits': {'value': 113}, 'doc_count': 157, 'key': 'meimei'},\n",
        "      {'commits': {'value': 146}, 'doc_count': 147, 'key': 'Serena Feng'},\n",
        "      {'commits': {'value': 111}, 'doc_count': 138, 'key': 'Ryota MIBU'},\n",
        "      {'commits': {'value': 116}, 'doc_count': 127, 'key': 'Aric Gardner'},\n",
        "      {'commits': {'value': 81}, 'doc_count': 61, 'key': 'Markos Chandras'}],\n",
        "     'sum_other_doc_count': 569},\n",
        "    'doc_count': 2546,\n",
        "    'key': 'git://git.opnfv.org/releng'},\n",
        "   {'by_author': {'doc_count_error_upper_bound': 0,\n",
        "     'buckets': [{'commits': {'value': 500},\n",
        "       'doc_count': 587,\n",
        "       'key': 'Jose Lausuch'},\n",
        "      {'commits': {'value': 521}, 'doc_count': 566, 'key': 'Morgan Richomme'},\n",
        "      {'commits': {'value': 141}, 'doc_count': 132, 'key': 'Cedric Ollivier'},\n",
        "      {'commits': {'value': 68}, 'doc_count': 88, 'key': 'valentin boucher'},\n",
        "      {'commits': {'value': 82}, 'doc_count': 84, 'key': 'Serena Feng'},\n",
        "      {'commits': {'value': 39},\n",
        "       'doc_count': 55,\n",
        "       'key': 'Paraskevopoulos Georgios'},\n",
        "      {'commits': {'value': 41}, 'doc_count': 54, 'key': 'Juha Kosonen'},\n",
        "      {'commits': {'value': 83}, 'doc_count': 53, 'key': 'viktor.tikkanen'},\n",
        "      {'commits': {'value': 61}, 'doc_count': 45, 'key': 'Helen Yao'},\n",
        "      {'commits': {'value': 44}, 'doc_count': 36, 'key': 'Manuel Buil'}],\n",
        "     'sum_other_doc_count': 344},\n",
        "    'doc_count': 2044,\n",
        "    'key': 'git://git.opnfv.org/functest'},\n",
        "   {'by_author': {'doc_count_error_upper_bound': 0,\n",
        "     'buckets': [{'commits': {'value': 649},\n",
        "       'doc_count': 507,\n",
        "       'key': 'Alexandru Avadanii'},\n",
        "      {'commits': {'value': 62}, 'doc_count': 100, 'key': 'liang gao'},\n",
        "      {'commits': {'value': 114}, 'doc_count': 86, 'key': 'Michal Skalski'},\n",
        "      {'commits': {'value': 87},\n",
        "       'doc_count': 85,\n",
        "       'key': 'jonas.bjurel@ericsson.com'},\n",
        "      {'commits': {'value': 29}, 'doc_count': 41, 'key': 'Josep Puigdemont'},\n",
        "      {'commits': {'value': 32}, 'doc_count': 32, 'key': 'Stanislaw Kardach'},\n",
        "      {'commits': {'value': 35}, 'doc_count': 27, 'key': 'Maryam Tahhan'},\n",
        "      {'commits': {'value': 18}, 'doc_count': 22, 'key': 'Ruijing Guo'},\n",
        "      {'commits': {'value': 21}, 'doc_count': 21, 'key': 'MartinX Klozik'},\n",
        "      {'commits': {'value': 21}, 'doc_count': 20, 'key': 'Cristina Pauna'}],\n",
        "     'sum_other_doc_count': 159},\n",
        "    'doc_count': 1100,\n",
        "    'key': 'git://git.opnfv.org/armband'},\n",
        "   {'by_author': {'doc_count_error_upper_bound': 0,\n",
        "     'buckets': [{'commits': {'value': 249},\n",
        "       'doc_count': 447,\n",
        "       'key': 'Tim Rozet'},\n",
        "      {'commits': {'value': 381}, 'doc_count': 303, 'key': 'Dan Radez'},\n",
        "      {'commits': {'value': 151}, 'doc_count': 134, 'key': 'Feng Pan'},\n",
        "      {'commits': {'value': 110}, 'doc_count': 95, 'key': 'Michael Chapman'},\n",
        "      {'commits': {'value': 12}, 'doc_count': 13, 'key': 'Nikolas Hermanns'},\n",
        "      {'commits': {'value': 8}, 'doc_count': 8, 'key': 'Ryota MIBU'},\n",
        "      {'commits': {'value': 9}, 'doc_count': 7, 'key': 'r.levensalor'},\n",
        "      {'commits': {'value': 6}, 'doc_count': 6, 'key': 'bob zhou'},\n",
        "      {'commits': {'value': 5}, 'doc_count': 6, 'key': 'christopher.price'},\n",
        "      {'commits': {'value': 5}, 'doc_count': 6, 'key': 'viktor.tikkanen'}],\n",
        "     'sum_other_doc_count': 54},\n",
        "    'doc_count': 1079,\n",
        "    'key': 'git://git.opnfv.org/apex'},\n",
        "   {'by_author': {'doc_count_error_upper_bound': 0,\n",
        "     'buckets': [{'commits': {'value': 184},\n",
        "       'doc_count': 259,\n",
        "       'key': 'liang gao'},\n",
        "      {'commits': {'value': 169}, 'doc_count': 169, 'key': 'Jing Lu'},\n",
        "      {'commits': {'value': 138}, 'doc_count': 133, 'key': 'root'},\n",
        "      {'commits': {'value': 58}, 'doc_count': 71, 'key': 'chenjiankun'},\n",
        "      {'commits': {'value': 88}, 'doc_count': 68, 'key': 'jorgen.w.karlsson'},\n",
        "      {'commits': {'value': 38}, 'doc_count': 49, 'key': 'Ross Brattain'},\n",
        "      {'commits': {'value': 36}, 'doc_count': 43, 'key': 'qi liang'},\n",
        "      {'commits': {'value': 52}, 'doc_count': 38, 'key': 'Ana C'},\n",
        "      {'commits': {'value': 37}, 'doc_count': 32, 'key': 'Vincenzo Riccobene'},\n",
        "      {'commits': {'value': 19}, 'doc_count': 27, 'key': 'S, Deepak'}],\n",
        "     'sum_other_doc_count': 168},\n",
        "    'doc_count': 1057,\n",
        "    'key': 'git://git.opnfv.org/yardstick'},\n",
        "   {'by_author': {'doc_count_error_upper_bound': 0,\n",
        "     'buckets': [{'commits': {'value': 190},\n",
        "       'doc_count': 201,\n",
        "       'key': 'jonas.bjurel@ericsson.com'},\n",
        "      {'commits': {'value': 144}, 'doc_count': 175, 'key': 'Michal Skalski'},\n",
        "      {'commits': {'value': 71},\n",
        "       'doc_count': 105,\n",
        "       'key': 'Alexandru Avadanii'},\n",
        "      {'commits': {'value': 60}, 'doc_count': 90, 'key': 'Stefan Berg'},\n",
        "      {'commits': {'value': 87}, 'doc_count': 75, 'key': 'Michael Polenchuk'},\n",
        "      {'commits': {'value': 55}, 'doc_count': 72, 'key': 'Ruijing Guo'},\n",
        "      {'commits': {'value': 60}, 'doc_count': 65, 'key': 'Peter Barabas'},\n",
        "      {'commits': {'value': 65}, 'doc_count': 54, 'key': 'Nikolas Hermanns'},\n",
        "      {'commits': {'value': 17}, 'doc_count': 18, 'key': 'Fedor Zhadaev'},\n",
        "      {'commits': {'value': 18}, 'doc_count': 18, 'key': 'Josep Puigdemont'}],\n",
        "     'sum_other_doc_count': 113},\n",
        "    'doc_count': 986,\n",
        "    'key': 'git://git.opnfv.org/fuel'},\n",
        "   {'by_author': {'doc_count_error_upper_bound': 0,\n",
        "     'buckets': [{'commits': {'value': 240},\n",
        "       'doc_count': 245,\n",
        "       'key': 'chenshuai'},\n",
        "      {'commits': {'value': 158}, 'doc_count': 130, 'key': 'gang chi'},\n",
        "      {'commits': {'value': 80}, 'doc_count': 78, 'key': 'qi liang'},\n",
        "      {'commits': {'value': 50}, 'doc_count': 75, 'key': 'carey xu'},\n",
        "      {'commits': {'value': 46}, 'doc_count': 52, 'key': 'liyuenan'},\n",
        "      {'commits': {'value': 43}, 'doc_count': 49, 'key': 'xueyifei'},\n",
        "      {'commits': {'value': 39}, 'doc_count': 45, 'key': 'Leo wang'},\n",
        "      {'commits': {'value': 42}, 'doc_count': 39, 'key': 'meimei'},\n",
        "      {'commits': {'value': 19}, 'doc_count': 27, 'key': 'Harry Huang'},\n",
        "      {'commits': {'value': 27}, 'doc_count': 22, 'key': 'CNlucius CNlucius'}],\n",
        "     'sum_other_doc_count': 51},\n",
        "    'doc_count': 813,\n",
        "    'key': 'git://git.opnfv.org/compass4nfv'},\n",
        "   {'by_author': {'doc_count_error_upper_bound': 0,\n",
        "     'buckets': [{'commits': {'value': 606},\n",
        "       'doc_count': 554,\n",
        "       'key': 'Narinder Gupta'},\n",
        "      {'commits': {'value': 35}, 'doc_count': 48, 'key': 'David Blaisonneau'},\n",
        "      {'commits': {'value': 16},\n",
        "       'doc_count': 20,\n",
        "       'key': 'Samantha Jian-Pielak'},\n",
        "      {'commits': {'value': 27}, 'doc_count': 18, 'key': 'Dave Urschatz'},\n",
        "      {'commits': {'value': 20}, 'doc_count': 16, 'key': 'Yuanyou Zhang'},\n",
        "      {'commits': {'value': 8}, 'doc_count': 9, 'key': 'Stuart Mackie'},\n",
        "      {'commits': {'value': 8}, 'doc_count': 8, 'key': 'Ryota MIBU'},\n",
        "      {'commits': {'value': 6}, 'doc_count': 7, 'key': 'Sofia Wallin'},\n",
        "      {'commits': {'value': 5}, 'doc_count': 6, 'key': 'christopher.price'},\n",
        "      {'commits': {'value': 6}, 'doc_count': 5, 'key': 'bryan.sullivan'}],\n",
        "     'sum_other_doc_count': 9},\n",
        "    'doc_count': 700,\n",
        "    'key': 'git://git.opnfv.org/joid'},\n",
        "   {'by_author': {'doc_count_error_upper_bound': 0,\n",
        "     'buckets': [{'commits': {'value': 193},\n",
        "       'doc_count': 259,\n",
        "       'key': 'Yujun Zhang'},\n",
        "      {'commits': {'value': 117}, 'doc_count': 145, 'key': 'wu.zhihui'},\n",
        "      {'commits': {'value': 62}, 'doc_count': 77, 'key': 'Jiang.ZhiFeng'},\n",
        "      {'commits': {'value': 80}, 'doc_count': 64, 'key': 'Nauman Ahad'},\n",
        "      {'commits': {'value': 44}, 'doc_count': 40, 'key': 'Taseer'},\n",
        "      {'commits': {'value': 40}, 'doc_count': 38, 'key': 'Mofassir'},\n",
        "      {'commits': {'value': 21}, 'doc_count': 17, 'key': 'Serena Feng'},\n",
        "      {'commits': {'value': 16}, 'doc_count': 16, 'key': 'Nauman_Ahad'},\n",
        "      {'commits': {'value': 6}, 'doc_count': 6, 'key': 'Akhil Batra'},\n",
        "      {'commits': {'value': 3}, 'doc_count': 3, 'key': 'akhilbatra898'}],\n",
        "     'sum_other_doc_count': 10},\n",
        "    'doc_count': 675,\n",
        "    'key': 'git://git.opnfv.org/qtip'},\n",
        "   {'by_author': {'doc_count_error_upper_bound': 0,\n",
        "     'buckets': [{'commits': {'value': 158},\n",
        "       'doc_count': 141,\n",
        "       'key': 'MartinX Klozik'},\n",
        "      {'commits': {'value': 92}, 'doc_count': 97, 'key': 'Maryam Tahhan'},\n",
        "      {'commits': {'value': 53}, 'doc_count': 61, 'key': 'Christian Trautman'},\n",
        "      {'commits': {'value': 12}, 'doc_count': 11, 'key': 'Bill Michalowski'},\n",
        "      {'commits': {'value': 10}, 'doc_count': 10, 'key': 'Sridhar Rao'},\n",
        "      {'commits': {'value': 9}, 'doc_count': 9, 'key': 'Al Morton'},\n",
        "      {'commits': {'value': 5}, 'doc_count': 7, 'key': 'Antonio_Fischetti'},\n",
        "      {'commits': {'value': 6}, 'doc_count': 6, 'key': 'Dino Simeon Madarang'},\n",
        "      {'commits': {'value': 6}, 'doc_count': 6, 'key': 'Goldammer, MartinX'},\n",
        "      {'commits': {'value': 6}, 'doc_count': 6, 'key': 'Radek Zetik'}],\n",
        "     'sum_other_doc_count': 34},\n",
        "    'doc_count': 388,\n",
        "    'key': 'git://git.opnfv.org/vswitchperf'}],\n",
        "  'sum_other_doc_count': 3429}}"
       ]
      }
     ],
     "prompt_number": 25
    },
    {
     "cell_type": "markdown",
     "metadata": {},
     "source": [
      "## COUNTING UNIQUE COMMITS IGNORING MERGES FILTERED BY DATE AND GROUPED BY REPOSITORY AND AUTHOR\n"
     ]
    },
    {
     "cell_type": "code",
     "collapsed": false,
     "input": [
      "s = Search(using=client, index=INDEX).filter('range', author_date={'gt': datetime(2015, 12, 12)}).filter('range', files={'gt':0})\n",
      "s.aggs.bucket('by_repo', 'terms', field='repo_name').bucket('by_author', 'terms', field='author_name').metric('commits', 'cardinality', field='hash')\n",
      "result = s.execute()\n",
      "result.to_dict()[\"aggregations\"]"
     ],
     "language": "python",
     "metadata": {},
     "outputs": [
      {
       "metadata": {},
       "output_type": "pyout",
       "prompt_number": 26,
       "text": [
        "{'by_repo': {'doc_count_error_upper_bound': 0,\n",
        "  'buckets': [{'by_author': {'doc_count_error_upper_bound': 5,\n",
        "     'buckets': [{'commits': {'value': 333},\n",
        "       'doc_count': 343,\n",
        "       'key': 'Fatih Degirmenci'},\n",
        "      {'commits': {'value': 178}, 'doc_count': 184, 'key': 'Tim Rozet'},\n",
        "      {'commits': {'value': 109}, 'doc_count': 129, 'key': 'meimei'},\n",
        "      {'commits': {'value': 120}, 'doc_count': 117, 'key': 'Serena Feng'},\n",
        "      {'commits': {'value': 103}, 'doc_count': 108, 'key': 'Jose Lausuch'},\n",
        "      {'commits': {'value': 87}, 'doc_count': 98, 'key': 'Morgan Richomme'},\n",
        "      {'commits': {'value': 82}, 'doc_count': 89, 'key': 'Ryota MIBU'},\n",
        "      {'commits': {'value': 57}, 'doc_count': 80, 'key': 'matthew.lijun'},\n",
        "      {'commits': {'value': 57}, 'doc_count': 59, 'key': 'Aric Gardner'},\n",
        "      {'commits': {'value': 77}, 'doc_count': 54, 'key': 'Markos Chandras'}],\n",
        "     'sum_other_doc_count': 563},\n",
        "    'doc_count': 1824,\n",
        "    'key': 'git://git.opnfv.org/releng'},\n",
        "   {'by_author': {'doc_count_error_upper_bound': 0,\n",
        "     'buckets': [{'commits': {'value': 302},\n",
        "       'doc_count': 462,\n",
        "       'key': 'Jose Lausuch'},\n",
        "      {'commits': {'value': 204}, 'doc_count': 295, 'key': 'Morgan Richomme'},\n",
        "      {'commits': {'value': 141}, 'doc_count': 124, 'key': 'Cedric Ollivier'},\n",
        "      {'commits': {'value': 82}, 'doc_count': 81, 'key': 'Serena Feng'},\n",
        "      {'commits': {'value': 57}, 'doc_count': 67, 'key': 'valentin boucher'},\n",
        "      {'commits': {'value': 39},\n",
        "       'doc_count': 55,\n",
        "       'key': 'Paraskevopoulos Georgios'},\n",
        "      {'commits': {'value': 41}, 'doc_count': 53, 'key': 'Juha Kosonen'},\n",
        "      {'commits': {'value': 83}, 'doc_count': 52, 'key': 'viktor.tikkanen'},\n",
        "      {'commits': {'value': 55}, 'doc_count': 38, 'key': 'Helen Yao'},\n",
        "      {'commits': {'value': 44}, 'doc_count': 36, 'key': 'Manuel Buil'}],\n",
        "     'sum_other_doc_count': 341},\n",
        "    'doc_count': 1604,\n",
        "    'key': 'git://git.opnfv.org/functest'},\n",
        "   {'by_author': {'doc_count_error_upper_bound': 0,\n",
        "     'buckets': [{'commits': {'value': 490},\n",
        "       'doc_count': 382,\n",
        "       'key': 'Alexandru Avadanii'},\n",
        "      {'commits': {'value': 62}, 'doc_count': 100, 'key': 'liang gao'},\n",
        "      {'commits': {'value': 114}, 'doc_count': 86, 'key': 'Michal Skalski'},\n",
        "      {'commits': {'value': 87},\n",
        "       'doc_count': 85,\n",
        "       'key': 'jonas.bjurel@ericsson.com'},\n",
        "      {'commits': {'value': 28}, 'doc_count': 39, 'key': 'Josep Puigdemont'},\n",
        "      {'commits': {'value': 28}, 'doc_count': 28, 'key': 'Stanislaw Kardach'},\n",
        "      {'commits': {'value': 35}, 'doc_count': 27, 'key': 'Maryam Tahhan'},\n",
        "      {'commits': {'value': 18}, 'doc_count': 22, 'key': 'Ruijing Guo'},\n",
        "      {'commits': {'value': 21}, 'doc_count': 21, 'key': 'MartinX Klozik'},\n",
        "      {'commits': {'value': 18}, 'doc_count': 18, 'key': 'Cristina Pauna'}],\n",
        "     'sum_other_doc_count': 159},\n",
        "    'doc_count': 967,\n",
        "    'key': 'git://git.opnfv.org/armband'},\n",
        "   {'by_author': {'doc_count_error_upper_bound': 0,\n",
        "     'buckets': [{'commits': {'value': 209},\n",
        "       'doc_count': 285,\n",
        "       'key': 'Tim Rozet'},\n",
        "      {'commits': {'value': 325}, 'doc_count': 222, 'key': 'Dan Radez'},\n",
        "      {'commits': {'value': 143}, 'doc_count': 121, 'key': 'Feng Pan'},\n",
        "      {'commits': {'value': 43}, 'doc_count': 70, 'key': 'Michael Chapman'},\n",
        "      {'commits': {'value': 12}, 'doc_count': 13, 'key': 'Nikolas Hermanns'},\n",
        "      {'commits': {'value': 8}, 'doc_count': 8, 'key': 'Ryota MIBU'},\n",
        "      {'commits': {'value': 9}, 'doc_count': 7, 'key': 'r.levensalor'},\n",
        "      {'commits': {'value': 6}, 'doc_count': 6, 'key': 'bob zhou'},\n",
        "      {'commits': {'value': 5}, 'doc_count': 6, 'key': 'christopher.price'},\n",
        "      {'commits': {'value': 5}, 'doc_count': 6, 'key': 'viktor.tikkanen'}],\n",
        "     'sum_other_doc_count': 54},\n",
        "    'doc_count': 798,\n",
        "    'key': 'git://git.opnfv.org/apex'},\n",
        "   {'by_author': {'doc_count_error_upper_bound': 0,\n",
        "     'buckets': [{'commits': {'value': 123},\n",
        "       'doc_count': 119,\n",
        "       'key': 'Jing Lu'},\n",
        "      {'commits': {'value': 71}, 'doc_count': 84, 'key': 'root'},\n",
        "      {'commits': {'value': 56}, 'doc_count': 72, 'key': 'liang gao'},\n",
        "      {'commits': {'value': 58}, 'doc_count': 71, 'key': 'chenjiankun'},\n",
        "      {'commits': {'value': 88}, 'doc_count': 66, 'key': 'jorgen.w.karlsson'},\n",
        "      {'commits': {'value': 38}, 'doc_count': 49, 'key': 'Ross Brattain'},\n",
        "      {'commits': {'value': 52}, 'doc_count': 38, 'key': 'Ana C'},\n",
        "      {'commits': {'value': 31}, 'doc_count': 36, 'key': 'qi liang'},\n",
        "      {'commits': {'value': 37}, 'doc_count': 32, 'key': 'Vincenzo Riccobene'},\n",
        "      {'commits': {'value': 19}, 'doc_count': 27, 'key': 'S, Deepak'}],\n",
        "     'sum_other_doc_count': 168},\n",
        "    'doc_count': 762,\n",
        "    'key': 'git://git.opnfv.org/yardstick'},\n",
        "   {'by_author': {'doc_count_error_upper_bound': 0,\n",
        "     'buckets': [{'commits': {'value': 78},\n",
        "       'doc_count': 108,\n",
        "       'key': 'Michal Skalski'},\n",
        "      {'commits': {'value': 93},\n",
        "       'doc_count': 106,\n",
        "       'key': 'jonas.bjurel@ericsson.com'},\n",
        "      {'commits': {'value': 46}, 'doc_count': 75, 'key': 'Alexandru Avadanii'},\n",
        "      {'commits': {'value': 87}, 'doc_count': 75, 'key': 'Michael Polenchuk'},\n",
        "      {'commits': {'value': 60}, 'doc_count': 65, 'key': 'Peter Barabas'},\n",
        "      {'commits': {'value': 52}, 'doc_count': 61, 'key': 'Stefan Berg'},\n",
        "      {'commits': {'value': 60}, 'doc_count': 50, 'key': 'Nikolas Hermanns'},\n",
        "      {'commits': {'value': 49}, 'doc_count': 49, 'key': 'Ruijing Guo'},\n",
        "      {'commits': {'value': 18}, 'doc_count': 18, 'key': 'Josep Puigdemont'},\n",
        "      {'commits': {'value': 12}, 'doc_count': 11, 'key': 'David Chou'}],\n",
        "     'sum_other_doc_count': 96},\n",
        "    'doc_count': 714,\n",
        "    'key': 'git://git.opnfv.org/fuel'},\n",
        "   {'by_author': {'doc_count_error_upper_bound': 0,\n",
        "     'buckets': [{'commits': {'value': 560},\n",
        "       'doc_count': 510,\n",
        "       'key': 'Narinder Gupta'},\n",
        "      {'commits': {'value': 35}, 'doc_count': 44, 'key': 'David Blaisonneau'},\n",
        "      {'commits': {'value': 16},\n",
        "       'doc_count': 20,\n",
        "       'key': 'Samantha Jian-Pielak'},\n",
        "      {'commits': {'value': 27}, 'doc_count': 18, 'key': 'Dave Urschatz'},\n",
        "      {'commits': {'value': 20}, 'doc_count': 16, 'key': 'Yuanyou Zhang'},\n",
        "      {'commits': {'value': 8}, 'doc_count': 9, 'key': 'Stuart Mackie'},\n",
        "      {'commits': {'value': 8}, 'doc_count': 8, 'key': 'Ryota MIBU'},\n",
        "      {'commits': {'value': 6}, 'doc_count': 7, 'key': 'Sofia Wallin'},\n",
        "      {'commits': {'value': 5}, 'doc_count': 6, 'key': 'christopher.price'},\n",
        "      {'commits': {'value': 6}, 'doc_count': 5, 'key': 'bryan.sullivan'}],\n",
        "     'sum_other_doc_count': 9},\n",
        "    'doc_count': 652,\n",
        "    'key': 'git://git.opnfv.org/joid'},\n",
        "   {'by_author': {'doc_count_error_upper_bound': 0,\n",
        "     'buckets': [{'commits': {'value': 131},\n",
        "       'doc_count': 126,\n",
        "       'key': 'chenshuai'},\n",
        "      {'commits': {'value': 80}, 'doc_count': 78, 'key': 'qi liang'},\n",
        "      {'commits': {'value': 50}, 'doc_count': 75, 'key': 'carey xu'},\n",
        "      {'commits': {'value': 46}, 'doc_count': 52, 'key': 'liyuenan'},\n",
        "      {'commits': {'value': 43}, 'doc_count': 49, 'key': 'xueyifei'},\n",
        "      {'commits': {'value': 39}, 'doc_count': 45, 'key': 'Leo wang'},\n",
        "      {'commits': {'value': 42}, 'doc_count': 39, 'key': 'meimei'},\n",
        "      {'commits': {'value': 29}, 'doc_count': 31, 'key': 'gang chi'},\n",
        "      {'commits': {'value': 19}, 'doc_count': 27, 'key': 'Harry Huang'},\n",
        "      {'commits': {'value': 27}, 'doc_count': 22, 'key': 'CNlucius CNlucius'}],\n",
        "     'sum_other_doc_count': 51},\n",
        "    'doc_count': 595,\n",
        "    'key': 'git://git.opnfv.org/compass4nfv'},\n",
        "   {'by_author': {'doc_count_error_upper_bound': 0,\n",
        "     'buckets': [{'commits': {'value': 129},\n",
        "       'doc_count': 120,\n",
        "       'key': 'Yujun Zhang'},\n",
        "      {'commits': {'value': 72}, 'doc_count': 82, 'key': 'wu.zhihui'},\n",
        "      {'commits': {'value': 52}, 'doc_count': 65, 'key': 'Jiang.ZhiFeng'},\n",
        "      {'commits': {'value': 52}, 'doc_count': 47, 'key': 'Nauman Ahad'},\n",
        "      {'commits': {'value': 44}, 'doc_count': 40, 'key': 'Taseer'},\n",
        "      {'commits': {'value': 40}, 'doc_count': 38, 'key': 'Mofassir'},\n",
        "      {'commits': {'value': 21}, 'doc_count': 17, 'key': 'Serena Feng'},\n",
        "      {'commits': {'value': 16}, 'doc_count': 16, 'key': 'Nauman_Ahad'},\n",
        "      {'commits': {'value': 6}, 'doc_count': 6, 'key': 'Akhil Batra'},\n",
        "      {'commits': {'value': 3}, 'doc_count': 3, 'key': 'akhilbatra898'}],\n",
        "     'sum_other_doc_count': 8},\n",
        "    'doc_count': 442,\n",
        "    'key': 'git://git.opnfv.org/qtip'},\n",
        "   {'by_author': {'doc_count_error_upper_bound': 0,\n",
        "     'buckets': [{'commits': {'value': 111},\n",
        "       'doc_count': 110,\n",
        "       'key': 'MartinX Klozik'},\n",
        "      {'commits': {'value': 67}, 'doc_count': 57, 'key': 'Maryam Tahhan'},\n",
        "      {'commits': {'value': 40}, 'doc_count': 54, 'key': 'Christian Trautman'},\n",
        "      {'commits': {'value': 12}, 'doc_count': 11, 'key': 'Bill Michalowski'},\n",
        "      {'commits': {'value': 9}, 'doc_count': 9, 'key': 'Al Morton'},\n",
        "      {'commits': {'value': 9}, 'doc_count': 9, 'key': 'Sridhar Rao'},\n",
        "      {'commits': {'value': 5}, 'doc_count': 7, 'key': 'Antonio_Fischetti'},\n",
        "      {'commits': {'value': 6}, 'doc_count': 6, 'key': 'Dino Simeon Madarang'},\n",
        "      {'commits': {'value': 6}, 'doc_count': 6, 'key': 'Goldammer, MartinX'},\n",
        "      {'commits': {'value': 6}, 'doc_count': 6, 'key': 'Radek Zetik'}],\n",
        "     'sum_other_doc_count': 33},\n",
        "    'doc_count': 308,\n",
        "    'key': 'git://git.opnfv.org/vswitchperf'}],\n",
        "  'sum_other_doc_count': 2912}}"
       ]
      }
     ],
     "prompt_number": 26
    },
    {
     "cell_type": "markdown",
     "metadata": {},
     "source": [
      "## PRINT AND USE QUERIES"
     ]
    },
    {
     "cell_type": "code",
     "collapsed": false,
     "input": [
      "# print query\n",
      "s = Search(using=client, index=INDEX).filter('range', author_date={'gt': datetime(2015, 12, 12)})\n",
      "s.aggs.bucket('by_repo', 'terms', field='author_name').metric('commits', 'cardinality', field='hash')\n",
      "s.to_dict()"
     ],
     "language": "python",
     "metadata": {},
     "outputs": [
      {
       "metadata": {},
       "output_type": "pyout",
       "prompt_number": 27,
       "text": [
        "{'aggs': {'by_repo': {'terms': {'field': 'author_name'},\n",
        "   'aggs': {'commits': {'cardinality': {'field': 'hash'}}}}},\n",
        " 'query': {'bool': {'filter': [{'range': {'author_date': {'gt': datetime.datetime(2015, 12, 12, 0, 0)}}}]}}}"
       ]
      }
     ],
     "prompt_number": 27
    },
    {
     "cell_type": "code",
     "collapsed": false,
     "input": [
      "# use query\n",
      "s.from_dict(dict({'aggs': {'by_repo': {'aggs': {'commits': {'cardinality': {'field': 'hash'}}},'terms': {'field': 'author_name'}}},'query': {'bool': {'filter': [{'range': {'author_date': {'gt': '2015-12-12'}}}]}}}))\n",
      "result=s.execute()\n",
      "result.to_dict()[\"aggregations\"]"
     ],
     "language": "python",
     "metadata": {},
     "outputs": [
      {
       "metadata": {},
       "output_type": "pyout",
       "prompt_number": 28,
       "text": [
        "{'by_repo': {'doc_count_error_upper_bound': 74,\n",
        "  'buckets': [{'commits': {'value': 844},\n",
        "    'doc_count': 839,\n",
        "    'key': 'Morgan Richomme'},\n",
        "   {'commits': {'value': 839}, 'doc_count': 808, 'key': 'Jose Lausuch'},\n",
        "   {'commits': {'value': 656}, 'doc_count': 691, 'key': 'Tim Rozet'},\n",
        "   {'commits': {'value': 665}, 'doc_count': 635, 'key': 'Alexandru Avadanii'},\n",
        "   {'commits': {'value': 597}, 'doc_count': 582, 'key': 'Narinder Gupta'},\n",
        "   {'commits': {'value': 537}, 'doc_count': 545, 'key': 'Fatih Degirmenci'},\n",
        "   {'commits': {'value': 416}, 'doc_count': 409, 'key': 'bryan.sullivan'},\n",
        "   {'commits': {'value': 375}, 'doc_count': 362, 'key': 'liang gao'},\n",
        "   {'commits': {'value': 349}, 'doc_count': 341, 'key': 'Ryota MIBU'},\n",
        "   {'commits': {'value': 322}, 'doc_count': 325, 'key': 'Dan Radez'}],\n",
        "  'sum_other_doc_count': 9280}}"
       ]
      }
     ],
     "prompt_number": 28
    },
    {
     "cell_type": "code",
     "collapsed": false,
     "input": [],
     "language": "python",
     "metadata": {},
     "outputs": [],
     "prompt_number": 28
    }
   ],
   "metadata": {}
  }
 ]
}