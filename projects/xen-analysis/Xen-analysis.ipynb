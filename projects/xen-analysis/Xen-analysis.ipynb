{
 "metadata": {
  "name": ""
 },
 "nbformat": 3,
 "nbformat_minor": 0,
 "worksheets": [
  {
   "cells": [
    {
     "cell_type": "markdown",
     "metadata": {},
     "source": [
      "This notebook aims at providing a first approach to manage the new code review database. The usual code review process is done through the mailing lists. This approach migrates that code review into a database schema closer to how Gerrit or another review system works.\n",
      "\n",
      "The list of metrics for this notebook are the following ones:\n",
      "\n",
      "    Evolution of patch series (1 or more patches)\n",
      "    Evolution of patch series submitters\n",
      "    Evolution of people commenting the patch series\n",
      "    Evolution of people reviewing patches (using the flag reviewed by)\n",
      "    Evolution of core reviewers (those mering the patch using the flag acked-by)\n",
      "    Time to close of the patch series being merged\n"
     ]
    },
    {
     "cell_type": "code",
     "collapsed": false,
     "input": [
      "# Working with the xen-database with code review info\n",
      "import MySQLdb\n",
      "\n",
      "\n",
      "def connect():\n",
      "   user = \"root\"\n",
      "   password = \"\"\n",
      "   host = \"localhost\"\n",
      "   db = \"xen_reports_patchsets\"\n",
      "\n",
      "   try:\n",
      "      db = MySQLdb.connect(user = user, passwd = password, db = db)\n",
      "      return db, db.cursor()\n",
      "   except:\n",
      "      logging.error(\"Database connection error\")\n",
      "      raise\n",
      "        \n",
      "\n",
      "\n",
      "def execute_query(connector, query):\n",
      "   results = int (connector.execute(query))\n",
      "   cont = 0\n",
      "   if results > 0:\n",
      "      result1 = connector.fetchall()\n",
      "      return result1\n",
      "   else:\n",
      "      return []\n",
      "    \n",
      "\n",
      "db, cursor = connect()"
     ],
     "language": "python",
     "metadata": {},
     "outputs": [],
     "prompt_number": 15
    },
    {
     "cell_type": "heading",
     "level": 3,
     "metadata": {},
     "source": [
      "Database schema"
     ]
    },
    {
     "cell_type": "code",
     "collapsed": false,
     "input": [
      "# patches table:\n",
      "query = \"desc patches\"\n",
      "execute_query(cursor, query)"
     ],
     "language": "python",
     "metadata": {},
     "outputs": [
      {
       "metadata": {},
       "output_type": "pyout",
       "prompt_number": 16,
       "text": [
        "(('id', 'int(11)', 'NO', 'PRI', None, 'auto_increment'),\n",
        " ('subject', 'varchar(256)', 'YES', '', None, ''),\n",
        " ('body', 'text', 'YES', '', None, ''),\n",
        " ('series', 'int(11)', 'YES', '', None, ''),\n",
        " ('total', 'int(11)', 'YES', '', None, ''),\n",
        " ('date', 'datetime', 'YES', '', None, ''),\n",
        " ('ps_version_id', 'int(11)', 'YES', 'MUL', None, ''),\n",
        " ('submitter_id', 'int(11)', 'YES', 'MUL', None, ''))"
       ]
      }
     ],
     "prompt_number": 16
    },
    {
     "cell_type": "code",
     "collapsed": false,
     "input": [
      "# patch_series table:\n",
      "query = \"desc patch_series\"\n",
      "execute_query(cursor, query)"
     ],
     "language": "python",
     "metadata": {},
     "outputs": [
      {
       "metadata": {},
       "output_type": "pyout",
       "prompt_number": 17,
       "text": [
        "(('id', 'int(11)', 'NO', 'PRI', None, 'auto_increment'),\n",
        " ('subject', 'varchar(256)', 'YES', '', None, ''))"
       ]
      }
     ],
     "prompt_number": 17
    },
    {
     "cell_type": "code",
     "collapsed": false,
     "input": [
      "# patch series version table (this links each patch serie with its patches)\n",
      "query = \"desc patch_series_version\"\n",
      "execute_query(cursor, query)"
     ],
     "language": "python",
     "metadata": {},
     "outputs": [
      {
       "metadata": {},
       "output_type": "pyout",
       "prompt_number": 18,
       "text": [
        "(('id', 'int(11)', 'NO', 'PRI', None, 'auto_increment'),\n",
        " ('version', 'int(11)', 'YES', '', None, ''),\n",
        " ('subject', 'varchar(256)', 'YES', '', None, ''),\n",
        " ('body', 'text', 'YES', '', None, ''),\n",
        " ('date', 'datetime', 'YES', '', None, ''),\n",
        " ('ps_id', 'int(11)', 'YES', 'MUL', None, ''))"
       ]
      }
     ],
     "prompt_number": 18
    },
    {
     "cell_type": "code",
     "collapsed": false,
     "input": [
      "# flags: \n",
      "# a flag is defined as an action over that patch such as Acked-by or Reviewed-by\n",
      "query = \"desc flags\"\n",
      "execute_query(cursor, query)"
     ],
     "language": "python",
     "metadata": {},
     "outputs": [
      {
       "metadata": {},
       "output_type": "pyout",
       "prompt_number": 19,
       "text": [
        "(('id', 'int(11)', 'NO', 'PRI', None, 'auto_increment'),\n",
        " ('flag', 'varchar(64)', 'YES', '', None, ''),\n",
        " ('value', 'varchar(256)', 'YES', '', None, ''),\n",
        " ('patch_id', 'int(11)', 'YES', 'MUL', None, ''))"
       ]
      }
     ],
     "prompt_number": 19
    },
    {
     "cell_type": "markdown",
     "metadata": {},
     "source": [
      "There are also two more tables: people and comments."
     ]
    },
    {
     "cell_type": "heading",
     "level": 3,
     "metadata": {},
     "source": [
      "Evolution of patch series"
     ]
    },
    {
     "cell_type": "markdown",
     "metadata": {},
     "source": [
      "Xen community uses the term patch or patch serie when sending pieces of code to the mailing list. In order to simplify this process, a patch serie is now conformed of one or more patches."
     ]
    },
    {
     "cell_type": "code",
     "collapsed": false,
     "input": [
      "query = \"\"\" SELECT year,\n",
      "                   month,\n",
      "                   count(distinct(ps)) as patch_series\n",
      "            FROM \n",
      "                 (SELECT ps_version_id as ps,\n",
      "                         year(min(date)) as year,\n",
      "                         month(min(date)) as month\n",
      "                  FROM patches\n",
      "                  GROUP BY ps_version_id\n",
      "                  ORDER BY min(date)) t\n",
      "            GROUP BY year, month\n",
      "        \"\"\"\n",
      "data = execute_query(cursor, query)"
     ],
     "language": "python",
     "metadata": {},
     "outputs": [],
     "prompt_number": 28
    },
    {
     "cell_type": "code",
     "collapsed": false,
     "input": [
      "# Enabling libraries to manage data and plot\n",
      "import pandas as pd\n",
      "import numpy as np\n",
      "from pandas import Series, DataFrame, Panel"
     ],
     "language": "python",
     "metadata": {},
     "outputs": [],
     "prompt_number": 29
    },
    {
     "cell_type": "code",
     "collapsed": false,
     "input": [
      "%pylab inline"
     ],
     "language": "python",
     "metadata": {},
     "outputs": [
      {
       "output_type": "stream",
       "stream": "stdout",
       "text": [
        "Populating the interactive namespace from numpy and matplotlib\n"
       ]
      }
     ],
     "prompt_number": 30
    },
    {
     "cell_type": "code",
     "collapsed": false,
     "input": [
      "np_data = np.array(data)\n",
      "np_data_filtered = np_data[1:-2] # This remove 2001 and 2016 data\n",
      "plot(np_data[1:-2,2]) # same as plot(np_data_filtered[:,2])"
     ],
     "language": "python",
     "metadata": {},
     "outputs": [
      {
       "metadata": {},
       "output_type": "pyout",
       "prompt_number": 56,
       "text": [
        "[<matplotlib.lines.Line2D at 0x7f4b47072090>]"
       ]
      },
      {
       "metadata": {},
       "output_type": "display_data",
       "png": "[encoded data removed]",
       "text": [
        "<matplotlib.figure.Figure at 0x7f4b47152550>"
       ]
      }
     ],
     "prompt_number": 56
    },
    {
     "cell_type": "code",
     "collapsed": false,
     "input": [
      "#Migrating to use Series in pandas (nicer view and easier to manage series)\n",
      "dates = pd.date_range('2004-08', '2015-09', freq='M') # data starting in 2004-08 and ending in 2015-08\n"
     ],
     "language": "python",
     "metadata": {},
     "outputs": [],
     "prompt_number": 77
    },
    {
     "cell_type": "code",
     "collapsed": false,
     "input": [
      "#Checking size of both arrays: dates.shape and np_data_filtered.shape\n",
      "patchserieTS = Series(np_data_filtered[:,2], index=dates)"
     ],
     "language": "python",
     "metadata": {},
     "outputs": [],
     "prompt_number": 78
    },
    {
     "cell_type": "code",
     "collapsed": false,
     "input": [
      "patchserieTS.plot()"
     ],
     "language": "python",
     "metadata": {},
     "outputs": [
      {
       "metadata": {},
       "output_type": "pyout",
       "prompt_number": 79,
       "text": [
        "<matplotlib.axes.AxesSubplot at 0x7f4b46f99810>"
       ]
      },
      {
       "metadata": {},
       "output_type": "display_data",
       "png": "[encoded data removed]",
       "text": [
        "<matplotlib.figure.Figure at 0x7f4b46f8aa90>"
       ]
      }
     ],
     "prompt_number": 79
    },
    {
     "cell_type": "code",
     "collapsed": false,
     "input": [],
     "language": "python",
     "metadata": {},
     "outputs": [
      {
       "metadata": {},
       "output_type": "pyout",
       "prompt_number": 70,
       "text": [
        "(133, 3)"
       ]
      }
     ],
     "prompt_number": 70
    },
    {
     "cell_type": "code",
     "collapsed": false,
     "input": [],
     "language": "python",
     "metadata": {},
     "outputs": []
    }
   ],
   "metadata": {}
  }
 ]
}