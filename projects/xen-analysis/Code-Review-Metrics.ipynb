{
 "metadata": {
  "name": "",
  "signature": "sha256:de37c6816245a1c11c0de92dc393e1c0eb7d6aa74e1a36c7b14b7bd1a0e0b25e"
 },
 "nbformat": 3,
 "nbformat_minor": 0,
 "worksheets": [
  {
   "cells": [
    {
     "cell_type": "heading",
     "level": 1,
     "metadata": {},
     "source": [
      "INTRODUCTION"
     ]
    },
    {
     "cell_type": "markdown",
     "metadata": {},
     "source": [
      "This notebook aims at providing a first approach to manage the new code review database. The usual code review process is done through the mailing lists. This approach migrates that code review into a database schema closer to how Gerrit or another review system works.\n",
      "\n",
      "The list of metrics for this notebook are the following ones:\n",
      "\n",
      "Activity General Overview\n",
      "-------------------------\n",
      "* Evolution of patch series (1 or more patches)\n",
      "* Evolution of patch series submitters\n",
      "* Evolution of comments\n",
      "* Evolution of people commenting the patch series\n",
      "* Evolution of people reviewing patches (using the flag reviewed by)\n",
      "\n",
      "Time analysis\n",
      "-------------\n",
      "\n",
      "A patch can be divided into several steps:\n",
      "\n",
      "1---------2----------3---------4--------5---------A--------C\n",
      "\n",
      "And each version can be divided into several steps:\n",
      "\n",
      "1----a)review------b)review------c)review-----------d)review--------------2----------------------------------------------3\n",
      "    \n",
      "    \n",
      "\n",
      "Where 1, 2, 3, .., are the several iterations, A the point where all of the patches were 'Acked-by' and C the commit action into master.\n",
      "And a, b, c, d comments and reviews.\n",
      "\n",
      "\n",
      "* Time to merge: time between 1 and C\n",
      "* Time to commit: time between A and C\n",
      "* Time to re-work a patch: time between 1_d and the new iteration. Time between the last comment and a new patch.\n",
      "* Cycle time: time between each pair of iterations: 1&2, 2&3, etc.\n",
      "* Time to first review: time between 1, 2, 3, etc and its first review.\n",
      "\n",
      "Backlog analysis\n",
      "----------------\n",
      "* Review (of series/patch) completed: all of the patch series merged\n",
      "* Review (of series/patch) active: patches that were recently reviewed, we'll take the last 7 days as a potential timeframe.\n",
      "* Review (of series/patch) stalled: patches older than 1 year\n",
      "* Review (of series/patch) ongoing: patches younger than 1 year. This would include the active reviews.\n",
      "\n",
      "Patch series complexity analysis\n",
      "--------------------------------\n",
      "* Number of versions per patch serie\n",
      "* From patches merged: check number of 'touched' files plus added and removed lines\n",
      "* Comments received per patch\n",
      "* Number of patches per patch serie\n",
      "\n",
      "Patch series community\n",
      "----------------------\n",
      "* Top people sending patches\n",
      "* Top people reviewing patches\n",
      "* For all of those, basic analysis with organization info based on email domain\n"
     ]
    },
    {
     "cell_type": "heading",
     "level": 1,
     "metadata": {},
     "source": [
      "0) LIBRARIES NEEDED FOR THIS NOTEBOOK"
     ]
    },
    {
     "cell_type": "code",
     "collapsed": false,
     "input": [
      "%pylab inline\n",
      "# Enabling libraries to manage data and plot\n",
      "import pandas as pd\n",
      "import numpy as np\n",
      "from pandas import Series, DataFrame, Panel"
     ],
     "language": "python",
     "metadata": {},
     "outputs": [
      {
       "output_type": "stream",
       "stream": "stdout",
       "text": [
        "Populating the interactive namespace from numpy and matplotlib\n"
       ]
      }
     ],
     "prompt_number": 4
    },
    {
     "cell_type": "heading",
     "level": 1,
     "metadata": {},
     "source": [
      "0) DATABASE CONNECTION"
     ]
    },
    {
     "cell_type": "code",
     "collapsed": false,
     "input": [
      "# Working with the xen-database with code review info\n",
      "import MySQLdb\n",
      "\n",
      "\n",
      "def connect():\n",
      "   user = \"root\"\n",
      "   password = \"\"\n",
      "   host = \"localhost\"\n",
      "   db = \"xen_reports_patchsets\"\n",
      "\n",
      "   try:\n",
      "      db = MySQLdb.connect(user = user, passwd = password, db = db)\n",
      "      return db, db.cursor()\n",
      "   except:\n",
      "      logging.error(\"Database connection error\")\n",
      "      raise\n",
      "        \n",
      "\n",
      "\n",
      "def execute_query(connector, query):\n",
      "   results = int (connector.execute(query))\n",
      "   cont = 0\n",
      "   if results > 0:\n",
      "      result1 = connector.fetchall()\n",
      "      return result1\n",
      "   else:\n",
      "      return []\n",
      "    \n",
      "\n",
      "db, cursor = connect()"
     ],
     "language": "python",
     "metadata": {},
     "outputs": [],
     "prompt_number": 2
    },
    {
     "cell_type": "heading",
     "level": 1,
     "metadata": {},
     "source": [
      "1) ACTIVITY GENERAL OVERVIEW"
     ]
    },
    {
     "cell_type": "markdown",
     "metadata": {},
     "source": [
      "Metrics to retrieve:\n",
      "* Evolution of patch series (1 or more patches)\n",
      "* Evolution of patch series submitters\n",
      "* Evolution of comments\n",
      "* Evolution of people commenting the patch series\n",
      "* Evolution of people reviewing patches (using the flag reviewed by)"
     ]
    },
    {
     "cell_type": "heading",
     "level": 2,
     "metadata": {},
     "source": [
      "Evolution of Patch Series"
     ]
    },
    {
     "cell_type": "markdown",
     "metadata": {},
     "source": [
      "Xen community uses the term patch or patch serie when sending pieces of code to the mailing list. In order to simplify this process, a patch serie is now conformed of one or more patches."
     ]
    },
    {
     "cell_type": "code",
     "collapsed": false,
     "input": [
      "query = \"\"\" SELECT year,\n",
      "                   month,\n",
      "                   count(distinct(ps)) as patch_series\n",
      "            FROM \n",
      "                 (SELECT ps_version_id as ps,\n",
      "                         year(min(date)) as year,\n",
      "                         month(min(date)) as month\n",
      "                  FROM patches\n",
      "                  GROUP BY ps_version_id\n",
      "                  ORDER BY min(date)) t\n",
      "            GROUP BY year, month\n",
      "        \"\"\"\n",
      "data = execute_query(cursor, query)"
     ],
     "language": "python",
     "metadata": {},
     "outputs": [],
     "prompt_number": 5
    },
    {
     "cell_type": "code",
     "collapsed": false,
     "input": [
      "np_data = np.array(data)\n",
      "np_data_filtered = np_data[1:-2] # This remove 2001 and 2016 data\n",
      "#Migrating to use Series in pandas (nicer view and easier to manage series)\n",
      "dates = pd.date_range('2004-08', '2015-09', freq='M') # data starting in 2004-08 and ending in 2015-08\n",
      "#Checking size of both arrays: dates.shape and np_data_filtered.shape\n",
      "patchserieTS = Series(np_data_filtered[:,2], index=dates)"
     ],
     "language": "python",
     "metadata": {},
     "outputs": [],
     "prompt_number": 6
    },
    {
     "cell_type": "code",
     "collapsed": false,
     "input": [
      "patchserieschart = patchserieTS.plot()\n",
      "patchserieschart.set_xlabel(\"Time evolution\")\n",
      "patchserieschart.set_ylabel(\"Number of patches\")\n",
      "patchserieschart.set_title(\"Evolution of patch series per month\")"
     ],
     "language": "python",
     "metadata": {},
     "outputs": [
      {
       "metadata": {},
       "output_type": "pyout",
       "prompt_number": 9,
       "text": [
        "<matplotlib.text.Text at 0x7fcc240767d0>"
       ]
      },
      {
       "metadata": {},
       "output_type": "display_data",
       "png": "[encoded data removed]",
       "text": [
        "<matplotlib.figure.Figure at 0x7fcc240e7ad0>"
       ]
      }
     ],
     "prompt_number": 9
    },
    {
     "cell_type": "heading",
     "level": 2,
     "metadata": {},
     "source": [
      "Evolution of Patch Series Submitters"
     ]
    },
    {
     "cell_type": "code",
     "collapsed": false,
     "input": [
      "query = \"\"\" SELECT year,\n",
      "                   month,\n",
      "                   count(distinct(submitter)) as submitters\n",
      "            FROM \n",
      "                 (SELECT submitter_id as submitter,\n",
      "                         year(min(date)) as year,\n",
      "                         month(min(date)) as month\n",
      "                  FROM patches\n",
      "                  GROUP BY ps_version_id\n",
      "                  ORDER BY min(date)) t\n",
      "            GROUP BY year, month\n",
      "        \"\"\"\n",
      "data_submitters = execute_query(cursor, query)"
     ],
     "language": "python",
     "metadata": {},
     "outputs": [],
     "prompt_number": 10
    },
    {
     "cell_type": "code",
     "collapsed": false,
     "input": [
      "np_data = np.array(data_submitters)\n",
      "np_data_filtered = np_data[1:-2] # This remove 2001 and 2016 data\n",
      "patchserie_submittersTS = Series(np_data_filtered[:,2], index=dates)"
     ],
     "language": "python",
     "metadata": {},
     "outputs": [],
     "prompt_number": 11
    },
    {
     "cell_type": "code",
     "collapsed": false,
     "input": [
      "patchserie_submitters_chart = patchserie_submittersTS.plot()\n",
      "patchserie_submitters_chart.set_xlabel(\"Time evolution\")\n",
      "patchserie_submitters_chart.set_ylabel(\"Number of patch submitters\")\n",
      "patchserie_submitters_chart.set_title(\"Evolution of unique patch submitters per month\")"
     ],
     "language": "python",
     "metadata": {},
     "outputs": [
      {
       "metadata": {},
       "output_type": "pyout",
       "prompt_number": 14,
       "text": [
        "<matplotlib.text.Text at 0x7fcc23dacc50>"
       ]
      },
      {
       "metadata": {},
       "output_type": "display_data",
       "png": "[encoded data removed]",
       "text": [
        "<matplotlib.figure.Figure at 0x7fcc23ddcad0>"
       ]
      }
     ],
     "prompt_number": 14
    },
    {
     "cell_type": "heading",
     "level": 2,
     "metadata": {},
     "source": [
      "Evolution of comments"
     ]
    },
    {
     "cell_type": "code",
     "collapsed": false,
     "input": [
      "# Let's calculate evolution of comments in general when they were sent\n",
      "# We should ignore 1970 emails with wrong sent date\n",
      "query = \"\"\" SELECT year(date) as year,\n",
      "                   month(date) as month,\n",
      "                   count(distinct(comments.id)) as comments\n",
      "            FROM comments\n",
      "            WHERE year(date) > 2004\n",
      "            GROUP BY year(date),\n",
      "                     month(date)\n",
      "        \"\"\"\n",
      "comments = execute_query(cursor, query)"
     ],
     "language": "python",
     "metadata": {},
     "outputs": [],
     "prompt_number": 37
    },
    {
     "cell_type": "code",
     "collapsed": false,
     "input": [
      "dates = pd.date_range('2005-01', '2015-09', freq='M') # data starting in 2005-01 and ending in 2015-08\n",
      "np_data = np.array(comments)\n",
      "commentsTS = Series(np_data[:,2], index=dates)"
     ],
     "language": "python",
     "metadata": {},
     "outputs": [],
     "prompt_number": 38
    },
    {
     "cell_type": "code",
     "collapsed": false,
     "input": [
      "comments_chart = commentsTS.plot()\n",
      "comments_chart.set_xlabel(\"Time evolution\")\n",
      "comments_chart.set_ylabel(\"Number of comments\")\n",
      "comments_chart.set_title(\"Evolution of comments per month\")"
     ],
     "language": "python",
     "metadata": {},
     "outputs": [
      {
       "metadata": {},
       "output_type": "pyout",
       "prompt_number": 40,
       "text": [
        "<matplotlib.text.Text at 0x7fcc23ad5bd0>"
       ]
      },
      {
       "metadata": {},
       "output_type": "display_data",
       "png": "[encoded data removed]",
       "text": [
        "<matplotlib.figure.Figure at 0x7fcc23b632d0>"
       ]
      }
     ],
     "prompt_number": 40
    },
    {
     "cell_type": "heading",
     "level": 2,
     "metadata": {},
     "source": [
      "Evolution of people commenting the patch series"
     ]
    },
    {
     "cell_type": "code",
     "collapsed": false,
     "input": [
      "#TODO"
     ],
     "language": "python",
     "metadata": {},
     "outputs": [],
     "prompt_number": 16
    },
    {
     "cell_type": "heading",
     "level": 2,
     "metadata": {},
     "source": [
      "Evolution of people reviewing patches (using the flag reviewed by)"
     ]
    },
    {
     "cell_type": "code",
     "collapsed": false,
     "input": [
      "#TODO"
     ],
     "language": "python",
     "metadata": {},
     "outputs": [],
     "prompt_number": 17
    },
    {
     "cell_type": "heading",
     "level": 1,
     "metadata": {},
     "source": [
      "2) TIME ANALYSIS"
     ]
    },
    {
     "cell_type": "markdown",
     "metadata": {},
     "source": [
      "Metrics to retrieve:\n",
      "* Time to merge: time between 1 and C\n",
      "* Time to commit: time between A and C\n",
      "* Time to re-work a patch: time between 1_d and the new iteration. Time between the last comment and a new patch.\n",
      "* Cycle time: time between each pair of iterations: 1&2, 2&3, etc.\n",
      "* Time to first review: time between 1, 2, 3, etc and its first review."
     ]
    },
    {
     "cell_type": "heading",
     "level": 2,
     "metadata": {},
     "source": [
      "Time to merge"
     ]
    },
    {
     "cell_type": "code",
     "collapsed": false,
     "input": [
      "#TODO"
     ],
     "language": "python",
     "metadata": {},
     "outputs": [],
     "prompt_number": 18
    },
    {
     "cell_type": "heading",
     "level": 2,
     "metadata": {},
     "source": [
      "Time to commit"
     ]
    },
    {
     "cell_type": "code",
     "collapsed": false,
     "input": [
      "#TODO"
     ],
     "language": "python",
     "metadata": {},
     "outputs": [],
     "prompt_number": 20
    },
    {
     "cell_type": "heading",
     "level": 2,
     "metadata": {},
     "source": [
      "Time to re-work a patch"
     ]
    },
    {
     "cell_type": "code",
     "collapsed": false,
     "input": [
      "#TODO"
     ],
     "language": "python",
     "metadata": {},
     "outputs": [],
     "prompt_number": 21
    },
    {
     "cell_type": "heading",
     "level": 2,
     "metadata": {},
     "source": [
      "Cycle time"
     ]
    },
    {
     "cell_type": "code",
     "collapsed": false,
     "input": [
      "#TODO"
     ],
     "language": "python",
     "metadata": {},
     "outputs": [],
     "prompt_number": 22
    },
    {
     "cell_type": "heading",
     "level": 2,
     "metadata": {},
     "source": [
      "Time to first review"
     ]
    },
    {
     "cell_type": "code",
     "collapsed": false,
     "input": [
      "#TODO"
     ],
     "language": "python",
     "metadata": {},
     "outputs": [],
     "prompt_number": 24
    },
    {
     "cell_type": "heading",
     "level": 1,
     "metadata": {},
     "source": [
      "3) BACKLOG ANALYSIS"
     ]
    },
    {
     "cell_type": "markdown",
     "metadata": {},
     "source": [
      "Metrics to retrieve:\n",
      "* Review (of series/patch) completed: all of the patch series merged\n",
      "* Review (of series/patch) active: patches that were recently reviewed, we'll take the last 7 days as a potential timeframe.\n",
      "* Review (of series/patch) stalled: patches older than 1 year\n",
      "* Review (of series/patch) ongoing: patches younger than 1 year. This would include the active reviews.\n"
     ]
    },
    {
     "cell_type": "heading",
     "level": 2,
     "metadata": {},
     "source": [
      "Reviews completed"
     ]
    },
    {
     "cell_type": "code",
     "collapsed": false,
     "input": [
      "#TODO"
     ],
     "language": "python",
     "metadata": {},
     "outputs": [],
     "prompt_number": 27
    },
    {
     "cell_type": "heading",
     "level": 2,
     "metadata": {},
     "source": [
      "Reviews active"
     ]
    },
    {
     "cell_type": "code",
     "collapsed": false,
     "input": [
      "#TODO"
     ],
     "language": "python",
     "metadata": {},
     "outputs": [],
     "prompt_number": 28
    },
    {
     "cell_type": "heading",
     "level": 2,
     "metadata": {},
     "source": [
      "Reviews stalled"
     ]
    },
    {
     "cell_type": "code",
     "collapsed": false,
     "input": [
      "#TODO"
     ],
     "language": "python",
     "metadata": {},
     "outputs": [],
     "prompt_number": 29
    },
    {
     "cell_type": "heading",
     "level": 2,
     "metadata": {},
     "source": [
      "Reviews ongoing"
     ]
    },
    {
     "cell_type": "code",
     "collapsed": false,
     "input": [
      "#TODO"
     ],
     "language": "python",
     "metadata": {},
     "outputs": [],
     "prompt_number": 30
    },
    {
     "cell_type": "heading",
     "level": 1,
     "metadata": {},
     "source": [
      "4) PATCH SERIES COMPLEXITY ANALYSIS"
     ]
    },
    {
     "cell_type": "markdown",
     "metadata": {},
     "source": [
      "Metrics to retrieve:\n",
      "* Number of versions per patch serie\n",
      "* From patches merged: check number of 'touched' files plus added and removed lines\n",
      "* Comments received per patch\n",
      "* Number of patches per patch serie"
     ]
    },
    {
     "cell_type": "heading",
     "level": 2,
     "metadata": {},
     "source": [
      "Number of versions per patch serie"
     ]
    },
    {
     "cell_type": "code",
     "collapsed": false,
     "input": [
      "#TODO"
     ],
     "language": "python",
     "metadata": {},
     "outputs": [],
     "prompt_number": 31
    },
    {
     "cell_type": "heading",
     "level": 2,
     "metadata": {},
     "source": [
      "Number of 'touched' files, added and removed lines"
     ]
    },
    {
     "cell_type": "code",
     "collapsed": false,
     "input": [
      "#TODO"
     ],
     "language": "python",
     "metadata": {},
     "outputs": [],
     "prompt_number": 32
    },
    {
     "cell_type": "heading",
     "level": 2,
     "metadata": {},
     "source": [
      "Comments received per patch"
     ]
    },
    {
     "cell_type": "code",
     "collapsed": false,
     "input": [
      "#TODO"
     ],
     "language": "python",
     "metadata": {},
     "outputs": [],
     "prompt_number": 33
    },
    {
     "cell_type": "heading",
     "level": 2,
     "metadata": {},
     "source": [
      "Number of patches per patch serie"
     ]
    },
    {
     "cell_type": "code",
     "collapsed": false,
     "input": [
      "#TODO"
     ],
     "language": "python",
     "metadata": {},
     "outputs": [],
     "prompt_number": 34
    },
    {
     "cell_type": "heading",
     "level": 1,
     "metadata": {},
     "source": [
      "5) PATCH SERIES COMMUNITY"
     ]
    },
    {
     "cell_type": "markdown",
     "metadata": {},
     "source": [
      "Metrics to retrieve:\n",
      "* Top people sending patches\n",
      "* Top people reviewing patches\n",
      "* For all of those, basic analysis with organization info based on email domain\n"
     ]
    },
    {
     "cell_type": "heading",
     "level": 2,
     "metadata": {},
     "source": [
      "Top people sending patches (with affiliation if possible)"
     ]
    },
    {
     "cell_type": "code",
     "collapsed": false,
     "input": [
      "#TODO"
     ],
     "language": "python",
     "metadata": {},
     "outputs": [],
     "prompt_number": 35
    },
    {
     "cell_type": "heading",
     "level": 2,
     "metadata": {},
     "source": [
      "Top people reviewing patches (with affiliation if possible)"
     ]
    },
    {
     "cell_type": "code",
     "collapsed": false,
     "input": [
      "#TODO"
     ],
     "language": "python",
     "metadata": {},
     "outputs": [],
     "prompt_number": 36
    }
   ],
   "metadata": {}
  }
 ]
}