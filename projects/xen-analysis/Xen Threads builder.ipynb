{
 "metadata": {
  "name": ""
 },
 "nbformat": 3,
 "nbformat_minor": 0,
 "worksheets": [
  {
   "cells": [
    {
     "cell_type": "code",
     "collapsed": false,
     "input": [
      "from vizgrimoire.GrimoireSQL import SetDBChannel\n",
      "from vizgrimoire.GrimoireSQL import ExecuteQuery\n",
      "from vizgrimoire.analysis.threads import Threads\n"
     ],
     "language": "python",
     "metadata": {},
     "outputs": [],
     "prompt_number": 17
    },
    {
     "cell_type": "code",
     "collapsed": false,
     "input": [
      "SetDBChannel (database = \"xen_reports_mlstats\", user=\"root\", password=\"\")"
     ],
     "language": "python",
     "metadata": {},
     "outputs": [],
     "prompt_number": 18
    },
    {
     "cell_type": "code",
     "collapsed": false,
     "input": [
      "# Given that the original class takes too long, this new class inherits from the original Threads\n",
      "# class and only analyzes the interesting emails, ignoring the rest of them.\n",
      "\n",
      "class XenThreads(Threads):\n",
      "    \n",
      "    def _init_threads(self):\n",
      "        # Returns dictionary of message_id threads. Each key contains a list\n",
      "        # of emails associated to that thread (not ordered).\n",
      "\n",
      "        # Retrieving all of the messages. \n",
      "        query = \"\"\"\n",
      "                select DISTINCT message_ID, is_response_of\n",
      "                from messages\n",
      "                where first_date >= %s and first_date < %s\n",
      "                and subject like '%s[PATCH%s'\n",
      "                \"\"\" % (self.initdate, self.enddate, \"%\", \"%\")\n",
      "        list_messages = ExecuteQuery(query)\n",
      "        self.list_message_id = list_messages[\"message_ID\"]\n",
      "        self.list_is_response_of = list_messages[\"is_response_of\"]\n",
      "\n",
      "        messages = {}\n",
      "        for message_id in self.list_message_id:\n",
      "            # Looking for messages in the thread\n",
      "            index = self.list_message_id.index(message_id)\n",
      "\n",
      "            # Only analyzing those whose is_response_of is None, \n",
      "            # those are the message 'root' of each thread.\n",
      "            if self.list_is_response_of[index] is None:\n",
      "                messages[message_id] = self._build_threads(message_id)\n",
      "                # Adding the root message to the list in first place\n",
      "                messages[message_id].insert(0, message_id)\n",
      "\n",
      "        self.threads = messages"
     ],
     "language": "python",
     "metadata": {},
     "outputs": [],
     "prompt_number": 19
    },
    {
     "cell_type": "code",
     "collapsed": false,
     "input": [
      "threads = XenThreads(\"'2001-01-01'\", \"'2015-08-01'\", \"xen_identities\")"
     ],
     "language": "python",
     "metadata": {},
     "outputs": [],
     "prompt_number": 20
    },
    {
     "cell_type": "code",
     "collapsed": false,
     "input": [
      "# This should provide the total number of threads starting with the key word PATCH\n",
      "threads.numThreads()"
     ],
     "language": "python",
     "metadata": {},
     "outputs": [
      {
       "metadata": {},
       "output_type": "pyout",
       "prompt_number": 21,
       "text": [
        "23153"
       ]
      }
     ],
     "prompt_number": 21
    },
    {
     "cell_type": "code",
     "collapsed": false,
     "input": [],
     "language": "python",
     "metadata": {},
     "outputs": []
    }
   ],
   "metadata": {}
  }
 ]
}