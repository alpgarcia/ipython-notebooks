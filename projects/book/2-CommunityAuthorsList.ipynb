{
 "metadata": {
  "name": ""
 },
 "nbformat": 3,
 "nbformat_minor": 0,
 "worksheets": [
  {
   "cells": [
    {
     "cell_type": "markdown",
     "metadata": {},
     "source": [
      "### Measuring authors"
     ]
    },
    {
     "cell_type": "markdown",
     "metadata": {},
     "source": [
      "This study aims at providing a view of how the get_list method works.\n",
      "This is intended to show how to see a list of developers participating in a company or in a project and how to filter some of them if necessary."
     ]
    },
    {
     "cell_type": "markdown",
     "metadata": {},
     "source": [
      "#### Import Libraries"
     ]
    },
    {
     "cell_type": "code",
     "collapsed": false,
     "input": [
      "# Connection database library for Git activity\n",
      "from vizgrimoire.metrics.query_builder import SCMQuery\n",
      "# Metric Filters library\n",
      "from vizgrimoire.metrics.metrics_filter import MetricFilters\n",
      "# Git activity metrics available in the scm_metrics module\n",
      "import vizgrimoire.metrics.scm_metrics as scm"
     ],
     "language": "python",
     "metadata": {},
     "outputs": [],
     "prompt_number": 1
    },
    {
     "cell_type": "markdown",
     "metadata": {},
     "source": [
      "#### Instantiate database Object"
     ]
    },
    {
     "cell_type": "code",
     "collapsed": false,
     "input": [
      "# The databases used for this example are available at the OpenStack Foundation site\n",
      "# http://activity.openstack.org/dash/browser/data/db/\n",
      "dbcon = SCMQuery(\"root\", \"\", \"openstack_2015q1_git\", \"openstack_2015q1_git\")"
     ],
     "language": "python",
     "metadata": {},
     "outputs": [],
     "prompt_number": 2
    },
    {
     "cell_type": "markdown",
     "metadata": {},
     "source": [
      "#### Instantiate filters for the analysis"
     ]
    },
    {
     "cell_type": "code",
     "collapsed": false,
     "input": [
      "# dates to be used\n",
      "startdate = \"'2013-01-01'\"\n",
      "enddate = \"'2015-01-01'\"\n",
      "\n",
      "# Instantiate a basic filter\n",
      "basic_filters = MetricFilters(MetricFilters.PERIOD_MONTH, startdate, enddate)"
     ],
     "language": "python",
     "metadata": {},
     "outputs": [],
     "prompt_number": 3
    },
    {
     "cell_type": "markdown",
     "metadata": {},
     "source": [
      "#### Instantiate Authors class\n",
      "\n",
      "Most of the classes available under the scm module are metrics. Those can be instantiated using two values: the database connection and the specific filters needed for the analysis.\n",
      "\n",
      "Each of the metrics provides four methods:\n",
      "\n",
      "* get_agg: returns aggregated values of the metric for the specified filters\n",
      "* get_ts: returns a timeseries with the period specified in filters\n",
      "* get_trends: returns the trend of metric for the specified days\n",
      "* get_list: returns a list of elements for such metric"
     ]
    },
    {
     "cell_type": "code",
     "collapsed": false,
     "input": [
      "# The Authors metric needs of two objects:\n",
      "#   the database connection\n",
      "#   and the filters\n",
      "authors = scm.Authors(dbcon, basic_filters)"
     ],
     "language": "python",
     "metadata": {},
     "outputs": [],
     "prompt_number": 4
    },
    {
     "cell_type": "markdown",
     "metadata": {},
     "source": [
      "#### get_list method\n",
      "\n",
      "A dictionary is returned.\n",
      "\n",
      "A timeseries provides the following keys in the dictionary:\n",
      "\n",
      "* 'id': list of incremental integers starting from 0\n",
      "* metric: this key will be named as the value of the metric, e.g.: 'authors'.\n",
      "* grouped by: this is the value used to group the previous metric. By default, in SCM, commit is the metric to group by authors.\n",
      "\n",
      "Each of the keys contains a list of elements and all of those lists are of the same length.\n"
     ]
    },
    {
     "cell_type": "code",
     "collapsed": false,
     "input": [
      "# list_authors is the list of authors between\n",
      "# the two specific dates: startdate and enddate and\n",
      "# for the whole OpenStack Foundation projects\n",
      "list_authors = authors.get_list()"
     ],
     "language": "python",
     "metadata": {},
     "outputs": [],
     "prompt_number": 7
    },
    {
     "cell_type": "code",
     "collapsed": false,
     "input": [
      "print list_authors.keys()"
     ],
     "language": "python",
     "metadata": {},
     "outputs": [
      {
       "output_type": "stream",
       "stream": "stdout",
       "text": [
        "['commits', 'id', 'authors']\n"
       ]
      }
     ],
     "prompt_number": 9
    },
    {
     "cell_type": "code",
     "collapsed": false,
     "input": [
      "list_authors"
     ],
     "language": "python",
     "metadata": {},
     "outputs": [
      {
       "metadata": {},
       "output_type": "pyout",
       "prompt_number": 11,
       "text": [
        "{'authors': ['Jenkins',\n",
        "  'OpenStack Jenkins',\n",
        "  'OpenStack Project Creator',\n",
        "  'James E. Blair',\n",
        "  'Andreas Jaeger',\n",
        "  'Clark Boylan',\n",
        "  'Jeremy Stanley',\n",
        "  'Monty Taylor',\n",
        "  'Sean Dague',\n",
        "  'Sergey Lukjanov'],\n",
        " 'commits': [66858L,\n",
        "  3089L,\n",
        "  2680L,\n",
        "  2286L,\n",
        "  2271L,\n",
        "  1710L,\n",
        "  1693L,\n",
        "  1599L,\n",
        "  1403L,\n",
        "  1281L],\n",
        " 'id': [2L, 135L, 239L, 15L, 194L, 7L, 294L, 1L, 49L, 731L]}"
       ]
      }
     ],
     "prompt_number": 11
    },
    {
     "cell_type": "markdown",
     "metadata": {},
     "source": [
      "However, we can see that there are three specific developers that seem to be bots instead of actual developers:\n",
      "\n",
      "* Jenkins\n",
      "* OpenStack Jenkins\n",
      "* OpenStack Project Creator\n",
      "\n",
      "Bots are usually in charge of automated commits that help to merge, control the code quality, testing and other activities.\n",
      "\n",
      "In order to filter those bots, the \"people_out\" needs to be updated"
     ]
    },
    {
     "cell_type": "code",
     "collapsed": false,
     "input": [
      "basic_filters.people_out = [\"Jenkins\", \"OpenStack Jenkins\", \"OpenStack Project Creator\"]"
     ],
     "language": "python",
     "metadata": {},
     "outputs": [],
     "prompt_number": 16
    },
    {
     "cell_type": "code",
     "collapsed": false,
     "input": [
      "list_authors = authors.get_list()"
     ],
     "language": "python",
     "metadata": {},
     "outputs": [],
     "prompt_number": 17
    },
    {
     "cell_type": "code",
     "collapsed": false,
     "input": [
      "list_authors"
     ],
     "language": "python",
     "metadata": {},
     "outputs": [
      {
       "metadata": {},
       "output_type": "pyout",
       "prompt_number": 18,
       "text": [
        "{'authors': ['James E. Blair',\n",
        "  'Andreas Jaeger',\n",
        "  'Clark Boylan',\n",
        "  'Jeremy Stanley',\n",
        "  'Monty Taylor',\n",
        "  'Sean Dague',\n",
        "  'Sergey Lukjanov',\n",
        "  'Joe Gordon',\n",
        "  'rbtcollins',\n",
        "  'arosen'],\n",
        " 'commits': [2286L,\n",
        "  2271L,\n",
        "  1710L,\n",
        "  1693L,\n",
        "  1599L,\n",
        "  1403L,\n",
        "  1281L,\n",
        "  1056L,\n",
        "  1038L,\n",
        "  979L],\n",
        " 'id': [15L, 194L, 7L, 294L, 1L, 49L, 731L, 36L, 516L, 468L]}"
       ]
      }
     ],
     "prompt_number": 18
    },
    {
     "cell_type": "markdown",
     "metadata": {},
     "source": [
      "We can see how the main developers are this top 10 developers. Those are the ones with the highest number of commits detected across all of the projects in the OpenStack Foundation."
     ]
    },
    {
     "cell_type": "markdown",
     "metadata": {},
     "source": [
      "### Listin Authors: filter by repository"
     ]
    },
    {
     "cell_type": "code",
     "collapsed": false,
     "input": [
      "# Copy the basic_filter object\n",
      "repo_filters = basic_filters.copy()"
     ],
     "language": "python",
     "metadata": {},
     "outputs": [],
     "prompt_number": 19
    },
    {
     "cell_type": "code",
     "collapsed": false,
     "input": [
      "# Add a new filter to the analysis.\n",
      "# If this filter is used, all of the metrics using this\n",
      "# will provide information only about \"nova.git\"\n",
      "repo_filters.add_filter(MetricFilters.REPOSITORY, \"nova.git\")"
     ],
     "language": "python",
     "metadata": {},
     "outputs": [],
     "prompt_number": 20
    },
    {
     "cell_type": "code",
     "collapsed": false,
     "input": [
      "# Instantiate a new Authors object with the new filters\n",
      "repo_authors = scm.Authors(dbcon, repo_filters)"
     ],
     "language": "python",
     "metadata": {},
     "outputs": [],
     "prompt_number": 21
    },
    {
     "cell_type": "code",
     "collapsed": false,
     "input": [
      "# Retrieve all authors for Nova in 2013 and 2014\n",
      "list_authors = repo_authors.get_list()"
     ],
     "language": "python",
     "metadata": {},
     "outputs": [],
     "prompt_number": 22
    },
    {
     "cell_type": "code",
     "collapsed": false,
     "input": [
      "list_authors"
     ],
     "language": "python",
     "metadata": {},
     "outputs": [
      {
       "metadata": {},
       "output_type": "pyout",
       "prompt_number": 23,
       "text": [
        "{'authors': ['Dan Smith',\n",
        "  'garyk',\n",
        "  'Russell Bryant',\n",
        "  'Chris Yeoh',\n",
        "  'Joe Gordon',\n",
        "  'Matt Riedemann',\n",
        "  'Daniel P. Berrange',\n",
        "  'He Jie Xu',\n",
        "  'Nikola Dipanov',\n",
        "  'Mark McLoughlin'],\n",
        " 'commits': [536L, 368L, 258L, 254L, 238L, 199L, 194L, 172L, 149L, 147L],\n",
        " 'id': [1176L, 340L, 14L, 101L, 36L, 335L, 858L, 500L, 75L, 10L]}"
       ]
      }
     ],
     "prompt_number": 23
    },
    {
     "cell_type": "markdown",
     "metadata": {},
     "source": [
      "And this is the top 10 developers in the project Nova."
     ]
    },
    {
     "cell_type": "markdown",
     "metadata": {},
     "source": [
      "### Measuring Authors: filter by organization"
     ]
    },
    {
     "cell_type": "code",
     "collapsed": false,
     "input": [
      "# Copy the basic_filter object\n",
      "org_filters = basic_filters.copy()"
     ],
     "language": "python",
     "metadata": {},
     "outputs": [],
     "prompt_number": 24
    },
    {
     "cell_type": "code",
     "collapsed": false,
     "input": [
      "# Add a new filter to the analysis.\n",
      "# If this filter is used, all of the metrics using this\n",
      "# will provide information only about Rackspace\n",
      "org_filters.add_filter(MetricFilters.COMPANY, \"Rackspace\")"
     ],
     "language": "python",
     "metadata": {},
     "outputs": [],
     "prompt_number": 25
    },
    {
     "cell_type": "code",
     "collapsed": false,
     "input": [
      "# Instantiate a new Authors object with the new filters\n",
      "org_authors = scm.Authors(dbcon, org_filters)"
     ],
     "language": "python",
     "metadata": {},
     "outputs": [],
     "prompt_number": 26
    },
    {
     "cell_type": "code",
     "collapsed": false,
     "input": [
      "# Retrieve all authors for Rackspace in 2013 and 2014\n",
      "list_authors = org_authors.get_list()"
     ],
     "language": "python",
     "metadata": {},
     "outputs": [],
     "prompt_number": 27
    },
    {
     "cell_type": "code",
     "collapsed": false,
     "input": [
      "list_authors"
     ],
     "language": "python",
     "metadata": {},
     "outputs": [
      {
       "metadata": {},
       "output_type": "pyout",
       "prompt_number": 28,
       "text": [
        "{'authors': ['Anne Gentle',\n",
        "  'Diane Fleming',\n",
        "  'Dolph Mathews',\n",
        "  'Kurt Griffiths',\n",
        "  'Joshua Hesketh',\n",
        "  'Alex Gaynor',\n",
        "  'Chris Behrens',\n",
        "  'Zhihao Yuan',\n",
        "  'Chuck Short',\n",
        "  'Michael Still'],\n",
        " 'commits': [560L, 492L, 351L, 307L, 261L, 223L, 222L, 194L, 186L, 186L],\n",
        " 'id': [138L, 1362L, 410L, 1000L, 915L, 965L, 1761L, 2681L, 23L, 60L]}"
       ]
      }
     ],
     "prompt_number": 28
    },
    {
     "cell_type": "markdown",
     "metadata": {},
     "source": [
      "### Measuring Authors: filter by organization and repository"
     ]
    },
    {
     "cell_type": "code",
     "collapsed": false,
     "input": [
      "# Copy the basic_filter object\n",
      "org_repo_filters = basic_filters.copy()"
     ],
     "language": "python",
     "metadata": {},
     "outputs": [],
     "prompt_number": 29
    },
    {
     "cell_type": "code",
     "collapsed": false,
     "input": [
      "# Add two new filters to the analysis.\n",
      "# If this filter is used, all of the metrics using this\n",
      "# will provide information only about the activity\n",
      "# of Rackspace in Nova.\n",
      "org_repo_filters.add_filter(MetricFilters.COMPANY, \"Rackspace\")\n",
      "org_repo_filters.add_filter(MetricFilters.REPOSITORY, \"nova.git\")"
     ],
     "language": "python",
     "metadata": {},
     "outputs": [],
     "prompt_number": 30
    },
    {
     "cell_type": "code",
     "collapsed": false,
     "input": [
      "# Instantiate a new Authors object with the new filters\n",
      "org_repo_authors = scm.Authors(dbcon, org_repo_filters)"
     ],
     "language": "python",
     "metadata": {},
     "outputs": [],
     "prompt_number": 31
    },
    {
     "cell_type": "code",
     "collapsed": false,
     "input": [
      "# Retrieve all authors for Rackspace in Nova in 2013 and 2014\n",
      "list_authors = org_repo_authors.get_list()"
     ],
     "language": "python",
     "metadata": {},
     "outputs": [],
     "prompt_number": 32
    },
    {
     "cell_type": "code",
     "collapsed": false,
     "input": [
      "list_authors"
     ],
     "language": "python",
     "metadata": {},
     "outputs": [
      {
       "metadata": {},
       "output_type": "pyout",
       "prompt_number": 33,
       "text": [
        "{'authors': ['Chris Behrens',\n",
        "  'Rick Harris',\n",
        "  'John Garbutt',\n",
        "  'Andrew Laski',\n",
        "  'Michael Still',\n",
        "  'Brian D. Elliott',\n",
        "  'Johannes Erdfelt',\n",
        "  'Christopher Lefelhocz',\n",
        "  'Joshua Hesketh',\n",
        "  'Matthew Sherborne'],\n",
        " 'commits': [145L, 128L, 110L, 103L, 100L, 52L, 36L, 22L, 22L, 17L],\n",
        " 'id': [1761L, 11L, 70L, 1352L, 60L, 1694L, 962L, 2070L, 915L, 1996L]}"
       ]
      }
     ],
     "prompt_number": 33
    }
   ],
   "metadata": {}
  }
 ]
}