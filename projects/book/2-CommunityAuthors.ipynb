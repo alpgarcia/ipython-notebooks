{
 "metadata": {
  "name": ""
 },
 "nbformat": 3,
 "nbformat_minor": 0,
 "worksheets": [
  {
   "cells": [
    {
     "cell_type": "markdown",
     "metadata": {},
     "source": [
      "### Measuring authors"
     ]
    },
    {
     "cell_type": "markdown",
     "metadata": {},
     "source": [
      "#### Import Libraries"
     ]
    },
    {
     "cell_type": "code",
     "collapsed": false,
     "input": [
      "# Connection database library for Git activity\n",
      "from vizgrimoire.metrics.query_builder import SCMQuery\n",
      "# Metric Filters library\n",
      "from vizgrimoire.metrics.metrics_filter import MetricFilters\n",
      "# Git activity metrics available in the scm_metrics module\n",
      "import vizgrimoire.metrics.scm_metrics as scm"
     ],
     "language": "python",
     "metadata": {},
     "outputs": [],
     "prompt_number": 1
    },
    {
     "cell_type": "markdown",
     "metadata": {},
     "source": [
      "#### Instantiate database Object"
     ]
    },
    {
     "cell_type": "code",
     "collapsed": false,
     "input": [
      "# The databases used for this example are available at the OpenStack Foundation site\n",
      "# http://activity.openstack.org/dash/browser/data/db/\n",
      "dbcon = SCMQuery(\"root\", \"\", \"openstack_2015q1_git\", \"openstack_2015q1_git\")"
     ],
     "language": "python",
     "metadata": {},
     "outputs": [],
     "prompt_number": 2
    },
    {
     "cell_type": "markdown",
     "metadata": {},
     "source": [
      "#### Instantiate filters for the analysis"
     ]
    },
    {
     "cell_type": "code",
     "collapsed": false,
     "input": [
      "# dates to be used\n",
      "startdate = \"'2013-01-01'\"\n",
      "enddate = \"'2015-01-01'\"\n",
      "\n",
      "# Instantiate a basic filter\n",
      "basic_filters = MetricFilters(MetricFilters.PERIOD_MONTH, startdate, enddate)"
     ],
     "language": "python",
     "metadata": {},
     "outputs": [],
     "prompt_number": 3
    },
    {
     "cell_type": "markdown",
     "metadata": {},
     "source": [
      "#### Instantiate Authors class\n",
      "\n",
      "Most of the classes available under the scm module are metrics. Those can be instantiated using two values: the database connection and the specific filters needed for the analysis.\n",
      "\n",
      "Each of the metrics provides four methods:\n",
      "\n",
      "* get_agg: returns aggregated values of the metric for the specified filters\n",
      "* get_ts: returns a timeseries with the period specified in filters\n",
      "* get_trends: returns the trend of metric for the specified days\n",
      "* get_list: returns a list of elements for such metric"
     ]
    },
    {
     "cell_type": "code",
     "collapsed": false,
     "input": [
      "# The Authors metric needs of two objects:\n",
      "#   the database connection\n",
      "#   and the filters\n",
      "authors = scm.Authors(dbcon, basic_filters)"
     ],
     "language": "python",
     "metadata": {},
     "outputs": [],
     "prompt_number": 4
    },
    {
     "cell_type": "markdown",
     "metadata": {},
     "source": [
      "#### get_agg and get_ts methods\n",
      "\n",
      "In both cases, a dictionary is returned.\n",
      "\n",
      "A timeseries provides the following keys in the dictionary:\n",
      "\n",
      "* 'date': this is a list of human readable dates such as 'Jan 2013'\n",
      "* 'unixtime': this is a list of unixtime for each of the periods of analysis\n",
      "* period: this dictionary key will have the value of 'day', 'week', 'month' or 'year'. This contains an unique value to identify each of the periods of analysis.\n",
      "* 'id': list of incremental integers starting from 0\n",
      "* metric: this key will be named as the value of the metric, e.g.: 'authors'.\n",
      "\n",
      "Each of the keys contains a list of elements and all of those lists are of the same length.\n"
     ]
    },
    {
     "cell_type": "code",
     "collapsed": false,
     "input": [
      "# agg_authors is the aggregated value of authors between\n",
      "# the two specific dates: startdate and enddate and\n",
      "# for the whole OpenStack Foundation projects\n",
      "agg_authors = authors.get_agg()"
     ],
     "language": "python",
     "metadata": {},
     "outputs": [],
     "prompt_number": 5
    },
    {
     "cell_type": "code",
     "collapsed": false,
     "input": [
      "print agg_authors.keys()"
     ],
     "language": "python",
     "metadata": {},
     "outputs": [
      {
       "output_type": "stream",
       "stream": "stdout",
       "text": [
        "['authors']\n"
       ]
      }
     ],
     "prompt_number": 6
    },
    {
     "cell_type": "code",
     "collapsed": false,
     "input": [
      "ts_authors = authors.get_ts()"
     ],
     "language": "python",
     "metadata": {},
     "outputs": [],
     "prompt_number": 7
    },
    {
     "cell_type": "code",
     "collapsed": false,
     "input": [
      "print ts_authors.keys()"
     ],
     "language": "python",
     "metadata": {},
     "outputs": [
      {
       "output_type": "stream",
       "stream": "stdout",
       "text": [
        "['date', 'unixtime', 'month', 'id', 'authors']\n"
       ]
      }
     ],
     "prompt_number": 8
    },
    {
     "cell_type": "markdown",
     "metadata": {},
     "source": [
      "And accessing to each of the keys, a list of values is obtained"
     ]
    },
    {
     "cell_type": "code",
     "collapsed": false,
     "input": [
      "# all authors of the OpenStack Foundation\n",
      "# in 2013 and 2014\n",
      "agg_authors[\"authors\"]"
     ],
     "language": "python",
     "metadata": {},
     "outputs": [
      {
       "metadata": {},
       "output_type": "pyout",
       "prompt_number": 9,
       "text": [
        "2600L"
       ]
      }
     ],
     "prompt_number": 9
    },
    {
     "cell_type": "code",
     "collapsed": false,
     "input": [
      "# evolution of authors for the OpenStack Foundation\n",
      "print ts_authors[\"authors\"]"
     ],
     "language": "python",
     "metadata": {},
     "outputs": [
      {
       "output_type": "stream",
       "stream": "stdout",
       "text": [
        "[302L, 294L, 319L, 301L, 402L, 418L, 469L, 506L, 485L, 487L, 471L, 481L, 546L, 615L, 624L, 546L, 547L, 618L, 667L, 649L, 611L, 580L, 550L, 581L]\n"
       ]
      }
     ],
     "prompt_number": 11
    },
    {
     "cell_type": "markdown",
     "metadata": {},
     "source": [
      "### Measuring Authors: filter by repository"
     ]
    },
    {
     "cell_type": "code",
     "collapsed": false,
     "input": [
      "# Copy the basic_filter object\n",
      "repo_filters = basic_filters.copy()"
     ],
     "language": "python",
     "metadata": {},
     "outputs": [],
     "prompt_number": 12
    },
    {
     "cell_type": "code",
     "collapsed": false,
     "input": [
      "# Add a new filter to the analysis.\n",
      "# If this filter is used, all of the metrics using this\n",
      "# will provide information only about \"nova.git\"\n",
      "repo_filters.add_filter(MetricFilters.REPOSITORY, \"nova.git\")"
     ],
     "language": "python",
     "metadata": {},
     "outputs": [],
     "prompt_number": 13
    },
    {
     "cell_type": "code",
     "collapsed": false,
     "input": [
      "# Instantiate a new Authors object with the new filters\n",
      "repo_authors = scm.Authors(dbcon, repo_filters)"
     ],
     "language": "python",
     "metadata": {},
     "outputs": [],
     "prompt_number": 14
    },
    {
     "cell_type": "code",
     "collapsed": false,
     "input": [
      "# Retrieve all authors for Nova in 2013 and 2014\n",
      "agg_authors = repo_authors.get_agg()"
     ],
     "language": "python",
     "metadata": {},
     "outputs": [],
     "prompt_number": 15
    },
    {
     "cell_type": "code",
     "collapsed": false,
     "input": [
      "# Retrieve the evolution of the authors for Nova in 2013 and 2014\n",
      "ts_authors = repo_authors.get_ts()"
     ],
     "language": "python",
     "metadata": {},
     "outputs": [],
     "prompt_number": 16
    },
    {
     "cell_type": "markdown",
     "metadata": {},
     "source": [
      "Let's print the aggregated and evolutionary values"
     ]
    },
    {
     "cell_type": "code",
     "collapsed": false,
     "input": [
      "print agg_authors[\"authors\"]"
     ],
     "language": "python",
     "metadata": {},
     "outputs": [
      {
       "output_type": "stream",
       "stream": "stdout",
       "text": [
        "624\n"
       ]
      }
     ],
     "prompt_number": 17
    },
    {
     "cell_type": "markdown",
     "metadata": {},
     "source": [
      "Thus, only Nova is responsible of approximately a 10% of the total activity developed in the OpenStack Foundation between 2013 and 2014"
     ]
    },
    {
     "cell_type": "code",
     "collapsed": false,
     "input": [
      "print ts_authors[\"authors\"]"
     ],
     "language": "python",
     "metadata": {},
     "outputs": [
      {
       "output_type": "stream",
       "stream": "stdout",
       "text": [
        "[101L, 86L, 84L, 71L, 104L, 115L, 116L, 113L, 90L, 103L, 96L, 88L, 88L, 104L, 92L, 81L, 77L, 95L, 93L, 91L, 95L, 74L, 68L, 83L]\n"
       ]
      }
     ],
     "prompt_number": 18
    },
    {
     "cell_type": "markdown",
     "metadata": {},
     "source": [
      "### Measuring Authors: filter by organization"
     ]
    },
    {
     "cell_type": "code",
     "collapsed": false,
     "input": [
      "# Copy the basic_filter object\n",
      "org_filters = basic_filters.copy()"
     ],
     "language": "python",
     "metadata": {},
     "outputs": [],
     "prompt_number": 19
    },
    {
     "cell_type": "code",
     "collapsed": false,
     "input": [
      "# Add a new filter to the analysis.\n",
      "# If this filter is used, all of the metrics using this\n",
      "# will provide information only about \"nova.git\"\n",
      "org_filters.add_filter(MetricFilters.COMPANY, \"Red Hat\")"
     ],
     "language": "python",
     "metadata": {},
     "outputs": [],
     "prompt_number": 20
    },
    {
     "cell_type": "code",
     "collapsed": false,
     "input": [
      "# Instantiate a new Authors object with the new filters\n",
      "org_authors = scm.Authors(dbcon, org_filters)"
     ],
     "language": "python",
     "metadata": {},
     "outputs": [],
     "prompt_number": 24
    },
    {
     "cell_type": "code",
     "collapsed": false,
     "input": [
      "# Retrieve all authors for Red Hat in 2013 and 2014\n",
      "agg_authors = org_authors.get_agg()"
     ],
     "language": "python",
     "metadata": {},
     "outputs": [],
     "prompt_number": 25
    },
    {
     "cell_type": "code",
     "collapsed": false,
     "input": [
      "# Retrieve the evolution of the authors for Red Hat in 2013 and 2014\n",
      "ts_authors = org_authors.get_ts()"
     ],
     "language": "python",
     "metadata": {},
     "outputs": [],
     "prompt_number": 26
    },
    {
     "cell_type": "markdown",
     "metadata": {},
     "source": [
      "Let's print the aggregated and evolutionary values"
     ]
    },
    {
     "cell_type": "code",
     "collapsed": false,
     "input": [
      "print agg_authors[\"authors\"]"
     ],
     "language": "python",
     "metadata": {},
     "outputs": [
      {
       "output_type": "stream",
       "stream": "stdout",
       "text": [
        "173\n"
       ]
      }
     ],
     "prompt_number": 27
    },
    {
     "cell_type": "code",
     "collapsed": false,
     "input": [
      "print ts_authors[\"authors\"]"
     ],
     "language": "python",
     "metadata": {},
     "outputs": [
      {
       "output_type": "stream",
       "stream": "stdout",
       "text": [
        "[35L, 30L, 30L, 33L, 49L, 47L, 48L, 56L, 52L, 55L, 52L, 53L, 69L, 70L, 64L, 64L, 65L, 73L, 94L, 90L, 90L, 82L, 74L, 69L]\n"
       ]
      }
     ],
     "prompt_number": 28
    },
    {
     "cell_type": "markdown",
     "metadata": {},
     "source": [
      "### Measuring Authors: filter by organization and repository"
     ]
    },
    {
     "cell_type": "code",
     "collapsed": false,
     "input": [
      "# Copy the basic_filter object\n",
      "org_repo_filters = basic_filters.copy()"
     ],
     "language": "python",
     "metadata": {},
     "outputs": [],
     "prompt_number": 29
    },
    {
     "cell_type": "code",
     "collapsed": false,
     "input": [
      "# Add two new filters to the analysis.\n",
      "# If this filter is used, all of the metrics using this\n",
      "# will provide information only about the activity\n",
      "# of Red Hat in Nova.\n",
      "org_repo_filters.add_filter(MetricFilters.COMPANY, \"Red Hat\")\n",
      "org_repo_filters.add_filter(MetricFilters.REPOSITORY, \"nova.git\")"
     ],
     "language": "python",
     "metadata": {},
     "outputs": [],
     "prompt_number": 30
    },
    {
     "cell_type": "code",
     "collapsed": false,
     "input": [
      "# Instantiate a new Authors object with the new filters\n",
      "org_repo_authors = scm.Authors(dbcon, org_repo_filters)"
     ],
     "language": "python",
     "metadata": {},
     "outputs": [],
     "prompt_number": 32
    },
    {
     "cell_type": "code",
     "collapsed": false,
     "input": [
      "# Retrieve all authors for Red Hat in Nova in 2013 and 2014\n",
      "agg_authors = org_repo_authors.get_agg()"
     ],
     "language": "python",
     "metadata": {},
     "outputs": [],
     "prompt_number": 33
    },
    {
     "cell_type": "code",
     "collapsed": false,
     "input": [
      "# Retrieve the evolution of the authors for Red Hat in 2013 and 2014\n",
      "ts_authors = org_repo_authors.get_ts()"
     ],
     "language": "python",
     "metadata": {},
     "outputs": [],
     "prompt_number": 34
    },
    {
     "cell_type": "markdown",
     "metadata": {},
     "source": [
      "Let's print the aggregated and evolutionary values"
     ]
    },
    {
     "cell_type": "code",
     "collapsed": false,
     "input": [
      "print agg_authors[\"authors\"]"
     ],
     "language": "python",
     "metadata": {},
     "outputs": [
      {
       "output_type": "stream",
       "stream": "stdout",
       "text": [
        "46\n"
       ]
      }
     ],
     "prompt_number": 35
    },
    {
     "cell_type": "code",
     "collapsed": false,
     "input": [
      "print ts_authors[\"authors\"]"
     ],
     "language": "python",
     "metadata": {},
     "outputs": [
      {
       "output_type": "stream",
       "stream": "stdout",
       "text": [
        "[11L, 10L, 8L, 5L, 9L, 11L, 9L, 11L, 7L, 8L, 6L, 8L, 9L, 11L, 6L, 8L, 5L, 12L, 10L, 14L, 14L, 9L, 9L, 9L]\n"
       ]
      }
     ],
     "prompt_number": 36
    }
   ],
   "metadata": {}
  }
 ]
}