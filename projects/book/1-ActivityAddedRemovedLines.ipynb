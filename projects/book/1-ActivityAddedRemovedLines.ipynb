{
 "metadata": {
  "name": ""
 },
 "nbformat": 3,
 "nbformat_minor": 0,
 "worksheets": [
  {
   "cells": [
    {
     "cell_type": "markdown",
     "metadata": {},
     "source": [
      "### Measuring lines"
     ]
    },
    {
     "cell_type": "markdown",
     "metadata": {},
     "source": [
      "This metric is based on the results provided by the 'git stats' tool. Thus this metric does not count source code lines, but all of them: comments, blank lines, etc."
     ]
    },
    {
     "cell_type": "markdown",
     "metadata": {},
     "source": [
      "#### Import Libraries"
     ]
    },
    {
     "cell_type": "code",
     "collapsed": false,
     "input": [
      "# Connection database library for Git activity\n",
      "from vizgrimoire.metrics.query_builder import SCMQuery\n",
      "# Metric Filters library\n",
      "from vizgrimoire.metrics.metrics_filter import MetricFilters\n",
      "# Git activity metrics available in the scm_metrics module\n",
      "import vizgrimoire.metrics.scm_metrics as scm"
     ],
     "language": "python",
     "metadata": {},
     "outputs": [],
     "prompt_number": 1
    },
    {
     "cell_type": "markdown",
     "metadata": {},
     "source": [
      "#### Instantiate database Object"
     ]
    },
    {
     "cell_type": "code",
     "collapsed": false,
     "input": [
      "# The databases used for this example are available at the OpenStack Foundation site\n",
      "# http://activity.openstack.org/dash/browser/data/db/\n",
      "dbcon = SCMQuery(\"root\", \"\", \"openstack_2015q1_git\", \"openstack_2015q1_git\")"
     ],
     "language": "python",
     "metadata": {},
     "outputs": [],
     "prompt_number": 2
    },
    {
     "cell_type": "markdown",
     "metadata": {},
     "source": [
      "#### Instantiate filters for the analysis"
     ]
    },
    {
     "cell_type": "code",
     "collapsed": false,
     "input": [
      "# dates to be used\n",
      "startdate = \"'2013-01-01'\"\n",
      "enddate = \"'2015-01-01'\"\n",
      "\n",
      "# Instantiate a basic filter\n",
      "basic_filters = MetricFilters(MetricFilters.PERIOD_MONTH, startdate, enddate)"
     ],
     "language": "python",
     "metadata": {},
     "outputs": [],
     "prompt_number": 3
    },
    {
     "cell_type": "markdown",
     "metadata": {},
     "source": [
      "#### Instantiate Added and Removed Lines classes\n",
      "\n",
      "Most of the classes available under the scm module are metrics. Those can be instantiated using two values: the database connection and the specific filters needed for the analysis.\n",
      "\n",
      "Each of the metrics provides four methods:\n",
      "\n",
      "* get_agg: returns aggregated values of the metric for the specified filters\n",
      "* get_ts: returns a timeseries with the period specified in filters\n",
      "* get_trends: returns the trend of metric for the specified days\n",
      "* get_list: returns a list of elements for such metric"
     ]
    },
    {
     "cell_type": "code",
     "collapsed": false,
     "input": [
      "# The AdddedLines and the RemovedLines metrics need of two objects:\n",
      "#   the database connection\n",
      "#   and the filters\n",
      "addedlines = scm.AddedLines(dbcon, basic_filters)\n",
      "removedlines = scm.RemovedLines(dbcon, basic_filters)"
     ],
     "language": "python",
     "metadata": {},
     "outputs": [],
     "prompt_number": 4
    },
    {
     "cell_type": "markdown",
     "metadata": {},
     "source": [
      "#### get_agg and get_ts methods\n",
      "\n",
      "In both cases, a dictionary is returned.\n",
      "\n",
      "A timeseries provides the following keys in the dictionary:\n",
      "\n",
      "* 'date': this is a list of human readable dates such as 'Jan 2013'\n",
      "* 'unixtime': this is a list of unixtime for each of the periods of analysis\n",
      "* period: this dictionary key will have the value of 'day', 'week', 'month' or 'year'. This contains an unique value to identify each of the periods of analysis.\n",
      "* 'id': list of incremental integers starting from 0\n",
      "* metric: this key will be named as the value of the metric, e.g.: 'commits'.\n",
      "\n",
      "Each of the keys contains a list of elements and all of those lists are of the same length.\n"
     ]
    },
    {
     "cell_type": "code",
     "collapsed": false,
     "input": [
      "# agg_commits is the aggregated value of commits between\n",
      "# the two specific dates: startdate and enddate and\n",
      "# for the whole OpenStack Foundation projects\n",
      "agg_addedlines = addedlines.get_agg()\n",
      "agg_removedlines = removedlines.get_agg()"
     ],
     "language": "python",
     "metadata": {},
     "outputs": [],
     "prompt_number": 5
    },
    {
     "cell_type": "code",
     "collapsed": false,
     "input": [
      "print agg_addedlines.keys()\n",
      "print agg_removedlines.keys()"
     ],
     "language": "python",
     "metadata": {},
     "outputs": [
      {
       "output_type": "stream",
       "stream": "stdout",
       "text": [
        "['added_lines']\n",
        "['removed_lines']\n"
       ]
      }
     ],
     "prompt_number": 6
    },
    {
     "cell_type": "code",
     "collapsed": false,
     "input": [
      "ts_addedlines = addedlines.get_ts()\n",
      "ts_removedlines = removedlines.get_ts()"
     ],
     "language": "python",
     "metadata": {},
     "outputs": [],
     "prompt_number": 7
    },
    {
     "cell_type": "code",
     "collapsed": false,
     "input": [
      "print ts_addedlines.keys()\n",
      "print ts_removedlines.keys()"
     ],
     "language": "python",
     "metadata": {},
     "outputs": [
      {
       "output_type": "stream",
       "stream": "stdout",
       "text": [
        "['date', 'unixtime', 'month', 'id', 'added_lines']\n",
        "['date', 'unixtime', 'month', 'id', 'removed_lines']\n"
       ]
      }
     ],
     "prompt_number": 9
    },
    {
     "cell_type": "markdown",
     "metadata": {},
     "source": [
      "And accessing to each of the keys, a list of values is obtained"
     ]
    },
    {
     "cell_type": "code",
     "collapsed": false,
     "input": [
      "# added and removed lines at the OpenStack Foundation projects\n",
      "# in 2013 and 2014\n",
      "print \"Added lines in the OpenStack Foundation projects: %d lines\" % (agg_addedlines[\"added_lines\"])\n",
      "print \"Removed lines in the OpenStack Foundation projects: %d lines\" % (agg_removedlines[\"removed_lines\"])"
     ],
     "language": "python",
     "metadata": {},
     "outputs": [
      {
       "output_type": "stream",
       "stream": "stdout",
       "text": [
        "Added lines in the OpenStack Foundation projects: 53270029 lines\n",
        "Removed lines in the OpenStack Foundation projects: 49072420 lines\n"
       ]
      }
     ],
     "prompt_number": 14
    },
    {
     "cell_type": "code",
     "collapsed": false,
     "input": [
      "# evolution of added and removed lines in the OpenStack Foundation\n",
      "print ts_addedlines[\"added_lines\"]\n",
      "print ts_removedlines[\"removed_lines\"]"
     ],
     "language": "python",
     "metadata": {},
     "outputs": [
      {
       "output_type": "stream",
       "stream": "stdout",
       "text": [
        "[Decimal('269480'), Decimal('332639'), Decimal('413564'), Decimal('561360'), Decimal('1779438'), Decimal('1123141'), Decimal('3422692'), Decimal('2073889'), Decimal('4056940'), Decimal('1985826'), Decimal('1411631'), Decimal('1544322'), Decimal('7848425'), Decimal('2670741'), Decimal('8525482'), Decimal('6046343'), Decimal('3286915'), Decimal('804626'), Decimal('918101'), Decimal('961492'), Decimal('788561'), Decimal('952535'), Decimal('542975'), Decimal('948911')]\n",
        "[Decimal('151206'), Decimal('175525'), Decimal('156606'), Decimal('398951'), Decimal('745452'), Decimal('751522'), Decimal('2232275'), Decimal('1343109'), Decimal('3093677'), Decimal('1062315'), Decimal('571184'), Decimal('1029799'), Decimal('814698'), Decimal('2135814'), Decimal('4274169'), Decimal('5321822'), Decimal('20542226'), Decimal('644854'), Decimal('623681'), Decimal('752481'), Decimal('639003'), Decimal('658143'), Decimal('502785'), Decimal('451123')]\n"
       ]
      }
     ],
     "prompt_number": 16
    },
    {
     "cell_type": "markdown",
     "metadata": {},
     "source": [
      "### Measuring Added and Removed lines: filter by repository"
     ]
    },
    {
     "cell_type": "code",
     "collapsed": false,
     "input": [
      "# Copy the basic_filter object\n",
      "repo_filters = basic_filters.copy()"
     ],
     "language": "python",
     "metadata": {},
     "outputs": [],
     "prompt_number": 18
    },
    {
     "cell_type": "code",
     "collapsed": false,
     "input": [
      "# Add a new filter to the analysis.\n",
      "# If this filter is used, all of the metrics using this\n",
      "# will provide information only about \"nova.git\"\n",
      "repo_filters.add_filter(MetricFilters.REPOSITORY, \"nova.git\")"
     ],
     "language": "python",
     "metadata": {},
     "outputs": [],
     "prompt_number": 19
    },
    {
     "cell_type": "code",
     "collapsed": false,
     "input": [
      "# Instantiate a new AddedLines and RemovedLines objects with the new filters\n",
      "repo_addedlines = scm.AddedLines(dbcon, repo_filters)\n",
      "repo_removedlines = scm.RemovedLines(dbcon, repo_filters)"
     ],
     "language": "python",
     "metadata": {},
     "outputs": [],
     "prompt_number": 20
    },
    {
     "cell_type": "code",
     "collapsed": false,
     "input": [
      "# Retrieve all Added and Removed lines for Nova in 2013 and 2014\n",
      "agg_addedlines = repo_addedlines.get_agg()\n",
      "agg_removedlines = repo_removedlines.get_agg()"
     ],
     "language": "python",
     "metadata": {},
     "outputs": [],
     "prompt_number": 21
    },
    {
     "cell_type": "code",
     "collapsed": false,
     "input": [
      "# Retrieve the evolution of the commits for Nova in 2013 and 2014\n",
      "ts_addedlines = repo_addedlines.get_ts()\n",
      "ts_removedlines = repo_removedlines.get_ts()"
     ],
     "language": "python",
     "metadata": {},
     "outputs": [],
     "prompt_number": 22
    },
    {
     "cell_type": "markdown",
     "metadata": {},
     "source": [
      "Let's print the aggregated and evolutionary values"
     ]
    },
    {
     "cell_type": "code",
     "collapsed": false,
     "input": [
      "print \"Number of added lines in the OpenStack Foundation in 2013 and 2014: %d lines\" % (agg_addedlines[\"added_lines\"])\n",
      "print \"Number of removed lines in the OpenStack Foundation in 2013 and 2014: %d lines\" % (agg_removedlines[\"removed_lines\"])"
     ],
     "language": "python",
     "metadata": {},
     "outputs": [
      {
       "output_type": "stream",
       "stream": "stdout",
       "text": [
        "Number of added lines in the OpenStack Foundation in 2013 and 2014: 4284907 lines\n",
        "Number of removed lines in the OpenStack Foundation in 2013 and 2014: 4306290 lines\n"
       ]
      }
     ],
     "prompt_number": 27
    },
    {
     "cell_type": "markdown",
     "metadata": {},
     "source": [
      "Thus, only Nova is responsible of approximately a 9% of the total activity developed in the OpenStack Foundation between 2013 and 2014 in terms of added lines."
     ]
    },
    {
     "cell_type": "code",
     "collapsed": false,
     "input": [
      "print ts_addedlines[\"added_lines\"]\n",
      "print ts_removedlines[\"removed_lines\"]"
     ],
     "language": "python",
     "metadata": {},
     "outputs": [
      {
       "output_type": "stream",
       "stream": "stdout",
       "text": [
        "[Decimal('38651'), Decimal('43133'), Decimal('21301'), Decimal('220008'), Decimal('347254'), Decimal('296025'), Decimal('255373'), Decimal('293712'), Decimal('189534'), Decimal('323611'), Decimal('240513'), Decimal('243811'), Decimal('150748'), Decimal('399801'), Decimal('316099'), Decimal('249064'), Decimal('150185'), Decimal('32554'), Decimal('24975'), Decimal('42585'), Decimal('39741'), Decimal('26255'), Decimal('298778'), Decimal('41196')]\n",
        "[Decimal('18539'), Decimal('16028'), Decimal('9056'), Decimal('189805'), Decimal('137241'), Decimal('215061'), Decimal('213294'), Decimal('224637'), Decimal('84350'), Decimal('212825'), Decimal('154658'), Decimal('205350'), Decimal('124069'), Decimal('377306'), Decimal('304143'), Decimal('341826'), Decimal('1000313'), Decimal('28875'), Decimal('19075'), Decimal('27392'), Decimal('25439'), Decimal('39343'), Decimal('282063'), Decimal('55602')]\n"
       ]
      }
     ],
     "prompt_number": 28
    },
    {
     "cell_type": "markdown",
     "metadata": {},
     "source": [
      "### Measuring Added and Removed lines: filter by organization"
     ]
    },
    {
     "cell_type": "code",
     "collapsed": false,
     "input": [
      "# Copy the basic_filter object\n",
      "org_filters = basic_filters.copy()"
     ],
     "language": "python",
     "metadata": {},
     "outputs": [],
     "prompt_number": 34
    },
    {
     "cell_type": "code",
     "collapsed": false,
     "input": [
      "# Add a new filter to the analysis.\n",
      "# If this filter is used, all of the metrics using this\n",
      "# will provide information only about \"HP\" as a company\n",
      "org_filters.add_filter(MetricFilters.COMPANY, \"HP\")"
     ],
     "language": "python",
     "metadata": {},
     "outputs": [],
     "prompt_number": 35
    },
    {
     "cell_type": "code",
     "collapsed": false,
     "input": [
      "# Instantiate two new objects with the new filters: AddedLines and RemovedLines\n",
      "org_addedlines = scm.AddedLines(dbcon, org_filters)\n",
      "org_removedlines = scm.RemovedLines(dbcon, org_filters)"
     ],
     "language": "python",
     "metadata": {},
     "outputs": [],
     "prompt_number": 36
    },
    {
     "cell_type": "code",
     "collapsed": false,
     "input": [
      "# Retrieve all added and removed lines for HP in 2013 and 2014\n",
      "agg_addedlines = org_addedlines.get_agg()\n",
      "agg_removedlines = org_removedlines.get_agg()"
     ],
     "language": "python",
     "metadata": {},
     "outputs": [],
     "prompt_number": 37
    },
    {
     "cell_type": "code",
     "collapsed": false,
     "input": [
      "# Retrieve the evolution of the added and removed lines for HP in 2013 and 2014\n",
      "ts_addedlines = org_addedlines.get_ts()\n",
      "ts_removedlines = org_removedlines.get_ts()"
     ],
     "language": "python",
     "metadata": {},
     "outputs": [],
     "prompt_number": 38
    },
    {
     "cell_type": "markdown",
     "metadata": {},
     "source": [
      "Let's print the aggregated and evolutionary values"
     ]
    },
    {
     "cell_type": "code",
     "collapsed": false,
     "input": [
      "print \"Number of lines added by HP in the OpenStack projects: %d lines\" % agg_addedlines[\"added_lines\"]\n",
      "print \"Number of lines removed by HP in the OPenStack projects: %d lines\" % agg_removedlines[\"removed_lines\"]"
     ],
     "language": "python",
     "metadata": {},
     "outputs": [
      {
       "output_type": "stream",
       "stream": "stdout",
       "text": [
        "Number of lines added by HP in the OpenStack projects: 1198144 lines\n",
        "Number of lines removed by HP in the OPenStack projects: 904563 lines\n"
       ]
      }
     ],
     "prompt_number": 39
    },
    {
     "cell_type": "code",
     "collapsed": false,
     "input": [
      "print ts_addedlines[\"added_lines\"]\n",
      "print ts_removedlines[\"removed_lines\"]"
     ],
     "language": "python",
     "metadata": {},
     "outputs": [
      {
       "output_type": "stream",
       "stream": "stdout",
       "text": [
        "[Decimal('29636'), Decimal('39026'), Decimal('31697'), Decimal('17813'), Decimal('136643'), Decimal('83314'), Decimal('40587'), Decimal('26713'), Decimal('22412'), Decimal('11925'), Decimal('21274'), Decimal('18092'), Decimal('24749'), Decimal('26676'), Decimal('41335'), Decimal('25867'), Decimal('17286'), Decimal('62456'), Decimal('47470'), Decimal('30785'), Decimal('59528'), Decimal('38407'), Decimal('294826'), Decimal('49627')]\n",
        "[Decimal('9343'), Decimal('12796'), Decimal('16923'), Decimal('26901'), Decimal('87297'), Decimal('71961'), Decimal('26862'), Decimal('12721'), Decimal('13472'), Decimal('4940'), Decimal('13642'), Decimal('7433'), Decimal('14250'), Decimal('14129'), Decimal('35525'), Decimal('21310'), Decimal('8465'), Decimal('19565'), Decimal('22404'), Decimal('12831'), Decimal('110093'), Decimal('31030'), Decimal('282018'), Decimal('28652')]\n"
       ]
      }
     ],
     "prompt_number": 40
    },
    {
     "cell_type": "markdown",
     "metadata": {},
     "source": [
      "### Measuring Added and Removed lines: filter by organization and repository"
     ]
    },
    {
     "cell_type": "code",
     "collapsed": false,
     "input": [
      "# Copy the basic_filter object\n",
      "org_repo_filters = basic_filters.copy()"
     ],
     "language": "python",
     "metadata": {},
     "outputs": [],
     "prompt_number": 46
    },
    {
     "cell_type": "code",
     "collapsed": false,
     "input": [
      "# Add two new filters to the analysis.\n",
      "# If this filter is used, all of the metrics using this\n",
      "# will provide information only about the activity\n",
      "# of HP in Nova.\n",
      "org_repo_filters.add_filter(MetricFilters.COMPANY, \"HP\")\n",
      "org_repo_filters.add_filter(MetricFilters.REPOSITORY, \"nova.git\")"
     ],
     "language": "python",
     "metadata": {},
     "outputs": [],
     "prompt_number": 47
    },
    {
     "cell_type": "code",
     "collapsed": false,
     "input": [
      "# Instantiate two new objects: AddedLines and RemovedLines with the new filters\n",
      "org_repo_addedlines = scm.AddedLines(dbcon, org_repo_filters)\n",
      "org_repo_removedlines = scm.RemovedLines(dbcon, org_repo_filters)"
     ],
     "language": "python",
     "metadata": {},
     "outputs": [],
     "prompt_number": 48
    },
    {
     "cell_type": "code",
     "collapsed": false,
     "input": [
      "# Retrieve added and removed lines for HP in Nova in 2013 and 2014\n",
      "agg_addedlines = org_repo_addedlines.get_agg()\n",
      "agg_removedlines = org_repo_removedlines.get_agg()"
     ],
     "language": "python",
     "metadata": {},
     "outputs": [],
     "prompt_number": 49
    },
    {
     "cell_type": "code",
     "collapsed": false,
     "input": [
      "# Retrieve the evolution of the added and removed lines for HP in 2013 and 2014\n",
      "ts_addedlines = org_repo_addedlines.get_ts()\n",
      "ts_removedlines = org_repo_removedlines.get_ts()"
     ],
     "language": "python",
     "metadata": {},
     "outputs": [],
     "prompt_number": 51
    },
    {
     "cell_type": "markdown",
     "metadata": {},
     "source": [
      "Let's print the aggregated and evolutionary values"
     ]
    },
    {
     "cell_type": "code",
     "collapsed": false,
     "input": [
      "print \"Number of added lines by HP in Nova: %d lines\" % agg_addedlines[\"added_lines\"]\n",
      "print \"Number of removed lines by HP in Nova: %d lines\" % agg_removedlines[\"removed_lines\"]"
     ],
     "language": "python",
     "metadata": {},
     "outputs": [
      {
       "output_type": "stream",
       "stream": "stdout",
       "text": [
        "Number of added lines by HP in Nova: 295809 lines\n",
        "Number of removed lines by HP in Nova: 282554 lines\n"
       ]
      }
     ],
     "prompt_number": 53
    },
    {
     "cell_type": "code",
     "collapsed": false,
     "input": [
      "print ts_addedlines[\"added_lines\"]\n",
      "print ts_removedlines[\"removed_lines\"]"
     ],
     "language": "python",
     "metadata": {},
     "outputs": [
      {
       "output_type": "stream",
       "stream": "stdout",
       "text": [
        "[Decimal('1658'), Decimal('2975'), Decimal('875'), Decimal('1264'), Decimal('1342'), Decimal('1443'), Decimal('1141'), Decimal('917'), Decimal('827'), Decimal('1020'), Decimal('1420'), Decimal('325'), Decimal('2025'), Decimal('1586'), Decimal('428'), Decimal('663'), Decimal('372'), Decimal('1993'), Decimal('1360'), Decimal('2226'), Decimal('1515'), Decimal('1145'), Decimal('266421'), Decimal('868')]\n",
        "[Decimal('546'), Decimal('803'), Decimal('145'), Decimal('944'), Decimal('1786'), Decimal('689'), Decimal('1353'), Decimal('558'), Decimal('339'), Decimal('405'), Decimal('437'), Decimal('1576'), Decimal('310'), Decimal('897'), Decimal('252'), Decimal('964'), Decimal('438'), Decimal('704'), Decimal('1439'), Decimal('287'), Decimal('1157'), Decimal('179'), Decimal('265789'), Decimal('557')]\n"
       ]
      }
     ],
     "prompt_number": 54
    },
    {
     "cell_type": "code",
     "collapsed": false,
     "input": [],
     "language": "python",
     "metadata": {},
     "outputs": []
    }
   ],
   "metadata": {}
  }
 ]
}