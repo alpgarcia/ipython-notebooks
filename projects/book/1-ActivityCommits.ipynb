{
 "metadata": {
  "name": ""
 },
 "nbformat": 3,
 "nbformat_minor": 0,
 "worksheets": [
  {
   "cells": [
    {
     "cell_type": "markdown",
     "metadata": {},
     "source": [
      "\n",
      "Measuring Activity and Community\n",
      "================================\n",
      "\n",
      "* Usual and basic metrics to measure activity per data source\n",
      "* Usual and basic metrics to measure community per data source\n",
      " * Available filters (merges, bots, repositories, companies, type of files, etc\n",
      "* Specific example: filtering commits by type of analysis\n",
      "* Specific example: the onion model and activity per timezone\n",
      "\n",
      "Introduction to metrics of activity and community\n",
      "-------------------------------------------------\n",
      "\n",
      "There are several options to measure basic activity. OpenHub or the basic GitHub metrics are some examples. However, there are usual limitations in the retrieval process given by the API and limitations in how to use the retrieved datasets. In addition, those analysis are only focused on versioning systems or at most adding information from ticketing systems.\n",
      "\n",
      "However, it is possible to analyze a lot of more data sources offered by open source projects: mailing lists, code review systems or asynchronous channels of communication are some examples.\n",
      "\n",
      "The following is a not complete list for illustration purposes of the basic pieces of information that can be obtained from each of the data sources. This can be seen as a way to understand in a first glimpse the activity and community around a community of developers:\n",
      "\n",
      "* Versioning systems such as Git, SVN or Mercurial:\n",
      " * Commits\n",
      " * Authors\n",
      " * Files\n",
      " * Added or removed lines\n",
      " * Repositories\n",
      "\n",
      "* Ticketing systems such as Bugzilla, Jira or GitHub tracker:\n",
      " * Opened and closed issues\n",
      " * People opening and closing issues\n",
      " * People participating in the discussiong within the issues\n",
      " * People changing the status of the issues\n",
      " * Time to close an issue\n",
      " * Trackers\n",
      " \n",
      "* Mailing lists:\n",
      " * Total emails sent to the mailing list\n",
      " * People participating in the discussions\n",
      " * Number of discussions (threads)\n",
      " * People initiating threads\n",
      " * People participating in each thread\n",
      " * Lenght of the threads\n",
      " \n",
      "* Code review systems:\n",
      " * Patchsets sent to the review system\n",
      " * People sending those patchsets to the system\n",
      " * People reviewing those patchsets\n",
      " * People participating in the review process\n",
      " * Time to close a review"
     ]
    },
    {
     "cell_type": "markdown",
     "metadata": {},
     "source": [
      "### Measuring commits"
     ]
    },
    {
     "cell_type": "markdown",
     "metadata": {},
     "source": [
      "#### Import Libraries"
     ]
    },
    {
     "cell_type": "code",
     "collapsed": false,
     "input": [
      "# Connection database library for Git activity\n",
      "from vizgrimoire.metrics.query_builder import SCMQuery\n",
      "# Metric Filters library\n",
      "from vizgrimoire.metrics.metrics_filter import MetricFilters\n",
      "# Git activity metrics available in the scm_metrics module\n",
      "import vizgrimoire.metrics.scm_metrics as scm"
     ],
     "language": "python",
     "metadata": {},
     "outputs": [],
     "prompt_number": 3
    },
    {
     "cell_type": "markdown",
     "metadata": {},
     "source": [
      "#### Instantiate database Object"
     ]
    },
    {
     "cell_type": "code",
     "collapsed": false,
     "input": [
      "# The databases used for this example are available at the OpenStack Foundation site\n",
      "# http://activity.openstack.org/dash/browser/data/db/\n",
      "dbcon = SCMQuery(\"root\", \"\", \"openstack_2015q1_git\", \"openstack_2015q1_git\")"
     ],
     "language": "python",
     "metadata": {},
     "outputs": [],
     "prompt_number": 4
    },
    {
     "cell_type": "markdown",
     "metadata": {},
     "source": [
      "#### Instantiate filters for the analysis"
     ]
    },
    {
     "cell_type": "code",
     "collapsed": false,
     "input": [
      "# dates to be used\n",
      "startdate = \"'2013-01-01'\"\n",
      "enddate = \"'2015-01-01'\"\n",
      "\n",
      "# Instantiate a basic filter\n",
      "basic_filters = MetricFilters(MetricFilters.PERIOD_MONTH, startdate, enddate)"
     ],
     "language": "python",
     "metadata": {},
     "outputs": [],
     "prompt_number": 5
    },
    {
     "cell_type": "markdown",
     "metadata": {},
     "source": [
      "#### Instantiate Commits class\n",
      "\n",
      "Most of the classes available under the scm module are metrics. Those can be instantiated using two values: the database connection and the specific filters needed for the analysis.\n",
      "\n",
      "Each of the metrics provides four methods:\n",
      "\n",
      "* get_agg: returns aggregated values of the metric for the specified filters\n",
      "* get_ts: returns a timeseries with the period specified in filters\n",
      "* get_trends: returns the trend of metric for the specified days\n",
      "* get_list: returns a list of elements for such metric"
     ]
    },
    {
     "cell_type": "code",
     "collapsed": false,
     "input": [
      "# The Commits metric needs of two objects:\n",
      "#   the database connection\n",
      "#   and the filters\n",
      "commits = scm.Commits(dbcon, basic_filters)"
     ],
     "language": "python",
     "metadata": {},
     "outputs": [],
     "prompt_number": 7
    },
    {
     "cell_type": "markdown",
     "metadata": {},
     "source": [
      "#### get_agg and get_ts methods\n",
      "\n",
      "In both cases, a dictionary is returned.\n",
      "\n",
      "A timeseries provides the following keys in the dictionary:\n",
      "\n",
      "* 'date': this is a list of human readable dates such as 'Jan 2013'\n",
      "* 'unixtime': this is a list of unixtime for each of the periods of analysis\n",
      "* period: this dictionary key will have the value of 'day', 'week', 'month' or 'year'. This contains an unique value to identify each of the periods of analysis.\n",
      "* 'id': list of incremental integers starting from 0\n",
      "* metric: this key will be named as the value of the metric, e.g.: 'commits'.\n",
      "\n",
      "Each of the keys contains a list of elements and all of those lists are of the same length.\n"
     ]
    },
    {
     "cell_type": "code",
     "collapsed": false,
     "input": [
      "# agg_commits is the aggregated value of commits between\n",
      "# the two specific dates: startdate and enddate and\n",
      "# for the whole OpenStack Foundation projects\n",
      "agg_commits = commits.get_agg()"
     ],
     "language": "python",
     "metadata": {},
     "outputs": [],
     "prompt_number": 9
    },
    {
     "cell_type": "code",
     "collapsed": false,
     "input": [
      "print agg_commits.keys()"
     ],
     "language": "python",
     "metadata": {},
     "outputs": [
      {
       "output_type": "stream",
       "stream": "stdout",
       "text": [
        "['commits']\n"
       ]
      }
     ],
     "prompt_number": 10
    },
    {
     "cell_type": "code",
     "collapsed": false,
     "input": [
      "ts_commits = commits.get_ts()"
     ],
     "language": "python",
     "metadata": {},
     "outputs": [],
     "prompt_number": 11
    },
    {
     "cell_type": "code",
     "collapsed": false,
     "input": [
      "print ts_commits.keys()"
     ],
     "language": "python",
     "metadata": {},
     "outputs": [
      {
       "output_type": "stream",
       "stream": "stdout",
       "text": [
        "['date', 'unixtime', 'month', 'id', 'commits']\n"
       ]
      }
     ],
     "prompt_number": 12
    },
    {
     "cell_type": "markdown",
     "metadata": {},
     "source": [
      "And accessing to each of the keys, a list of values is obtained"
     ]
    },
    {
     "cell_type": "code",
     "collapsed": false,
     "input": [
      "# all commits of the OpenStack Foundation\n",
      "# in 2013 and 2014\n",
      "agg_commits[\"commits\"]"
     ],
     "language": "python",
     "metadata": {},
     "outputs": [
      {
       "metadata": {},
       "output_type": "pyout",
       "prompt_number": 14,
       "text": [
        "97524L"
       ]
      }
     ],
     "prompt_number": 14
    },
    {
     "cell_type": "code",
     "collapsed": false,
     "input": [
      "# evolution of commits for the OpenStack Foundation\n",
      "print ts_commits[\"commits\"]"
     ],
     "language": "python",
     "metadata": {},
     "outputs": [
      {
       "output_type": "stream",
       "stream": "stdout",
       "text": [
        "[635L, 514L, 460L, 293L, 461L, 583L, 648L, 651L, 503L, 601L, 375L, 339L, 440L, 476L, 428L, 360L, 350L, 454L, 530L, 551L, 575L, 484L, 362L, 457L]\n"
       ]
      }
     ],
     "prompt_number": 28
    },
    {
     "cell_type": "markdown",
     "metadata": {},
     "source": [
      "### Measuring Commits: filter by repository"
     ]
    },
    {
     "cell_type": "code",
     "collapsed": false,
     "input": [
      "# Copy the basic_filter object\n",
      "repo_filters = basic_filters.copy()"
     ],
     "language": "python",
     "metadata": {},
     "outputs": [],
     "prompt_number": 17
    },
    {
     "cell_type": "code",
     "collapsed": false,
     "input": [
      "# Add a new filter to the analysis.\n",
      "# If this filter is used, all of the metrics using this\n",
      "# will provide information only about \"nova.git\"\n",
      "repo_filters.add_filter(MetricFilters.REPOSITORY, \"nova.git\")"
     ],
     "language": "python",
     "metadata": {},
     "outputs": [],
     "prompt_number": 19
    },
    {
     "cell_type": "code",
     "collapsed": false,
     "input": [
      "# Instantiate a new Commits object with the new filters\n",
      "repo_commits = scm.Commits(dbcon, repo_filters)"
     ],
     "language": "python",
     "metadata": {},
     "outputs": [],
     "prompt_number": 22
    },
    {
     "cell_type": "code",
     "collapsed": false,
     "input": [
      "# Retrieve all commits for Nova in 2013 and 2014\n",
      "agg_commits = repo_commits.get_agg()"
     ],
     "language": "python",
     "metadata": {},
     "outputs": [],
     "prompt_number": 23
    },
    {
     "cell_type": "code",
     "collapsed": false,
     "input": [
      "# Retrieve the evolution of the commits for Nova in 2013 and 2014\n",
      "ts_commits = repo_commits.get_ts()"
     ],
     "language": "python",
     "metadata": {},
     "outputs": [],
     "prompt_number": 25
    },
    {
     "cell_type": "markdown",
     "metadata": {},
     "source": [
      "Let's print the aggregated and evolutionary values"
     ]
    },
    {
     "cell_type": "code",
     "collapsed": false,
     "input": [
      "print agg_commits[\"commits\"]"
     ],
     "language": "python",
     "metadata": {},
     "outputs": [
      {
       "output_type": "stream",
       "stream": "stdout",
       "text": [
        "11530\n"
       ]
      }
     ],
     "prompt_number": 26
    },
    {
     "cell_type": "markdown",
     "metadata": {},
     "source": [
      "Thus, only Nova is responsible of approximately a 10% of the total activity developed in the OpenStack Foundation between 2013 and 2014"
     ]
    },
    {
     "cell_type": "code",
     "collapsed": false,
     "input": [
      "print ts_commits[\"commits\"]"
     ],
     "language": "python",
     "metadata": {},
     "outputs": [
      {
       "output_type": "stream",
       "stream": "stdout",
       "text": [
        "[635L, 514L, 460L, 293L, 461L, 583L, 648L, 651L, 503L, 601L, 375L, 339L, 440L, 476L, 428L, 360L, 350L, 454L, 530L, 551L, 575L, 484L, 362L, 457L]\n"
       ]
      }
     ],
     "prompt_number": 27
    },
    {
     "cell_type": "markdown",
     "metadata": {},
     "source": [
      "### Measuring Commits: filter by organization"
     ]
    },
    {
     "cell_type": "code",
     "collapsed": false,
     "input": [
      "# Copy the basic_filter object\n",
      "org_filters = basic_filters.copy()"
     ],
     "language": "python",
     "metadata": {},
     "outputs": [],
     "prompt_number": 29
    },
    {
     "cell_type": "code",
     "collapsed": false,
     "input": [
      "# Add a new filter to the analysis.\n",
      "# If this filter is used, all of the metrics using this\n",
      "# will provide information only about \"nova.git\"\n",
      "org_filters.add_filter(MetricFilters.COMPANY, \"Red Hat\")"
     ],
     "language": "python",
     "metadata": {},
     "outputs": [],
     "prompt_number": 36
    },
    {
     "cell_type": "code",
     "collapsed": false,
     "input": [
      "# Instantiate a new Commits object with the new filters\n",
      "org_commits = scm.Commits(dbcon, org_filters)"
     ],
     "language": "python",
     "metadata": {},
     "outputs": [],
     "prompt_number": 37
    },
    {
     "cell_type": "code",
     "collapsed": false,
     "input": [
      "# Retrieve all commits for Red Hat in 2013 and 2014\n",
      "agg_commits = org_commits.get_agg()"
     ],
     "language": "python",
     "metadata": {},
     "outputs": [],
     "prompt_number": 38
    },
    {
     "cell_type": "code",
     "collapsed": false,
     "input": [
      "# Retrieve the evolution of the commits for Red Hat in 2013 and 2014\n",
      "ts_commits = org_commits.get_ts()"
     ],
     "language": "python",
     "metadata": {},
     "outputs": [],
     "prompt_number": 39
    },
    {
     "cell_type": "markdown",
     "metadata": {},
     "source": [
      "Let's print the aggregated and evolutionary values"
     ]
    },
    {
     "cell_type": "code",
     "collapsed": false,
     "input": [
      "print agg_commits[\"commits\"]"
     ],
     "language": "python",
     "metadata": {},
     "outputs": [
      {
       "output_type": "stream",
       "stream": "stdout",
       "text": [
        "12837\n"
       ]
      }
     ],
     "prompt_number": 40
    },
    {
     "cell_type": "code",
     "collapsed": false,
     "input": [
      "print ts_commits[\"commits\"]"
     ],
     "language": "python",
     "metadata": {},
     "outputs": [
      {
       "output_type": "stream",
       "stream": "stdout",
       "text": [
        "[435L, 405L, 426L, 240L, 552L, 526L, 567L, 655L, 429L, 605L, 421L, 411L, 671L, 678L, 612L, 568L, 397L, 545L, 723L, 728L, 655L, 619L, 471L, 498L]\n"
       ]
      }
     ],
     "prompt_number": 41
    },
    {
     "cell_type": "markdown",
     "metadata": {},
     "source": [
      "### Measuring Commits: filter by organization and repository"
     ]
    },
    {
     "cell_type": "code",
     "collapsed": false,
     "input": [
      "# Copy the basic_filter object\n",
      "org_repo_filters = basic_filters.copy()"
     ],
     "language": "python",
     "metadata": {},
     "outputs": [],
     "prompt_number": 42
    },
    {
     "cell_type": "code",
     "collapsed": false,
     "input": [
      "# Add two new filters to the analysis.\n",
      "# If this filter is used, all of the metrics using this\n",
      "# will provide information only about the activity\n",
      "# of Red Hat in Nova.\n",
      "org_repo_filters.add_filter(MetricFilters.COMPANY, \"Red Hat\")\n",
      "org_repo_filters.add_filter(MetricFilters.REPOSITORY, \"nova.git\")"
     ],
     "language": "python",
     "metadata": {},
     "outputs": [],
     "prompt_number": 45
    },
    {
     "cell_type": "code",
     "collapsed": false,
     "input": [
      "# Instantiate a new Commits object with the new filters\n",
      "org_repo_commits = scm.Commits(dbcon, org_repo_filters)"
     ],
     "language": "python",
     "metadata": {},
     "outputs": [],
     "prompt_number": 47
    },
    {
     "cell_type": "code",
     "collapsed": false,
     "input": [
      "# Retrieve all commits for Red Hat in Nova in 2013 and 2014\n",
      "agg_commits = org_repo_commits.get_agg()"
     ],
     "language": "python",
     "metadata": {},
     "outputs": [],
     "prompt_number": 48
    },
    {
     "cell_type": "code",
     "collapsed": false,
     "input": [
      "# Retrieve the evolution of the commits for Red Hat in 2013 and 2014\n",
      "ts_commits = org_repo_commits.get_ts()"
     ],
     "language": "python",
     "metadata": {},
     "outputs": [],
     "prompt_number": 49
    },
    {
     "cell_type": "markdown",
     "metadata": {},
     "source": [
      "Let's print the aggregated and evolutionary values"
     ]
    },
    {
     "cell_type": "code",
     "collapsed": false,
     "input": [
      "print agg_commits[\"commits\"]"
     ],
     "language": "python",
     "metadata": {},
     "outputs": [
      {
       "output_type": "stream",
       "stream": "stdout",
       "text": [
        "1178\n"
       ]
      }
     ],
     "prompt_number": 50
    },
    {
     "cell_type": "code",
     "collapsed": false,
     "input": [
      "print ts_commits[\"commits\"]"
     ],
     "language": "python",
     "metadata": {},
     "outputs": [
      {
       "output_type": "stream",
       "stream": "stdout",
       "text": [
        "[95L, 74L, 55L, 16L, 33L, 46L, 42L, 88L, 27L, 54L, 37L, 23L, 61L, 43L, 36L, 46L, 14L, 72L, 61L, 48L, 64L, 43L, 35L, 65L]\n"
       ]
      }
     ],
     "prompt_number": 51
    },
    {
     "cell_type": "code",
     "collapsed": false,
     "input": [],
     "language": "python",
     "metadata": {},
     "outputs": []
    }
   ],
   "metadata": {}
  }
 ]
}