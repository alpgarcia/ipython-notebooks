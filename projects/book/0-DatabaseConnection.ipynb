{
 "metadata": {
  "name": ""
 },
 "nbformat": 3,
 "nbformat_minor": 0,
 "worksheets": [
  {
   "cells": [
    {
     "cell_type": "markdown",
     "metadata": {},
     "source": [
      "Database Connection\n",
      "===================\n",
      "\n",
      "Database connection is found in the query_builder module. This provides a transparency layer to the database.\n",
      "\n",
      "Main attributes:\n",
      "\n",
      "* Database user\n",
      "* Database password\n",
      "* Database name\n",
      "* Identities database\n",
      "* Host (127.0.0.1 by default)\n",
      "* Port (3306 by default)\n",
      "\n",
      "In order to instantiate an object of the database we need to provide at least the database user and password, the database name and the identities database.\n",
      "\n",
      "Each of the data sources is a class that inherits from the main class named as DSQuery. The following subclasses are supported:\n",
      "\n",
      "* SCMQuery: to manage source code management databases. Those databases are retrieved by CVSAnalY and have a common database schema. This support information from SVN, CVS, Git or Mercurial among others.\n",
      "* ITSQuery: to manage issue tracking systems databases. Those databases are all retrieved by Bicho and have a common database schema. This support information from GitHub tracker, Jira, Bugzilla and other trackers.\n",
      "* MLSQuery: to manage mailing lists systems databases. Those databases are retrieved by Mailing List Stats. This support Mailing lists with mboxes, FudForums and other forums products.\n",
      "* SCRQuery: to manage source code review systems databases. This database follows a similar scheman than the databases found in ITSQuery, but with code reviewe information.\n",
      "* IRCQuery: to manage IRC databases\n",
      "* MediawikiQuery: to manage activity in wikis such as Mediawiki. \n",
      "* QAForumsQuery: Question & Answer Forums are those data sources where users ask for specific issues and there are several answers. Examples of specific tools supported here are Askbot instances, Discourse or Stackoverflow.\n",
      "* DownloadsQuery: to manage downloads and website statistics.\n",
      "* PullpoQuery: to manage code review processes within GitHub.\n",
      "* ReleasesDSQuery: to manage releases by projects.\n"
     ]
    },
    {
     "cell_type": "markdown",
     "metadata": {},
     "source": [
      "Examples of use\n",
      "---------------"
     ]
    },
    {
     "cell_type": "markdown",
     "metadata": {},
     "source": [
      "### Source code management systems"
     ]
    },
    {
     "cell_type": "code",
     "collapsed": false,
     "input": [
      "# Import SCMQuery\n",
      "from vizgrimoire.metrics.query_builder import SCMQuery\n",
      "# There are other options such as ITSQuery, MLSQuery and others.\n",
      "\n",
      "# The databases used for this example are available at the OpenStack Foundation site\n",
      "# http://activity.openstack.org/dash/browser/data/db/\n",
      "dbcon = SCMQuery(\"root\", \"\", \"openstack_2015q1_git\", \"openstack_2015q1_git\")"
     ],
     "language": "python",
     "metadata": {},
     "outputs": [],
     "prompt_number": 2
    },
    {
     "cell_type": "markdown",
     "metadata": {},
     "source": [
      "### Issue tracking systems"
     ]
    },
    {
     "cell_type": "code",
     "collapsed": false,
     "input": [
      "# Import ITSQuery\n",
      "from vizgrimoire.metrics.query_builder import ITSQuery\n",
      "\n",
      "# The databases used for this example are available at the OpenStack Foundation site\n",
      "# http://activity.openstack.org/dash/browser/data/db/\n",
      "dbcon = ITSQuery(\"root\", \"\", \"openstack_2015q1_tickets\", \"openstack_2015q1_git\")"
     ],
     "language": "python",
     "metadata": {},
     "outputs": []
    },
    {
     "cell_type": "markdown",
     "metadata": {},
     "source": [
      "Other considerations\n",
      "--------------------\n",
      "\n",
      "Each of the presented classes understand the several databases schemas and all of those schemas use as a centralized identities manager the identities database. This database was initially included within the source code management database given that this was the main type of repository to analyze by the library. However, that identities database is currently hosted in a new database.\n",
      "\n",
      "Regarding to the query building process, each of the main classes contains two main methods:\n",
      "\n",
      "* GetSQLReportFrom\n",
      "* GetSQLReportWhere\n",
      "\n",
      "The former provides the list of tables necessary for each of the analysis, while the latter provides the list of filters necessary to build the final query.\n",
      "\n",
      "Indeed, each of classes contain a list of extra methods that are called by the GetSQLReportFrom/Where methods. Those are the basic query builders and the common analysis are found in the following list:\n",
      "\n",
      "* By repository\n",
      "* By organizations\n",
      "* By project\n",
      "* By country\n",
      "* By domain\n",
      "\n",
      "Other types of analysis available to build queries are the following ones:\n",
      "\n",
      "* For source code management systems:\n",
      " * By type of file (code, documentation, etc)\n",
      " * By log message left by a developer\n",
      " * By branch (master or others)\n",
      " * By module (typically a directory)\n",
      " \n",
      "* For issue tracking systems\n",
      " * By type of issue (bug, feature request, etc)\n",
      " \n"
     ]
    }
   ],
   "metadata": {}
  }
 ]
}