{
 "metadata": {
  "name": ""
 },
 "nbformat": 3,
 "nbformat_minor": 0,
 "worksheets": [
  {
   "cells": [
    {
     "cell_type": "markdown",
     "metadata": {},
     "source": [
      "### Measuring Efficiency Closing Tickets\n",
      "\n",
      "The Backlog Management Index is used as a measurement to check how good the maintenance process is carried out by the project.\n",
      "\n",
      "This measures the efficiency dealing with tickets. BMI is calculated as the number of closed tickets out of the opened tickets in a given period. Cotinuous values under 1 or 100, depending on the selected scale, shows low performance given that there are a lot of remaining tickets still opened. Continuous values close to 1 or greater than 1 shows a better performance. This would indicate that the project is able to close faster than issues come to the project.\n",
      "\n",
      "Extra information can be obtained in the book by Stephan H. Kan, Metrics and Models in Software Quality Engineering. Chapter 4. Section 3.1."
     ]
    },
    {
     "cell_type": "markdown",
     "metadata": {},
     "source": [
      "#### Import Libraries"
     ]
    },
    {
     "cell_type": "code",
     "collapsed": false,
     "input": [
      "# Connection database library for issues activity\n",
      "from vizgrimoire.metrics.query_builder import ITSQuery\n",
      "# Metric Filters library\n",
      "from vizgrimoire.metrics.metrics_filter import MetricFilters\n",
      "# Issues metrics\n",
      "import vizgrimoire.metrics.its_metrics as its\n",
      "# Issues extra\n",
      "from vizgrimoire.ITS import ITS"
     ],
     "language": "python",
     "metadata": {},
     "outputs": [],
     "prompt_number": 12
    },
    {
     "cell_type": "markdown",
     "metadata": {},
     "source": [
      "#### Instantiate database Object"
     ]
    },
    {
     "cell_type": "code",
     "collapsed": false,
     "input": [
      "# The databases used for this example are available at the OpenStack Foundation site\n",
      "# http://activity.openstack.org/dash/browser/data/db/\n",
      "dbcon = ITSQuery(\"root\", \"\", \"openstack_2015q1_tickets\", \"openstack_2015q1_git\")"
     ],
     "language": "python",
     "metadata": {},
     "outputs": [],
     "prompt_number": 13
    },
    {
     "cell_type": "markdown",
     "metadata": {},
     "source": [
      "#### Instantiate filters for the analysis"
     ]
    },
    {
     "cell_type": "code",
     "collapsed": false,
     "input": [
      "# dates to be used\n",
      "startdate = \"'2013-01-01'\"\n",
      "enddate = \"'2015-01-01'\"\n",
      "\n",
      "# Instantiate a basic filter\n",
      "basic_filters = MetricFilters(MetricFilters.PERIOD_MONTH, startdate, enddate)\n",
      "\n",
      "# Init the specific backend\n",
      "ITS.set_backend(\"launchpad\")"
     ],
     "language": "python",
     "metadata": {},
     "outputs": [],
     "prompt_number": 14
    },
    {
     "cell_type": "markdown",
     "metadata": {},
     "source": [
      "#### Instantiate BMIIndex class\n",
      "\n",
      "Most of the classes available under the scm module are metrics. Those can be instantiated using two values: the database connection and the specific filters needed for the analysis.\n",
      "\n",
      "Each of the metrics provides four methods:\n",
      "\n",
      "* get_agg: returns aggregated values of the metric for the specified filters\n",
      "* get_ts: returns a timeseries with the period specified in filters\n",
      "* get_trends: returns the trend of metric for the specified days\n",
      "* get_list: returns a list of elements for such metric"
     ]
    },
    {
     "cell_type": "code",
     "collapsed": false,
     "input": [
      "# The BMIIndex metric needs of two objects:\n",
      "#   the database connection\n",
      "#   and the filters\n",
      "bmi = its.BMIIndex(dbcon, basic_filters)"
     ],
     "language": "python",
     "metadata": {},
     "outputs": [],
     "prompt_number": 15
    },
    {
     "cell_type": "markdown",
     "metadata": {},
     "source": [
      "#### get_agg and get_ts methods\n",
      "\n",
      "In both cases, a dictionary is returned.\n",
      "\n",
      "A timeseries provides the following keys in the dictionary:\n",
      "\n",
      "* 'date': this is a list of human readable dates such as 'Jan 2013'\n",
      "* 'unixtime': this is a list of unixtime for each of the periods of analysis\n",
      "* period: this dictionary key will have the value of 'day', 'week', 'month' or 'year'. This contains an unique value to identify each of the periods of analysis.\n",
      "* 'id': list of incremental integers starting from 0\n",
      "* metric: this key will be named as the value of the metric, e.g.: 'commits'.\n",
      "\n",
      "Each of the keys contains a list of elements and all of those lists are of the same length.\n"
     ]
    },
    {
     "cell_type": "markdown",
     "metadata": {},
     "source": [
      "Three values are returned: occasional, core and regular."
     ]
    },
    {
     "cell_type": "code",
     "collapsed": false,
     "input": [
      "# agg_bmi is the aggregated value of BMI between\n",
      "# the two specific dates: startdate and enddate and\n",
      "# for the whole OpenStack Foundation projects\n",
      "agg_bmi = bmi.get_agg()"
     ],
     "language": "python",
     "metadata": {},
     "outputs": [],
     "prompt_number": 16
    },
    {
     "cell_type": "code",
     "collapsed": false,
     "input": [
      "print agg_bmi.keys()"
     ],
     "language": "python",
     "metadata": {},
     "outputs": [
      {
       "output_type": "stream",
       "stream": "stdout",
       "text": [
        "['bmitickets']\n"
       ]
      }
     ],
     "prompt_number": 17
    },
    {
     "cell_type": "code",
     "collapsed": false,
     "input": [
      "agg_bmi[\"bmitickets\"]"
     ],
     "language": "python",
     "metadata": {},
     "outputs": [
      {
       "metadata": {},
       "output_type": "pyout",
       "prompt_number": 18,
       "text": [
        "47.54146270183386"
       ]
      }
     ],
     "prompt_number": 18
    },
    {
     "cell_type": "markdown",
     "metadata": {},
     "source": [
      "The 47.54 value means that the OpenStack Community for its whole life was able to close around a 47% of the total amount of tickets that arrives to the community."
     ]
    },
    {
     "cell_type": "code",
     "collapsed": false,
     "input": [
      "# ts_bmi is the timeseries per month for the BMI\n",
      "# values between startdate and enddate\n",
      "ts_bmi = bmi.get_ts()"
     ],
     "language": "python",
     "metadata": {},
     "outputs": [],
     "prompt_number": 19
    },
    {
     "cell_type": "code",
     "collapsed": false,
     "input": [
      "print ts_bmi"
     ],
     "language": "python",
     "metadata": {},
     "outputs": [
      {
       "output_type": "stream",
       "stream": "stdout",
       "text": [
        "{'bmitickets': [61.917098445595855, 56.7032967032967, 70.56313993174061, 48.82198952879581, 52.39253852392538, 56.68449197860963, 56.02134146341463, 55.23809523809524, 44.07814407814408, 53.87224420576597, 40.345649582836714, 53.07409353652128, 50.21834061135371, 55.650118203309695, 59.45716709075488, 50.79288803459875, 45.449406444318825, 54.24671385237614, 53.2590051457976, 59.89407799711122, 63.25852036575229, 54.73465140478668, 51.858974358974365, 57.0264765784114]}\n"
       ]
      }
     ],
     "prompt_number": 21
    },
    {
     "cell_type": "code",
     "collapsed": false,
     "input": [],
     "language": "python",
     "metadata": {},
     "outputs": []
    }
   ],
   "metadata": {}
  }
 ]
}