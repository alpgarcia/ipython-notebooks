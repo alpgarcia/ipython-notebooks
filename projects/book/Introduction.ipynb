{
 "metadata": {
  "name": ""
 },
 "nbformat": 3,
 "nbformat_minor": 0,
 "worksheets": [
  {
   "cells": [
    {
     "cell_type": "markdown",
     "metadata": {},
     "source": [
      "Introduction\n",
      "============\n",
      "\n",
      "Introduction to libre software communities\n",
      "\n",
      "* People, people and people\n",
      "* Infrastructure publicly available (typical infrastructure)\n",
      "* Analyzing that publicly available infrastructure (list of data sources)\n",
      "* Quantitative studies of interest about libre software communities (activity, community and process)\n",
      "* Risks of participating in libre software communities\n",
      "\n",
      "\n",
      "Libre software communities are about people. People with a common mission to accomplish specific goals. Developers, maintainers, designers, lawyers and a long list of roles that help libre software communities to reach their goal.\n",
      "\n",
      "And all of these members use a common infrastructure, in most of the cases opened to third parties, that aims at attracting more and more people to participate with them. Indeed transparency is an important fact of libre software communities, where all of the information is public to anyone interested in the project. \n",
      "\n",
      "And thanks to this publicly available infrastructure, it is possible to understand the software development process of these communities. Usual infrastructure used by libre software communities takes advantage of:\n",
      "\n",
      "* Source code management systems: Git, Mercurial or SVN are some examples of typical infrastructure used for versioning systems. This infrastructure helps to manage development activity.\n",
      "* Mailing lists: Channels of communication that leave traces of information such as mboxes.\n",
      "* Asynchronous communication: IRC channels or Slack.\n",
      "* Issue tracking systems: Bugzilla, Jira, GitHub tracker.\n",
      "* Code review systems: Gerrit, home developed applications, Phabricator.\n",
      "* Wikis\n",
      "\n",
      "\n"
     ]
    },
    {
     "cell_type": "code",
     "collapsed": false,
     "input": [],
     "language": "python",
     "metadata": {},
     "outputs": []
    }
   ],
   "metadata": {}
  }
 ]
}