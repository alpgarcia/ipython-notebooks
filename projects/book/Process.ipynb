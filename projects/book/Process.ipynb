{
 "metadata": {
  "name": ""
 },
 "nbformat": 3,
 "nbformat_minor": 0,
 "worksheets": [
  {
   "cells": [
    {
     "cell_type": "markdown",
     "metadata": {},
     "source": [
      "Process\n",
      "=======\n",
      "\n",
      "* What does process mean?\n",
      "* Measuring process in libre software communities\n",
      "* Specific example: Gerrit and time to merge\n",
      "\n",
      "\n",
      "Basic Metrics\n",
      "-------------\n",
      "\n",
      "* Time to merge\n",
      "* BMI\n",
      "* Time waiting for a reviewer or a submitter action\n"
     ]
    }
   ],
   "metadata": {}
  }
 ]
}