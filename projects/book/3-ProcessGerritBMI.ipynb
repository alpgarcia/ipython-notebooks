{
 "metadata": {
  "name": ""
 },
 "nbformat": 3,
 "nbformat_minor": 0,
 "worksheets": [
  {
   "cells": [
    {
     "cell_type": "markdown",
     "metadata": {},
     "source": [
      "### Measuring Efficiency Closing Reviews\n",
      "\n",
      "The Backlog Management Index is used as a measurement to check how good the maintenance process is carried out by the project.\n",
      "\n",
      "This measures the efficiency dealing with tickets. BMI is calculated as the number of closed tickets out of the opened tickets in a given period. Cotinuous values under 1 or 100, depending on the selected scale, shows low performance given that there are a lot of remaining tickets still opened. Continuous values close to 1 or greater than 1 shows a better performance. This would indicate that the project is able to close faster than issues come to the project.\n",
      "\n",
      "Extra information can be obtained in the book by Stephan H. Kan, Metrics and Models in Software Quality Engineering. Chapter 4. Section 3.1.\n",
      "\n",
      "This metric is an extension of the BMI but focused on the Gerrit activity. As an example, this is being used in the OpenStack Community as REI: Review Efficiency Index.\n",
      "\n",
      "In addition to this, it is worth mentioning that there are two final states for reviews in Gerrit: Closed or Abandoned. Both are taking into account when noting that a review is Closed."
     ]
    },
    {
     "cell_type": "markdown",
     "metadata": {},
     "source": [
      "#### Import Libraries"
     ]
    },
    {
     "cell_type": "code",
     "collapsed": false,
     "input": [
      "# Connection database library for gerrit activity\n",
      "from vizgrimoire.metrics.query_builder import SCRQuery\n",
      "# Metric Filters library\n",
      "from vizgrimoire.metrics.metrics_filter import MetricFilters\n",
      "# Issues metrics\n",
      "import vizgrimoire.metrics.scr_metrics as scr"
     ],
     "language": "python",
     "metadata": {},
     "outputs": [],
     "prompt_number": 2
    },
    {
     "cell_type": "markdown",
     "metadata": {},
     "source": [
      "#### Instantiate database Object"
     ]
    },
    {
     "cell_type": "code",
     "collapsed": false,
     "input": [
      "# The databases used for this example are available at the OpenStack Foundation site\n",
      "# http://activity.openstack.org/dash/browser/data/db/\n",
      "dbcon = SCRQuery(\"root\", \"\", \"openstack_2015q1_gerrit\", \"openstack_2015q1_git\")"
     ],
     "language": "python",
     "metadata": {},
     "outputs": [],
     "prompt_number": 3
    },
    {
     "cell_type": "markdown",
     "metadata": {},
     "source": [
      "#### Instantiate filters for the analysis"
     ]
    },
    {
     "cell_type": "code",
     "collapsed": false,
     "input": [
      "# dates to be used\n",
      "startdate = \"'2013-01-01'\"\n",
      "enddate = \"'2015-01-01'\"\n",
      "\n",
      "# Instantiate a basic filter\n",
      "basic_filters = MetricFilters(MetricFilters.PERIOD_MONTH, startdate, enddate)\n"
     ],
     "language": "python",
     "metadata": {},
     "outputs": [],
     "prompt_number": 4
    },
    {
     "cell_type": "markdown",
     "metadata": {},
     "source": [
      "#### Instantiate BMISCR class\n",
      "\n",
      "Most of the classes available under the scm module are metrics. Those can be instantiated using two values: the database connection and the specific filters needed for the analysis.\n",
      "\n",
      "Each of the metrics provides four methods:\n",
      "\n",
      "* get_agg: returns aggregated values of the metric for the specified filters\n",
      "* get_ts: returns a timeseries with the period specified in filters\n",
      "* get_trends: returns the trend of metric for the specified days\n",
      "* get_list: returns a list of elements for such metric"
     ]
    },
    {
     "cell_type": "code",
     "collapsed": false,
     "input": [
      "# The BMISCR metric needs of two objects:\n",
      "#   the database connection\n",
      "#   and the filters\n",
      "bmi = scr.BMISCR(dbcon, basic_filters)"
     ],
     "language": "python",
     "metadata": {},
     "outputs": [],
     "prompt_number": 5
    },
    {
     "cell_type": "markdown",
     "metadata": {},
     "source": [
      "#### get_agg and get_ts methods\n",
      "\n",
      "In both cases, a dictionary is returned.\n",
      "\n",
      "A timeseries provides the following keys in the dictionary:\n",
      "\n",
      "* 'date': this is a list of human readable dates such as 'Jan 2013'\n",
      "* 'unixtime': this is a list of unixtime for each of the periods of analysis\n",
      "* period: this dictionary key will have the value of 'day', 'week', 'month' or 'year'. This contains an unique value to identify each of the periods of analysis.\n",
      "* 'id': list of incremental integers starting from 0\n",
      "* metric: this key will be named as the value of the metric, e.g.: 'commits'.\n",
      "\n",
      "Each of the keys contains a list of elements and all of those lists are of the same length.\n"
     ]
    },
    {
     "cell_type": "code",
     "collapsed": false,
     "input": [
      "# agg_bmi is the aggregated value of BMI between\n",
      "# the two specific dates: startdate and enddate and\n",
      "# for the whole OpenStack Foundation projects\n",
      "agg_bmi = bmi.get_agg()"
     ],
     "language": "python",
     "metadata": {},
     "outputs": [],
     "prompt_number": 6
    },
    {
     "cell_type": "code",
     "collapsed": false,
     "input": [
      "print agg_bmi.keys()"
     ],
     "language": "python",
     "metadata": {},
     "outputs": [
      {
       "output_type": "stream",
       "stream": "stdout",
       "text": [
        "['bmiscr']\n"
       ]
      }
     ],
     "prompt_number": 7
    },
    {
     "cell_type": "code",
     "collapsed": false,
     "input": [
      "agg_bmi[\"bmiscr\"]"
     ],
     "language": "python",
     "metadata": {},
     "outputs": [
      {
       "metadata": {},
       "output_type": "pyout",
       "prompt_number": 9,
       "text": [
        "0.9537748805936495"
       ]
      }
     ],
     "prompt_number": 9
    },
    {
     "cell_type": "markdown",
     "metadata": {},
     "source": [
      "The 0.95 value means that the OpenStack Community for its whole life was able to close around a 95% of the total amount of reviews that arrives to the community."
     ]
    },
    {
     "cell_type": "code",
     "collapsed": false,
     "input": [
      "# ts_bmi is the timeseries per month for the BMI\n",
      "# values between startdate and enddate\n",
      "ts_bmi = bmi.get_ts()"
     ],
     "language": "python",
     "metadata": {},
     "outputs": [],
     "prompt_number": 10
    },
    {
     "cell_type": "code",
     "collapsed": false,
     "input": [
      "print ts_bmi"
     ],
     "language": "python",
     "metadata": {},
     "outputs": [
      {
       "output_type": "stream",
       "stream": "stdout",
       "text": [
        "{'unixtime': [u'1356998400', u'1359676800', u'1362096000', u'1364774400', u'1367366400', u'1370044800', u'1372636800', u'1375315200', u'1377993600', u'1380585600', u'1383264000', u'1385856000', u'1388534400', u'1391212800', u'1393632000', u'1396310400', u'1398902400', u'1401580800', u'1404172800', u'1406851200', u'1409529600', u'1412121600', u'1414800000', u'1417392000'], 'month': [24157L, 24158L, 24159L, 24160L, 24161L, 24162L, 24163L, 24164L, 24165L, 24166L, 24167L, 24168L, 24169L, 24170L, 24171L, 24172L, 24173L, 24174L, 24175L, 24176L, 24177L, 24178L, 24179L, 24180L], 'bmiscr': [0.83755819968960166, 0.9655002464268112, 0.97573656845753898, 0.98307952622673433, 0.94179357021996613, 0.90882178804026048, 0.95453428360776604, 0.96756176154672391, 0.9715812484819043, 0.97721151854153721, 0.90856814261069585, 0.92645314353499408, 0.90761942360836956, 0.93508527671423602, 1.0316240843308915, 0.92085934630921773, 0.86334641805691859, 1.0158094435075886, 0.87355669127389746, 0.96186028410196533, 1.0068337129840548, 0.99889453902277248, 0.99593368783234282, 1.0144230769230769], 'date': ['Jan 2013', 'Feb 2013', 'Mar 2013', 'Apr 2013', 'May 2013', 'Jun 2013', 'Jul 2013', 'Aug 2013', 'Sep 2013', 'Oct 2013', 'Nov 2013', 'Dec 2013', 'Jan 2014', 'Feb 2014', 'Mar 2014', 'Apr 2014', 'May 2014', 'Jun 2014', 'Jul 2014', 'Aug 2014', 'Sep 2014', 'Oct 2014', 'Nov 2014', 'Dec 2014'], 'id': [0, 1, 2, 3, 4, 5, 6, 7, 8, 9, 10, 11, 12, 13, 14, 15, 16, 17, 18, 19, 20, 21, 22, 23]}\n"
       ]
      }
     ],
     "prompt_number": 11
    },
    {
     "cell_type": "code",
     "collapsed": false,
     "input": [],
     "language": "python",
     "metadata": {},
     "outputs": []
    }
   ],
   "metadata": {}
  }
 ]
}