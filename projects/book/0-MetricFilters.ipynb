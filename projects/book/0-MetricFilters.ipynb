{
 "metadata": {
  "name": ""
 },
 "nbformat": 3,
 "nbformat_minor": 0,
 "worksheets": [
  {
   "cells": [
    {
     "cell_type": "markdown",
     "metadata": {},
     "source": [
      "Metric Filters\n",
      "==============\n",
      "\n",
      "MetricFilters is found in the metric_filters module. This provides a transparency layer to deal with the potential filters used by GrimoireLib.\n",
      "\n",
      "Main attributes:\n",
      "\n",
      "* 'period': Period of analysis: 'day', 'week', 'month' and 'year'\n",
      " * It is possible to use constants such as PERIOD_DAY, PERIOD_WEEK, PERIOD_MONTH and PERIOD_YEAR\n",
      "* 'startdate': initial date of analysis\n",
      "* 'enddate': final date of analysis\n",
      "* 'type_analysis': this is a list of all of the available filters by data source. By default this parameter is initiated to None.\n",
      "* 'npeople': number of people to appear in the list of developers or members. By default this parameter is initialized to 10.\n",
      "* 'people_out': list of members to ignore in the analysis. As an example, there may appear cases where bots covered up to a 50% of the total activity in the community. Adding those to this parameter in a list format, will allow to always ignore those in any type of analysis.\n",
      "* 'companies_out': similar behaviour as people_out.\n",
      "* 'global_filter': contains information about filters that need to be always applied. An example related to this would be to base all of the analysis on a specific type of issue. Or for instance if we are interested in ignoring commits with specific automated messages.\n",
      "\n",
      "In order to instantiate a filters object we need to provide at least the period, startdate and enddate parameters. For this, there are two methods available:\n",
      "\n",
      "* add_period(self, typeof_period): that allows to add the aforementioned periods and checks that those are the correct ones.\n",
      "* add_filter(self, typeof_analysis, value): that allows to add specific filters to the 'type_analysis' parameter.\n",
      "\n",
      "\n",
      "Indeed, each of metrics allow to be filtered by the following list conditions:\n",
      "\n",
      "* By repository:\n",
      " * constant: MetricFilters.REPOSITORY\n",
      "* By organizations\n",
      " * constant: MetricFilters.COMPANY\n",
      "* By project\n",
      " * constant: MetricFilters.PROJECT\n",
      "* By country:\n",
      " * constant: MetricFilters.COUNTRY\n",
      "* By domain:\n",
      " * constant: MetricFilters.PEOPLE\n",
      "\n",
      "Other types of analysis available to build queries are the following ones:\n",
      "\n",
      "* For source code management systems:\n",
      " * By type of file (code, documentation, etc):\n",
      "  * constant: MetricFilters.SCM_FILETYPE\n",
      " * By log message left by a developer:\n",
      "  * constant: MetricFilters.SCM_LOGMESSAGE\n",
      " * By branch (master or others):\n",
      "  * constant: MetricFilters.BRANCH\n",
      " * By module (typically a directory)\n",
      "  * constant: MetricFilters.MODULE\n",
      " \n",
      "* For issue tracking systems\n",
      " * By type of issue (bug, feature request, etc)\n",
      "  * constant: MetricFilters.ITS_TICKET_TYPE"
     ]
    },
    {
     "cell_type": "markdown",
     "metadata": {},
     "source": [
      "Examples of use\n",
      "---------------"
     ]
    },
    {
     "cell_type": "markdown",
     "metadata": {},
     "source": [
      "### Instantiate a basic filter object"
     ]
    },
    {
     "cell_type": "code",
     "collapsed": false,
     "input": [
      "from vizgrimoire.metrics.metrics_filter import MetricFilters\n",
      "\n",
      "startdate = \"'2014-01-01'\"\n",
      "enddate = \"'2015-01-01'\"\n",
      "\n",
      "filters = MetricFilters(MetricFilters.PERIOD_MONTH, startdate, enddate)"
     ],
     "language": "python",
     "metadata": {},
     "outputs": [],
     "prompt_number": 4
    },
    {
     "cell_type": "markdown",
     "metadata": {},
     "source": [
      "### Instantiated values"
     ]
    },
    {
     "cell_type": "code",
     "collapsed": false,
     "input": [
      "print filters.period"
     ],
     "language": "python",
     "metadata": {},
     "outputs": [
      {
       "output_type": "stream",
       "stream": "stdout",
       "text": [
        "month\n"
       ]
      }
     ],
     "prompt_number": 6
    },
    {
     "cell_type": "code",
     "collapsed": false,
     "input": [
      "print filters.startdate"
     ],
     "language": "python",
     "metadata": {},
     "outputs": [
      {
       "output_type": "stream",
       "stream": "stdout",
       "text": [
        "'2014-01-01'\n"
       ]
      }
     ],
     "prompt_number": 7
    },
    {
     "cell_type": "code",
     "collapsed": false,
     "input": [
      "print filters.enddate"
     ],
     "language": "python",
     "metadata": {},
     "outputs": [
      {
       "output_type": "stream",
       "stream": "stdout",
       "text": [
        "'2015-01-01'\n"
       ]
      }
     ],
     "prompt_number": 8
    },
    {
     "cell_type": "markdown",
     "metadata": {},
     "source": [
      "### Adding a filter by repository"
     ]
    },
    {
     "cell_type": "code",
     "collapsed": false,
     "input": [
      "filters.add_filter(MetricFilters.REPOSITORY, \"nova.git\")"
     ],
     "language": "python",
     "metadata": {},
     "outputs": [],
     "prompt_number": 9
    },
    {
     "cell_type": "markdown",
     "metadata": {},
     "source": [
      "### Instantiated values"
     ]
    },
    {
     "cell_type": "code",
     "collapsed": false,
     "input": [
      "print filters.type_analysis"
     ],
     "language": "python",
     "metadata": {},
     "outputs": [
      {
       "output_type": "stream",
       "stream": "stdout",
       "text": [
        "['repository', \"'nova.git'\"]\n"
       ]
      }
     ],
     "prompt_number": 12
    },
    {
     "cell_type": "markdown",
     "metadata": {},
     "source": [
      "### Set npeople list to 20"
     ]
    },
    {
     "cell_type": "code",
     "collapsed": false,
     "input": [
      "filters.npeople = 20"
     ],
     "language": "python",
     "metadata": {},
     "outputs": [],
     "prompt_number": 13
    },
    {
     "cell_type": "markdown",
     "metadata": {},
     "source": [
      "### Instantiated values"
     ]
    },
    {
     "cell_type": "code",
     "collapsed": false,
     "input": [
      "print filters.npeople"
     ],
     "language": "python",
     "metadata": {},
     "outputs": [
      {
       "output_type": "stream",
       "stream": "stdout",
       "text": [
        "20\n"
       ]
      }
     ],
     "prompt_number": 14
    },
    {
     "cell_type": "code",
     "collapsed": false,
     "input": [],
     "language": "python",
     "metadata": {},
     "outputs": []
    }
   ],
   "metadata": {}
  }
 ]
}