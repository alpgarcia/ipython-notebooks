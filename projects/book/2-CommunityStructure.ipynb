{
 "metadata": {
  "name": ""
 },
 "nbformat": 3,
 "nbformat_minor": 0,
 "worksheets": [
  {
   "cells": [
    {
     "cell_type": "markdown",
     "metadata": {},
     "source": [
      "### Characterization of Developers: The Onion Model\n",
      "\n",
      "A common way to characterize developers in open source communities is the so called \"onion model\". This is based on the total amount of commits done by each of the developers.\n",
      "\n",
      "This example uses a specific characterization of developers that follows the 80%-20%. This means that around a 80% of the total activity in a repository is done by a 20% of the community.\n",
      "\n",
      "Developers are divided into core, regular and ocassional:\n",
      "\n",
      "* Core developers are defined as those doing up to a 80% of the total commits\n",
      "* Regular developers are defind as those doing from the 80% to a 99% of the total commits\n",
      "* Occasional developers are defined as those doing from the 99% to the 100% of the commits\n",
      "\n",
      "This analysis is partially based on the study by Crowston and Howison: 'The social structure of free and open source software'\n",
      "http://firstmonday.org/ojs/index.php/fm/rt/printerFriendly/1207/1127"
     ]
    },
    {
     "cell_type": "markdown",
     "metadata": {},
     "source": [
      "#### Import Libraries"
     ]
    },
    {
     "cell_type": "code",
     "collapsed": false,
     "input": [
      "# Connection database library for Git activity\n",
      "from vizgrimoire.metrics.query_builder import SCMQuery\n",
      "# Metric Filters library\n",
      "from vizgrimoire.metrics.metrics_filter import MetricFilters\n",
      "# Onion Model study\n",
      "from vizgrimoire.analysis.onion_model import CommunityStructure"
     ],
     "language": "python",
     "metadata": {},
     "outputs": [],
     "prompt_number": 1
    },
    {
     "cell_type": "markdown",
     "metadata": {},
     "source": [
      "#### Instantiate database Object"
     ]
    },
    {
     "cell_type": "code",
     "collapsed": false,
     "input": [
      "# The databases used for this example are available at the OpenStack Foundation site\n",
      "# http://activity.openstack.org/dash/browser/data/db/\n",
      "dbcon = SCMQuery(\"root\", \"\", \"openstack_2015q1_git\", \"openstack_2015q1_git\")"
     ],
     "language": "python",
     "metadata": {},
     "outputs": [],
     "prompt_number": 2
    },
    {
     "cell_type": "markdown",
     "metadata": {},
     "source": [
      "#### Instantiate filters for the analysis"
     ]
    },
    {
     "cell_type": "code",
     "collapsed": false,
     "input": [
      "# dates to be used\n",
      "startdate = \"'2013-01-01'\"\n",
      "enddate = \"'2015-01-01'\"\n",
      "\n",
      "# Instantiate a basic filter\n",
      "basic_filters = MetricFilters(MetricFilters.PERIOD_MONTH, startdate, enddate)"
     ],
     "language": "python",
     "metadata": {},
     "outputs": [],
     "prompt_number": 3
    },
    {
     "cell_type": "markdown",
     "metadata": {},
     "source": [
      "#### Instantiate CommunityStructure class\n",
      "\n",
      "This study uses the 'analysis' module. This is a set of studies, that are hard to be fitted in the metrics model, but need a place to be. These are usually analysis that needs of more than simple database queries. \n",
      "\n",
      "All of the analysis under the analysis module follow a different list of methods. In the case of metrics, four methods were available: aggregated, timeseries, trends and lists. However, in this case only the 'result' method is provided. And this method may return a dictionary of values or may create a JSON file with the final results."
     ]
    },
    {
     "cell_type": "code",
     "collapsed": false,
     "input": [
      "# The CommunityStructure metric needs of two objects:\n",
      "#   the database connection\n",
      "#   and the filters\n",
      "onion = CommunityStructure(dbcon, basic_filters)"
     ],
     "language": "python",
     "metadata": {},
     "outputs": [],
     "prompt_number": 4
    },
    {
     "cell_type": "code",
     "collapsed": false,
     "input": [
      "devs_characterization = onion.result()"
     ],
     "language": "python",
     "metadata": {},
     "outputs": [],
     "prompt_number": 5
    },
    {
     "cell_type": "markdown",
     "metadata": {},
     "source": [
      "Three values are returned: occasional, core and regular."
     ]
    },
    {
     "cell_type": "code",
     "collapsed": false,
     "input": [
      "print devs_characterization.keys()"
     ],
     "language": "python",
     "metadata": {},
     "outputs": [
      {
       "output_type": "stream",
       "stream": "stdout",
       "text": [
        "['occasional', 'core', 'regular']\n"
       ]
      }
     ],
     "prompt_number": 6
    },
    {
     "cell_type": "code",
     "collapsed": false,
     "input": [
      "print devs_characterization"
     ],
     "language": "python",
     "metadata": {},
     "outputs": [
      {
       "output_type": "stream",
       "stream": "stdout",
       "text": [
        "{'occasional': 1762, 'core': 249, 'regular': 588}\n"
       ]
      }
     ],
     "prompt_number": 7
    }
   ],
   "metadata": {}
  }
 ]
}