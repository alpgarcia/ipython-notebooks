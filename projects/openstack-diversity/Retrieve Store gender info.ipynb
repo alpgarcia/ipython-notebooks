{
 "metadata": {
  "name": "",
  "signature": "sha256:30725b8308becdbb4ce968546cd8e2520a54d85ca9ee61f690f3569828fcced4"
 },
 "nbformat": 3,
 "nbformat_minor": 0,
 "worksheets": [
  {
   "cells": [
    {
     "cell_type": "markdown",
     "metadata": {},
     "source": [
      "# Retrieve and Store persistent gender information"
     ]
    },
    {
     "cell_type": "markdown",
     "metadata": {},
     "source": [
      "The goal of this script is to produce a small piece of software that retrieves and stores gender information."
     ]
    },
    {
     "cell_type": "code",
     "collapsed": false,
     "input": [
      "from util import ESConnection\n",
      "from elasticsearch_dsl import Search\n",
      "\n",
      "es_conn = ESConnection()"
     ],
     "language": "python",
     "metadata": {},
     "outputs": [],
     "prompt_number": 68
    },
    {
     "cell_type": "code",
     "collapsed": false,
     "input": [
      "# A usual group_by in SQL should be done sub-bucketinzing once and again the several fields in the group_by\n",
      "\n",
      "s = Search(using=es_conn, index='git_eventized')  # Index selection\n",
      "s.aggs.bucket('owner', 'terms', field='owner', size=15000) \\\n",
      "      .bucket('gender_analyzed_name', 'terms', field='gender_analyzed_name.keyword') \\\n",
      "      .bucket('gender', 'terms', field='gender') \\\n",
      "      .bucket('gender_probability', 'terms', field='gender_probability')\n",
      "result = s.execute()"
     ],
     "language": "python",
     "metadata": {},
     "outputs": [],
     "prompt_number": 69
    },
    {
     "cell_type": "code",
     "collapsed": false,
     "input": [
      "fd = open(\"/tmp/git_gender.csv\", \"w\")\n",
      "SEP = \"\\t\"\n",
      "\n",
      "for hit in result.aggregations.owner.buckets:\n",
      "    owner = hit.key\n",
      "    \n",
      "    analyzed_name_dsl = hit.gender_analyzed_name.buckets.pop()\n",
      "    analyzed_name = analyzed_name_dsl.key\n",
      "    \n",
      "    gender_dsl = analyzed_name_dsl.gender.buckets.pop()\n",
      "    gender = gender_dsl.key\n",
      "    \n",
      "    gender_probability_dsl = gender_dsl.gender_probability.buckets.pop()\n",
      "    gender_probability = gender_probability_dsl.key\n",
      "\n",
      "    fd.write(owner + SEP + analyzed_name + SEP + gender + SEP +  str(gender_probability) + \"\\n\")\n",
      "\n",
      "fd.close()"
     ],
     "language": "python",
     "metadata": {},
     "outputs": [],
     "prompt_number": 70
    },
    {
     "cell_type": "code",
     "collapsed": false,
     "input": [
      "# A usual group_by in SQL should be done sub-bucketinzing once and again the several fields in the group_by\n",
      "\n",
      "s = Search(using=es_conn, index='gerrit_eventized')  # Index selection\n",
      "s.aggs.bucket('owner', 'terms', field='owner', size=15000) \\\n",
      "      .bucket('gender_analyzed_name', 'terms', field='gender_analyzed_name.keyword') \\\n",
      "      .bucket('gender', 'terms', field='gender') \\\n",
      "      .bucket('gender_probability', 'terms', field='gender_probability')\n",
      "result = s.execute()"
     ],
     "language": "python",
     "metadata": {},
     "outputs": [],
     "prompt_number": 71
    },
    {
     "cell_type": "code",
     "collapsed": false,
     "input": [
      "fd = open(\"/tmp/gerrit_gender.csv\", \"w\")\n",
      "SEP = \"\\t\"\n",
      "\n",
      "for hit in result.aggregations.owner.buckets:\n",
      "    owner = hit.key\n",
      "    \n",
      "    analyzed_name_dsl = hit.gender_analyzed_name.buckets.pop()\n",
      "    analyzed_name = analyzed_name_dsl.key\n",
      "    \n",
      "    gender_dsl = analyzed_name_dsl.gender.buckets.pop()\n",
      "    gender = gender_dsl.key\n",
      "    \n",
      "    gender_probability_dsl = gender_dsl.gender_probability.buckets.pop()\n",
      "    gender_probability = gender_probability_dsl.key\n",
      "\n",
      "    fd.write(owner + SEP + analyzed_name + SEP + gender + SEP +  str(gender_probability) + \"\\n\")\n",
      "\n",
      "fd.close()"
     ],
     "language": "python",
     "metadata": {},
     "outputs": [],
     "prompt_number": 72
    },
    {
     "cell_type": "code",
     "collapsed": false,
     "input": [],
     "language": "python",
     "metadata": {},
     "outputs": [],
     "prompt_number": 67
    },
    {
     "cell_type": "code",
     "collapsed": false,
     "input": [],
     "language": "python",
     "metadata": {},
     "outputs": [],
     "prompt_number": 67
    },
    {
     "cell_type": "code",
     "collapsed": false,
     "input": [],
     "language": "python",
     "metadata": {},
     "outputs": []
    }
   ],
   "metadata": {}
  }
 ]
}