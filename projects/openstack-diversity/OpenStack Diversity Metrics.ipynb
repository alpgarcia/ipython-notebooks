{
 "metadata": {
  "name": "",
  "signature": "sha256:c1656d274e5b7917c78fbfaf2c8f39e81ebd1820451f1226b5974105b93e148f"
 },
 "nbformat": 3,
 "nbformat_minor": 0,
 "worksheets": [
  {
   "cells": [
    {
     "cell_type": "code",
     "collapsed": false,
     "input": [
      "import plotly.plotly as py\n",
      "from plotly.offline import download_plotlyjs, init_notebook_mode, plot, iplot\n",
      "\n",
      "import pandas\n",
      "\n",
      "from util import ESConnection\n",
      "from elasticsearch_dsl import Search\n",
      "\n",
      "es_conn = ESConnection()\n",
      "\n",
      "\n"
     ],
     "language": "python",
     "metadata": {},
     "outputs": [],
     "prompt_number": 171
    },
    {
     "cell_type": "markdown",
     "metadata": {},
     "source": [
      "## Basic metrics to be in the report:\n",
      "\n",
      "**Git**\n",
      "* Evolution and trends over time [per quarter] of commits by gender\n",
      "  * Commits by gender (columns: hash, gender)\n",
      "* Evolution and trends [per quarter] of developers over time by gender\n",
      "  * Developers by gender (columns: name, uuid, gender)\n",
      "* Evolution and trends of type of contributions (code or others) by gender over time\n",
      "  * Type of file touched by developers (columns: filetype, gender)\n",
      "\n",
      "**Gerrit**\n",
      "* Evolution of code reviews over time by gender\n",
      "  * Count votes by gender (vote, gender)\n",
      "* Evolution of code reviews developers over time by gender\n",
      "  * Count people voting (name, uuid, vote)\n",
      "* Evolution of core reviews over time by gender\n",
      "  * Votes +2 or -2 (vote +2/-2 and gender)\n",
      "* Evolution of core review developers over time by gender\n",
      "  * People voting +2 or -2 (name, uuid, vote +2/-2, gender)\n",
      "\n",
      "**Others**\n",
      "* Evolution of attracted developers over time by gender\n",
      "  * First commit by gender\n",
      "* Time working in the community by gender\n",
      "  * Time difference between the first and last contribution by all developers (so how long developers remain in OpenStack?)."
     ]
    },
    {
     "cell_type": "markdown",
     "metadata": {},
     "source": [
      "# SOME FUNCTIONS"
     ]
    },
    {
     "cell_type": "code",
     "collapsed": false,
     "input": [],
     "language": "python",
     "metadata": {},
     "outputs": []
    },
    {
     "cell_type": "markdown",
     "metadata": {},
     "source": [
      "# GERRIT"
     ]
    },
    {
     "cell_type": "markdown",
     "metadata": {},
     "source": [
      "* Evolution of code reviews over time by gender\n",
      "  * Count votes by gender (vote, gender)"
     ]
    },
    {
     "cell_type": "code",
     "collapsed": false,
     "input": [
      "s = Search(using=es_conn, index='gerrit_eventized')  # Index selection\n",
      "s = s.filter('range', date={'gt': 'now/M-2y', 'lt':'now/M'}) # filter date\n",
      "s.aggs.bucket('gender', 'terms', field='gender')\\\n",
      "      .bucket('time', 'date_histogram', field='date', interval='quarter')\\\n",
      "      .metric('changesets', 'cardinality', field='id', precision_threshold=10000)\n",
      "result = s.execute()\n"
     ],
     "language": "python",
     "metadata": {},
     "outputs": [],
     "prompt_number": 146
    },
    {
     "cell_type": "code",
     "collapsed": false,
     "input": [
      "value = result.to_dict()[\"aggregations\"]['gender']['buckets']"
     ],
     "language": "python",
     "metadata": {},
     "outputs": [],
     "prompt_number": 149
    },
    {
     "cell_type": "code",
     "collapsed": false,
     "input": [
      "df = pandas.DataFrame()\n",
      "for i in value:\n",
      "    df2 = (pandas.DataFrame.from_dict(i[\"time\"][\"buckets\"]))\n",
      "    df2[\"gender\"] = i[\"key\"]\n",
      "    df2[\"changesets\"] = df2[\"changesets\"].apply(lambda row:row[\"value\"])\n",
      "    df = pandas.concat([df, df2])"
     ],
     "language": "python",
     "metadata": {},
     "outputs": [],
     "prompt_number": 152
    },
    {
     "cell_type": "code",
     "collapsed": false,
     "input": [
      "import plotly\n",
      "init_notebook_mode(connected=True)"
     ],
     "language": "python",
     "metadata": {},
     "outputs": [
      {
       "html": [
        "<script>requirejs.config({paths: { 'plotly': ['https://cdn.plot.ly/plotly-latest.min']},});if(!window.Plotly) {{require(['plotly'],function(plotly) {window.Plotly=plotly;});}}</script>"
       ],
       "metadata": {},
       "output_type": "display_data",
       "text/vnd.plotly.v1+html": "<script>requirejs.config({paths: { 'plotly': ['https://cdn.plot.ly/plotly-latest.min']},});if(!window.Plotly) {{require(['plotly'],function(plotly) {window.Plotly=plotly;});}}</script>"
      }
     ],
     "prompt_number": 153
    },
    {
     "cell_type": "code",
     "collapsed": false,
     "input": [
      "female_changesets = plotly.graph_objs.Scatter(\n",
      "    x = df[df[\"gender\"]==\"female\"][\"key_as_string\"],\n",
      "    y = df[df[\"gender\"]==\"female\"][\"changesets\"],\n",
      "    name = 'female'\n",
      ")\n",
      "\n",
      "male_changesets = plotly.graph_objs.Scatter(\n",
      "    x = df[df[\"gender\"]==\"male\"][\"key_as_string\"],\n",
      "    y = df[df[\"gender\"]==\"male\"][\"changesets\"],\n",
      "    name = 'male'\n",
      ")\n",
      "\n",
      "unknown_changesets = plotly.graph_objs.Scatter(\n",
      "    x = df[df[\"gender\"]==\"NotKnown\"][\"key_as_string\"],\n",
      "    y = df[df[\"gender\"]==\"NotKnown\"][\"changesets\"],\n",
      "    name = 'unknown'\n",
      ")\n",
      "\n",
      "iplot([female_changesets, male_changesets, unknown_changesets])\n",
      "# Using only plot and not iplot creates and HTML page with JS to play with the chart"
     ],
     "language": "python",
     "metadata": {},
     "outputs": [
      {
       "application/vnd.plotly.v1+json": {
        "data": [
         {
          "name": "female",
          "type": "scatter",
          "x": [
           "2015-04-01T00:00:00.000Z",
           "2015-07-01T00:00:00.000Z",
           "2015-10-01T00:00:00.000Z",
           "2016-01-01T00:00:00.000Z",
           "2016-04-01T00:00:00.000Z",
           "2016-07-01T00:00:00.000Z",
           "2016-10-01T00:00:00.000Z",
           "2017-01-01T00:00:00.000Z"
          ],
          "y": [
           2401,
           6267,
           8774,
           10919,
           9633,
           10796,
           7718,
           4453
          ]
         },
         {
          "name": "male",
          "type": "scatter",
          "x": [
           "2015-04-01T00:00:00.000Z",
           "2015-07-01T00:00:00.000Z",
           "2015-10-01T00:00:00.000Z",
           "2016-01-01T00:00:00.000Z",
           "2016-04-01T00:00:00.000Z",
           "2016-07-01T00:00:00.000Z",
           "2016-10-01T00:00:00.000Z",
           "2017-01-01T00:00:00.000Z"
          ],
          "y": [
           9115,
           20581,
           29307,
           41113,
           38980,
           46420,
           35618,
           19661
          ]
         },
         {
          "name": "unknown",
          "type": "scatter",
          "x": [
           "2015-04-01T00:00:00.000Z",
           "2015-07-01T00:00:00.000Z",
           "2015-10-01T00:00:00.000Z",
           "2016-01-01T00:00:00.000Z",
           "2016-04-01T00:00:00.000Z",
           "2016-07-01T00:00:00.000Z",
           "2016-10-01T00:00:00.000Z",
           "2017-01-01T00:00:00.000Z"
          ],
          "y": [
           354,
           1909,
           7807,
           10511,
           14199,
           19067,
           16222,
           9008
          ]
         }
        ],
        "layout": {}
       },
       "html": [
        "<div id=\"8497e212-f86f-4180-a154-4ee3f8710053\" style=\"height: 525px; width: 100%;\" class=\"plotly-graph-div\"></div><script type=\"text/javascript\">require([\"plotly\"], function(Plotly) { window.PLOTLYENV=window.PLOTLYENV || {};window.PLOTLYENV.BASE_URL=\"https://plot.ly\";Plotly.newPlot(\"8497e212-f86f-4180-a154-4ee3f8710053\", [{\"x\": [\"2015-04-01T00:00:00.000Z\", \"2015-07-01T00:00:00.000Z\", \"2015-10-01T00:00:00.000Z\", \"2016-01-01T00:00:00.000Z\", \"2016-04-01T00:00:00.000Z\", \"2016-07-01T00:00:00.000Z\", \"2016-10-01T00:00:00.000Z\", \"2017-01-01T00:00:00.000Z\"], \"type\": \"scatter\", \"name\": \"female\", \"y\": [2401, 6267, 8774, 10919, 9633, 10796, 7718, 4453]}, {\"x\": [\"2015-04-01T00:00:00.000Z\", \"2015-07-01T00:00:00.000Z\", \"2015-10-01T00:00:00.000Z\", \"2016-01-01T00:00:00.000Z\", \"2016-04-01T00:00:00.000Z\", \"2016-07-01T00:00:00.000Z\", \"2016-10-01T00:00:00.000Z\", \"2017-01-01T00:00:00.000Z\"], \"type\": \"scatter\", \"name\": \"male\", \"y\": [9115, 20581, 29307, 41113, 38980, 46420, 35618, 19661]}, {\"x\": [\"2015-04-01T00:00:00.000Z\", \"2015-07-01T00:00:00.000Z\", \"2015-10-01T00:00:00.000Z\", \"2016-01-01T00:00:00.000Z\", \"2016-04-01T00:00:00.000Z\", \"2016-07-01T00:00:00.000Z\", \"2016-10-01T00:00:00.000Z\", \"2017-01-01T00:00:00.000Z\"], \"type\": \"scatter\", \"name\": \"unknown\", \"y\": [354, 1909, 7807, 10511, 14199, 19067, 16222, 9008]}], {}, {\"showLink\": true, \"linkText\": \"Export to plot.ly\"})});</script>"
       ],
       "metadata": {},
       "output_type": "display_data",
       "text/vnd.plotly.v1+html": "<div id=\"8497e212-f86f-4180-a154-4ee3f8710053\" style=\"height: 525px; width: 100%;\" class=\"plotly-graph-div\"></div><script type=\"text/javascript\">require([\"plotly\"], function(Plotly) { window.PLOTLYENV=window.PLOTLYENV || {};window.PLOTLYENV.BASE_URL=\"https://plot.ly\";Plotly.newPlot(\"8497e212-f86f-4180-a154-4ee3f8710053\", [{\"x\": [\"2015-04-01T00:00:00.000Z\", \"2015-07-01T00:00:00.000Z\", \"2015-10-01T00:00:00.000Z\", \"2016-01-01T00:00:00.000Z\", \"2016-04-01T00:00:00.000Z\", \"2016-07-01T00:00:00.000Z\", \"2016-10-01T00:00:00.000Z\", \"2017-01-01T00:00:00.000Z\"], \"type\": \"scatter\", \"name\": \"female\", \"y\": [2401, 6267, 8774, 10919, 9633, 10796, 7718, 4453]}, {\"x\": [\"2015-04-01T00:00:00.000Z\", \"2015-07-01T00:00:00.000Z\", \"2015-10-01T00:00:00.000Z\", \"2016-01-01T00:00:00.000Z\", \"2016-04-01T00:00:00.000Z\", \"2016-07-01T00:00:00.000Z\", \"2016-10-01T00:00:00.000Z\", \"2017-01-01T00:00:00.000Z\"], \"type\": \"scatter\", \"name\": \"male\", \"y\": [9115, 20581, 29307, 41113, 38980, 46420, 35618, 19661]}, {\"x\": [\"2015-04-01T00:00:00.000Z\", \"2015-07-01T00:00:00.000Z\", \"2015-10-01T00:00:00.000Z\", \"2016-01-01T00:00:00.000Z\", \"2016-04-01T00:00:00.000Z\", \"2016-07-01T00:00:00.000Z\", \"2016-10-01T00:00:00.000Z\", \"2017-01-01T00:00:00.000Z\"], \"type\": \"scatter\", \"name\": \"unknown\", \"y\": [354, 1909, 7807, 10511, 14199, 19067, 16222, 9008]}], {}, {\"showLink\": true, \"linkText\": \"Export to plot.ly\"})});</script>"
      }
     ],
     "prompt_number": 155
    },
    {
     "cell_type": "markdown",
     "metadata": {},
     "source": [
      "* Evolution of submitters over time by gender\n",
      "  * Count people submitting (id, uuid)"
     ]
    },
    {
     "cell_type": "code",
     "collapsed": false,
     "input": [
      "s = Search(using=es_conn, index='gerrit_eventized')  # Index selection\n",
      "s = s.filter('range', date={'gt': 'now/M-4y', 'lt':'now/M'}) # filter date\n",
      "s.aggs.bucket('gender', 'terms', field='gender')\\\n",
      "      .bucket('time', 'date_histogram', field='date', interval='quarter')\\\n",
      "      .metric('submitters', 'cardinality', field='uuid', precision_threshold=10000)\n",
      "result = s.execute()"
     ],
     "language": "python",
     "metadata": {},
     "outputs": [],
     "prompt_number": 172
    },
    {
     "cell_type": "code",
     "collapsed": false,
     "input": [
      "value = result.to_dict()[\"aggregations\"]['gender']['buckets']\n",
      "df = pandas.DataFrame()\n",
      "for i in value:\n",
      "    df2 = (pandas.DataFrame.from_dict(i[\"time\"][\"buckets\"]))\n",
      "    df2[\"gender\"] = i[\"key\"]\n",
      "    df2[\"submitters\"] = df2[\"submitters\"].apply(lambda row:row[\"value\"])\n",
      "    df = pandas.concat([df, df2])"
     ],
     "language": "python",
     "metadata": {},
     "outputs": [],
     "prompt_number": 174
    },
    {
     "cell_type": "code",
     "collapsed": false,
     "input": [
      "female_submitters = plotly.graph_objs.Scatter(\n",
      "    x = df[df[\"gender\"]==\"female\"][\"key_as_string\"],\n",
      "    y = df[df[\"gender\"]==\"female\"][\"submitters\"],\n",
      "    name = 'female'\n",
      ")\n",
      "\n",
      "male_submitters = plotly.graph_objs.Scatter(\n",
      "    x = df[df[\"gender\"]==\"male\"][\"key_as_string\"],\n",
      "    y = df[df[\"gender\"]==\"male\"][\"submitters\"],\n",
      "    name = 'male'\n",
      ")\n",
      "\n",
      "unknown_submitters = plotly.graph_objs.Scatter(\n",
      "    x = df[df[\"gender\"]==\"NotKnown\"][\"key_as_string\"],\n",
      "    y = df[df[\"gender\"]==\"NotKnown\"][\"submitters\"],\n",
      "    name = 'unknown'\n",
      ")\n",
      "\n",
      "iplot([female_submitters, male_submitters, unknown_submitters])\n",
      "# Using only plot and not iplot creates and HTML page with JS to play with the chart"
     ],
     "language": "python",
     "metadata": {},
     "outputs": [
      {
       "application/vnd.plotly.v1+json": {
        "data": [
         {
          "name": "female",
          "type": "scatter",
          "x": [
           "2013-04-01T00:00:00.000Z",
           "2013-07-01T00:00:00.000Z",
           "2013-10-01T00:00:00.000Z",
           "2014-01-01T00:00:00.000Z",
           "2014-04-01T00:00:00.000Z",
           "2014-07-01T00:00:00.000Z",
           "2014-10-01T00:00:00.000Z",
           "2015-01-01T00:00:00.000Z",
           "2015-04-01T00:00:00.000Z",
           "2015-07-01T00:00:00.000Z",
           "2015-10-01T00:00:00.000Z",
           "2016-01-01T00:00:00.000Z",
           "2016-04-01T00:00:00.000Z",
           "2016-07-01T00:00:00.000Z",
           "2016-10-01T00:00:00.000Z",
           "2017-01-01T00:00:00.000Z"
          ],
          "y": [
           5,
           172,
           62,
           0,
           0,
           0,
           0,
           1,
           2,
           13,
           20,
           51,
           137,
           165,
           173,
           332
          ]
         },
         {
          "name": "male",
          "type": "scatter",
          "x": [
           "2013-04-01T00:00:00.000Z",
           "2013-07-01T00:00:00.000Z",
           "2013-10-01T00:00:00.000Z",
           "2014-01-01T00:00:00.000Z",
           "2014-04-01T00:00:00.000Z",
           "2014-07-01T00:00:00.000Z",
           "2014-10-01T00:00:00.000Z",
           "2015-01-01T00:00:00.000Z",
           "2015-04-01T00:00:00.000Z",
           "2015-07-01T00:00:00.000Z",
           "2015-10-01T00:00:00.000Z",
           "2016-01-01T00:00:00.000Z",
           "2016-04-01T00:00:00.000Z",
           "2016-07-01T00:00:00.000Z",
           "2016-10-01T00:00:00.000Z",
           "2017-01-01T00:00:00.000Z"
          ],
          "y": [
           18,
           316,
           393,
           2,
           8,
           24,
           10,
           15,
           44,
           94,
           153,
           302,
           821,
           1038,
           990,
           1044
          ]
         },
         {
          "name": "unknown",
          "type": "scatter",
          "x": [
           "2013-04-01T00:00:00.000Z",
           "2013-07-01T00:00:00.000Z",
           "2013-10-01T00:00:00.000Z",
           "2014-01-01T00:00:00.000Z",
           "2014-04-01T00:00:00.000Z",
           "2014-07-01T00:00:00.000Z",
           "2014-10-01T00:00:00.000Z",
           "2015-01-01T00:00:00.000Z",
           "2015-04-01T00:00:00.000Z",
           "2015-07-01T00:00:00.000Z",
           "2015-10-01T00:00:00.000Z",
           "2016-01-01T00:00:00.000Z",
           "2016-04-01T00:00:00.000Z",
           "2016-07-01T00:00:00.000Z",
           "2016-10-01T00:00:00.000Z",
           "2017-01-01T00:00:00.000Z"
          ],
          "y": [
           8,
           86,
           109,
           0,
           2,
           2,
           3,
           2,
           11,
           37,
           60,
           107,
           240,
           295,
           340,
           369
          ]
         }
        ],
        "layout": {}
       },
       "html": [
        "<div id=\"6e89760d-19da-4adf-989a-7052e82c8bcc\" style=\"height: 525px; width: 100%;\" class=\"plotly-graph-div\"></div><script type=\"text/javascript\">require([\"plotly\"], function(Plotly) { window.PLOTLYENV=window.PLOTLYENV || {};window.PLOTLYENV.BASE_URL=\"https://plot.ly\";Plotly.newPlot(\"6e89760d-19da-4adf-989a-7052e82c8bcc\", [{\"x\": [\"2013-04-01T00:00:00.000Z\", \"2013-07-01T00:00:00.000Z\", \"2013-10-01T00:00:00.000Z\", \"2014-01-01T00:00:00.000Z\", \"2014-04-01T00:00:00.000Z\", \"2014-07-01T00:00:00.000Z\", \"2014-10-01T00:00:00.000Z\", \"2015-01-01T00:00:00.000Z\", \"2015-04-01T00:00:00.000Z\", \"2015-07-01T00:00:00.000Z\", \"2015-10-01T00:00:00.000Z\", \"2016-01-01T00:00:00.000Z\", \"2016-04-01T00:00:00.000Z\", \"2016-07-01T00:00:00.000Z\", \"2016-10-01T00:00:00.000Z\", \"2017-01-01T00:00:00.000Z\"], \"type\": \"scatter\", \"name\": \"female\", \"y\": [5, 172, 62, 0, 0, 0, 0, 1, 2, 13, 20, 51, 137, 165, 173, 332]}, {\"x\": [\"2013-04-01T00:00:00.000Z\", \"2013-07-01T00:00:00.000Z\", \"2013-10-01T00:00:00.000Z\", \"2014-01-01T00:00:00.000Z\", \"2014-04-01T00:00:00.000Z\", \"2014-07-01T00:00:00.000Z\", \"2014-10-01T00:00:00.000Z\", \"2015-01-01T00:00:00.000Z\", \"2015-04-01T00:00:00.000Z\", \"2015-07-01T00:00:00.000Z\", \"2015-10-01T00:00:00.000Z\", \"2016-01-01T00:00:00.000Z\", \"2016-04-01T00:00:00.000Z\", \"2016-07-01T00:00:00.000Z\", \"2016-10-01T00:00:00.000Z\", \"2017-01-01T00:00:00.000Z\"], \"type\": \"scatter\", \"name\": \"male\", \"y\": [18, 316, 393, 2, 8, 24, 10, 15, 44, 94, 153, 302, 821, 1038, 990, 1044]}, {\"x\": [\"2013-04-01T00:00:00.000Z\", \"2013-07-01T00:00:00.000Z\", \"2013-10-01T00:00:00.000Z\", \"2014-01-01T00:00:00.000Z\", \"2014-04-01T00:00:00.000Z\", \"2014-07-01T00:00:00.000Z\", \"2014-10-01T00:00:00.000Z\", \"2015-01-01T00:00:00.000Z\", \"2015-04-01T00:00:00.000Z\", \"2015-07-01T00:00:00.000Z\", \"2015-10-01T00:00:00.000Z\", \"2016-01-01T00:00:00.000Z\", \"2016-04-01T00:00:00.000Z\", \"2016-07-01T00:00:00.000Z\", \"2016-10-01T00:00:00.000Z\", \"2017-01-01T00:00:00.000Z\"], \"type\": \"scatter\", \"name\": \"unknown\", \"y\": [8, 86, 109, 0, 2, 2, 3, 2, 11, 37, 60, 107, 240, 295, 340, 369]}], {}, {\"showLink\": true, \"linkText\": \"Export to plot.ly\"})});</script>"
       ],
       "metadata": {},
       "output_type": "display_data",
       "text/vnd.plotly.v1+html": "<div id=\"6e89760d-19da-4adf-989a-7052e82c8bcc\" style=\"height: 525px; width: 100%;\" class=\"plotly-graph-div\"></div><script type=\"text/javascript\">require([\"plotly\"], function(Plotly) { window.PLOTLYENV=window.PLOTLYENV || {};window.PLOTLYENV.BASE_URL=\"https://plot.ly\";Plotly.newPlot(\"6e89760d-19da-4adf-989a-7052e82c8bcc\", [{\"x\": [\"2013-04-01T00:00:00.000Z\", \"2013-07-01T00:00:00.000Z\", \"2013-10-01T00:00:00.000Z\", \"2014-01-01T00:00:00.000Z\", \"2014-04-01T00:00:00.000Z\", \"2014-07-01T00:00:00.000Z\", \"2014-10-01T00:00:00.000Z\", \"2015-01-01T00:00:00.000Z\", \"2015-04-01T00:00:00.000Z\", \"2015-07-01T00:00:00.000Z\", \"2015-10-01T00:00:00.000Z\", \"2016-01-01T00:00:00.000Z\", \"2016-04-01T00:00:00.000Z\", \"2016-07-01T00:00:00.000Z\", \"2016-10-01T00:00:00.000Z\", \"2017-01-01T00:00:00.000Z\"], \"type\": \"scatter\", \"name\": \"female\", \"y\": [5, 172, 62, 0, 0, 0, 0, 1, 2, 13, 20, 51, 137, 165, 173, 332]}, {\"x\": [\"2013-04-01T00:00:00.000Z\", \"2013-07-01T00:00:00.000Z\", \"2013-10-01T00:00:00.000Z\", \"2014-01-01T00:00:00.000Z\", \"2014-04-01T00:00:00.000Z\", \"2014-07-01T00:00:00.000Z\", \"2014-10-01T00:00:00.000Z\", \"2015-01-01T00:00:00.000Z\", \"2015-04-01T00:00:00.000Z\", \"2015-07-01T00:00:00.000Z\", \"2015-10-01T00:00:00.000Z\", \"2016-01-01T00:00:00.000Z\", \"2016-04-01T00:00:00.000Z\", \"2016-07-01T00:00:00.000Z\", \"2016-10-01T00:00:00.000Z\", \"2017-01-01T00:00:00.000Z\"], \"type\": \"scatter\", \"name\": \"male\", \"y\": [18, 316, 393, 2, 8, 24, 10, 15, 44, 94, 153, 302, 821, 1038, 990, 1044]}, {\"x\": [\"2013-04-01T00:00:00.000Z\", \"2013-07-01T00:00:00.000Z\", \"2013-10-01T00:00:00.000Z\", \"2014-01-01T00:00:00.000Z\", \"2014-04-01T00:00:00.000Z\", \"2014-07-01T00:00:00.000Z\", \"2014-10-01T00:00:00.000Z\", \"2015-01-01T00:00:00.000Z\", \"2015-04-01T00:00:00.000Z\", \"2015-07-01T00:00:00.000Z\", \"2015-10-01T00:00:00.000Z\", \"2016-01-01T00:00:00.000Z\", \"2016-04-01T00:00:00.000Z\", \"2016-07-01T00:00:00.000Z\", \"2016-10-01T00:00:00.000Z\", \"2017-01-01T00:00:00.000Z\"], \"type\": \"scatter\", \"name\": \"unknown\", \"y\": [8, 86, 109, 0, 2, 2, 3, 2, 11, 37, 60, 107, 240, 295, 340, 369]}], {}, {\"showLink\": true, \"linkText\": \"Export to plot.ly\"})});</script>"
      }
     ],
     "prompt_number": 175
    },
    {
     "cell_type": "markdown",
     "metadata": {},
     "source": [
      "* Evolution of code reviews developers over time by gender\n",
      "  * Count people voting (name, uuid, vote)\n"
     ]
    },
    {
     "cell_type": "markdown",
     "metadata": {},
     "source": [
      "\n"
     ]
    },
    {
     "cell_type": "code",
     "collapsed": false,
     "input": [
      "s = Search(using=es_conn, index='gerrit_eventized')  # Index selection\n",
      "s = s.filter('range', date={'gt': 'now/M-4y', 'lt':'now/M'}) # filter date\n",
      "s = s.filter('term', eventtype='CHANGESET_PATCHSET_APPROVAL_Code-Review') # filter by event: vote a code review\n",
      "s.aggs.bucket('gender', 'terms', field='gender')\\\n",
      "      .bucket('time', 'date_histogram', field='date', interval='quarter')\\\n",
      "      .metric('reviewers', 'cardinality', field='uuid', precision_threshold=10000)\n",
      "result = s.execute()"
     ],
     "language": "python",
     "metadata": {},
     "outputs": [],
     "prompt_number": 182
    },
    {
     "cell_type": "code",
     "collapsed": false,
     "input": [
      "value = result.to_dict()[\"aggregations\"]['gender']['buckets']\n",
      "df = pandas.DataFrame()\n",
      "for i in value:\n",
      "    df2 = (pandas.DataFrame.from_dict(i[\"time\"][\"buckets\"]))\n",
      "    df2[\"gender\"] = i[\"key\"]\n",
      "    df2[\"reviewers\"] = df2[\"reviewers\"].apply(lambda row:row[\"value\"])\n",
      "    df = pandas.concat([df, df2])"
     ],
     "language": "python",
     "metadata": {},
     "outputs": [],
     "prompt_number": 183
    },
    {
     "cell_type": "markdown",
     "metadata": {},
     "source": [
      "## Number of votes by gender"
     ]
    },
    {
     "cell_type": "code",
     "collapsed": false,
     "input": [
      "# Number of votes by gender\n",
      "female_votes = plotly.graph_objs.Scatter(\n",
      "    x = df[df[\"gender\"]==\"female\"][\"key_as_string\"],\n",
      "    y = df[df[\"gender\"]==\"female\"][\"doc_count\"],\n",
      "    name = 'female'\n",
      ")\n",
      "\n",
      "male_votes = plotly.graph_objs.Scatter(\n",
      "    x = df[df[\"gender\"]==\"male\"][\"key_as_string\"],\n",
      "    y = df[df[\"gender\"]==\"male\"][\"doc_count\"],\n",
      "    name = 'male'\n",
      ")\n",
      "\n",
      "unknown_votes = plotly.graph_objs.Scatter(\n",
      "    x = df[df[\"gender\"]==\"NotKnown\"][\"key_as_string\"],\n",
      "    y = df[df[\"gender\"]==\"NotKnown\"][\"doc_count\"],\n",
      "    name = 'unknown'\n",
      ")\n",
      "\n",
      "iplot([female_votes, male_votes, unknown_votes])\n",
      "# Using only plot and not iplot creates and HTML page with JS to play with the chart"
     ],
     "language": "python",
     "metadata": {},
     "outputs": [
      {
       "application/vnd.plotly.v1+json": {
        "data": [
         {
          "name": "female",
          "type": "scatter",
          "x": [
           "2013-04-01T00:00:00.000Z",
           "2013-07-01T00:00:00.000Z",
           "2013-10-01T00:00:00.000Z",
           "2014-01-01T00:00:00.000Z",
           "2014-04-01T00:00:00.000Z",
           "2014-07-01T00:00:00.000Z",
           "2014-10-01T00:00:00.000Z",
           "2015-01-01T00:00:00.000Z",
           "2015-04-01T00:00:00.000Z",
           "2015-07-01T00:00:00.000Z",
           "2015-10-01T00:00:00.000Z",
           "2016-01-01T00:00:00.000Z",
           "2016-04-01T00:00:00.000Z",
           "2016-07-01T00:00:00.000Z",
           "2016-10-01T00:00:00.000Z",
           "2017-01-01T00:00:00.000Z"
          ],
          "y": [
           35,
           1506,
           1137,
           1568,
           838,
           735,
           19,
           72,
           61,
           328,
           372,
           1650,
           4613,
           3496,
           7564,
           7641
          ]
         },
         {
          "name": "male",
          "type": "scatter",
          "x": [
           "2013-04-01T00:00:00.000Z",
           "2013-07-01T00:00:00.000Z",
           "2013-10-01T00:00:00.000Z",
           "2014-01-01T00:00:00.000Z",
           "2014-04-01T00:00:00.000Z",
           "2014-07-01T00:00:00.000Z",
           "2014-10-01T00:00:00.000Z",
           "2015-01-01T00:00:00.000Z",
           "2015-04-01T00:00:00.000Z",
           "2015-07-01T00:00:00.000Z",
           "2015-10-01T00:00:00.000Z",
           "2016-01-01T00:00:00.000Z",
           "2016-04-01T00:00:00.000Z",
           "2016-07-01T00:00:00.000Z",
           "2016-10-01T00:00:00.000Z",
           "2017-01-01T00:00:00.000Z"
          ],
          "y": [
           814,
           20164,
           11022,
           16397,
           7919,
           6304,
           332,
           394,
           687,
           2066,
           3573,
           15251,
           45374,
           30056,
           72017,
           69728
          ]
         },
         {
          "name": "unknown",
          "type": "scatter",
          "x": [
           "2013-04-01T00:00:00.000Z",
           "2013-07-01T00:00:00.000Z",
           "2013-10-01T00:00:00.000Z",
           "2014-01-01T00:00:00.000Z",
           "2014-04-01T00:00:00.000Z",
           "2014-07-01T00:00:00.000Z",
           "2014-10-01T00:00:00.000Z",
           "2015-01-01T00:00:00.000Z",
           "2015-04-01T00:00:00.000Z",
           "2015-07-01T00:00:00.000Z",
           "2015-10-01T00:00:00.000Z",
           "2016-01-01T00:00:00.000Z",
           "2016-04-01T00:00:00.000Z",
           "2016-07-01T00:00:00.000Z",
           "2016-10-01T00:00:00.000Z",
           "2017-01-01T00:00:00.000Z"
          ],
          "y": [
           218,
           2439,
           1654,
           2539,
           1230,
           885,
           44,
           79,
           246,
           432,
           1186,
           3150,
           7979,
           5051,
           14030,
           12674
          ]
         }
        ],
        "layout": {}
       },
       "html": [
        "<div id=\"4b992013-3e89-4280-834c-79608b8a4f9c\" style=\"height: 525px; width: 100%;\" class=\"plotly-graph-div\"></div><script type=\"text/javascript\">require([\"plotly\"], function(Plotly) { window.PLOTLYENV=window.PLOTLYENV || {};window.PLOTLYENV.BASE_URL=\"https://plot.ly\";Plotly.newPlot(\"4b992013-3e89-4280-834c-79608b8a4f9c\", [{\"x\": [\"2013-04-01T00:00:00.000Z\", \"2013-07-01T00:00:00.000Z\", \"2013-10-01T00:00:00.000Z\", \"2014-01-01T00:00:00.000Z\", \"2014-04-01T00:00:00.000Z\", \"2014-07-01T00:00:00.000Z\", \"2014-10-01T00:00:00.000Z\", \"2015-01-01T00:00:00.000Z\", \"2015-04-01T00:00:00.000Z\", \"2015-07-01T00:00:00.000Z\", \"2015-10-01T00:00:00.000Z\", \"2016-01-01T00:00:00.000Z\", \"2016-04-01T00:00:00.000Z\", \"2016-07-01T00:00:00.000Z\", \"2016-10-01T00:00:00.000Z\", \"2017-01-01T00:00:00.000Z\"], \"type\": \"scatter\", \"name\": \"female\", \"y\": [35, 1506, 1137, 1568, 838, 735, 19, 72, 61, 328, 372, 1650, 4613, 3496, 7564, 7641]}, {\"x\": [\"2013-04-01T00:00:00.000Z\", \"2013-07-01T00:00:00.000Z\", \"2013-10-01T00:00:00.000Z\", \"2014-01-01T00:00:00.000Z\", \"2014-04-01T00:00:00.000Z\", \"2014-07-01T00:00:00.000Z\", \"2014-10-01T00:00:00.000Z\", \"2015-01-01T00:00:00.000Z\", \"2015-04-01T00:00:00.000Z\", \"2015-07-01T00:00:00.000Z\", \"2015-10-01T00:00:00.000Z\", \"2016-01-01T00:00:00.000Z\", \"2016-04-01T00:00:00.000Z\", \"2016-07-01T00:00:00.000Z\", \"2016-10-01T00:00:00.000Z\", \"2017-01-01T00:00:00.000Z\"], \"type\": \"scatter\", \"name\": \"male\", \"y\": [814, 20164, 11022, 16397, 7919, 6304, 332, 394, 687, 2066, 3573, 15251, 45374, 30056, 72017, 69728]}, {\"x\": [\"2013-04-01T00:00:00.000Z\", \"2013-07-01T00:00:00.000Z\", \"2013-10-01T00:00:00.000Z\", \"2014-01-01T00:00:00.000Z\", \"2014-04-01T00:00:00.000Z\", \"2014-07-01T00:00:00.000Z\", \"2014-10-01T00:00:00.000Z\", \"2015-01-01T00:00:00.000Z\", \"2015-04-01T00:00:00.000Z\", \"2015-07-01T00:00:00.000Z\", \"2015-10-01T00:00:00.000Z\", \"2016-01-01T00:00:00.000Z\", \"2016-04-01T00:00:00.000Z\", \"2016-07-01T00:00:00.000Z\", \"2016-10-01T00:00:00.000Z\", \"2017-01-01T00:00:00.000Z\"], \"type\": \"scatter\", \"name\": \"unknown\", \"y\": [218, 2439, 1654, 2539, 1230, 885, 44, 79, 246, 432, 1186, 3150, 7979, 5051, 14030, 12674]}], {}, {\"showLink\": true, \"linkText\": \"Export to plot.ly\"})});</script>"
       ],
       "metadata": {},
       "output_type": "display_data",
       "text/vnd.plotly.v1+html": "<div id=\"4b992013-3e89-4280-834c-79608b8a4f9c\" style=\"height: 525px; width: 100%;\" class=\"plotly-graph-div\"></div><script type=\"text/javascript\">require([\"plotly\"], function(Plotly) { window.PLOTLYENV=window.PLOTLYENV || {};window.PLOTLYENV.BASE_URL=\"https://plot.ly\";Plotly.newPlot(\"4b992013-3e89-4280-834c-79608b8a4f9c\", [{\"x\": [\"2013-04-01T00:00:00.000Z\", \"2013-07-01T00:00:00.000Z\", \"2013-10-01T00:00:00.000Z\", \"2014-01-01T00:00:00.000Z\", \"2014-04-01T00:00:00.000Z\", \"2014-07-01T00:00:00.000Z\", \"2014-10-01T00:00:00.000Z\", \"2015-01-01T00:00:00.000Z\", \"2015-04-01T00:00:00.000Z\", \"2015-07-01T00:00:00.000Z\", \"2015-10-01T00:00:00.000Z\", \"2016-01-01T00:00:00.000Z\", \"2016-04-01T00:00:00.000Z\", \"2016-07-01T00:00:00.000Z\", \"2016-10-01T00:00:00.000Z\", \"2017-01-01T00:00:00.000Z\"], \"type\": \"scatter\", \"name\": \"female\", \"y\": [35, 1506, 1137, 1568, 838, 735, 19, 72, 61, 328, 372, 1650, 4613, 3496, 7564, 7641]}, {\"x\": [\"2013-04-01T00:00:00.000Z\", \"2013-07-01T00:00:00.000Z\", \"2013-10-01T00:00:00.000Z\", \"2014-01-01T00:00:00.000Z\", \"2014-04-01T00:00:00.000Z\", \"2014-07-01T00:00:00.000Z\", \"2014-10-01T00:00:00.000Z\", \"2015-01-01T00:00:00.000Z\", \"2015-04-01T00:00:00.000Z\", \"2015-07-01T00:00:00.000Z\", \"2015-10-01T00:00:00.000Z\", \"2016-01-01T00:00:00.000Z\", \"2016-04-01T00:00:00.000Z\", \"2016-07-01T00:00:00.000Z\", \"2016-10-01T00:00:00.000Z\", \"2017-01-01T00:00:00.000Z\"], \"type\": \"scatter\", \"name\": \"male\", \"y\": [814, 20164, 11022, 16397, 7919, 6304, 332, 394, 687, 2066, 3573, 15251, 45374, 30056, 72017, 69728]}, {\"x\": [\"2013-04-01T00:00:00.000Z\", \"2013-07-01T00:00:00.000Z\", \"2013-10-01T00:00:00.000Z\", \"2014-01-01T00:00:00.000Z\", \"2014-04-01T00:00:00.000Z\", \"2014-07-01T00:00:00.000Z\", \"2014-10-01T00:00:00.000Z\", \"2015-01-01T00:00:00.000Z\", \"2015-04-01T00:00:00.000Z\", \"2015-07-01T00:00:00.000Z\", \"2015-10-01T00:00:00.000Z\", \"2016-01-01T00:00:00.000Z\", \"2016-04-01T00:00:00.000Z\", \"2016-07-01T00:00:00.000Z\", \"2016-10-01T00:00:00.000Z\", \"2017-01-01T00:00:00.000Z\"], \"type\": \"scatter\", \"name\": \"unknown\", \"y\": [218, 2439, 1654, 2539, 1230, 885, 44, 79, 246, 432, 1186, 3150, 7979, 5051, 14030, 12674]}], {}, {\"showLink\": true, \"linkText\": \"Export to plot.ly\"})});</script>"
      }
     ],
     "prompt_number": 187
    },
    {
     "cell_type": "markdown",
     "metadata": {},
     "source": [
      "## Number of people voting"
     ]
    },
    {
     "cell_type": "code",
     "collapsed": false,
     "input": [
      "# Number of votes by gender\n",
      "female_reviewers = plotly.graph_objs.Scatter(\n",
      "    x = df[df[\"gender\"]==\"female\"][\"key_as_string\"],\n",
      "    y = df[df[\"gender\"]==\"female\"][\"reviewers\"],\n",
      "    name = 'female'\n",
      ")\n",
      "\n",
      "male_reviewers = plotly.graph_objs.Scatter(\n",
      "    x = df[df[\"gender\"]==\"male\"][\"key_as_string\"],\n",
      "    y = df[df[\"gender\"]==\"male\"][\"reviewers\"],\n",
      "    name = 'male'\n",
      ")\n",
      "\n",
      "unknown_reviewers = plotly.graph_objs.Scatter(\n",
      "    x = df[df[\"gender\"]==\"NotKnown\"][\"key_as_string\"],\n",
      "    y = df[df[\"gender\"]==\"NotKnown\"][\"reviewers\"],\n",
      "    name = 'unknown'\n",
      ")\n",
      "\n",
      "iplot([female_reviewers, male_reviewers, unknown_reviewers])\n",
      "# Using only plot and not iplot creates and HTML page with JS to play with the chart"
     ],
     "language": "python",
     "metadata": {},
     "outputs": [
      {
       "application/vnd.plotly.v1+json": {
        "data": [
         {
          "name": "female",
          "type": "scatter",
          "x": [
           "2013-04-01T00:00:00.000Z",
           "2013-07-01T00:00:00.000Z",
           "2013-10-01T00:00:00.000Z",
           "2014-01-01T00:00:00.000Z",
           "2014-04-01T00:00:00.000Z",
           "2014-07-01T00:00:00.000Z",
           "2014-10-01T00:00:00.000Z",
           "2015-01-01T00:00:00.000Z",
           "2015-04-01T00:00:00.000Z",
           "2015-07-01T00:00:00.000Z",
           "2015-10-01T00:00:00.000Z",
           "2016-01-01T00:00:00.000Z",
           "2016-04-01T00:00:00.000Z",
           "2016-07-01T00:00:00.000Z",
           "2016-10-01T00:00:00.000Z",
           "2017-01-01T00:00:00.000Z"
          ],
          "y": [
           10,
           53,
           51,
           72,
           64,
           57,
           11,
           11,
           19,
           47,
           63,
           148,
           183,
           170,
           198,
           184
          ]
         },
         {
          "name": "male",
          "type": "scatter",
          "x": [
           "2013-04-01T00:00:00.000Z",
           "2013-07-01T00:00:00.000Z",
           "2013-10-01T00:00:00.000Z",
           "2014-01-01T00:00:00.000Z",
           "2014-04-01T00:00:00.000Z",
           "2014-07-01T00:00:00.000Z",
           "2014-10-01T00:00:00.000Z",
           "2015-01-01T00:00:00.000Z",
           "2015-04-01T00:00:00.000Z",
           "2015-07-01T00:00:00.000Z",
           "2015-10-01T00:00:00.000Z",
           "2016-01-01T00:00:00.000Z",
           "2016-04-01T00:00:00.000Z",
           "2016-07-01T00:00:00.000Z",
           "2016-10-01T00:00:00.000Z",
           "2017-01-01T00:00:00.000Z"
          ],
          "y": [
           104,
           445,
           418,
           573,
           479,
           450,
           58,
           83,
           143,
           289,
           472,
           858,
           1189,
           1116,
           1253,
           1105
          ]
         },
         {
          "name": "unknown",
          "type": "scatter",
          "x": [
           "2013-04-01T00:00:00.000Z",
           "2013-07-01T00:00:00.000Z",
           "2013-10-01T00:00:00.000Z",
           "2014-01-01T00:00:00.000Z",
           "2014-04-01T00:00:00.000Z",
           "2014-07-01T00:00:00.000Z",
           "2014-10-01T00:00:00.000Z",
           "2015-01-01T00:00:00.000Z",
           "2015-04-01T00:00:00.000Z",
           "2015-07-01T00:00:00.000Z",
           "2015-10-01T00:00:00.000Z",
           "2016-01-01T00:00:00.000Z",
           "2016-04-01T00:00:00.000Z",
           "2016-07-01T00:00:00.000Z",
           "2016-10-01T00:00:00.000Z",
           "2017-01-01T00:00:00.000Z"
          ],
          "y": [
           26,
           93,
           105,
           116,
           96,
           69,
           18,
           23,
           42,
           76,
           107,
           204,
           310,
           316,
           393,
           346
          ]
         }
        ],
        "layout": {}
       },
       "html": [
        "<div id=\"1fb60ad0-e591-4763-a4a8-5444d2ff31cd\" style=\"height: 525px; width: 100%;\" class=\"plotly-graph-div\"></div><script type=\"text/javascript\">require([\"plotly\"], function(Plotly) { window.PLOTLYENV=window.PLOTLYENV || {};window.PLOTLYENV.BASE_URL=\"https://plot.ly\";Plotly.newPlot(\"1fb60ad0-e591-4763-a4a8-5444d2ff31cd\", [{\"x\": [\"2013-04-01T00:00:00.000Z\", \"2013-07-01T00:00:00.000Z\", \"2013-10-01T00:00:00.000Z\", \"2014-01-01T00:00:00.000Z\", \"2014-04-01T00:00:00.000Z\", \"2014-07-01T00:00:00.000Z\", \"2014-10-01T00:00:00.000Z\", \"2015-01-01T00:00:00.000Z\", \"2015-04-01T00:00:00.000Z\", \"2015-07-01T00:00:00.000Z\", \"2015-10-01T00:00:00.000Z\", \"2016-01-01T00:00:00.000Z\", \"2016-04-01T00:00:00.000Z\", \"2016-07-01T00:00:00.000Z\", \"2016-10-01T00:00:00.000Z\", \"2017-01-01T00:00:00.000Z\"], \"type\": \"scatter\", \"name\": \"female\", \"y\": [10, 53, 51, 72, 64, 57, 11, 11, 19, 47, 63, 148, 183, 170, 198, 184]}, {\"x\": [\"2013-04-01T00:00:00.000Z\", \"2013-07-01T00:00:00.000Z\", \"2013-10-01T00:00:00.000Z\", \"2014-01-01T00:00:00.000Z\", \"2014-04-01T00:00:00.000Z\", \"2014-07-01T00:00:00.000Z\", \"2014-10-01T00:00:00.000Z\", \"2015-01-01T00:00:00.000Z\", \"2015-04-01T00:00:00.000Z\", \"2015-07-01T00:00:00.000Z\", \"2015-10-01T00:00:00.000Z\", \"2016-01-01T00:00:00.000Z\", \"2016-04-01T00:00:00.000Z\", \"2016-07-01T00:00:00.000Z\", \"2016-10-01T00:00:00.000Z\", \"2017-01-01T00:00:00.000Z\"], \"type\": \"scatter\", \"name\": \"male\", \"y\": [104, 445, 418, 573, 479, 450, 58, 83, 143, 289, 472, 858, 1189, 1116, 1253, 1105]}, {\"x\": [\"2013-04-01T00:00:00.000Z\", \"2013-07-01T00:00:00.000Z\", \"2013-10-01T00:00:00.000Z\", \"2014-01-01T00:00:00.000Z\", \"2014-04-01T00:00:00.000Z\", \"2014-07-01T00:00:00.000Z\", \"2014-10-01T00:00:00.000Z\", \"2015-01-01T00:00:00.000Z\", \"2015-04-01T00:00:00.000Z\", \"2015-07-01T00:00:00.000Z\", \"2015-10-01T00:00:00.000Z\", \"2016-01-01T00:00:00.000Z\", \"2016-04-01T00:00:00.000Z\", \"2016-07-01T00:00:00.000Z\", \"2016-10-01T00:00:00.000Z\", \"2017-01-01T00:00:00.000Z\"], \"type\": \"scatter\", \"name\": \"unknown\", \"y\": [26, 93, 105, 116, 96, 69, 18, 23, 42, 76, 107, 204, 310, 316, 393, 346]}], {}, {\"showLink\": true, \"linkText\": \"Export to plot.ly\"})});</script>"
       ],
       "metadata": {},
       "output_type": "display_data",
       "text/vnd.plotly.v1+html": "<div id=\"1fb60ad0-e591-4763-a4a8-5444d2ff31cd\" style=\"height: 525px; width: 100%;\" class=\"plotly-graph-div\"></div><script type=\"text/javascript\">require([\"plotly\"], function(Plotly) { window.PLOTLYENV=window.PLOTLYENV || {};window.PLOTLYENV.BASE_URL=\"https://plot.ly\";Plotly.newPlot(\"1fb60ad0-e591-4763-a4a8-5444d2ff31cd\", [{\"x\": [\"2013-04-01T00:00:00.000Z\", \"2013-07-01T00:00:00.000Z\", \"2013-10-01T00:00:00.000Z\", \"2014-01-01T00:00:00.000Z\", \"2014-04-01T00:00:00.000Z\", \"2014-07-01T00:00:00.000Z\", \"2014-10-01T00:00:00.000Z\", \"2015-01-01T00:00:00.000Z\", \"2015-04-01T00:00:00.000Z\", \"2015-07-01T00:00:00.000Z\", \"2015-10-01T00:00:00.000Z\", \"2016-01-01T00:00:00.000Z\", \"2016-04-01T00:00:00.000Z\", \"2016-07-01T00:00:00.000Z\", \"2016-10-01T00:00:00.000Z\", \"2017-01-01T00:00:00.000Z\"], \"type\": \"scatter\", \"name\": \"female\", \"y\": [10, 53, 51, 72, 64, 57, 11, 11, 19, 47, 63, 148, 183, 170, 198, 184]}, {\"x\": [\"2013-04-01T00:00:00.000Z\", \"2013-07-01T00:00:00.000Z\", \"2013-10-01T00:00:00.000Z\", \"2014-01-01T00:00:00.000Z\", \"2014-04-01T00:00:00.000Z\", \"2014-07-01T00:00:00.000Z\", \"2014-10-01T00:00:00.000Z\", \"2015-01-01T00:00:00.000Z\", \"2015-04-01T00:00:00.000Z\", \"2015-07-01T00:00:00.000Z\", \"2015-10-01T00:00:00.000Z\", \"2016-01-01T00:00:00.000Z\", \"2016-04-01T00:00:00.000Z\", \"2016-07-01T00:00:00.000Z\", \"2016-10-01T00:00:00.000Z\", \"2017-01-01T00:00:00.000Z\"], \"type\": \"scatter\", \"name\": \"male\", \"y\": [104, 445, 418, 573, 479, 450, 58, 83, 143, 289, 472, 858, 1189, 1116, 1253, 1105]}, {\"x\": [\"2013-04-01T00:00:00.000Z\", \"2013-07-01T00:00:00.000Z\", \"2013-10-01T00:00:00.000Z\", \"2014-01-01T00:00:00.000Z\", \"2014-04-01T00:00:00.000Z\", \"2014-07-01T00:00:00.000Z\", \"2014-10-01T00:00:00.000Z\", \"2015-01-01T00:00:00.000Z\", \"2015-04-01T00:00:00.000Z\", \"2015-07-01T00:00:00.000Z\", \"2015-10-01T00:00:00.000Z\", \"2016-01-01T00:00:00.000Z\", \"2016-04-01T00:00:00.000Z\", \"2016-07-01T00:00:00.000Z\", \"2016-10-01T00:00:00.000Z\", \"2017-01-01T00:00:00.000Z\"], \"type\": \"scatter\", \"name\": \"unknown\", \"y\": [26, 93, 105, 116, 96, 69, 18, 23, 42, 76, 107, 204, 310, 316, 393, 346]}], {}, {\"showLink\": true, \"linkText\": \"Export to plot.ly\"})});</script>"
      }
     ],
     "prompt_number": 188
    },
    {
     "cell_type": "markdown",
     "metadata": {},
     "source": [
      "## Number of core reviews (-2 OR +2) by gender"
     ]
    },
    {
     "cell_type": "code",
     "collapsed": false,
     "input": [
      "s = Search(using=es_conn, index='gerrit_eventized')  # Index selection\n",
      "s = s.filter('terms', value=[\"2\", \"-2\"])\n",
      "s = s.filter('range', date={'gt': 'now/M-4y', 'lt':'now/M'}) # filter date\n",
      "s = s.filter('term', eventtype='CHANGESET_PATCHSET_APPROVAL_Code-Review') # filter by event: vote a code review\n",
      "s.aggs.bucket('gender', 'terms', field='gender')\\\n",
      "      .bucket('time', 'date_histogram', field='date', interval='quarter')\\\n",
      "      .metric('core_reviewers', 'cardinality', field='uuid', precision_threshold=10000)\n",
      "result = s.execute()"
     ],
     "language": "python",
     "metadata": {},
     "outputs": [],
     "prompt_number": 194
    },
    {
     "cell_type": "code",
     "collapsed": false,
     "input": [
      "value = result.to_dict()[\"aggregations\"]['gender']['buckets']\n",
      "df = pandas.DataFrame()\n",
      "for i in value:\n",
      "    df2 = (pandas.DataFrame.from_dict(i[\"time\"][\"buckets\"]))\n",
      "    df2[\"gender\"] = i[\"key\"]\n",
      "    df2[\"core_reviewers\"] = df2[\"core_reviewers\"].apply(lambda row:row[\"value\"])\n",
      "    df = pandas.concat([df, df2])"
     ],
     "language": "python",
     "metadata": {},
     "outputs": [],
     "prompt_number": 195
    },
    {
     "cell_type": "code",
     "collapsed": false,
     "input": [
      "# Number of core reviewers by gender\n",
      "female_core_reviewers = plotly.graph_objs.Scatter(\n",
      "    x = df[df[\"gender\"]==\"female\"][\"key_as_string\"],\n",
      "    y = df[df[\"gender\"]==\"female\"][\"doc_count\"],\n",
      "    name = 'female'\n",
      ")\n",
      "\n",
      "male_core_reviewers = plotly.graph_objs.Scatter(\n",
      "    x = df[df[\"gender\"]==\"male\"][\"key_as_string\"],\n",
      "    y = df[df[\"gender\"]==\"male\"][\"doc_count\"],\n",
      "    name = 'male'\n",
      ")\n",
      "\n",
      "unknown_core_reviewers = plotly.graph_objs.Scatter(\n",
      "    x = df[df[\"gender\"]==\"NotKnown\"][\"key_as_string\"],\n",
      "    y = df[df[\"gender\"]==\"NotKnown\"][\"doc_count\"],\n",
      "    name = 'unknown'\n",
      ")\n",
      "\n",
      "iplot([female_core_reviewers, male_core_reviewers, unknown_core_reviewers])\n",
      "# Using only plot and not iplot creates and HTML page with JS to play with the chart"
     ],
     "language": "python",
     "metadata": {},
     "outputs": [
      {
       "application/vnd.plotly.v1+json": {
        "data": [
         {
          "name": "female",
          "type": "scatter",
          "x": [
           "2013-04-01T00:00:00.000Z",
           "2013-07-01T00:00:00.000Z",
           "2013-10-01T00:00:00.000Z",
           "2014-01-01T00:00:00.000Z",
           "2014-04-01T00:00:00.000Z",
           "2014-07-01T00:00:00.000Z",
           "2014-10-01T00:00:00.000Z",
           "2015-01-01T00:00:00.000Z",
           "2015-04-01T00:00:00.000Z",
           "2015-07-01T00:00:00.000Z",
           "2015-10-01T00:00:00.000Z",
           "2016-01-01T00:00:00.000Z",
           "2016-04-01T00:00:00.000Z",
           "2016-07-01T00:00:00.000Z",
           "2016-10-01T00:00:00.000Z",
           "2017-01-01T00:00:00.000Z"
          ],
          "y": [
           345,
           1676,
           1534,
           2442,
           3208,
           5398,
           5474,
           8663,
           9584,
           13049,
           12647,
           11627,
           10379,
           11086,
           8633,
           5024
          ]
         },
         {
          "name": "male",
          "type": "scatter",
          "x": [
           "2013-04-01T00:00:00.000Z",
           "2013-07-01T00:00:00.000Z",
           "2013-10-01T00:00:00.000Z",
           "2014-01-01T00:00:00.000Z",
           "2014-04-01T00:00:00.000Z",
           "2014-07-01T00:00:00.000Z",
           "2014-10-01T00:00:00.000Z",
           "2015-01-01T00:00:00.000Z",
           "2015-04-01T00:00:00.000Z",
           "2015-07-01T00:00:00.000Z",
           "2015-10-01T00:00:00.000Z",
           "2016-01-01T00:00:00.000Z",
           "2016-04-01T00:00:00.000Z",
           "2016-07-01T00:00:00.000Z",
           "2016-10-01T00:00:00.000Z",
           "2017-01-01T00:00:00.000Z"
          ],
          "y": [
           5669,
           25250,
           21020,
           38396,
           39562,
           65118,
           60292,
           92797,
           94813,
           111135,
           102306,
           125508,
           108011,
           132766,
           95412,
           55800
          ]
         },
         {
          "name": "unknown",
          "type": "scatter",
          "x": [
           "2013-04-01T00:00:00.000Z",
           "2013-07-01T00:00:00.000Z",
           "2013-10-01T00:00:00.000Z",
           "2014-01-01T00:00:00.000Z",
           "2014-04-01T00:00:00.000Z",
           "2014-07-01T00:00:00.000Z",
           "2014-10-01T00:00:00.000Z",
           "2015-01-01T00:00:00.000Z",
           "2015-04-01T00:00:00.000Z",
           "2015-07-01T00:00:00.000Z",
           "2015-10-01T00:00:00.000Z",
           "2016-01-01T00:00:00.000Z",
           "2016-04-01T00:00:00.000Z",
           "2016-07-01T00:00:00.000Z",
           "2016-10-01T00:00:00.000Z",
           "2017-01-01T00:00:00.000Z"
          ],
          "y": [
           1019,
           1972,
           1749,
           3643,
           3210,
           6158,
           4871,
           9449,
           8517,
           13719,
           16396,
           16713,
           15223,
           15310,
           12918,
           8031
          ]
         }
        ],
        "layout": {}
       },
       "html": [
        "<div id=\"91cb4082-7aec-4e9a-a014-6a1567c5b143\" style=\"height: 525px; width: 100%;\" class=\"plotly-graph-div\"></div><script type=\"text/javascript\">require([\"plotly\"], function(Plotly) { window.PLOTLYENV=window.PLOTLYENV || {};window.PLOTLYENV.BASE_URL=\"https://plot.ly\";Plotly.newPlot(\"91cb4082-7aec-4e9a-a014-6a1567c5b143\", [{\"x\": [\"2013-04-01T00:00:00.000Z\", \"2013-07-01T00:00:00.000Z\", \"2013-10-01T00:00:00.000Z\", \"2014-01-01T00:00:00.000Z\", \"2014-04-01T00:00:00.000Z\", \"2014-07-01T00:00:00.000Z\", \"2014-10-01T00:00:00.000Z\", \"2015-01-01T00:00:00.000Z\", \"2015-04-01T00:00:00.000Z\", \"2015-07-01T00:00:00.000Z\", \"2015-10-01T00:00:00.000Z\", \"2016-01-01T00:00:00.000Z\", \"2016-04-01T00:00:00.000Z\", \"2016-07-01T00:00:00.000Z\", \"2016-10-01T00:00:00.000Z\", \"2017-01-01T00:00:00.000Z\"], \"type\": \"scatter\", \"name\": \"female\", \"y\": [345, 1676, 1534, 2442, 3208, 5398, 5474, 8663, 9584, 13049, 12647, 11627, 10379, 11086, 8633, 5024]}, {\"x\": [\"2013-04-01T00:00:00.000Z\", \"2013-07-01T00:00:00.000Z\", \"2013-10-01T00:00:00.000Z\", \"2014-01-01T00:00:00.000Z\", \"2014-04-01T00:00:00.000Z\", \"2014-07-01T00:00:00.000Z\", \"2014-10-01T00:00:00.000Z\", \"2015-01-01T00:00:00.000Z\", \"2015-04-01T00:00:00.000Z\", \"2015-07-01T00:00:00.000Z\", \"2015-10-01T00:00:00.000Z\", \"2016-01-01T00:00:00.000Z\", \"2016-04-01T00:00:00.000Z\", \"2016-07-01T00:00:00.000Z\", \"2016-10-01T00:00:00.000Z\", \"2017-01-01T00:00:00.000Z\"], \"type\": \"scatter\", \"name\": \"male\", \"y\": [5669, 25250, 21020, 38396, 39562, 65118, 60292, 92797, 94813, 111135, 102306, 125508, 108011, 132766, 95412, 55800]}, {\"x\": [\"2013-04-01T00:00:00.000Z\", \"2013-07-01T00:00:00.000Z\", \"2013-10-01T00:00:00.000Z\", \"2014-01-01T00:00:00.000Z\", \"2014-04-01T00:00:00.000Z\", \"2014-07-01T00:00:00.000Z\", \"2014-10-01T00:00:00.000Z\", \"2015-01-01T00:00:00.000Z\", \"2015-04-01T00:00:00.000Z\", \"2015-07-01T00:00:00.000Z\", \"2015-10-01T00:00:00.000Z\", \"2016-01-01T00:00:00.000Z\", \"2016-04-01T00:00:00.000Z\", \"2016-07-01T00:00:00.000Z\", \"2016-10-01T00:00:00.000Z\", \"2017-01-01T00:00:00.000Z\"], \"type\": \"scatter\", \"name\": \"unknown\", \"y\": [1019, 1972, 1749, 3643, 3210, 6158, 4871, 9449, 8517, 13719, 16396, 16713, 15223, 15310, 12918, 8031]}], {}, {\"showLink\": true, \"linkText\": \"Export to plot.ly\"})});</script>"
       ],
       "metadata": {},
       "output_type": "display_data",
       "text/vnd.plotly.v1+html": "<div id=\"91cb4082-7aec-4e9a-a014-6a1567c5b143\" style=\"height: 525px; width: 100%;\" class=\"plotly-graph-div\"></div><script type=\"text/javascript\">require([\"plotly\"], function(Plotly) { window.PLOTLYENV=window.PLOTLYENV || {};window.PLOTLYENV.BASE_URL=\"https://plot.ly\";Plotly.newPlot(\"91cb4082-7aec-4e9a-a014-6a1567c5b143\", [{\"x\": [\"2013-04-01T00:00:00.000Z\", \"2013-07-01T00:00:00.000Z\", \"2013-10-01T00:00:00.000Z\", \"2014-01-01T00:00:00.000Z\", \"2014-04-01T00:00:00.000Z\", \"2014-07-01T00:00:00.000Z\", \"2014-10-01T00:00:00.000Z\", \"2015-01-01T00:00:00.000Z\", \"2015-04-01T00:00:00.000Z\", \"2015-07-01T00:00:00.000Z\", \"2015-10-01T00:00:00.000Z\", \"2016-01-01T00:00:00.000Z\", \"2016-04-01T00:00:00.000Z\", \"2016-07-01T00:00:00.000Z\", \"2016-10-01T00:00:00.000Z\", \"2017-01-01T00:00:00.000Z\"], \"type\": \"scatter\", \"name\": \"female\", \"y\": [345, 1676, 1534, 2442, 3208, 5398, 5474, 8663, 9584, 13049, 12647, 11627, 10379, 11086, 8633, 5024]}, {\"x\": [\"2013-04-01T00:00:00.000Z\", \"2013-07-01T00:00:00.000Z\", \"2013-10-01T00:00:00.000Z\", \"2014-01-01T00:00:00.000Z\", \"2014-04-01T00:00:00.000Z\", \"2014-07-01T00:00:00.000Z\", \"2014-10-01T00:00:00.000Z\", \"2015-01-01T00:00:00.000Z\", \"2015-04-01T00:00:00.000Z\", \"2015-07-01T00:00:00.000Z\", \"2015-10-01T00:00:00.000Z\", \"2016-01-01T00:00:00.000Z\", \"2016-04-01T00:00:00.000Z\", \"2016-07-01T00:00:00.000Z\", \"2016-10-01T00:00:00.000Z\", \"2017-01-01T00:00:00.000Z\"], \"type\": \"scatter\", \"name\": \"male\", \"y\": [5669, 25250, 21020, 38396, 39562, 65118, 60292, 92797, 94813, 111135, 102306, 125508, 108011, 132766, 95412, 55800]}, {\"x\": [\"2013-04-01T00:00:00.000Z\", \"2013-07-01T00:00:00.000Z\", \"2013-10-01T00:00:00.000Z\", \"2014-01-01T00:00:00.000Z\", \"2014-04-01T00:00:00.000Z\", \"2014-07-01T00:00:00.000Z\", \"2014-10-01T00:00:00.000Z\", \"2015-01-01T00:00:00.000Z\", \"2015-04-01T00:00:00.000Z\", \"2015-07-01T00:00:00.000Z\", \"2015-10-01T00:00:00.000Z\", \"2016-01-01T00:00:00.000Z\", \"2016-04-01T00:00:00.000Z\", \"2016-07-01T00:00:00.000Z\", \"2016-10-01T00:00:00.000Z\", \"2017-01-01T00:00:00.000Z\"], \"type\": \"scatter\", \"name\": \"unknown\", \"y\": [1019, 1972, 1749, 3643, 3210, 6158, 4871, 9449, 8517, 13719, 16396, 16713, 15223, 15310, 12918, 8031]}], {}, {\"showLink\": true, \"linkText\": \"Export to plot.ly\"})});</script>"
      }
     ],
     "prompt_number": 198
    },
    {
     "cell_type": "markdown",
     "metadata": {},
     "source": [
      "## Number of people acting as core reviews (-2 OR +2) by gender"
     ]
    },
    {
     "cell_type": "code",
     "collapsed": false,
     "input": [
      "# Number of core reviewers by gender\n",
      "female_core_reviewers = plotly.graph_objs.Scatter(\n",
      "    x = df[df[\"gender\"]==\"female\"][\"key_as_string\"],\n",
      "    y = df[df[\"gender\"]==\"female\"][\"core_reviewers\"],\n",
      "    name = 'female'\n",
      ")\n",
      "\n",
      "male_core_reviewers = plotly.graph_objs.Scatter(\n",
      "    x = df[df[\"gender\"]==\"male\"][\"key_as_string\"],\n",
      "    y = df[df[\"gender\"]==\"male\"][\"core_reviewers\"],\n",
      "    name = 'male'\n",
      ")\n",
      "\n",
      "unknown_core_reviewers = plotly.graph_objs.Scatter(\n",
      "    x = df[df[\"gender\"]==\"NotKnown\"][\"key_as_string\"],\n",
      "    y = df[df[\"gender\"]==\"NotKnown\"][\"core_reviewers\"],\n",
      "    name = 'unknown'\n",
      ")\n",
      "\n",
      "iplot([female_core_reviewers, male_core_reviewers, unknown_core_reviewers])\n",
      "# Using only plot and not iplot creates and HTML page with JS to play with the chart"
     ],
     "language": "python",
     "metadata": {},
     "outputs": [
      {
       "application/vnd.plotly.v1+json": {
        "data": [
         {
          "name": "female",
          "type": "scatter",
          "x": [
           "2013-04-01T00:00:00.000Z",
           "2013-07-01T00:00:00.000Z",
           "2013-10-01T00:00:00.000Z",
           "2014-01-01T00:00:00.000Z",
           "2014-04-01T00:00:00.000Z",
           "2014-07-01T00:00:00.000Z",
           "2014-10-01T00:00:00.000Z",
           "2015-01-01T00:00:00.000Z",
           "2015-04-01T00:00:00.000Z",
           "2015-07-01T00:00:00.000Z",
           "2015-10-01T00:00:00.000Z",
           "2016-01-01T00:00:00.000Z",
           "2016-04-01T00:00:00.000Z",
           "2016-07-01T00:00:00.000Z",
           "2016-10-01T00:00:00.000Z",
           "2017-01-01T00:00:00.000Z"
          ],
          "y": [
           9,
           15,
           20,
           27,
           32,
           40,
           41,
           62,
           65,
           86,
           100,
           105,
           107,
           104,
           95,
           82
          ]
         },
         {
          "name": "male",
          "type": "scatter",
          "x": [
           "2013-04-01T00:00:00.000Z",
           "2013-07-01T00:00:00.000Z",
           "2013-10-01T00:00:00.000Z",
           "2014-01-01T00:00:00.000Z",
           "2014-04-01T00:00:00.000Z",
           "2014-07-01T00:00:00.000Z",
           "2014-10-01T00:00:00.000Z",
           "2015-01-01T00:00:00.000Z",
           "2015-04-01T00:00:00.000Z",
           "2015-07-01T00:00:00.000Z",
           "2015-10-01T00:00:00.000Z",
           "2016-01-01T00:00:00.000Z",
           "2016-04-01T00:00:00.000Z",
           "2016-07-01T00:00:00.000Z",
           "2016-10-01T00:00:00.000Z",
           "2017-01-01T00:00:00.000Z"
          ],
          "y": [
           118,
           177,
           205,
           270,
           289,
           335,
           357,
           422,
           493,
           544,
           585,
           604,
           656,
           692,
           679,
           600
          ]
         },
         {
          "name": "unknown",
          "type": "scatter",
          "x": [
           "2013-04-01T00:00:00.000Z",
           "2013-07-01T00:00:00.000Z",
           "2013-10-01T00:00:00.000Z",
           "2014-01-01T00:00:00.000Z",
           "2014-04-01T00:00:00.000Z",
           "2014-07-01T00:00:00.000Z",
           "2014-10-01T00:00:00.000Z",
           "2015-01-01T00:00:00.000Z",
           "2015-04-01T00:00:00.000Z",
           "2015-07-01T00:00:00.000Z",
           "2015-10-01T00:00:00.000Z",
           "2016-01-01T00:00:00.000Z",
           "2016-04-01T00:00:00.000Z",
           "2016-07-01T00:00:00.000Z",
           "2016-10-01T00:00:00.000Z",
           "2017-01-01T00:00:00.000Z"
          ],
          "y": [
           31,
           35,
           38,
           44,
           49,
           46,
           48,
           56,
           65,
           96,
           118,
           124,
           131,
           140,
           128,
           127
          ]
         }
        ],
        "layout": {}
       },
       "html": [
        "<div id=\"9a2a0bba-47ca-4509-af93-f8cecc8ef058\" style=\"height: 525px; width: 100%;\" class=\"plotly-graph-div\"></div><script type=\"text/javascript\">require([\"plotly\"], function(Plotly) { window.PLOTLYENV=window.PLOTLYENV || {};window.PLOTLYENV.BASE_URL=\"https://plot.ly\";Plotly.newPlot(\"9a2a0bba-47ca-4509-af93-f8cecc8ef058\", [{\"x\": [\"2013-04-01T00:00:00.000Z\", \"2013-07-01T00:00:00.000Z\", \"2013-10-01T00:00:00.000Z\", \"2014-01-01T00:00:00.000Z\", \"2014-04-01T00:00:00.000Z\", \"2014-07-01T00:00:00.000Z\", \"2014-10-01T00:00:00.000Z\", \"2015-01-01T00:00:00.000Z\", \"2015-04-01T00:00:00.000Z\", \"2015-07-01T00:00:00.000Z\", \"2015-10-01T00:00:00.000Z\", \"2016-01-01T00:00:00.000Z\", \"2016-04-01T00:00:00.000Z\", \"2016-07-01T00:00:00.000Z\", \"2016-10-01T00:00:00.000Z\", \"2017-01-01T00:00:00.000Z\"], \"type\": \"scatter\", \"name\": \"female\", \"y\": [9, 15, 20, 27, 32, 40, 41, 62, 65, 86, 100, 105, 107, 104, 95, 82]}, {\"x\": [\"2013-04-01T00:00:00.000Z\", \"2013-07-01T00:00:00.000Z\", \"2013-10-01T00:00:00.000Z\", \"2014-01-01T00:00:00.000Z\", \"2014-04-01T00:00:00.000Z\", \"2014-07-01T00:00:00.000Z\", \"2014-10-01T00:00:00.000Z\", \"2015-01-01T00:00:00.000Z\", \"2015-04-01T00:00:00.000Z\", \"2015-07-01T00:00:00.000Z\", \"2015-10-01T00:00:00.000Z\", \"2016-01-01T00:00:00.000Z\", \"2016-04-01T00:00:00.000Z\", \"2016-07-01T00:00:00.000Z\", \"2016-10-01T00:00:00.000Z\", \"2017-01-01T00:00:00.000Z\"], \"type\": \"scatter\", \"name\": \"male\", \"y\": [118, 177, 205, 270, 289, 335, 357, 422, 493, 544, 585, 604, 656, 692, 679, 600]}, {\"x\": [\"2013-04-01T00:00:00.000Z\", \"2013-07-01T00:00:00.000Z\", \"2013-10-01T00:00:00.000Z\", \"2014-01-01T00:00:00.000Z\", \"2014-04-01T00:00:00.000Z\", \"2014-07-01T00:00:00.000Z\", \"2014-10-01T00:00:00.000Z\", \"2015-01-01T00:00:00.000Z\", \"2015-04-01T00:00:00.000Z\", \"2015-07-01T00:00:00.000Z\", \"2015-10-01T00:00:00.000Z\", \"2016-01-01T00:00:00.000Z\", \"2016-04-01T00:00:00.000Z\", \"2016-07-01T00:00:00.000Z\", \"2016-10-01T00:00:00.000Z\", \"2017-01-01T00:00:00.000Z\"], \"type\": \"scatter\", \"name\": \"unknown\", \"y\": [31, 35, 38, 44, 49, 46, 48, 56, 65, 96, 118, 124, 131, 140, 128, 127]}], {}, {\"showLink\": true, \"linkText\": \"Export to plot.ly\"})});</script>"
       ],
       "metadata": {},
       "output_type": "display_data",
       "text/vnd.plotly.v1+html": "<div id=\"9a2a0bba-47ca-4509-af93-f8cecc8ef058\" style=\"height: 525px; width: 100%;\" class=\"plotly-graph-div\"></div><script type=\"text/javascript\">require([\"plotly\"], function(Plotly) { window.PLOTLYENV=window.PLOTLYENV || {};window.PLOTLYENV.BASE_URL=\"https://plot.ly\";Plotly.newPlot(\"9a2a0bba-47ca-4509-af93-f8cecc8ef058\", [{\"x\": [\"2013-04-01T00:00:00.000Z\", \"2013-07-01T00:00:00.000Z\", \"2013-10-01T00:00:00.000Z\", \"2014-01-01T00:00:00.000Z\", \"2014-04-01T00:00:00.000Z\", \"2014-07-01T00:00:00.000Z\", \"2014-10-01T00:00:00.000Z\", \"2015-01-01T00:00:00.000Z\", \"2015-04-01T00:00:00.000Z\", \"2015-07-01T00:00:00.000Z\", \"2015-10-01T00:00:00.000Z\", \"2016-01-01T00:00:00.000Z\", \"2016-04-01T00:00:00.000Z\", \"2016-07-01T00:00:00.000Z\", \"2016-10-01T00:00:00.000Z\", \"2017-01-01T00:00:00.000Z\"], \"type\": \"scatter\", \"name\": \"female\", \"y\": [9, 15, 20, 27, 32, 40, 41, 62, 65, 86, 100, 105, 107, 104, 95, 82]}, {\"x\": [\"2013-04-01T00:00:00.000Z\", \"2013-07-01T00:00:00.000Z\", \"2013-10-01T00:00:00.000Z\", \"2014-01-01T00:00:00.000Z\", \"2014-04-01T00:00:00.000Z\", \"2014-07-01T00:00:00.000Z\", \"2014-10-01T00:00:00.000Z\", \"2015-01-01T00:00:00.000Z\", \"2015-04-01T00:00:00.000Z\", \"2015-07-01T00:00:00.000Z\", \"2015-10-01T00:00:00.000Z\", \"2016-01-01T00:00:00.000Z\", \"2016-04-01T00:00:00.000Z\", \"2016-07-01T00:00:00.000Z\", \"2016-10-01T00:00:00.000Z\", \"2017-01-01T00:00:00.000Z\"], \"type\": \"scatter\", \"name\": \"male\", \"y\": [118, 177, 205, 270, 289, 335, 357, 422, 493, 544, 585, 604, 656, 692, 679, 600]}, {\"x\": [\"2013-04-01T00:00:00.000Z\", \"2013-07-01T00:00:00.000Z\", \"2013-10-01T00:00:00.000Z\", \"2014-01-01T00:00:00.000Z\", \"2014-04-01T00:00:00.000Z\", \"2014-07-01T00:00:00.000Z\", \"2014-10-01T00:00:00.000Z\", \"2015-01-01T00:00:00.000Z\", \"2015-04-01T00:00:00.000Z\", \"2015-07-01T00:00:00.000Z\", \"2015-10-01T00:00:00.000Z\", \"2016-01-01T00:00:00.000Z\", \"2016-04-01T00:00:00.000Z\", \"2016-07-01T00:00:00.000Z\", \"2016-10-01T00:00:00.000Z\", \"2017-01-01T00:00:00.000Z\"], \"type\": \"scatter\", \"name\": \"unknown\", \"y\": [31, 35, 38, 44, 49, 46, 48, 56, 65, 96, 118, 124, 131, 140, 128, 127]}], {}, {\"showLink\": true, \"linkText\": \"Export to plot.ly\"})});</script>"
      }
     ],
     "prompt_number": 197
    },
    {
     "cell_type": "code",
     "collapsed": false,
     "input": [],
     "language": "python",
     "metadata": {},
     "outputs": []
    }
   ],
   "metadata": {}
  }
 ]
}