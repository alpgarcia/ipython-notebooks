{
 "metadata": {
  "name": "",
  "signature": "sha256:4a687d3dc5dd19c622ddfe36ca54508cbde7bc59e47a95cd09286e63497d8660"
 },
 "nbformat": 3,
 "nbformat_minor": 0,
 "worksheets": [
  {
   "cells": [
    {
     "cell_type": "code",
     "collapsed": false,
     "input": [
      "import plotly.plotly as py\n",
      "from plotly.offline import download_plotlyjs, init_notebook_mode, plot, iplot\n",
      "\n",
      "import pandas\n",
      "\n",
      "from util import ESConnection\n",
      "from elasticsearch_dsl import Search\n",
      "\n",
      "es_conn = ESConnection()\n",
      "\n",
      "\n"
     ],
     "language": "python",
     "metadata": {},
     "outputs": [],
     "prompt_number": 1
    },
    {
     "cell_type": "markdown",
     "metadata": {},
     "source": [
      "## Basic metrics to be in the report:\n",
      "\n",
      "**Git**\n",
      "* Evolution and trends over time [per quarter] of commits by gender\n",
      "  * Commits by gender (columns: hash, gender)\n",
      "* Evolution and trends [per quarter] of developers over time by gender\n",
      "  * Developers by gender (columns: name, uuid, gender)\n",
      "* Evolution and trends of type of contributions (code or others) by gender over time\n",
      "  * Type of file touched by developers (columns: filetype, gender)\n",
      "\n",
      "**Gerrit**\n",
      "* Evolution of code reviews over time by gender\n",
      "  * Count votes by gender (vote, gender)\n",
      "* Evolution of code reviews developers over time by gender\n",
      "  * Count people voting (name, uuid, vote)\n",
      "* Evolution of core reviews over time by gender\n",
      "  * Votes +2 or -2 (vote +2/-2 and gender)\n",
      "* Evolution of core review developers over time by gender\n",
      "  * People voting +2 or -2 (name, uuid, vote +2/-2, gender)\n",
      "\n",
      "**Others**\n",
      "* Evolution of attracted developers over time by gender\n",
      "  * First commit by gender\n",
      "* Time working in the community by gender\n",
      "  * Time difference between the first and last contribution by all developers (so how long developers remain in OpenStack?)."
     ]
    },
    {
     "cell_type": "markdown",
     "metadata": {},
     "source": [
      "# SOME FUNCTIONS"
     ]
    },
    {
     "cell_type": "code",
     "collapsed": false,
     "input": [],
     "language": "python",
     "metadata": {},
     "outputs": []
    },
    {
     "cell_type": "markdown",
     "metadata": {},
     "source": [
      "# GERRIT"
     ]
    },
    {
     "cell_type": "markdown",
     "metadata": {},
     "source": [
      "* Evolution of code reviews over time by gender\n",
      "  * Count votes by gender (vote, gender)"
     ]
    },
    {
     "cell_type": "code",
     "collapsed": false,
     "input": [
      "s = Search(using=es_conn, index='gerrit_eventized')  # Index selection\n",
      "s = s.filter('range', date={'gt': 'now/M-4y', 'lt':'now/M'}) # filter date\n",
      "s.aggs.bucket('gender', 'terms', field='gender')\\\n",
      "      .bucket('time', 'date_histogram', field='date', interval='quarter')\\\n",
      "      .metric('changesets', 'cardinality', field='id', precision_threshold=10000)\n",
      "result = s.execute()\n"
     ],
     "language": "python",
     "metadata": {},
     "outputs": [],
     "prompt_number": 18
    },
    {
     "cell_type": "code",
     "collapsed": false,
     "input": [
      "value = result.to_dict()[\"aggregations\"]['gender']['buckets']"
     ],
     "language": "python",
     "metadata": {},
     "outputs": [],
     "prompt_number": 19
    },
    {
     "cell_type": "code",
     "collapsed": false,
     "input": [
      "df = pandas.DataFrame()\n",
      "for i in value:\n",
      "    df2 = (pandas.DataFrame.from_dict(i[\"time\"][\"buckets\"]))\n",
      "    df2[\"gender\"] = i[\"key\"]\n",
      "    df2[\"changesets\"] = df2[\"changesets\"].apply(lambda row:row[\"value\"])\n",
      "    df = pandas.concat([df, df2])"
     ],
     "language": "python",
     "metadata": {},
     "outputs": [],
     "prompt_number": 20
    },
    {
     "cell_type": "code",
     "collapsed": false,
     "input": [
      "import plotly\n",
      "init_notebook_mode(connected=True)"
     ],
     "language": "python",
     "metadata": {},
     "outputs": [
      {
       "html": [
        "<script>requirejs.config({paths: { 'plotly': ['https://cdn.plot.ly/plotly-latest.min']},});if(!window.Plotly) {{require(['plotly'],function(plotly) {window.Plotly=plotly;});}}</script>"
       ],
       "metadata": {},
       "output_type": "display_data",
       "text/vnd.plotly.v1+html": "<script>requirejs.config({paths: { 'plotly': ['https://cdn.plot.ly/plotly-latest.min']},});if(!window.Plotly) {{require(['plotly'],function(plotly) {window.Plotly=plotly;});}}</script>"
      }
     ],
     "prompt_number": 21
    },
    {
     "cell_type": "code",
     "collapsed": false,
     "input": [
      "female_changesets = plotly.graph_objs.Scatter(\n",
      "    x = df[df[\"gender\"]==\"female\"][\"key_as_string\"],\n",
      "    y = df[df[\"gender\"]==\"female\"][\"changesets\"],\n",
      "    name = 'female'\n",
      ")\n",
      "\n",
      "male_changesets = plotly.graph_objs.Scatter(\n",
      "    x = df[df[\"gender\"]==\"male\"][\"key_as_string\"],\n",
      "    y = df[df[\"gender\"]==\"male\"][\"changesets\"],\n",
      "    name = 'male'\n",
      ")\n",
      "\n",
      "unknown_changesets = plotly.graph_objs.Scatter(\n",
      "    x = df[df[\"gender\"]==\"NotKnown\"][\"key_as_string\"],\n",
      "    y = df[df[\"gender\"]==\"NotKnown\"][\"changesets\"],\n",
      "    name = 'unknown'\n",
      ")\n",
      "\n",
      "iplot([female_changesets, male_changesets, unknown_changesets])\n",
      "# Using only plot and not iplot creates and HTML page with JS to play with the chart"
     ],
     "language": "python",
     "metadata": {},
     "outputs": [
      {
       "application/vnd.plotly.v1+json": {
        "data": [
         {
          "name": "female",
          "type": "scatter",
          "x": [
           "2013-04-01T00:00:00.000Z",
           "2013-07-01T00:00:00.000Z",
           "2013-10-01T00:00:00.000Z",
           "2014-01-01T00:00:00.000Z",
           "2014-04-01T00:00:00.000Z",
           "2014-07-01T00:00:00.000Z",
           "2014-10-01T00:00:00.000Z",
           "2015-01-01T00:00:00.000Z",
           "2015-04-01T00:00:00.000Z",
           "2015-07-01T00:00:00.000Z",
           "2015-10-01T00:00:00.000Z",
           "2016-01-01T00:00:00.000Z",
           "2016-04-01T00:00:00.000Z",
           "2016-07-01T00:00:00.000Z",
           "2016-10-01T00:00:00.000Z",
           "2017-01-01T00:00:00.000Z"
          ],
          "y": [
           1459,
           3507,
           4164,
           5238,
           5213,
           6726,
           6301,
           8262,
           8863,
           11040,
           10973,
           10977,
           9745,
           10958,
           8046,
           7220
          ]
         },
         {
          "name": "male",
          "type": "scatter",
          "x": [
           "2013-04-01T00:00:00.000Z",
           "2013-07-01T00:00:00.000Z",
           "2013-10-01T00:00:00.000Z",
           "2014-01-01T00:00:00.000Z",
           "2014-04-01T00:00:00.000Z",
           "2014-07-01T00:00:00.000Z",
           "2014-10-01T00:00:00.000Z",
           "2015-01-01T00:00:00.000Z",
           "2015-04-01T00:00:00.000Z",
           "2015-07-01T00:00:00.000Z",
           "2015-10-01T00:00:00.000Z",
           "2016-01-01T00:00:00.000Z",
           "2016-04-01T00:00:00.000Z",
           "2016-07-01T00:00:00.000Z",
           "2016-10-01T00:00:00.000Z",
           "2017-01-01T00:00:00.000Z"
          ],
          "y": [
           7059,
           15650,
           16099,
           21055,
           21261,
           24350,
           22720,
           28419,
           30884,
           36019,
           36691,
           41295,
           39283,
           47073,
           37139,
           31440
          ]
         },
         {
          "name": "unknown",
          "type": "scatter",
          "x": [
           "2013-04-01T00:00:00.000Z",
           "2013-07-01T00:00:00.000Z",
           "2013-10-01T00:00:00.000Z",
           "2014-01-01T00:00:00.000Z",
           "2014-04-01T00:00:00.000Z",
           "2014-07-01T00:00:00.000Z",
           "2014-10-01T00:00:00.000Z",
           "2015-01-01T00:00:00.000Z",
           "2015-04-01T00:00:00.000Z",
           "2015-07-01T00:00:00.000Z",
           "2015-10-01T00:00:00.000Z",
           "2016-01-01T00:00:00.000Z",
           "2016-04-01T00:00:00.000Z",
           "2016-07-01T00:00:00.000Z",
           "2016-10-01T00:00:00.000Z",
           "2017-01-01T00:00:00.000Z"
          ],
          "y": [
           2848,
           5716,
           6085,
           7991,
           7598,
           9120,
           8452,
           10971,
           11889,
           15718,
           17708,
           17279,
           16297,
           19322,
           16922,
           14444
          ]
         }
        ],
        "layout": {}
       },
       "html": [
        "<div id=\"b8b6d45a-f228-4a17-9de1-62c721ede6b7\" style=\"height: 525px; width: 100%;\" class=\"plotly-graph-div\"></div><script type=\"text/javascript\">require([\"plotly\"], function(Plotly) { window.PLOTLYENV=window.PLOTLYENV || {};window.PLOTLYENV.BASE_URL=\"https://plot.ly\";Plotly.newPlot(\"b8b6d45a-f228-4a17-9de1-62c721ede6b7\", [{\"name\": \"female\", \"type\": \"scatter\", \"y\": [1459, 3507, 4164, 5238, 5213, 6726, 6301, 8262, 8863, 11040, 10973, 10977, 9745, 10958, 8046, 7220], \"x\": [\"2013-04-01T00:00:00.000Z\", \"2013-07-01T00:00:00.000Z\", \"2013-10-01T00:00:00.000Z\", \"2014-01-01T00:00:00.000Z\", \"2014-04-01T00:00:00.000Z\", \"2014-07-01T00:00:00.000Z\", \"2014-10-01T00:00:00.000Z\", \"2015-01-01T00:00:00.000Z\", \"2015-04-01T00:00:00.000Z\", \"2015-07-01T00:00:00.000Z\", \"2015-10-01T00:00:00.000Z\", \"2016-01-01T00:00:00.000Z\", \"2016-04-01T00:00:00.000Z\", \"2016-07-01T00:00:00.000Z\", \"2016-10-01T00:00:00.000Z\", \"2017-01-01T00:00:00.000Z\"]}, {\"name\": \"male\", \"type\": \"scatter\", \"y\": [7059, 15650, 16099, 21055, 21261, 24350, 22720, 28419, 30884, 36019, 36691, 41295, 39283, 47073, 37139, 31440], \"x\": [\"2013-04-01T00:00:00.000Z\", \"2013-07-01T00:00:00.000Z\", \"2013-10-01T00:00:00.000Z\", \"2014-01-01T00:00:00.000Z\", \"2014-04-01T00:00:00.000Z\", \"2014-07-01T00:00:00.000Z\", \"2014-10-01T00:00:00.000Z\", \"2015-01-01T00:00:00.000Z\", \"2015-04-01T00:00:00.000Z\", \"2015-07-01T00:00:00.000Z\", \"2015-10-01T00:00:00.000Z\", \"2016-01-01T00:00:00.000Z\", \"2016-04-01T00:00:00.000Z\", \"2016-07-01T00:00:00.000Z\", \"2016-10-01T00:00:00.000Z\", \"2017-01-01T00:00:00.000Z\"]}, {\"name\": \"unknown\", \"type\": \"scatter\", \"y\": [2848, 5716, 6085, 7991, 7598, 9120, 8452, 10971, 11889, 15718, 17708, 17279, 16297, 19322, 16922, 14444], \"x\": [\"2013-04-01T00:00:00.000Z\", \"2013-07-01T00:00:00.000Z\", \"2013-10-01T00:00:00.000Z\", \"2014-01-01T00:00:00.000Z\", \"2014-04-01T00:00:00.000Z\", \"2014-07-01T00:00:00.000Z\", \"2014-10-01T00:00:00.000Z\", \"2015-01-01T00:00:00.000Z\", \"2015-04-01T00:00:00.000Z\", \"2015-07-01T00:00:00.000Z\", \"2015-10-01T00:00:00.000Z\", \"2016-01-01T00:00:00.000Z\", \"2016-04-01T00:00:00.000Z\", \"2016-07-01T00:00:00.000Z\", \"2016-10-01T00:00:00.000Z\", \"2017-01-01T00:00:00.000Z\"]}], {}, {\"linkText\": \"Export to plot.ly\", \"showLink\": true})});</script>"
       ],
       "metadata": {},
       "output_type": "display_data",
       "text/vnd.plotly.v1+html": "<div id=\"b8b6d45a-f228-4a17-9de1-62c721ede6b7\" style=\"height: 525px; width: 100%;\" class=\"plotly-graph-div\"></div><script type=\"text/javascript\">require([\"plotly\"], function(Plotly) { window.PLOTLYENV=window.PLOTLYENV || {};window.PLOTLYENV.BASE_URL=\"https://plot.ly\";Plotly.newPlot(\"b8b6d45a-f228-4a17-9de1-62c721ede6b7\", [{\"name\": \"female\", \"type\": \"scatter\", \"y\": [1459, 3507, 4164, 5238, 5213, 6726, 6301, 8262, 8863, 11040, 10973, 10977, 9745, 10958, 8046, 7220], \"x\": [\"2013-04-01T00:00:00.000Z\", \"2013-07-01T00:00:00.000Z\", \"2013-10-01T00:00:00.000Z\", \"2014-01-01T00:00:00.000Z\", \"2014-04-01T00:00:00.000Z\", \"2014-07-01T00:00:00.000Z\", \"2014-10-01T00:00:00.000Z\", \"2015-01-01T00:00:00.000Z\", \"2015-04-01T00:00:00.000Z\", \"2015-07-01T00:00:00.000Z\", \"2015-10-01T00:00:00.000Z\", \"2016-01-01T00:00:00.000Z\", \"2016-04-01T00:00:00.000Z\", \"2016-07-01T00:00:00.000Z\", \"2016-10-01T00:00:00.000Z\", \"2017-01-01T00:00:00.000Z\"]}, {\"name\": \"male\", \"type\": \"scatter\", \"y\": [7059, 15650, 16099, 21055, 21261, 24350, 22720, 28419, 30884, 36019, 36691, 41295, 39283, 47073, 37139, 31440], \"x\": [\"2013-04-01T00:00:00.000Z\", \"2013-07-01T00:00:00.000Z\", \"2013-10-01T00:00:00.000Z\", \"2014-01-01T00:00:00.000Z\", \"2014-04-01T00:00:00.000Z\", \"2014-07-01T00:00:00.000Z\", \"2014-10-01T00:00:00.000Z\", \"2015-01-01T00:00:00.000Z\", \"2015-04-01T00:00:00.000Z\", \"2015-07-01T00:00:00.000Z\", \"2015-10-01T00:00:00.000Z\", \"2016-01-01T00:00:00.000Z\", \"2016-04-01T00:00:00.000Z\", \"2016-07-01T00:00:00.000Z\", \"2016-10-01T00:00:00.000Z\", \"2017-01-01T00:00:00.000Z\"]}, {\"name\": \"unknown\", \"type\": \"scatter\", \"y\": [2848, 5716, 6085, 7991, 7598, 9120, 8452, 10971, 11889, 15718, 17708, 17279, 16297, 19322, 16922, 14444], \"x\": [\"2013-04-01T00:00:00.000Z\", \"2013-07-01T00:00:00.000Z\", \"2013-10-01T00:00:00.000Z\", \"2014-01-01T00:00:00.000Z\", \"2014-04-01T00:00:00.000Z\", \"2014-07-01T00:00:00.000Z\", \"2014-10-01T00:00:00.000Z\", \"2015-01-01T00:00:00.000Z\", \"2015-04-01T00:00:00.000Z\", \"2015-07-01T00:00:00.000Z\", \"2015-10-01T00:00:00.000Z\", \"2016-01-01T00:00:00.000Z\", \"2016-04-01T00:00:00.000Z\", \"2016-07-01T00:00:00.000Z\", \"2016-10-01T00:00:00.000Z\", \"2017-01-01T00:00:00.000Z\"]}], {}, {\"linkText\": \"Export to plot.ly\", \"showLink\": true})});</script>"
      }
     ],
     "prompt_number": 22
    },
    {
     "cell_type": "markdown",
     "metadata": {},
     "source": [
      "* Evolution of submitters over time by gender\n",
      "  * Count people submitting (id, uuid)"
     ]
    },
    {
     "cell_type": "code",
     "collapsed": false,
     "input": [
      "s = Search(using=es_conn, index='gerrit_eventized')  # Index selection\n",
      "s = s.filter('range', date={'gt': 'now/M-4y', 'lt':'now/M'}) # filter date\n",
      "s.aggs.bucket('gender', 'terms', field='gender')\\\n",
      "      .bucket('time', 'date_histogram', field='date', interval='quarter')\\\n",
      "      .metric('submitters', 'cardinality', field='uuid', precision_threshold=10000)\n",
      "result = s.execute()"
     ],
     "language": "python",
     "metadata": {},
     "outputs": [],
     "prompt_number": 23
    },
    {
     "cell_type": "code",
     "collapsed": false,
     "input": [
      "value = result.to_dict()[\"aggregations\"]['gender']['buckets']\n",
      "df = pandas.DataFrame()\n",
      "for i in value:\n",
      "    df2 = (pandas.DataFrame.from_dict(i[\"time\"][\"buckets\"]))\n",
      "    df2[\"gender\"] = i[\"key\"]\n",
      "    df2[\"submitters\"] = df2[\"submitters\"].apply(lambda row:row[\"value\"])\n",
      "    df = pandas.concat([df, df2])"
     ],
     "language": "python",
     "metadata": {},
     "outputs": [],
     "prompt_number": 24
    },
    {
     "cell_type": "code",
     "collapsed": false,
     "input": [
      "female_submitters = plotly.graph_objs.Scatter(\n",
      "    x = df[df[\"gender\"]==\"female\"][\"key_as_string\"],\n",
      "    y = df[df[\"gender\"]==\"female\"][\"submitters\"],\n",
      "    name = 'female'\n",
      ")\n",
      "\n",
      "male_submitters = plotly.graph_objs.Scatter(\n",
      "    x = df[df[\"gender\"]==\"male\"][\"key_as_string\"],\n",
      "    y = df[df[\"gender\"]==\"male\"][\"submitters\"],\n",
      "    name = 'male'\n",
      ")\n",
      "\n",
      "unknown_submitters = plotly.graph_objs.Scatter(\n",
      "    x = df[df[\"gender\"]==\"NotKnown\"][\"key_as_string\"],\n",
      "    y = df[df[\"gender\"]==\"NotKnown\"][\"submitters\"],\n",
      "    name = 'unknown'\n",
      ")\n",
      "\n",
      "iplot([female_submitters, male_submitters, unknown_submitters])\n",
      "# Using only plot and not iplot creates and HTML page with JS to play with the chart"
     ],
     "language": "python",
     "metadata": {},
     "outputs": [
      {
       "application/vnd.plotly.v1+json": {
        "data": [
         {
          "name": "female",
          "type": "scatter",
          "x": [
           "2013-04-01T00:00:00.000Z",
           "2013-07-01T00:00:00.000Z",
           "2013-10-01T00:00:00.000Z",
           "2014-01-01T00:00:00.000Z",
           "2014-04-01T00:00:00.000Z",
           "2014-07-01T00:00:00.000Z",
           "2014-10-01T00:00:00.000Z",
           "2015-01-01T00:00:00.000Z",
           "2015-04-01T00:00:00.000Z",
           "2015-07-01T00:00:00.000Z",
           "2015-10-01T00:00:00.000Z",
           "2016-01-01T00:00:00.000Z",
           "2016-04-01T00:00:00.000Z",
           "2016-07-01T00:00:00.000Z",
           "2016-10-01T00:00:00.000Z",
           "2017-01-01T00:00:00.000Z"
          ],
          "y": [
           229,
           262,
           281,
           318,
           350,
           395,
           397,
           452,
           464,
           513,
           524,
           566,
           583,
           562,
           499,
           466
          ]
         },
         {
          "name": "male",
          "type": "scatter",
          "x": [
           "2013-04-01T00:00:00.000Z",
           "2013-07-01T00:00:00.000Z",
           "2013-10-01T00:00:00.000Z",
           "2014-01-01T00:00:00.000Z",
           "2014-04-01T00:00:00.000Z",
           "2014-07-01T00:00:00.000Z",
           "2014-10-01T00:00:00.000Z",
           "2015-01-01T00:00:00.000Z",
           "2015-04-01T00:00:00.000Z",
           "2015-07-01T00:00:00.000Z",
           "2015-10-01T00:00:00.000Z",
           "2016-01-01T00:00:00.000Z",
           "2016-04-01T00:00:00.000Z",
           "2016-07-01T00:00:00.000Z",
           "2016-10-01T00:00:00.000Z",
           "2017-01-01T00:00:00.000Z"
          ],
          "y": [
           638,
           962,
           1017,
           1295,
           1458,
           1687,
           1728,
           1933,
           2042,
           2250,
           2299,
           2395,
           2445,
           2435,
           2208,
           1970
          ]
         },
         {
          "name": "unknown",
          "type": "scatter",
          "x": [
           "2013-04-01T00:00:00.000Z",
           "2013-07-01T00:00:00.000Z",
           "2013-10-01T00:00:00.000Z",
           "2014-01-01T00:00:00.000Z",
           "2014-04-01T00:00:00.000Z",
           "2014-07-01T00:00:00.000Z",
           "2014-10-01T00:00:00.000Z",
           "2015-01-01T00:00:00.000Z",
           "2015-04-01T00:00:00.000Z",
           "2015-07-01T00:00:00.000Z",
           "2015-10-01T00:00:00.000Z",
           "2016-01-01T00:00:00.000Z",
           "2016-04-01T00:00:00.000Z",
           "2016-07-01T00:00:00.000Z",
           "2016-10-01T00:00:00.000Z",
           "2017-01-01T00:00:00.000Z"
          ],
          "y": [
           194,
           305,
           336,
           402,
           367,
           454,
           451,
           484,
           529,
           617,
           699,
           723,
           733,
           802,
           807,
           759
          ]
         }
        ],
        "layout": {}
       },
       "html": [
        "<div id=\"654029ff-0e63-4f3c-8d1d-efdacbbcf7b7\" style=\"height: 525px; width: 100%;\" class=\"plotly-graph-div\"></div><script type=\"text/javascript\">require([\"plotly\"], function(Plotly) { window.PLOTLYENV=window.PLOTLYENV || {};window.PLOTLYENV.BASE_URL=\"https://plot.ly\";Plotly.newPlot(\"654029ff-0e63-4f3c-8d1d-efdacbbcf7b7\", [{\"name\": \"female\", \"type\": \"scatter\", \"y\": [229, 262, 281, 318, 350, 395, 397, 452, 464, 513, 524, 566, 583, 562, 499, 466], \"x\": [\"2013-04-01T00:00:00.000Z\", \"2013-07-01T00:00:00.000Z\", \"2013-10-01T00:00:00.000Z\", \"2014-01-01T00:00:00.000Z\", \"2014-04-01T00:00:00.000Z\", \"2014-07-01T00:00:00.000Z\", \"2014-10-01T00:00:00.000Z\", \"2015-01-01T00:00:00.000Z\", \"2015-04-01T00:00:00.000Z\", \"2015-07-01T00:00:00.000Z\", \"2015-10-01T00:00:00.000Z\", \"2016-01-01T00:00:00.000Z\", \"2016-04-01T00:00:00.000Z\", \"2016-07-01T00:00:00.000Z\", \"2016-10-01T00:00:00.000Z\", \"2017-01-01T00:00:00.000Z\"]}, {\"name\": \"male\", \"type\": \"scatter\", \"y\": [638, 962, 1017, 1295, 1458, 1687, 1728, 1933, 2042, 2250, 2299, 2395, 2445, 2435, 2208, 1970], \"x\": [\"2013-04-01T00:00:00.000Z\", \"2013-07-01T00:00:00.000Z\", \"2013-10-01T00:00:00.000Z\", \"2014-01-01T00:00:00.000Z\", \"2014-04-01T00:00:00.000Z\", \"2014-07-01T00:00:00.000Z\", \"2014-10-01T00:00:00.000Z\", \"2015-01-01T00:00:00.000Z\", \"2015-04-01T00:00:00.000Z\", \"2015-07-01T00:00:00.000Z\", \"2015-10-01T00:00:00.000Z\", \"2016-01-01T00:00:00.000Z\", \"2016-04-01T00:00:00.000Z\", \"2016-07-01T00:00:00.000Z\", \"2016-10-01T00:00:00.000Z\", \"2017-01-01T00:00:00.000Z\"]}, {\"name\": \"unknown\", \"type\": \"scatter\", \"y\": [194, 305, 336, 402, 367, 454, 451, 484, 529, 617, 699, 723, 733, 802, 807, 759], \"x\": [\"2013-04-01T00:00:00.000Z\", \"2013-07-01T00:00:00.000Z\", \"2013-10-01T00:00:00.000Z\", \"2014-01-01T00:00:00.000Z\", \"2014-04-01T00:00:00.000Z\", \"2014-07-01T00:00:00.000Z\", \"2014-10-01T00:00:00.000Z\", \"2015-01-01T00:00:00.000Z\", \"2015-04-01T00:00:00.000Z\", \"2015-07-01T00:00:00.000Z\", \"2015-10-01T00:00:00.000Z\", \"2016-01-01T00:00:00.000Z\", \"2016-04-01T00:00:00.000Z\", \"2016-07-01T00:00:00.000Z\", \"2016-10-01T00:00:00.000Z\", \"2017-01-01T00:00:00.000Z\"]}], {}, {\"linkText\": \"Export to plot.ly\", \"showLink\": true})});</script>"
       ],
       "metadata": {},
       "output_type": "display_data",
       "text/vnd.plotly.v1+html": "<div id=\"654029ff-0e63-4f3c-8d1d-efdacbbcf7b7\" style=\"height: 525px; width: 100%;\" class=\"plotly-graph-div\"></div><script type=\"text/javascript\">require([\"plotly\"], function(Plotly) { window.PLOTLYENV=window.PLOTLYENV || {};window.PLOTLYENV.BASE_URL=\"https://plot.ly\";Plotly.newPlot(\"654029ff-0e63-4f3c-8d1d-efdacbbcf7b7\", [{\"name\": \"female\", \"type\": \"scatter\", \"y\": [229, 262, 281, 318, 350, 395, 397, 452, 464, 513, 524, 566, 583, 562, 499, 466], \"x\": [\"2013-04-01T00:00:00.000Z\", \"2013-07-01T00:00:00.000Z\", \"2013-10-01T00:00:00.000Z\", \"2014-01-01T00:00:00.000Z\", \"2014-04-01T00:00:00.000Z\", \"2014-07-01T00:00:00.000Z\", \"2014-10-01T00:00:00.000Z\", \"2015-01-01T00:00:00.000Z\", \"2015-04-01T00:00:00.000Z\", \"2015-07-01T00:00:00.000Z\", \"2015-10-01T00:00:00.000Z\", \"2016-01-01T00:00:00.000Z\", \"2016-04-01T00:00:00.000Z\", \"2016-07-01T00:00:00.000Z\", \"2016-10-01T00:00:00.000Z\", \"2017-01-01T00:00:00.000Z\"]}, {\"name\": \"male\", \"type\": \"scatter\", \"y\": [638, 962, 1017, 1295, 1458, 1687, 1728, 1933, 2042, 2250, 2299, 2395, 2445, 2435, 2208, 1970], \"x\": [\"2013-04-01T00:00:00.000Z\", \"2013-07-01T00:00:00.000Z\", \"2013-10-01T00:00:00.000Z\", \"2014-01-01T00:00:00.000Z\", \"2014-04-01T00:00:00.000Z\", \"2014-07-01T00:00:00.000Z\", \"2014-10-01T00:00:00.000Z\", \"2015-01-01T00:00:00.000Z\", \"2015-04-01T00:00:00.000Z\", \"2015-07-01T00:00:00.000Z\", \"2015-10-01T00:00:00.000Z\", \"2016-01-01T00:00:00.000Z\", \"2016-04-01T00:00:00.000Z\", \"2016-07-01T00:00:00.000Z\", \"2016-10-01T00:00:00.000Z\", \"2017-01-01T00:00:00.000Z\"]}, {\"name\": \"unknown\", \"type\": \"scatter\", \"y\": [194, 305, 336, 402, 367, 454, 451, 484, 529, 617, 699, 723, 733, 802, 807, 759], \"x\": [\"2013-04-01T00:00:00.000Z\", \"2013-07-01T00:00:00.000Z\", \"2013-10-01T00:00:00.000Z\", \"2014-01-01T00:00:00.000Z\", \"2014-04-01T00:00:00.000Z\", \"2014-07-01T00:00:00.000Z\", \"2014-10-01T00:00:00.000Z\", \"2015-01-01T00:00:00.000Z\", \"2015-04-01T00:00:00.000Z\", \"2015-07-01T00:00:00.000Z\", \"2015-10-01T00:00:00.000Z\", \"2016-01-01T00:00:00.000Z\", \"2016-04-01T00:00:00.000Z\", \"2016-07-01T00:00:00.000Z\", \"2016-10-01T00:00:00.000Z\", \"2017-01-01T00:00:00.000Z\"]}], {}, {\"linkText\": \"Export to plot.ly\", \"showLink\": true})});</script>"
      }
     ],
     "prompt_number": 25
    },
    {
     "cell_type": "markdown",
     "metadata": {},
     "source": [
      "* Evolution of code reviews developers over time by gender\n",
      "  * Count people voting (name, uuid, vote)\n"
     ]
    },
    {
     "cell_type": "markdown",
     "metadata": {},
     "source": [
      "\n"
     ]
    },
    {
     "cell_type": "code",
     "collapsed": false,
     "input": [
      "s = Search(using=es_conn, index='gerrit_eventized')  # Index selection\n",
      "s = s.filter('range', date={'gt': 'now/M-4y', 'lt':'now/M'}) # filter date\n",
      "s = s.filter('term', eventtype='CHANGESET_PATCHSET_APPROVAL_Code-Review') # filter by event: vote a code review\n",
      "s.aggs.bucket('gender', 'terms', field='gender')\\\n",
      "      .bucket('time', 'date_histogram', field='date', interval='quarter')\\\n",
      "      .metric('reviewers', 'cardinality', field='uuid', precision_threshold=10000)\n",
      "result = s.execute()"
     ],
     "language": "python",
     "metadata": {},
     "outputs": [],
     "prompt_number": 26
    },
    {
     "cell_type": "code",
     "collapsed": false,
     "input": [
      "value = result.to_dict()[\"aggregations\"]['gender']['buckets']\n",
      "df = pandas.DataFrame()\n",
      "for i in value:\n",
      "    df2 = (pandas.DataFrame.from_dict(i[\"time\"][\"buckets\"]))\n",
      "    df2[\"gender\"] = i[\"key\"]\n",
      "    df2[\"reviewers\"] = df2[\"reviewers\"].apply(lambda row:row[\"value\"])\n",
      "    df = pandas.concat([df, df2])"
     ],
     "language": "python",
     "metadata": {},
     "outputs": [],
     "prompt_number": 27
    },
    {
     "cell_type": "markdown",
     "metadata": {},
     "source": [
      "## Number of votes by gender"
     ]
    },
    {
     "cell_type": "code",
     "collapsed": false,
     "input": [
      "# Number of votes by gender\n",
      "female_votes = plotly.graph_objs.Scatter(\n",
      "    x = df[df[\"gender\"]==\"female\"][\"key_as_string\"],\n",
      "    y = df[df[\"gender\"]==\"female\"][\"doc_count\"],\n",
      "    name = 'female'\n",
      ")\n",
      "\n",
      "male_votes = plotly.graph_objs.Scatter(\n",
      "    x = df[df[\"gender\"]==\"male\"][\"key_as_string\"],\n",
      "    y = df[df[\"gender\"]==\"male\"][\"doc_count\"],\n",
      "    name = 'male'\n",
      ")\n",
      "\n",
      "unknown_votes = plotly.graph_objs.Scatter(\n",
      "    x = df[df[\"gender\"]==\"NotKnown\"][\"key_as_string\"],\n",
      "    y = df[df[\"gender\"]==\"NotKnown\"][\"doc_count\"],\n",
      "    name = 'unknown'\n",
      ")\n",
      "\n",
      "iplot([female_votes, male_votes, unknown_votes])\n",
      "# Using only plot and not iplot creates and HTML page with JS to play with the chart"
     ],
     "language": "python",
     "metadata": {},
     "outputs": [
      {
       "application/vnd.plotly.v1+json": {
        "data": [
         {
          "name": "female",
          "type": "scatter",
          "x": [
           "2013-04-01T00:00:00.000Z",
           "2013-07-01T00:00:00.000Z",
           "2013-10-01T00:00:00.000Z",
           "2014-01-01T00:00:00.000Z",
           "2014-04-01T00:00:00.000Z",
           "2014-07-01T00:00:00.000Z",
           "2014-10-01T00:00:00.000Z",
           "2015-01-01T00:00:00.000Z",
           "2015-04-01T00:00:00.000Z",
           "2015-07-01T00:00:00.000Z",
           "2015-10-01T00:00:00.000Z",
           "2016-01-01T00:00:00.000Z",
           "2016-04-01T00:00:00.000Z",
           "2016-07-01T00:00:00.000Z",
           "2016-10-01T00:00:00.000Z",
           "2017-01-01T00:00:00.000Z"
          ],
          "y": [
           3235,
           7874,
           9804,
           13903,
           15859,
           21360,
           18406,
           23452,
           23100,
           29571,
           25809,
           24850,
           21490,
           24010,
           16316,
           14610
          ]
         },
         {
          "name": "male",
          "type": "scatter",
          "x": [
           "2013-04-01T00:00:00.000Z",
           "2013-07-01T00:00:00.000Z",
           "2013-10-01T00:00:00.000Z",
           "2014-01-01T00:00:00.000Z",
           "2014-04-01T00:00:00.000Z",
           "2014-07-01T00:00:00.000Z",
           "2014-10-01T00:00:00.000Z",
           "2015-01-01T00:00:00.000Z",
           "2015-04-01T00:00:00.000Z",
           "2015-07-01T00:00:00.000Z",
           "2015-10-01T00:00:00.000Z",
           "2016-01-01T00:00:00.000Z",
           "2016-04-01T00:00:00.000Z",
           "2016-07-01T00:00:00.000Z",
           "2016-10-01T00:00:00.000Z",
           "2017-01-01T00:00:00.000Z"
          ],
          "y": [
           39709,
           97675,
           101572,
           150619,
           149552,
           179623,
           152493,
           207652,
           199028,
           237979,
           221027,
           247048,
           208814,
           230622,
           158684,
           134374
          ]
         },
         {
          "name": "unknown",
          "type": "scatter",
          "x": [
           "2013-04-01T00:00:00.000Z",
           "2013-07-01T00:00:00.000Z",
           "2013-10-01T00:00:00.000Z",
           "2014-01-01T00:00:00.000Z",
           "2014-04-01T00:00:00.000Z",
           "2014-07-01T00:00:00.000Z",
           "2014-10-01T00:00:00.000Z",
           "2015-01-01T00:00:00.000Z",
           "2015-04-01T00:00:00.000Z",
           "2015-07-01T00:00:00.000Z",
           "2015-10-01T00:00:00.000Z",
           "2016-01-01T00:00:00.000Z",
           "2016-04-01T00:00:00.000Z",
           "2016-07-01T00:00:00.000Z",
           "2016-10-01T00:00:00.000Z",
           "2017-01-01T00:00:00.000Z"
          ],
          "y": [
           6670,
           11634,
           15927,
           22024,
           21083,
           24958,
           21189,
           30177,
           30412,
           42643,
           47381,
           41957,
           35977,
           35729,
           30038,
           24325
          ]
         }
        ],
        "layout": {}
       },
       "html": [
        "<div id=\"7bcce0bc-4b6e-4ffd-a4cc-fd397da66ed5\" style=\"height: 525px; width: 100%;\" class=\"plotly-graph-div\"></div><script type=\"text/javascript\">require([\"plotly\"], function(Plotly) { window.PLOTLYENV=window.PLOTLYENV || {};window.PLOTLYENV.BASE_URL=\"https://plot.ly\";Plotly.newPlot(\"7bcce0bc-4b6e-4ffd-a4cc-fd397da66ed5\", [{\"name\": \"female\", \"type\": \"scatter\", \"y\": [3235, 7874, 9804, 13903, 15859, 21360, 18406, 23452, 23100, 29571, 25809, 24850, 21490, 24010, 16316, 14610], \"x\": [\"2013-04-01T00:00:00.000Z\", \"2013-07-01T00:00:00.000Z\", \"2013-10-01T00:00:00.000Z\", \"2014-01-01T00:00:00.000Z\", \"2014-04-01T00:00:00.000Z\", \"2014-07-01T00:00:00.000Z\", \"2014-10-01T00:00:00.000Z\", \"2015-01-01T00:00:00.000Z\", \"2015-04-01T00:00:00.000Z\", \"2015-07-01T00:00:00.000Z\", \"2015-10-01T00:00:00.000Z\", \"2016-01-01T00:00:00.000Z\", \"2016-04-01T00:00:00.000Z\", \"2016-07-01T00:00:00.000Z\", \"2016-10-01T00:00:00.000Z\", \"2017-01-01T00:00:00.000Z\"]}, {\"name\": \"male\", \"type\": \"scatter\", \"y\": [39709, 97675, 101572, 150619, 149552, 179623, 152493, 207652, 199028, 237979, 221027, 247048, 208814, 230622, 158684, 134374], \"x\": [\"2013-04-01T00:00:00.000Z\", \"2013-07-01T00:00:00.000Z\", \"2013-10-01T00:00:00.000Z\", \"2014-01-01T00:00:00.000Z\", \"2014-04-01T00:00:00.000Z\", \"2014-07-01T00:00:00.000Z\", \"2014-10-01T00:00:00.000Z\", \"2015-01-01T00:00:00.000Z\", \"2015-04-01T00:00:00.000Z\", \"2015-07-01T00:00:00.000Z\", \"2015-10-01T00:00:00.000Z\", \"2016-01-01T00:00:00.000Z\", \"2016-04-01T00:00:00.000Z\", \"2016-07-01T00:00:00.000Z\", \"2016-10-01T00:00:00.000Z\", \"2017-01-01T00:00:00.000Z\"]}, {\"name\": \"unknown\", \"type\": \"scatter\", \"y\": [6670, 11634, 15927, 22024, 21083, 24958, 21189, 30177, 30412, 42643, 47381, 41957, 35977, 35729, 30038, 24325], \"x\": [\"2013-04-01T00:00:00.000Z\", \"2013-07-01T00:00:00.000Z\", \"2013-10-01T00:00:00.000Z\", \"2014-01-01T00:00:00.000Z\", \"2014-04-01T00:00:00.000Z\", \"2014-07-01T00:00:00.000Z\", \"2014-10-01T00:00:00.000Z\", \"2015-01-01T00:00:00.000Z\", \"2015-04-01T00:00:00.000Z\", \"2015-07-01T00:00:00.000Z\", \"2015-10-01T00:00:00.000Z\", \"2016-01-01T00:00:00.000Z\", \"2016-04-01T00:00:00.000Z\", \"2016-07-01T00:00:00.000Z\", \"2016-10-01T00:00:00.000Z\", \"2017-01-01T00:00:00.000Z\"]}], {}, {\"linkText\": \"Export to plot.ly\", \"showLink\": true})});</script>"
       ],
       "metadata": {},
       "output_type": "display_data",
       "text/vnd.plotly.v1+html": "<div id=\"7bcce0bc-4b6e-4ffd-a4cc-fd397da66ed5\" style=\"height: 525px; width: 100%;\" class=\"plotly-graph-div\"></div><script type=\"text/javascript\">require([\"plotly\"], function(Plotly) { window.PLOTLYENV=window.PLOTLYENV || {};window.PLOTLYENV.BASE_URL=\"https://plot.ly\";Plotly.newPlot(\"7bcce0bc-4b6e-4ffd-a4cc-fd397da66ed5\", [{\"name\": \"female\", \"type\": \"scatter\", \"y\": [3235, 7874, 9804, 13903, 15859, 21360, 18406, 23452, 23100, 29571, 25809, 24850, 21490, 24010, 16316, 14610], \"x\": [\"2013-04-01T00:00:00.000Z\", \"2013-07-01T00:00:00.000Z\", \"2013-10-01T00:00:00.000Z\", \"2014-01-01T00:00:00.000Z\", \"2014-04-01T00:00:00.000Z\", \"2014-07-01T00:00:00.000Z\", \"2014-10-01T00:00:00.000Z\", \"2015-01-01T00:00:00.000Z\", \"2015-04-01T00:00:00.000Z\", \"2015-07-01T00:00:00.000Z\", \"2015-10-01T00:00:00.000Z\", \"2016-01-01T00:00:00.000Z\", \"2016-04-01T00:00:00.000Z\", \"2016-07-01T00:00:00.000Z\", \"2016-10-01T00:00:00.000Z\", \"2017-01-01T00:00:00.000Z\"]}, {\"name\": \"male\", \"type\": \"scatter\", \"y\": [39709, 97675, 101572, 150619, 149552, 179623, 152493, 207652, 199028, 237979, 221027, 247048, 208814, 230622, 158684, 134374], \"x\": [\"2013-04-01T00:00:00.000Z\", \"2013-07-01T00:00:00.000Z\", \"2013-10-01T00:00:00.000Z\", \"2014-01-01T00:00:00.000Z\", \"2014-04-01T00:00:00.000Z\", \"2014-07-01T00:00:00.000Z\", \"2014-10-01T00:00:00.000Z\", \"2015-01-01T00:00:00.000Z\", \"2015-04-01T00:00:00.000Z\", \"2015-07-01T00:00:00.000Z\", \"2015-10-01T00:00:00.000Z\", \"2016-01-01T00:00:00.000Z\", \"2016-04-01T00:00:00.000Z\", \"2016-07-01T00:00:00.000Z\", \"2016-10-01T00:00:00.000Z\", \"2017-01-01T00:00:00.000Z\"]}, {\"name\": \"unknown\", \"type\": \"scatter\", \"y\": [6670, 11634, 15927, 22024, 21083, 24958, 21189, 30177, 30412, 42643, 47381, 41957, 35977, 35729, 30038, 24325], \"x\": [\"2013-04-01T00:00:00.000Z\", \"2013-07-01T00:00:00.000Z\", \"2013-10-01T00:00:00.000Z\", \"2014-01-01T00:00:00.000Z\", \"2014-04-01T00:00:00.000Z\", \"2014-07-01T00:00:00.000Z\", \"2014-10-01T00:00:00.000Z\", \"2015-01-01T00:00:00.000Z\", \"2015-04-01T00:00:00.000Z\", \"2015-07-01T00:00:00.000Z\", \"2015-10-01T00:00:00.000Z\", \"2016-01-01T00:00:00.000Z\", \"2016-04-01T00:00:00.000Z\", \"2016-07-01T00:00:00.000Z\", \"2016-10-01T00:00:00.000Z\", \"2017-01-01T00:00:00.000Z\"]}], {}, {\"linkText\": \"Export to plot.ly\", \"showLink\": true})});</script>"
      }
     ],
     "prompt_number": 28
    },
    {
     "cell_type": "markdown",
     "metadata": {},
     "source": [
      "## Number of people voting"
     ]
    },
    {
     "cell_type": "code",
     "collapsed": false,
     "input": [
      "# Number of votes by gender\n",
      "female_reviewers = plotly.graph_objs.Scatter(\n",
      "    x = df[df[\"gender\"]==\"female\"][\"key_as_string\"],\n",
      "    y = df[df[\"gender\"]==\"female\"][\"reviewers\"],\n",
      "    name = 'female'\n",
      ")\n",
      "\n",
      "male_reviewers = plotly.graph_objs.Scatter(\n",
      "    x = df[df[\"gender\"]==\"male\"][\"key_as_string\"],\n",
      "    y = df[df[\"gender\"]==\"male\"][\"reviewers\"],\n",
      "    name = 'male'\n",
      ")\n",
      "\n",
      "unknown_reviewers = plotly.graph_objs.Scatter(\n",
      "    x = df[df[\"gender\"]==\"NotKnown\"][\"key_as_string\"],\n",
      "    y = df[df[\"gender\"]==\"NotKnown\"][\"reviewers\"],\n",
      "    name = 'unknown'\n",
      ")\n",
      "\n",
      "iplot([female_reviewers, male_reviewers, unknown_reviewers])\n",
      "# Using only plot and not iplot creates and HTML page with JS to play with the chart"
     ],
     "language": "python",
     "metadata": {},
     "outputs": [
      {
       "application/vnd.plotly.v1+json": {
        "data": [
         {
          "name": "female",
          "type": "scatter",
          "x": [
           "2013-04-01T00:00:00.000Z",
           "2013-07-01T00:00:00.000Z",
           "2013-10-01T00:00:00.000Z",
           "2014-01-01T00:00:00.000Z",
           "2014-04-01T00:00:00.000Z",
           "2014-07-01T00:00:00.000Z",
           "2014-10-01T00:00:00.000Z",
           "2015-01-01T00:00:00.000Z",
           "2015-04-01T00:00:00.000Z",
           "2015-07-01T00:00:00.000Z",
           "2015-10-01T00:00:00.000Z",
           "2016-01-01T00:00:00.000Z",
           "2016-04-01T00:00:00.000Z",
           "2016-07-01T00:00:00.000Z",
           "2016-10-01T00:00:00.000Z",
           "2017-01-01T00:00:00.000Z"
          ],
          "y": [
           52,
           85,
           94,
           117,
           139,
           162,
           160,
           200,
           226,
           252,
           257,
           283,
           270,
           287,
           231,
           215
          ]
         },
         {
          "name": "male",
          "type": "scatter",
          "x": [
           "2013-04-01T00:00:00.000Z",
           "2013-07-01T00:00:00.000Z",
           "2013-10-01T00:00:00.000Z",
           "2014-01-01T00:00:00.000Z",
           "2014-04-01T00:00:00.000Z",
           "2014-07-01T00:00:00.000Z",
           "2014-10-01T00:00:00.000Z",
           "2015-01-01T00:00:00.000Z",
           "2015-04-01T00:00:00.000Z",
           "2015-07-01T00:00:00.000Z",
           "2015-10-01T00:00:00.000Z",
           "2016-01-01T00:00:00.000Z",
           "2016-04-01T00:00:00.000Z",
           "2016-07-01T00:00:00.000Z",
           "2016-10-01T00:00:00.000Z",
           "2017-01-01T00:00:00.000Z"
          ],
          "y": [
           417,
           626,
           738,
           948,
           1043,
           1194,
           1223,
           1365,
           1414,
           1549,
           1581,
           1684,
           1639,
           1654,
           1503,
           1295
          ]
         },
         {
          "name": "unknown",
          "type": "scatter",
          "x": [
           "2013-04-01T00:00:00.000Z",
           "2013-07-01T00:00:00.000Z",
           "2013-10-01T00:00:00.000Z",
           "2014-01-01T00:00:00.000Z",
           "2014-04-01T00:00:00.000Z",
           "2014-07-01T00:00:00.000Z",
           "2014-10-01T00:00:00.000Z",
           "2015-01-01T00:00:00.000Z",
           "2015-04-01T00:00:00.000Z",
           "2015-07-01T00:00:00.000Z",
           "2015-10-01T00:00:00.000Z",
           "2016-01-01T00:00:00.000Z",
           "2016-04-01T00:00:00.000Z",
           "2016-07-01T00:00:00.000Z",
           "2016-10-01T00:00:00.000Z",
           "2017-01-01T00:00:00.000Z"
          ],
          "y": [
           97,
           142,
           163,
           206,
           212,
           204,
           241,
           258,
           285,
           379,
           364,
           407,
           443,
           463,
           467,
           402
          ]
         }
        ],
        "layout": {}
       },
       "html": [
        "<div id=\"1a7dcaf0-ab01-4048-a1cc-860026e6bd43\" style=\"height: 525px; width: 100%;\" class=\"plotly-graph-div\"></div><script type=\"text/javascript\">require([\"plotly\"], function(Plotly) { window.PLOTLYENV=window.PLOTLYENV || {};window.PLOTLYENV.BASE_URL=\"https://plot.ly\";Plotly.newPlot(\"1a7dcaf0-ab01-4048-a1cc-860026e6bd43\", [{\"name\": \"female\", \"type\": \"scatter\", \"y\": [52, 85, 94, 117, 139, 162, 160, 200, 226, 252, 257, 283, 270, 287, 231, 215], \"x\": [\"2013-04-01T00:00:00.000Z\", \"2013-07-01T00:00:00.000Z\", \"2013-10-01T00:00:00.000Z\", \"2014-01-01T00:00:00.000Z\", \"2014-04-01T00:00:00.000Z\", \"2014-07-01T00:00:00.000Z\", \"2014-10-01T00:00:00.000Z\", \"2015-01-01T00:00:00.000Z\", \"2015-04-01T00:00:00.000Z\", \"2015-07-01T00:00:00.000Z\", \"2015-10-01T00:00:00.000Z\", \"2016-01-01T00:00:00.000Z\", \"2016-04-01T00:00:00.000Z\", \"2016-07-01T00:00:00.000Z\", \"2016-10-01T00:00:00.000Z\", \"2017-01-01T00:00:00.000Z\"]}, {\"name\": \"male\", \"type\": \"scatter\", \"y\": [417, 626, 738, 948, 1043, 1194, 1223, 1365, 1414, 1549, 1581, 1684, 1639, 1654, 1503, 1295], \"x\": [\"2013-04-01T00:00:00.000Z\", \"2013-07-01T00:00:00.000Z\", \"2013-10-01T00:00:00.000Z\", \"2014-01-01T00:00:00.000Z\", \"2014-04-01T00:00:00.000Z\", \"2014-07-01T00:00:00.000Z\", \"2014-10-01T00:00:00.000Z\", \"2015-01-01T00:00:00.000Z\", \"2015-04-01T00:00:00.000Z\", \"2015-07-01T00:00:00.000Z\", \"2015-10-01T00:00:00.000Z\", \"2016-01-01T00:00:00.000Z\", \"2016-04-01T00:00:00.000Z\", \"2016-07-01T00:00:00.000Z\", \"2016-10-01T00:00:00.000Z\", \"2017-01-01T00:00:00.000Z\"]}, {\"name\": \"unknown\", \"type\": \"scatter\", \"y\": [97, 142, 163, 206, 212, 204, 241, 258, 285, 379, 364, 407, 443, 463, 467, 402], \"x\": [\"2013-04-01T00:00:00.000Z\", \"2013-07-01T00:00:00.000Z\", \"2013-10-01T00:00:00.000Z\", \"2014-01-01T00:00:00.000Z\", \"2014-04-01T00:00:00.000Z\", \"2014-07-01T00:00:00.000Z\", \"2014-10-01T00:00:00.000Z\", \"2015-01-01T00:00:00.000Z\", \"2015-04-01T00:00:00.000Z\", \"2015-07-01T00:00:00.000Z\", \"2015-10-01T00:00:00.000Z\", \"2016-01-01T00:00:00.000Z\", \"2016-04-01T00:00:00.000Z\", \"2016-07-01T00:00:00.000Z\", \"2016-10-01T00:00:00.000Z\", \"2017-01-01T00:00:00.000Z\"]}], {}, {\"linkText\": \"Export to plot.ly\", \"showLink\": true})});</script>"
       ],
       "metadata": {},
       "output_type": "display_data",
       "text/vnd.plotly.v1+html": "<div id=\"1a7dcaf0-ab01-4048-a1cc-860026e6bd43\" style=\"height: 525px; width: 100%;\" class=\"plotly-graph-div\"></div><script type=\"text/javascript\">require([\"plotly\"], function(Plotly) { window.PLOTLYENV=window.PLOTLYENV || {};window.PLOTLYENV.BASE_URL=\"https://plot.ly\";Plotly.newPlot(\"1a7dcaf0-ab01-4048-a1cc-860026e6bd43\", [{\"name\": \"female\", \"type\": \"scatter\", \"y\": [52, 85, 94, 117, 139, 162, 160, 200, 226, 252, 257, 283, 270, 287, 231, 215], \"x\": [\"2013-04-01T00:00:00.000Z\", \"2013-07-01T00:00:00.000Z\", \"2013-10-01T00:00:00.000Z\", \"2014-01-01T00:00:00.000Z\", \"2014-04-01T00:00:00.000Z\", \"2014-07-01T00:00:00.000Z\", \"2014-10-01T00:00:00.000Z\", \"2015-01-01T00:00:00.000Z\", \"2015-04-01T00:00:00.000Z\", \"2015-07-01T00:00:00.000Z\", \"2015-10-01T00:00:00.000Z\", \"2016-01-01T00:00:00.000Z\", \"2016-04-01T00:00:00.000Z\", \"2016-07-01T00:00:00.000Z\", \"2016-10-01T00:00:00.000Z\", \"2017-01-01T00:00:00.000Z\"]}, {\"name\": \"male\", \"type\": \"scatter\", \"y\": [417, 626, 738, 948, 1043, 1194, 1223, 1365, 1414, 1549, 1581, 1684, 1639, 1654, 1503, 1295], \"x\": [\"2013-04-01T00:00:00.000Z\", \"2013-07-01T00:00:00.000Z\", \"2013-10-01T00:00:00.000Z\", \"2014-01-01T00:00:00.000Z\", \"2014-04-01T00:00:00.000Z\", \"2014-07-01T00:00:00.000Z\", \"2014-10-01T00:00:00.000Z\", \"2015-01-01T00:00:00.000Z\", \"2015-04-01T00:00:00.000Z\", \"2015-07-01T00:00:00.000Z\", \"2015-10-01T00:00:00.000Z\", \"2016-01-01T00:00:00.000Z\", \"2016-04-01T00:00:00.000Z\", \"2016-07-01T00:00:00.000Z\", \"2016-10-01T00:00:00.000Z\", \"2017-01-01T00:00:00.000Z\"]}, {\"name\": \"unknown\", \"type\": \"scatter\", \"y\": [97, 142, 163, 206, 212, 204, 241, 258, 285, 379, 364, 407, 443, 463, 467, 402], \"x\": [\"2013-04-01T00:00:00.000Z\", \"2013-07-01T00:00:00.000Z\", \"2013-10-01T00:00:00.000Z\", \"2014-01-01T00:00:00.000Z\", \"2014-04-01T00:00:00.000Z\", \"2014-07-01T00:00:00.000Z\", \"2014-10-01T00:00:00.000Z\", \"2015-01-01T00:00:00.000Z\", \"2015-04-01T00:00:00.000Z\", \"2015-07-01T00:00:00.000Z\", \"2015-10-01T00:00:00.000Z\", \"2016-01-01T00:00:00.000Z\", \"2016-04-01T00:00:00.000Z\", \"2016-07-01T00:00:00.000Z\", \"2016-10-01T00:00:00.000Z\", \"2017-01-01T00:00:00.000Z\"]}], {}, {\"linkText\": \"Export to plot.ly\", \"showLink\": true})});</script>"
      }
     ],
     "prompt_number": 29
    },
    {
     "cell_type": "markdown",
     "metadata": {},
     "source": [
      "## Number of core reviews (-2 OR +2) by gender"
     ]
    },
    {
     "cell_type": "code",
     "collapsed": false,
     "input": [
      "s = Search(using=es_conn, index='gerrit_eventized')  # Index selection\n",
      "s = s.filter('terms', value=[\"2\", \"-2\"])\n",
      "s = s.filter('range', date={'gt': 'now/M-4y', 'lt':'now/M'}) # filter date\n",
      "s = s.filter('term', eventtype='CHANGESET_PATCHSET_APPROVAL_Code-Review') # filter by event: vote a code review\n",
      "s.aggs.bucket('gender', 'terms', field='gender')\\\n",
      "      .bucket('time', 'date_histogram', field='date', interval='quarter')\\\n",
      "      .metric('core_reviewers', 'cardinality', field='uuid', precision_threshold=10000)\n",
      "result = s.execute()"
     ],
     "language": "python",
     "metadata": {},
     "outputs": [],
     "prompt_number": 30
    },
    {
     "cell_type": "code",
     "collapsed": false,
     "input": [
      "value = result.to_dict()[\"aggregations\"]['gender']['buckets']\n",
      "df = pandas.DataFrame()\n",
      "for i in value:\n",
      "    df2 = (pandas.DataFrame.from_dict(i[\"time\"][\"buckets\"]))\n",
      "    df2[\"gender\"] = i[\"key\"]\n",
      "    df2[\"core_reviewers\"] = df2[\"core_reviewers\"].apply(lambda row:row[\"value\"])\n",
      "    df = pandas.concat([df, df2])"
     ],
     "language": "python",
     "metadata": {},
     "outputs": [],
     "prompt_number": 31
    },
    {
     "cell_type": "code",
     "collapsed": false,
     "input": [
      "# Number of core reviewers by gender\n",
      "female_core_reviewers = plotly.graph_objs.Scatter(\n",
      "    x = df[df[\"gender\"]==\"female\"][\"key_as_string\"],\n",
      "    y = df[df[\"gender\"]==\"female\"][\"doc_count\"],\n",
      "    name = 'female'\n",
      ")\n",
      "\n",
      "male_core_reviewers = plotly.graph_objs.Scatter(\n",
      "    x = df[df[\"gender\"]==\"male\"][\"key_as_string\"],\n",
      "    y = df[df[\"gender\"]==\"male\"][\"doc_count\"],\n",
      "    name = 'male'\n",
      ")\n",
      "\n",
      "unknown_core_reviewers = plotly.graph_objs.Scatter(\n",
      "    x = df[df[\"gender\"]==\"NotKnown\"][\"key_as_string\"],\n",
      "    y = df[df[\"gender\"]==\"NotKnown\"][\"doc_count\"],\n",
      "    name = 'unknown'\n",
      ")\n",
      "\n",
      "iplot([female_core_reviewers, male_core_reviewers, unknown_core_reviewers])\n",
      "# Using only plot and not iplot creates and HTML page with JS to play with the chart"
     ],
     "language": "python",
     "metadata": {},
     "outputs": [
      {
       "application/vnd.plotly.v1+json": {
        "data": [
         {
          "name": "female",
          "type": "scatter",
          "x": [
           "2013-04-01T00:00:00.000Z",
           "2013-07-01T00:00:00.000Z",
           "2013-10-01T00:00:00.000Z",
           "2014-01-01T00:00:00.000Z",
           "2014-04-01T00:00:00.000Z",
           "2014-07-01T00:00:00.000Z",
           "2014-10-01T00:00:00.000Z",
           "2015-01-01T00:00:00.000Z",
           "2015-04-01T00:00:00.000Z",
           "2015-07-01T00:00:00.000Z",
           "2015-10-01T00:00:00.000Z",
           "2016-01-01T00:00:00.000Z",
           "2016-04-01T00:00:00.000Z",
           "2016-07-01T00:00:00.000Z",
           "2016-10-01T00:00:00.000Z",
           "2017-01-01T00:00:00.000Z"
          ],
          "y": [
           1413,
           3859,
           3840,
           5084,
           5529,
           6764,
           6081,
           8715,
           9584,
           13049,
           12649,
           11637,
           10404,
           11142,
           8732,
           8254
          ]
         },
         {
          "name": "male",
          "type": "scatter",
          "x": [
           "2013-04-01T00:00:00.000Z",
           "2013-07-01T00:00:00.000Z",
           "2013-10-01T00:00:00.000Z",
           "2014-01-01T00:00:00.000Z",
           "2014-04-01T00:00:00.000Z",
           "2014-07-01T00:00:00.000Z",
           "2014-10-01T00:00:00.000Z",
           "2015-01-01T00:00:00.000Z",
           "2015-04-01T00:00:00.000Z",
           "2015-07-01T00:00:00.000Z",
           "2015-10-01T00:00:00.000Z",
           "2016-01-01T00:00:00.000Z",
           "2016-04-01T00:00:00.000Z",
           "2016-07-01T00:00:00.000Z",
           "2016-10-01T00:00:00.000Z",
           "2017-01-01T00:00:00.000Z"
          ],
          "y": [
           21579,
           55119,
           51540,
           77171,
           67463,
           81871,
           66543,
           93075,
           94813,
           111212,
           102381,
           125792,
           108374,
           133601,
           96758,
           89853
          ]
         },
         {
          "name": "unknown",
          "type": "scatter",
          "x": [
           "2013-04-01T00:00:00.000Z",
           "2013-07-01T00:00:00.000Z",
           "2013-10-01T00:00:00.000Z",
           "2014-01-01T00:00:00.000Z",
           "2014-04-01T00:00:00.000Z",
           "2014-07-01T00:00:00.000Z",
           "2014-10-01T00:00:00.000Z",
           "2015-01-01T00:00:00.000Z",
           "2015-04-01T00:00:00.000Z",
           "2015-07-01T00:00:00.000Z",
           "2015-10-01T00:00:00.000Z",
           "2016-01-01T00:00:00.000Z",
           "2016-04-01T00:00:00.000Z",
           "2016-07-01T00:00:00.000Z",
           "2016-10-01T00:00:00.000Z",
           "2017-01-01T00:00:00.000Z"
          ],
          "y": [
           3502,
           4548,
           4457,
           7399,
           5416,
           7764,
           5265,
           9491,
           8517,
           13719,
           16407,
           16736,
           15233,
           15355,
           13068,
           12707
          ]
         }
        ],
        "layout": {}
       },
       "html": [
        "<div id=\"bf6c32a5-fd09-43cf-bc16-d85a420667f9\" style=\"height: 525px; width: 100%;\" class=\"plotly-graph-div\"></div><script type=\"text/javascript\">require([\"plotly\"], function(Plotly) { window.PLOTLYENV=window.PLOTLYENV || {};window.PLOTLYENV.BASE_URL=\"https://plot.ly\";Plotly.newPlot(\"bf6c32a5-fd09-43cf-bc16-d85a420667f9\", [{\"name\": \"female\", \"type\": \"scatter\", \"y\": [1413, 3859, 3840, 5084, 5529, 6764, 6081, 8715, 9584, 13049, 12649, 11637, 10404, 11142, 8732, 8254], \"x\": [\"2013-04-01T00:00:00.000Z\", \"2013-07-01T00:00:00.000Z\", \"2013-10-01T00:00:00.000Z\", \"2014-01-01T00:00:00.000Z\", \"2014-04-01T00:00:00.000Z\", \"2014-07-01T00:00:00.000Z\", \"2014-10-01T00:00:00.000Z\", \"2015-01-01T00:00:00.000Z\", \"2015-04-01T00:00:00.000Z\", \"2015-07-01T00:00:00.000Z\", \"2015-10-01T00:00:00.000Z\", \"2016-01-01T00:00:00.000Z\", \"2016-04-01T00:00:00.000Z\", \"2016-07-01T00:00:00.000Z\", \"2016-10-01T00:00:00.000Z\", \"2017-01-01T00:00:00.000Z\"]}, {\"name\": \"male\", \"type\": \"scatter\", \"y\": [21579, 55119, 51540, 77171, 67463, 81871, 66543, 93075, 94813, 111212, 102381, 125792, 108374, 133601, 96758, 89853], \"x\": [\"2013-04-01T00:00:00.000Z\", \"2013-07-01T00:00:00.000Z\", \"2013-10-01T00:00:00.000Z\", \"2014-01-01T00:00:00.000Z\", \"2014-04-01T00:00:00.000Z\", \"2014-07-01T00:00:00.000Z\", \"2014-10-01T00:00:00.000Z\", \"2015-01-01T00:00:00.000Z\", \"2015-04-01T00:00:00.000Z\", \"2015-07-01T00:00:00.000Z\", \"2015-10-01T00:00:00.000Z\", \"2016-01-01T00:00:00.000Z\", \"2016-04-01T00:00:00.000Z\", \"2016-07-01T00:00:00.000Z\", \"2016-10-01T00:00:00.000Z\", \"2017-01-01T00:00:00.000Z\"]}, {\"name\": \"unknown\", \"type\": \"scatter\", \"y\": [3502, 4548, 4457, 7399, 5416, 7764, 5265, 9491, 8517, 13719, 16407, 16736, 15233, 15355, 13068, 12707], \"x\": [\"2013-04-01T00:00:00.000Z\", \"2013-07-01T00:00:00.000Z\", \"2013-10-01T00:00:00.000Z\", \"2014-01-01T00:00:00.000Z\", \"2014-04-01T00:00:00.000Z\", \"2014-07-01T00:00:00.000Z\", \"2014-10-01T00:00:00.000Z\", \"2015-01-01T00:00:00.000Z\", \"2015-04-01T00:00:00.000Z\", \"2015-07-01T00:00:00.000Z\", \"2015-10-01T00:00:00.000Z\", \"2016-01-01T00:00:00.000Z\", \"2016-04-01T00:00:00.000Z\", \"2016-07-01T00:00:00.000Z\", \"2016-10-01T00:00:00.000Z\", \"2017-01-01T00:00:00.000Z\"]}], {}, {\"linkText\": \"Export to plot.ly\", \"showLink\": true})});</script>"
       ],
       "metadata": {},
       "output_type": "display_data",
       "text/vnd.plotly.v1+html": "<div id=\"bf6c32a5-fd09-43cf-bc16-d85a420667f9\" style=\"height: 525px; width: 100%;\" class=\"plotly-graph-div\"></div><script type=\"text/javascript\">require([\"plotly\"], function(Plotly) { window.PLOTLYENV=window.PLOTLYENV || {};window.PLOTLYENV.BASE_URL=\"https://plot.ly\";Plotly.newPlot(\"bf6c32a5-fd09-43cf-bc16-d85a420667f9\", [{\"name\": \"female\", \"type\": \"scatter\", \"y\": [1413, 3859, 3840, 5084, 5529, 6764, 6081, 8715, 9584, 13049, 12649, 11637, 10404, 11142, 8732, 8254], \"x\": [\"2013-04-01T00:00:00.000Z\", \"2013-07-01T00:00:00.000Z\", \"2013-10-01T00:00:00.000Z\", \"2014-01-01T00:00:00.000Z\", \"2014-04-01T00:00:00.000Z\", \"2014-07-01T00:00:00.000Z\", \"2014-10-01T00:00:00.000Z\", \"2015-01-01T00:00:00.000Z\", \"2015-04-01T00:00:00.000Z\", \"2015-07-01T00:00:00.000Z\", \"2015-10-01T00:00:00.000Z\", \"2016-01-01T00:00:00.000Z\", \"2016-04-01T00:00:00.000Z\", \"2016-07-01T00:00:00.000Z\", \"2016-10-01T00:00:00.000Z\", \"2017-01-01T00:00:00.000Z\"]}, {\"name\": \"male\", \"type\": \"scatter\", \"y\": [21579, 55119, 51540, 77171, 67463, 81871, 66543, 93075, 94813, 111212, 102381, 125792, 108374, 133601, 96758, 89853], \"x\": [\"2013-04-01T00:00:00.000Z\", \"2013-07-01T00:00:00.000Z\", \"2013-10-01T00:00:00.000Z\", \"2014-01-01T00:00:00.000Z\", \"2014-04-01T00:00:00.000Z\", \"2014-07-01T00:00:00.000Z\", \"2014-10-01T00:00:00.000Z\", \"2015-01-01T00:00:00.000Z\", \"2015-04-01T00:00:00.000Z\", \"2015-07-01T00:00:00.000Z\", \"2015-10-01T00:00:00.000Z\", \"2016-01-01T00:00:00.000Z\", \"2016-04-01T00:00:00.000Z\", \"2016-07-01T00:00:00.000Z\", \"2016-10-01T00:00:00.000Z\", \"2017-01-01T00:00:00.000Z\"]}, {\"name\": \"unknown\", \"type\": \"scatter\", \"y\": [3502, 4548, 4457, 7399, 5416, 7764, 5265, 9491, 8517, 13719, 16407, 16736, 15233, 15355, 13068, 12707], \"x\": [\"2013-04-01T00:00:00.000Z\", \"2013-07-01T00:00:00.000Z\", \"2013-10-01T00:00:00.000Z\", \"2014-01-01T00:00:00.000Z\", \"2014-04-01T00:00:00.000Z\", \"2014-07-01T00:00:00.000Z\", \"2014-10-01T00:00:00.000Z\", \"2015-01-01T00:00:00.000Z\", \"2015-04-01T00:00:00.000Z\", \"2015-07-01T00:00:00.000Z\", \"2015-10-01T00:00:00.000Z\", \"2016-01-01T00:00:00.000Z\", \"2016-04-01T00:00:00.000Z\", \"2016-07-01T00:00:00.000Z\", \"2016-10-01T00:00:00.000Z\", \"2017-01-01T00:00:00.000Z\"]}], {}, {\"linkText\": \"Export to plot.ly\", \"showLink\": true})});</script>"
      }
     ],
     "prompt_number": 32
    },
    {
     "cell_type": "markdown",
     "metadata": {},
     "source": [
      "## Number of people acting as core reviews (-2 OR +2) by gender"
     ]
    },
    {
     "cell_type": "code",
     "collapsed": false,
     "input": [
      "# Number of core reviewers by gender\n",
      "female_core_reviewers = plotly.graph_objs.Scatter(\n",
      "    x = df[df[\"gender\"]==\"female\"][\"key_as_string\"],\n",
      "    y = df[df[\"gender\"]==\"female\"][\"core_reviewers\"],\n",
      "    name = 'female'\n",
      ")\n",
      "\n",
      "male_core_reviewers = plotly.graph_objs.Scatter(\n",
      "    x = df[df[\"gender\"]==\"male\"][\"key_as_string\"],\n",
      "    y = df[df[\"gender\"]==\"male\"][\"core_reviewers\"],\n",
      "    name = 'male'\n",
      ")\n",
      "\n",
      "unknown_core_reviewers = plotly.graph_objs.Scatter(\n",
      "    x = df[df[\"gender\"]==\"NotKnown\"][\"key_as_string\"],\n",
      "    y = df[df[\"gender\"]==\"NotKnown\"][\"core_reviewers\"],\n",
      "    name = 'unknown'\n",
      ")\n",
      "\n",
      "iplot([female_core_reviewers, male_core_reviewers, unknown_core_reviewers])\n",
      "# Using only plot and not iplot creates and HTML page with JS to play with the chart"
     ],
     "language": "python",
     "metadata": {},
     "outputs": [
      {
       "application/vnd.plotly.v1+json": {
        "data": [
         {
          "name": "female",
          "type": "scatter",
          "x": [
           "2013-04-01T00:00:00.000Z",
           "2013-07-01T00:00:00.000Z",
           "2013-10-01T00:00:00.000Z",
           "2014-01-01T00:00:00.000Z",
           "2014-04-01T00:00:00.000Z",
           "2014-07-01T00:00:00.000Z",
           "2014-10-01T00:00:00.000Z",
           "2015-01-01T00:00:00.000Z",
           "2015-04-01T00:00:00.000Z",
           "2015-07-01T00:00:00.000Z",
           "2015-10-01T00:00:00.000Z",
           "2016-01-01T00:00:00.000Z",
           "2016-04-01T00:00:00.000Z",
           "2016-07-01T00:00:00.000Z",
           "2016-10-01T00:00:00.000Z",
           "2017-01-01T00:00:00.000Z"
          ],
          "y": [
           13,
           18,
           20,
           28,
           33,
           40,
           43,
           62,
           65,
           86,
           100,
           105,
           107,
           104,
           95,
           87
          ]
         },
         {
          "name": "male",
          "type": "scatter",
          "x": [
           "2013-04-01T00:00:00.000Z",
           "2013-07-01T00:00:00.000Z",
           "2013-10-01T00:00:00.000Z",
           "2014-01-01T00:00:00.000Z",
           "2014-04-01T00:00:00.000Z",
           "2014-07-01T00:00:00.000Z",
           "2014-10-01T00:00:00.000Z",
           "2015-01-01T00:00:00.000Z",
           "2015-04-01T00:00:00.000Z",
           "2015-07-01T00:00:00.000Z",
           "2015-10-01T00:00:00.000Z",
           "2016-01-01T00:00:00.000Z",
           "2016-04-01T00:00:00.000Z",
           "2016-07-01T00:00:00.000Z",
           "2016-10-01T00:00:00.000Z",
           "2017-01-01T00:00:00.000Z"
          ],
          "y": [
           129,
           190,
           219,
           282,
           297,
           345,
           361,
           422,
           493,
           544,
           585,
           604,
           656,
           692,
           682,
           622
          ]
         },
         {
          "name": "unknown",
          "type": "scatter",
          "x": [
           "2013-04-01T00:00:00.000Z",
           "2013-07-01T00:00:00.000Z",
           "2013-10-01T00:00:00.000Z",
           "2014-01-01T00:00:00.000Z",
           "2014-04-01T00:00:00.000Z",
           "2014-07-01T00:00:00.000Z",
           "2014-10-01T00:00:00.000Z",
           "2015-01-01T00:00:00.000Z",
           "2015-04-01T00:00:00.000Z",
           "2015-07-01T00:00:00.000Z",
           "2015-10-01T00:00:00.000Z",
           "2016-01-01T00:00:00.000Z",
           "2016-04-01T00:00:00.000Z",
           "2016-07-01T00:00:00.000Z",
           "2016-10-01T00:00:00.000Z",
           "2017-01-01T00:00:00.000Z"
          ],
          "y": [
           33,
           37,
           38,
           45,
           49,
           46,
           48,
           56,
           65,
           96,
           118,
           124,
           131,
           140,
           130,
           141
          ]
         }
        ],
        "layout": {}
       },
       "html": [
        "<div id=\"456eba28-698f-45e7-9a26-c33e34566db7\" style=\"height: 525px; width: 100%;\" class=\"plotly-graph-div\"></div><script type=\"text/javascript\">require([\"plotly\"], function(Plotly) { window.PLOTLYENV=window.PLOTLYENV || {};window.PLOTLYENV.BASE_URL=\"https://plot.ly\";Plotly.newPlot(\"456eba28-698f-45e7-9a26-c33e34566db7\", [{\"name\": \"female\", \"type\": \"scatter\", \"y\": [13, 18, 20, 28, 33, 40, 43, 62, 65, 86, 100, 105, 107, 104, 95, 87], \"x\": [\"2013-04-01T00:00:00.000Z\", \"2013-07-01T00:00:00.000Z\", \"2013-10-01T00:00:00.000Z\", \"2014-01-01T00:00:00.000Z\", \"2014-04-01T00:00:00.000Z\", \"2014-07-01T00:00:00.000Z\", \"2014-10-01T00:00:00.000Z\", \"2015-01-01T00:00:00.000Z\", \"2015-04-01T00:00:00.000Z\", \"2015-07-01T00:00:00.000Z\", \"2015-10-01T00:00:00.000Z\", \"2016-01-01T00:00:00.000Z\", \"2016-04-01T00:00:00.000Z\", \"2016-07-01T00:00:00.000Z\", \"2016-10-01T00:00:00.000Z\", \"2017-01-01T00:00:00.000Z\"]}, {\"name\": \"male\", \"type\": \"scatter\", \"y\": [129, 190, 219, 282, 297, 345, 361, 422, 493, 544, 585, 604, 656, 692, 682, 622], \"x\": [\"2013-04-01T00:00:00.000Z\", \"2013-07-01T00:00:00.000Z\", \"2013-10-01T00:00:00.000Z\", \"2014-01-01T00:00:00.000Z\", \"2014-04-01T00:00:00.000Z\", \"2014-07-01T00:00:00.000Z\", \"2014-10-01T00:00:00.000Z\", \"2015-01-01T00:00:00.000Z\", \"2015-04-01T00:00:00.000Z\", \"2015-07-01T00:00:00.000Z\", \"2015-10-01T00:00:00.000Z\", \"2016-01-01T00:00:00.000Z\", \"2016-04-01T00:00:00.000Z\", \"2016-07-01T00:00:00.000Z\", \"2016-10-01T00:00:00.000Z\", \"2017-01-01T00:00:00.000Z\"]}, {\"name\": \"unknown\", \"type\": \"scatter\", \"y\": [33, 37, 38, 45, 49, 46, 48, 56, 65, 96, 118, 124, 131, 140, 130, 141], \"x\": [\"2013-04-01T00:00:00.000Z\", \"2013-07-01T00:00:00.000Z\", \"2013-10-01T00:00:00.000Z\", \"2014-01-01T00:00:00.000Z\", \"2014-04-01T00:00:00.000Z\", \"2014-07-01T00:00:00.000Z\", \"2014-10-01T00:00:00.000Z\", \"2015-01-01T00:00:00.000Z\", \"2015-04-01T00:00:00.000Z\", \"2015-07-01T00:00:00.000Z\", \"2015-10-01T00:00:00.000Z\", \"2016-01-01T00:00:00.000Z\", \"2016-04-01T00:00:00.000Z\", \"2016-07-01T00:00:00.000Z\", \"2016-10-01T00:00:00.000Z\", \"2017-01-01T00:00:00.000Z\"]}], {}, {\"linkText\": \"Export to plot.ly\", \"showLink\": true})});</script>"
       ],
       "metadata": {},
       "output_type": "display_data",
       "text/vnd.plotly.v1+html": "<div id=\"456eba28-698f-45e7-9a26-c33e34566db7\" style=\"height: 525px; width: 100%;\" class=\"plotly-graph-div\"></div><script type=\"text/javascript\">require([\"plotly\"], function(Plotly) { window.PLOTLYENV=window.PLOTLYENV || {};window.PLOTLYENV.BASE_URL=\"https://plot.ly\";Plotly.newPlot(\"456eba28-698f-45e7-9a26-c33e34566db7\", [{\"name\": \"female\", \"type\": \"scatter\", \"y\": [13, 18, 20, 28, 33, 40, 43, 62, 65, 86, 100, 105, 107, 104, 95, 87], \"x\": [\"2013-04-01T00:00:00.000Z\", \"2013-07-01T00:00:00.000Z\", \"2013-10-01T00:00:00.000Z\", \"2014-01-01T00:00:00.000Z\", \"2014-04-01T00:00:00.000Z\", \"2014-07-01T00:00:00.000Z\", \"2014-10-01T00:00:00.000Z\", \"2015-01-01T00:00:00.000Z\", \"2015-04-01T00:00:00.000Z\", \"2015-07-01T00:00:00.000Z\", \"2015-10-01T00:00:00.000Z\", \"2016-01-01T00:00:00.000Z\", \"2016-04-01T00:00:00.000Z\", \"2016-07-01T00:00:00.000Z\", \"2016-10-01T00:00:00.000Z\", \"2017-01-01T00:00:00.000Z\"]}, {\"name\": \"male\", \"type\": \"scatter\", \"y\": [129, 190, 219, 282, 297, 345, 361, 422, 493, 544, 585, 604, 656, 692, 682, 622], \"x\": [\"2013-04-01T00:00:00.000Z\", \"2013-07-01T00:00:00.000Z\", \"2013-10-01T00:00:00.000Z\", \"2014-01-01T00:00:00.000Z\", \"2014-04-01T00:00:00.000Z\", \"2014-07-01T00:00:00.000Z\", \"2014-10-01T00:00:00.000Z\", \"2015-01-01T00:00:00.000Z\", \"2015-04-01T00:00:00.000Z\", \"2015-07-01T00:00:00.000Z\", \"2015-10-01T00:00:00.000Z\", \"2016-01-01T00:00:00.000Z\", \"2016-04-01T00:00:00.000Z\", \"2016-07-01T00:00:00.000Z\", \"2016-10-01T00:00:00.000Z\", \"2017-01-01T00:00:00.000Z\"]}, {\"name\": \"unknown\", \"type\": \"scatter\", \"y\": [33, 37, 38, 45, 49, 46, 48, 56, 65, 96, 118, 124, 131, 140, 130, 141], \"x\": [\"2013-04-01T00:00:00.000Z\", \"2013-07-01T00:00:00.000Z\", \"2013-10-01T00:00:00.000Z\", \"2014-01-01T00:00:00.000Z\", \"2014-04-01T00:00:00.000Z\", \"2014-07-01T00:00:00.000Z\", \"2014-10-01T00:00:00.000Z\", \"2015-01-01T00:00:00.000Z\", \"2015-04-01T00:00:00.000Z\", \"2015-07-01T00:00:00.000Z\", \"2015-10-01T00:00:00.000Z\", \"2016-01-01T00:00:00.000Z\", \"2016-04-01T00:00:00.000Z\", \"2016-07-01T00:00:00.000Z\", \"2016-10-01T00:00:00.000Z\", \"2017-01-01T00:00:00.000Z\"]}], {}, {\"linkText\": \"Export to plot.ly\", \"showLink\": true})});</script>"
      }
     ],
     "prompt_number": 33
    },
    {
     "cell_type": "code",
     "collapsed": false,
     "input": [],
     "language": "python",
     "metadata": {},
     "outputs": [],
     "prompt_number": 33
    },
    {
     "cell_type": "code",
     "collapsed": false,
     "input": [],
     "language": "python",
     "metadata": {},
     "outputs": []
    }
   ],
   "metadata": {}
  }
 ]
}