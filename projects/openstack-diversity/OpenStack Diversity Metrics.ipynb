{
 "metadata": {
  "name": "",
  "signature": "sha256:6b31ad26d60266ba6b12b7f852d5664471ee5ea0a5157b764b0ef2446cb41594"
 },
 "nbformat": 3,
 "nbformat_minor": 0,
 "worksheets": [
  {
   "cells": [
    {
     "cell_type": "code",
     "collapsed": false,
     "input": [
      "import plotly\n",
      "import plotly.plotly as py\n",
      "from plotly.offline import download_plotlyjs, init_notebook_mode, plot, iplot\n",
      "\n",
      "import pandas\n",
      "\n",
      "from util import ESConnection\n",
      "from elasticsearch_dsl import Search, Q\n",
      "\n",
      "es_conn = ESConnection()\n",
      "\n",
      "init_notebook_mode(connected=True)\n"
     ],
     "language": "python",
     "metadata": {},
     "outputs": [
      {
       "html": [
        "<script>requirejs.config({paths: { 'plotly': ['https://cdn.plot.ly/plotly-latest.min']},});if(!window.Plotly) {{require(['plotly'],function(plotly) {window.Plotly=plotly;});}}</script>"
       ],
       "metadata": {},
       "output_type": "display_data",
       "text/vnd.plotly.v1+html": "<script>requirejs.config({paths: { 'plotly': ['https://cdn.plot.ly/plotly-latest.min']},});if(!window.Plotly) {{require(['plotly'],function(plotly) {window.Plotly=plotly;});}}</script>"
      }
     ],
     "prompt_number": 14
    },
    {
     "cell_type": "markdown",
     "metadata": {},
     "source": [
      "## Basic metrics to be in the report:\n",
      "\n",
      "**Git**\n",
      "* Evolution and trends over time [per quarter] of commits by gender\n",
      "  * Commits by gender (columns: hash, gender)\n",
      "* Evolution and trends [per quarter] of developers over time by gender\n",
      "  * Developers by gender (columns: name, uuid, gender)\n",
      "* Evolution and trends of type of contributions (code or others) by gender over time\n",
      "  * Type of file touched by developers (columns: filetype, gender)\n",
      "\n",
      "**Gerrit**\n",
      "* Evolution of code reviews over time by gender\n",
      "  * Count votes by gender (vote, gender)\n",
      "* Evolution of code reviews developers over time by gender\n",
      "  * Count people voting (name, uuid, vote)\n",
      "* Evolution of core reviews over time by gender\n",
      "  * Votes +2 or -2 (vote +2/-2 and gender)\n",
      "* Evolution of core review developers over time by gender\n",
      "  * People voting +2 or -2 (name, uuid, vote +2/-2, gender)\n",
      "\n",
      "**Others**\n",
      "* Evolution of attracted developers over time by gender\n",
      "  * First commit by gender\n",
      "* Time working in the community by gender\n",
      "  * Time difference between the first and last contribution by all developers (so how long developers remain in OpenStack?)."
     ]
    },
    {
     "cell_type": "markdown",
     "metadata": {},
     "source": [
      "# SOME FUNCTIONS"
     ]
    },
    {
     "cell_type": "code",
     "collapsed": false,
     "input": [
      "def query_metric_over_time(index, metric_name, metric_field, filters = []):\n",
      "    \n",
      "    s = Search(using=es_conn, index=index)  # Index selection\n",
      "    for filtering in filters:\n",
      "        s = s.filter(filtering)\n",
      "    s.aggs.bucket('gender', 'terms', field='gender')\\\n",
      "          .bucket('time', 'date_histogram', field='date', interval='quarter')\\\n",
      "          .metric(metric_name, 'cardinality', field=metric_field, precision_threshold=10000)\n",
      "    result = s.execute()\n",
      "\n",
      "    value = result.to_dict()[\"aggregations\"]['gender']['buckets']\n",
      "    \n",
      "    df = pandas.DataFrame()\n",
      "    for i in value:\n",
      "        df2 = (pandas.DataFrame.from_dict(i[\"time\"][\"buckets\"]))\n",
      "        df2[\"gender\"] = i[\"key\"]\n",
      "        df2[metric_name] = df2[metric_name].apply(lambda row:row[\"value\"])\n",
      "        df = pandas.concat([df, df2])\n",
      "        \n",
      "    return df"
     ],
     "language": "python",
     "metadata": {},
     "outputs": [],
     "prompt_number": 6
    },
    {
     "cell_type": "code",
     "collapsed": false,
     "input": [
      "def query_total_piechart(index, metric_name, metric_field, filters = []):\n",
      "    s = Search(using=es_conn, index=index)  # Index selection\n",
      "    for filtering in filters:\n",
      "        s = s.filter(filtering)\n",
      "    #s = s.filter('range', date={'gt': start_date, 'lt':'now/M'}) # filter date\n",
      "    s.aggs.bucket('gender', 'terms', field='gender')\\\n",
      "          .metric(metric_name, 'cardinality', field=metric_field, precision_threshold=10000)\n",
      "    result = s.execute()\n",
      "    \n",
      "    buckets = result.to_dict()[\"aggregations\"][\"gender\"][\"buckets\"]\n",
      "    pie_chart_labels = []\n",
      "    pie_chart_values = []\n",
      "    for bucket in buckets:\n",
      "        pie_chart_labels.append(bucket[\"key\"])\n",
      "        pie_chart_values.append(bucket[metric_name][\"value\"])\n",
      "        \n",
      "    return pie_chart_labels, pie_chart_values"
     ],
     "language": "python",
     "metadata": {},
     "outputs": [],
     "prompt_number": 39
    },
    {
     "cell_type": "code",
     "collapsed": false,
     "input": [
      "def draw_evolutionary_chart(label, values):\n",
      "    female_changesets = plotly.graph_objs.Scatter(\n",
      "    x = df[df[\"gender\"]==\"female\"][label],\n",
      "    y = df[df[\"gender\"]==\"female\"][values],\n",
      "    name = 'female'\n",
      "    )\n",
      "\n",
      "    male_changesets = plotly.graph_objs.Scatter(\n",
      "        x = df[df[\"gender\"]==\"male\"][label],\n",
      "        y = df[df[\"gender\"]==\"male\"][values],\n",
      "        name = 'male'\n",
      "    )\n",
      "\n",
      "    unknown_changesets = plotly.graph_objs.Scatter(\n",
      "        x = df[df[\"gender\"]==\"NotKnown\"][label],\n",
      "        y = df[df[\"gender\"]==\"NotKnown\"][values],\n",
      "        name = 'unknown'\n",
      "    )\n",
      "\n",
      "    iplot([female_changesets, male_changesets, unknown_changesets])\n",
      "    # Using only plot and not iplot creates and HTML page with JS to play with the chart"
     ],
     "language": "python",
     "metadata": {},
     "outputs": [],
     "prompt_number": 78
    },
    {
     "cell_type": "code",
     "collapsed": false,
     "input": [
      "def draw_piechart(pie_chart_labels, pie_chart_values, title):\n",
      "    fig = {\n",
      "    'data': [{'labels': pie_chart_labels,\n",
      "              'values': pie_chart_values,\n",
      "              'type': 'pie'}],\n",
      "    'layout': {'title': title}\n",
      "     }\n",
      "    iplot(fig)"
     ],
     "language": "python",
     "metadata": {},
     "outputs": [],
     "prompt_number": 89
    },
    {
     "cell_type": "markdown",
     "metadata": {},
     "source": [
      "# GERRIT"
     ]
    },
    {
     "cell_type": "code",
     "collapsed": false,
     "input": [
      "INDEX = \"gerrit_eventized\"\n",
      "filter_date_4y = Q('range', date={'gt': 'now/M-4y', 'lt':'now/M'})\n",
      "filter_date_1y = Q('range', date={'gt': 'now/M-1y', 'lt':'now/M'})"
     ],
     "language": "python",
     "metadata": {},
     "outputs": [],
     "prompt_number": 80
    },
    {
     "cell_type": "markdown",
     "metadata": {},
     "source": [
      "## Changeset Submissions by Gender\n",
      "\n",
      "### Evolution of submissions sent over time by gender\n"
     ]
    },
    {
     "cell_type": "code",
     "collapsed": false,
     "input": [
      "METRIC_NAME = \"changesets\"\n",
      "METRIC_FIELD = \"id\"\n",
      "df = query_metric_over_time(INDEX, METRIC_NAME, METRIC_FIELD, [filter_date_4y])"
     ],
     "language": "python",
     "metadata": {},
     "outputs": [],
     "prompt_number": 81
    },
    {
     "cell_type": "code",
     "collapsed": false,
     "input": [
      "draw_evolutionary_chart(\"key_as_string\", METRIC_NAME)"
     ],
     "language": "python",
     "metadata": {},
     "outputs": [
      {
       "application/vnd.plotly.v1+json": {
        "data": [
         {
          "name": "female",
          "type": "scatter",
          "x": [
           "2013-07-01T00:00:00.000Z",
           "2013-10-01T00:00:00.000Z",
           "2014-01-01T00:00:00.000Z",
           "2014-04-01T00:00:00.000Z",
           "2014-07-01T00:00:00.000Z",
           "2014-10-01T00:00:00.000Z",
           "2015-01-01T00:00:00.000Z",
           "2015-04-01T00:00:00.000Z",
           "2015-07-01T00:00:00.000Z",
           "2015-10-01T00:00:00.000Z",
           "2016-01-01T00:00:00.000Z",
           "2016-04-01T00:00:00.000Z",
           "2016-07-01T00:00:00.000Z",
           "2016-10-01T00:00:00.000Z",
           "2017-01-01T00:00:00.000Z",
           "2017-04-01T00:00:00.000Z"
          ],
          "y": [
           3517,
           4164,
           5238,
           5214,
           6727,
           6303,
           8262,
           8865,
           11045,
           10981,
           10996,
           9794,
           11053,
           8469,
           8792,
           1304
          ]
         },
         {
          "name": "male",
          "type": "scatter",
          "x": [
           "2013-07-01T00:00:00.000Z",
           "2013-10-01T00:00:00.000Z",
           "2014-01-01T00:00:00.000Z",
           "2014-04-01T00:00:00.000Z",
           "2014-07-01T00:00:00.000Z",
           "2014-10-01T00:00:00.000Z",
           "2015-01-01T00:00:00.000Z",
           "2015-04-01T00:00:00.000Z",
           "2015-07-01T00:00:00.000Z",
           "2015-10-01T00:00:00.000Z",
           "2016-01-01T00:00:00.000Z",
           "2016-04-01T00:00:00.000Z",
           "2016-07-01T00:00:00.000Z",
           "2016-10-01T00:00:00.000Z",
           "2017-01-01T00:00:00.000Z",
           "2017-04-01T00:00:00.000Z"
          ],
          "y": [
           15697,
           16099,
           21055,
           21263,
           24351,
           22720,
           28420,
           30892,
           36043,
           36735,
           41412,
           39513,
           47527,
           39012,
           38359,
           6987
          ]
         },
         {
          "name": "unknown",
          "type": "scatter",
          "x": [
           "2013-07-01T00:00:00.000Z",
           "2013-10-01T00:00:00.000Z",
           "2014-01-01T00:00:00.000Z",
           "2014-04-01T00:00:00.000Z",
           "2014-07-01T00:00:00.000Z",
           "2014-10-01T00:00:00.000Z",
           "2015-01-01T00:00:00.000Z",
           "2015-04-01T00:00:00.000Z",
           "2015-07-01T00:00:00.000Z",
           "2015-10-01T00:00:00.000Z",
           "2016-01-01T00:00:00.000Z",
           "2016-04-01T00:00:00.000Z",
           "2016-07-01T00:00:00.000Z",
           "2016-10-01T00:00:00.000Z",
           "2017-01-01T00:00:00.000Z",
           "2017-04-01T00:00:00.000Z"
          ],
          "y": [
           5750,
           6085,
           7991,
           7599,
           9123,
           8454,
           10972,
           11895,
           15729,
           17727,
           17329,
           16390,
           19502,
           17700,
           17540,
           2939
          ]
         }
        ],
        "layout": {}
       },
       "html": [
        "<div id=\"f40b0fbe-2e85-49b4-9bbc-3ff76108498c\" style=\"height: 525px; width: 100%;\" class=\"plotly-graph-div\"></div><script type=\"text/javascript\">require([\"plotly\"], function(Plotly) { window.PLOTLYENV=window.PLOTLYENV || {};window.PLOTLYENV.BASE_URL=\"https://plot.ly\";Plotly.newPlot(\"f40b0fbe-2e85-49b4-9bbc-3ff76108498c\", [{\"x\": [\"2013-07-01T00:00:00.000Z\", \"2013-10-01T00:00:00.000Z\", \"2014-01-01T00:00:00.000Z\", \"2014-04-01T00:00:00.000Z\", \"2014-07-01T00:00:00.000Z\", \"2014-10-01T00:00:00.000Z\", \"2015-01-01T00:00:00.000Z\", \"2015-04-01T00:00:00.000Z\", \"2015-07-01T00:00:00.000Z\", \"2015-10-01T00:00:00.000Z\", \"2016-01-01T00:00:00.000Z\", \"2016-04-01T00:00:00.000Z\", \"2016-07-01T00:00:00.000Z\", \"2016-10-01T00:00:00.000Z\", \"2017-01-01T00:00:00.000Z\", \"2017-04-01T00:00:00.000Z\"], \"name\": \"female\", \"y\": [3517, 4164, 5238, 5214, 6727, 6303, 8262, 8865, 11045, 10981, 10996, 9794, 11053, 8469, 8792, 1304], \"type\": \"scatter\"}, {\"x\": [\"2013-07-01T00:00:00.000Z\", \"2013-10-01T00:00:00.000Z\", \"2014-01-01T00:00:00.000Z\", \"2014-04-01T00:00:00.000Z\", \"2014-07-01T00:00:00.000Z\", \"2014-10-01T00:00:00.000Z\", \"2015-01-01T00:00:00.000Z\", \"2015-04-01T00:00:00.000Z\", \"2015-07-01T00:00:00.000Z\", \"2015-10-01T00:00:00.000Z\", \"2016-01-01T00:00:00.000Z\", \"2016-04-01T00:00:00.000Z\", \"2016-07-01T00:00:00.000Z\", \"2016-10-01T00:00:00.000Z\", \"2017-01-01T00:00:00.000Z\", \"2017-04-01T00:00:00.000Z\"], \"name\": \"male\", \"y\": [15697, 16099, 21055, 21263, 24351, 22720, 28420, 30892, 36043, 36735, 41412, 39513, 47527, 39012, 38359, 6987], \"type\": \"scatter\"}, {\"x\": [\"2013-07-01T00:00:00.000Z\", \"2013-10-01T00:00:00.000Z\", \"2014-01-01T00:00:00.000Z\", \"2014-04-01T00:00:00.000Z\", \"2014-07-01T00:00:00.000Z\", \"2014-10-01T00:00:00.000Z\", \"2015-01-01T00:00:00.000Z\", \"2015-04-01T00:00:00.000Z\", \"2015-07-01T00:00:00.000Z\", \"2015-10-01T00:00:00.000Z\", \"2016-01-01T00:00:00.000Z\", \"2016-04-01T00:00:00.000Z\", \"2016-07-01T00:00:00.000Z\", \"2016-10-01T00:00:00.000Z\", \"2017-01-01T00:00:00.000Z\", \"2017-04-01T00:00:00.000Z\"], \"name\": \"unknown\", \"y\": [5750, 6085, 7991, 7599, 9123, 8454, 10972, 11895, 15729, 17727, 17329, 16390, 19502, 17700, 17540, 2939], \"type\": \"scatter\"}], {}, {\"linkText\": \"Export to plot.ly\", \"showLink\": true})});</script>"
       ],
       "metadata": {},
       "output_type": "display_data",
       "text/vnd.plotly.v1+html": "<div id=\"f40b0fbe-2e85-49b4-9bbc-3ff76108498c\" style=\"height: 525px; width: 100%;\" class=\"plotly-graph-div\"></div><script type=\"text/javascript\">require([\"plotly\"], function(Plotly) { window.PLOTLYENV=window.PLOTLYENV || {};window.PLOTLYENV.BASE_URL=\"https://plot.ly\";Plotly.newPlot(\"f40b0fbe-2e85-49b4-9bbc-3ff76108498c\", [{\"x\": [\"2013-07-01T00:00:00.000Z\", \"2013-10-01T00:00:00.000Z\", \"2014-01-01T00:00:00.000Z\", \"2014-04-01T00:00:00.000Z\", \"2014-07-01T00:00:00.000Z\", \"2014-10-01T00:00:00.000Z\", \"2015-01-01T00:00:00.000Z\", \"2015-04-01T00:00:00.000Z\", \"2015-07-01T00:00:00.000Z\", \"2015-10-01T00:00:00.000Z\", \"2016-01-01T00:00:00.000Z\", \"2016-04-01T00:00:00.000Z\", \"2016-07-01T00:00:00.000Z\", \"2016-10-01T00:00:00.000Z\", \"2017-01-01T00:00:00.000Z\", \"2017-04-01T00:00:00.000Z\"], \"name\": \"female\", \"y\": [3517, 4164, 5238, 5214, 6727, 6303, 8262, 8865, 11045, 10981, 10996, 9794, 11053, 8469, 8792, 1304], \"type\": \"scatter\"}, {\"x\": [\"2013-07-01T00:00:00.000Z\", \"2013-10-01T00:00:00.000Z\", \"2014-01-01T00:00:00.000Z\", \"2014-04-01T00:00:00.000Z\", \"2014-07-01T00:00:00.000Z\", \"2014-10-01T00:00:00.000Z\", \"2015-01-01T00:00:00.000Z\", \"2015-04-01T00:00:00.000Z\", \"2015-07-01T00:00:00.000Z\", \"2015-10-01T00:00:00.000Z\", \"2016-01-01T00:00:00.000Z\", \"2016-04-01T00:00:00.000Z\", \"2016-07-01T00:00:00.000Z\", \"2016-10-01T00:00:00.000Z\", \"2017-01-01T00:00:00.000Z\", \"2017-04-01T00:00:00.000Z\"], \"name\": \"male\", \"y\": [15697, 16099, 21055, 21263, 24351, 22720, 28420, 30892, 36043, 36735, 41412, 39513, 47527, 39012, 38359, 6987], \"type\": \"scatter\"}, {\"x\": [\"2013-07-01T00:00:00.000Z\", \"2013-10-01T00:00:00.000Z\", \"2014-01-01T00:00:00.000Z\", \"2014-04-01T00:00:00.000Z\", \"2014-07-01T00:00:00.000Z\", \"2014-10-01T00:00:00.000Z\", \"2015-01-01T00:00:00.000Z\", \"2015-04-01T00:00:00.000Z\", \"2015-07-01T00:00:00.000Z\", \"2015-10-01T00:00:00.000Z\", \"2016-01-01T00:00:00.000Z\", \"2016-04-01T00:00:00.000Z\", \"2016-07-01T00:00:00.000Z\", \"2016-10-01T00:00:00.000Z\", \"2017-01-01T00:00:00.000Z\", \"2017-04-01T00:00:00.000Z\"], \"name\": \"unknown\", \"y\": [5750, 6085, 7991, 7599, 9123, 8454, 10972, 11895, 15729, 17727, 17329, 16390, 19502, 17700, 17540, 2939], \"type\": \"scatter\"}], {}, {\"linkText\": \"Export to plot.ly\", \"showLink\": true})});</script>"
      }
     ],
     "prompt_number": 82
    },
    {
     "cell_type": "markdown",
     "metadata": {},
     "source": [
      "### Aggregated changeset submissions by gender"
     ]
    },
    {
     "cell_type": "code",
     "collapsed": false,
     "input": [
      "pie_chart_labels, pie_chart_values = query_total_piechart(INDEX, METRIC_NAME, METRIC_FIELD, [filter_date_4y])"
     ],
     "language": "python",
     "metadata": {},
     "outputs": [],
     "prompt_number": 87
    },
    {
     "cell_type": "code",
     "collapsed": false,
     "input": [
      "draw_piechart(pie_chart_labels, pie_chart_values, 'Changeset Submissions by Gender (last 4 years)')"
     ],
     "language": "python",
     "metadata": {},
     "outputs": [
      {
       "application/vnd.plotly.v1+json": {
        "data": [
         {
          "labels": [
           "male",
           "NotKnown",
           "female",
           "Unknown"
          ],
          "type": "pie",
          "values": [
           400304,
           173099,
           110276,
           1
          ]
         }
        ],
        "layout": {
         "title": "Changeset Submissions by Gender (last 4 years)"
        }
       },
       "html": [
        "<div id=\"50abdb0f-b312-4099-9b8e-4e816b4920ae\" style=\"height: 525px; width: 100%;\" class=\"plotly-graph-div\"></div><script type=\"text/javascript\">require([\"plotly\"], function(Plotly) { window.PLOTLYENV=window.PLOTLYENV || {};window.PLOTLYENV.BASE_URL=\"https://plot.ly\";Plotly.newPlot(\"50abdb0f-b312-4099-9b8e-4e816b4920ae\", [{\"values\": [400304, 173099, 110276, 1], \"labels\": [\"male\", \"NotKnown\", \"female\", \"Unknown\"], \"type\": \"pie\"}], {\"title\": \"Changeset Submissions by Gender (last 4 years)\"}, {\"linkText\": \"Export to plot.ly\", \"showLink\": true})});</script>"
       ],
       "metadata": {},
       "output_type": "display_data",
       "text/vnd.plotly.v1+html": "<div id=\"50abdb0f-b312-4099-9b8e-4e816b4920ae\" style=\"height: 525px; width: 100%;\" class=\"plotly-graph-div\"></div><script type=\"text/javascript\">require([\"plotly\"], function(Plotly) { window.PLOTLYENV=window.PLOTLYENV || {};window.PLOTLYENV.BASE_URL=\"https://plot.ly\";Plotly.newPlot(\"50abdb0f-b312-4099-9b8e-4e816b4920ae\", [{\"values\": [400304, 173099, 110276, 1], \"labels\": [\"male\", \"NotKnown\", \"female\", \"Unknown\"], \"type\": \"pie\"}], {\"title\": \"Changeset Submissions by Gender (last 4 years)\"}, {\"linkText\": \"Export to plot.ly\", \"showLink\": true})});</script>"
      }
     ],
     "prompt_number": 90
    },
    {
     "cell_type": "code",
     "collapsed": false,
     "input": [
      "pie_chart_labels, pie_chart_values = query_total_piechart(INDEX, METRIC_NAME, METRIC_FIELD, [filter_date_1y])\n"
     ],
     "language": "python",
     "metadata": {},
     "outputs": [],
     "prompt_number": 91
    },
    {
     "cell_type": "code",
     "collapsed": false,
     "input": [
      "draw_piechart(pie_chart_labels, pie_chart_values, 'Changeset Submissions by Gender (last year)')"
     ],
     "language": "python",
     "metadata": {},
     "outputs": [
      {
       "application/vnd.plotly.v1+json": {
        "data": [
         {
          "labels": [
           "male",
           "NotKnown",
           "female",
           "Unknown"
          ],
          "type": "pie",
          "values": [
           118063,
           53352,
           27632,
           1
          ]
         }
        ],
        "layout": {
         "title": "Changeset Submissions by Gender (last year)"
        }
       },
       "html": [
        "<div id=\"e0a12a00-f0ba-4b2c-9bcd-0ef1c16536c2\" style=\"height: 525px; width: 100%;\" class=\"plotly-graph-div\"></div><script type=\"text/javascript\">require([\"plotly\"], function(Plotly) { window.PLOTLYENV=window.PLOTLYENV || {};window.PLOTLYENV.BASE_URL=\"https://plot.ly\";Plotly.newPlot(\"e0a12a00-f0ba-4b2c-9bcd-0ef1c16536c2\", [{\"values\": [118063, 53352, 27632, 1], \"labels\": [\"male\", \"NotKnown\", \"female\", \"Unknown\"], \"type\": \"pie\"}], {\"title\": \"Changeset Submissions by Gender (last year)\"}, {\"linkText\": \"Export to plot.ly\", \"showLink\": true})});</script>"
       ],
       "metadata": {},
       "output_type": "display_data",
       "text/vnd.plotly.v1+html": "<div id=\"e0a12a00-f0ba-4b2c-9bcd-0ef1c16536c2\" style=\"height: 525px; width: 100%;\" class=\"plotly-graph-div\"></div><script type=\"text/javascript\">require([\"plotly\"], function(Plotly) { window.PLOTLYENV=window.PLOTLYENV || {};window.PLOTLYENV.BASE_URL=\"https://plot.ly\";Plotly.newPlot(\"e0a12a00-f0ba-4b2c-9bcd-0ef1c16536c2\", [{\"values\": [118063, 53352, 27632, 1], \"labels\": [\"male\", \"NotKnown\", \"female\", \"Unknown\"], \"type\": \"pie\"}], {\"title\": \"Changeset Submissions by Gender (last year)\"}, {\"linkText\": \"Export to plot.ly\", \"showLink\": true})});</script>"
      }
     ],
     "prompt_number": 93
    },
    {
     "cell_type": "markdown",
     "metadata": {},
     "source": [
      "## Population of people submitting changesets\n",
      "### Evolution of submitters over time by gender\n",
      "  * Count people submitting (id, uuid)"
     ]
    },
    {
     "cell_type": "code",
     "collapsed": false,
     "input": [
      "METRIC_NAME = \"submitters\"\n",
      "METRIC_FIELD = \"uuid\"\n",
      "df = query_metric_over_time(INDEX, METRIC_NAME, METRIC_FIELD, [filter_date_4y])\n",
      "draw_evolutionary_chart(\"key_as_string\", METRIC_NAME)"
     ],
     "language": "python",
     "metadata": {},
     "outputs": [
      {
       "application/vnd.plotly.v1+json": {
        "data": [
         {
          "name": "female",
          "type": "scatter",
          "x": [
           "2013-07-01T00:00:00.000Z",
           "2013-10-01T00:00:00.000Z",
           "2014-01-01T00:00:00.000Z",
           "2014-04-01T00:00:00.000Z",
           "2014-07-01T00:00:00.000Z",
           "2014-10-01T00:00:00.000Z",
           "2015-01-01T00:00:00.000Z",
           "2015-04-01T00:00:00.000Z",
           "2015-07-01T00:00:00.000Z",
           "2015-10-01T00:00:00.000Z",
           "2016-01-01T00:00:00.000Z",
           "2016-04-01T00:00:00.000Z",
           "2016-07-01T00:00:00.000Z",
           "2016-10-01T00:00:00.000Z",
           "2017-01-01T00:00:00.000Z",
           "2017-04-01T00:00:00.000Z"
          ],
          "y": [
           131,
           150,
           187,
           218,
           264,
           263,
           320,
           326,
           377,
           384,
           429,
           442,
           429,
           371,
           346,
           180
          ]
         },
         {
          "name": "male",
          "type": "scatter",
          "x": [
           "2013-07-01T00:00:00.000Z",
           "2013-10-01T00:00:00.000Z",
           "2014-01-01T00:00:00.000Z",
           "2014-04-01T00:00:00.000Z",
           "2014-07-01T00:00:00.000Z",
           "2014-10-01T00:00:00.000Z",
           "2015-01-01T00:00:00.000Z",
           "2015-04-01T00:00:00.000Z",
           "2015-07-01T00:00:00.000Z",
           "2015-10-01T00:00:00.000Z",
           "2016-01-01T00:00:00.000Z",
           "2016-04-01T00:00:00.000Z",
           "2016-07-01T00:00:00.000Z",
           "2016-10-01T00:00:00.000Z",
           "2017-01-01T00:00:00.000Z",
           "2017-04-01T00:00:00.000Z"
          ],
          "y": [
           954,
           1008,
           1288,
           1447,
           1676,
           1712,
           1915,
           2023,
           2224,
           2266,
           2366,
           2420,
           2410,
           2208,
           2049,
           1037
          ]
         },
         {
          "name": "unknown",
          "type": "scatter",
          "x": [
           "2013-07-01T00:00:00.000Z",
           "2013-10-01T00:00:00.000Z",
           "2014-01-01T00:00:00.000Z",
           "2014-04-01T00:00:00.000Z",
           "2014-07-01T00:00:00.000Z",
           "2014-10-01T00:00:00.000Z",
           "2015-01-01T00:00:00.000Z",
           "2015-04-01T00:00:00.000Z",
           "2015-07-01T00:00:00.000Z",
           "2015-10-01T00:00:00.000Z",
           "2016-01-01T00:00:00.000Z",
           "2016-04-01T00:00:00.000Z",
           "2016-07-01T00:00:00.000Z",
           "2016-10-01T00:00:00.000Z",
           "2017-01-01T00:00:00.000Z",
           "2017-04-01T00:00:00.000Z"
          ],
          "y": [
           225,
           248,
           300,
           306,
           347,
           359,
           415,
           423,
           539,
           581,
           618,
           652,
           710,
           710,
           706,
           309
          ]
         }
        ],
        "layout": {}
       },
       "html": [
        "<div id=\"37d74472-a236-40ba-bc3e-93a485500af4\" style=\"height: 525px; width: 100%;\" class=\"plotly-graph-div\"></div><script type=\"text/javascript\">require([\"plotly\"], function(Plotly) { window.PLOTLYENV=window.PLOTLYENV || {};window.PLOTLYENV.BASE_URL=\"https://plot.ly\";Plotly.newPlot(\"37d74472-a236-40ba-bc3e-93a485500af4\", [{\"x\": [\"2013-07-01T00:00:00.000Z\", \"2013-10-01T00:00:00.000Z\", \"2014-01-01T00:00:00.000Z\", \"2014-04-01T00:00:00.000Z\", \"2014-07-01T00:00:00.000Z\", \"2014-10-01T00:00:00.000Z\", \"2015-01-01T00:00:00.000Z\", \"2015-04-01T00:00:00.000Z\", \"2015-07-01T00:00:00.000Z\", \"2015-10-01T00:00:00.000Z\", \"2016-01-01T00:00:00.000Z\", \"2016-04-01T00:00:00.000Z\", \"2016-07-01T00:00:00.000Z\", \"2016-10-01T00:00:00.000Z\", \"2017-01-01T00:00:00.000Z\", \"2017-04-01T00:00:00.000Z\"], \"name\": \"female\", \"y\": [131, 150, 187, 218, 264, 263, 320, 326, 377, 384, 429, 442, 429, 371, 346, 180], \"type\": \"scatter\"}, {\"x\": [\"2013-07-01T00:00:00.000Z\", \"2013-10-01T00:00:00.000Z\", \"2014-01-01T00:00:00.000Z\", \"2014-04-01T00:00:00.000Z\", \"2014-07-01T00:00:00.000Z\", \"2014-10-01T00:00:00.000Z\", \"2015-01-01T00:00:00.000Z\", \"2015-04-01T00:00:00.000Z\", \"2015-07-01T00:00:00.000Z\", \"2015-10-01T00:00:00.000Z\", \"2016-01-01T00:00:00.000Z\", \"2016-04-01T00:00:00.000Z\", \"2016-07-01T00:00:00.000Z\", \"2016-10-01T00:00:00.000Z\", \"2017-01-01T00:00:00.000Z\", \"2017-04-01T00:00:00.000Z\"], \"name\": \"male\", \"y\": [954, 1008, 1288, 1447, 1676, 1712, 1915, 2023, 2224, 2266, 2366, 2420, 2410, 2208, 2049, 1037], \"type\": \"scatter\"}, {\"x\": [\"2013-07-01T00:00:00.000Z\", \"2013-10-01T00:00:00.000Z\", \"2014-01-01T00:00:00.000Z\", \"2014-04-01T00:00:00.000Z\", \"2014-07-01T00:00:00.000Z\", \"2014-10-01T00:00:00.000Z\", \"2015-01-01T00:00:00.000Z\", \"2015-04-01T00:00:00.000Z\", \"2015-07-01T00:00:00.000Z\", \"2015-10-01T00:00:00.000Z\", \"2016-01-01T00:00:00.000Z\", \"2016-04-01T00:00:00.000Z\", \"2016-07-01T00:00:00.000Z\", \"2016-10-01T00:00:00.000Z\", \"2017-01-01T00:00:00.000Z\", \"2017-04-01T00:00:00.000Z\"], \"name\": \"unknown\", \"y\": [225, 248, 300, 306, 347, 359, 415, 423, 539, 581, 618, 652, 710, 710, 706, 309], \"type\": \"scatter\"}], {}, {\"linkText\": \"Export to plot.ly\", \"showLink\": true})});</script>"
       ],
       "metadata": {},
       "output_type": "display_data",
       "text/vnd.plotly.v1+html": "<div id=\"37d74472-a236-40ba-bc3e-93a485500af4\" style=\"height: 525px; width: 100%;\" class=\"plotly-graph-div\"></div><script type=\"text/javascript\">require([\"plotly\"], function(Plotly) { window.PLOTLYENV=window.PLOTLYENV || {};window.PLOTLYENV.BASE_URL=\"https://plot.ly\";Plotly.newPlot(\"37d74472-a236-40ba-bc3e-93a485500af4\", [{\"x\": [\"2013-07-01T00:00:00.000Z\", \"2013-10-01T00:00:00.000Z\", \"2014-01-01T00:00:00.000Z\", \"2014-04-01T00:00:00.000Z\", \"2014-07-01T00:00:00.000Z\", \"2014-10-01T00:00:00.000Z\", \"2015-01-01T00:00:00.000Z\", \"2015-04-01T00:00:00.000Z\", \"2015-07-01T00:00:00.000Z\", \"2015-10-01T00:00:00.000Z\", \"2016-01-01T00:00:00.000Z\", \"2016-04-01T00:00:00.000Z\", \"2016-07-01T00:00:00.000Z\", \"2016-10-01T00:00:00.000Z\", \"2017-01-01T00:00:00.000Z\", \"2017-04-01T00:00:00.000Z\"], \"name\": \"female\", \"y\": [131, 150, 187, 218, 264, 263, 320, 326, 377, 384, 429, 442, 429, 371, 346, 180], \"type\": \"scatter\"}, {\"x\": [\"2013-07-01T00:00:00.000Z\", \"2013-10-01T00:00:00.000Z\", \"2014-01-01T00:00:00.000Z\", \"2014-04-01T00:00:00.000Z\", \"2014-07-01T00:00:00.000Z\", \"2014-10-01T00:00:00.000Z\", \"2015-01-01T00:00:00.000Z\", \"2015-04-01T00:00:00.000Z\", \"2015-07-01T00:00:00.000Z\", \"2015-10-01T00:00:00.000Z\", \"2016-01-01T00:00:00.000Z\", \"2016-04-01T00:00:00.000Z\", \"2016-07-01T00:00:00.000Z\", \"2016-10-01T00:00:00.000Z\", \"2017-01-01T00:00:00.000Z\", \"2017-04-01T00:00:00.000Z\"], \"name\": \"male\", \"y\": [954, 1008, 1288, 1447, 1676, 1712, 1915, 2023, 2224, 2266, 2366, 2420, 2410, 2208, 2049, 1037], \"type\": \"scatter\"}, {\"x\": [\"2013-07-01T00:00:00.000Z\", \"2013-10-01T00:00:00.000Z\", \"2014-01-01T00:00:00.000Z\", \"2014-04-01T00:00:00.000Z\", \"2014-07-01T00:00:00.000Z\", \"2014-10-01T00:00:00.000Z\", \"2015-01-01T00:00:00.000Z\", \"2015-04-01T00:00:00.000Z\", \"2015-07-01T00:00:00.000Z\", \"2015-10-01T00:00:00.000Z\", \"2016-01-01T00:00:00.000Z\", \"2016-04-01T00:00:00.000Z\", \"2016-07-01T00:00:00.000Z\", \"2016-10-01T00:00:00.000Z\", \"2017-01-01T00:00:00.000Z\", \"2017-04-01T00:00:00.000Z\"], \"name\": \"unknown\", \"y\": [225, 248, 300, 306, 347, 359, 415, 423, 539, 581, 618, 652, 710, 710, 706, 309], \"type\": \"scatter\"}], {}, {\"linkText\": \"Export to plot.ly\", \"showLink\": true})});</script>"
      }
     ],
     "prompt_number": 94
    },
    {
     "cell_type": "markdown",
     "metadata": {},
     "source": [
      "### Aggregated number of submitters\n"
     ]
    },
    {
     "cell_type": "code",
     "collapsed": false,
     "input": [
      "pie_chart_labels, pie_chart_values = query_total_piechart(INDEX, METRIC_NAME, METRIC_FIELD, [filter_date_4y])\n",
      "draw_piechart(pie_chart_labels, pie_chart_values, 'Changeset Submitters by Gender (last 4 years)')"
     ],
     "language": "python",
     "metadata": {},
     "outputs": [
      {
       "application/vnd.plotly.v1+json": {
        "data": [
         {
          "labels": [
           "male",
           "NotKnown",
           "female",
           "Unknown"
          ],
          "type": "pie",
          "values": [
           6364,
           2192,
           1150,
           1
          ]
         }
        ],
        "layout": {
         "title": "Changeset Submitters by Gender (last 4 years)"
        }
       },
       "html": [
        "<div id=\"0823b4c4-1e42-430b-aa69-9ebcdfe3fdaf\" style=\"height: 525px; width: 100%;\" class=\"plotly-graph-div\"></div><script type=\"text/javascript\">require([\"plotly\"], function(Plotly) { window.PLOTLYENV=window.PLOTLYENV || {};window.PLOTLYENV.BASE_URL=\"https://plot.ly\";Plotly.newPlot(\"0823b4c4-1e42-430b-aa69-9ebcdfe3fdaf\", [{\"values\": [6364, 2192, 1150, 1], \"labels\": [\"male\", \"NotKnown\", \"female\", \"Unknown\"], \"type\": \"pie\"}], {\"title\": \"Changeset Submitters by Gender (last 4 years)\"}, {\"linkText\": \"Export to plot.ly\", \"showLink\": true})});</script>"
       ],
       "metadata": {},
       "output_type": "display_data",
       "text/vnd.plotly.v1+html": "<div id=\"0823b4c4-1e42-430b-aa69-9ebcdfe3fdaf\" style=\"height: 525px; width: 100%;\" class=\"plotly-graph-div\"></div><script type=\"text/javascript\">require([\"plotly\"], function(Plotly) { window.PLOTLYENV=window.PLOTLYENV || {};window.PLOTLYENV.BASE_URL=\"https://plot.ly\";Plotly.newPlot(\"0823b4c4-1e42-430b-aa69-9ebcdfe3fdaf\", [{\"values\": [6364, 2192, 1150, 1], \"labels\": [\"male\", \"NotKnown\", \"female\", \"Unknown\"], \"type\": \"pie\"}], {\"title\": \"Changeset Submitters by Gender (last 4 years)\"}, {\"linkText\": \"Export to plot.ly\", \"showLink\": true})});</script>"
      }
     ],
     "prompt_number": 95
    },
    {
     "cell_type": "code",
     "collapsed": false,
     "input": [
      "pie_chart_labels, pie_chart_values = query_total_piechart(INDEX, METRIC_NAME, METRIC_FIELD,  [filter_date_1y])\n",
      "draw_piechart(pie_chart_labels, pie_chart_values, 'Changeset Submitters by Gender (last year)')"
     ],
     "language": "python",
     "metadata": {},
     "outputs": [
      {
       "application/vnd.plotly.v1+json": {
        "data": [
         {
          "labels": [
           "male",
           "NotKnown",
           "female",
           "Unknown"
          ],
          "type": "pie",
          "values": [
           3279,
           1157,
           591,
           1
          ]
         }
        ],
        "layout": {
         "title": "Changeset Submitters by Gender (last year)"
        }
       },
       "html": [
        "<div id=\"056e7942-64c3-4acd-a3dd-8e9f30612f0c\" style=\"height: 525px; width: 100%;\" class=\"plotly-graph-div\"></div><script type=\"text/javascript\">require([\"plotly\"], function(Plotly) { window.PLOTLYENV=window.PLOTLYENV || {};window.PLOTLYENV.BASE_URL=\"https://plot.ly\";Plotly.newPlot(\"056e7942-64c3-4acd-a3dd-8e9f30612f0c\", [{\"values\": [3279, 1157, 591, 1], \"labels\": [\"male\", \"NotKnown\", \"female\", \"Unknown\"], \"type\": \"pie\"}], {\"title\": \"Changeset Submitters by Gender (last year)\"}, {\"linkText\": \"Export to plot.ly\", \"showLink\": true})});</script>"
       ],
       "metadata": {},
       "output_type": "display_data",
       "text/vnd.plotly.v1+html": "<div id=\"056e7942-64c3-4acd-a3dd-8e9f30612f0c\" style=\"height: 525px; width: 100%;\" class=\"plotly-graph-div\"></div><script type=\"text/javascript\">require([\"plotly\"], function(Plotly) { window.PLOTLYENV=window.PLOTLYENV || {};window.PLOTLYENV.BASE_URL=\"https://plot.ly\";Plotly.newPlot(\"056e7942-64c3-4acd-a3dd-8e9f30612f0c\", [{\"values\": [3279, 1157, 591, 1], \"labels\": [\"male\", \"NotKnown\", \"female\", \"Unknown\"], \"type\": \"pie\"}], {\"title\": \"Changeset Submitters by Gender (last year)\"}, {\"linkText\": \"Export to plot.ly\", \"showLink\": true})});</script>"
      }
     ],
     "prompt_number": 96
    },
    {
     "cell_type": "markdown",
     "metadata": {},
     "source": [
      "* Evolution of code reviews developers over time by gender\n",
      "  * Count people voting (name, uuid, vote)\n"
     ]
    },
    {
     "cell_type": "markdown",
     "metadata": {},
     "source": [
      "\n"
     ]
    },
    {
     "cell_type": "markdown",
     "metadata": {},
     "source": [
      "## Number of votes by gender"
     ]
    },
    {
     "cell_type": "code",
     "collapsed": false,
     "input": [
      "METRIC_NAME = \"reviewer\"\n",
      "METRIC_FIELD = \"uuid\"\n",
      "filter_vote = Q('term', eventtype='CHANGESET_PATCHSET_APPROVAL_Code-Review') # filter by event: vote a code review\n",
      "\n",
      "df = query_metric_over_time(INDEX, METRIC_NAME, METRIC_FIELD, [filter_date_4y, filter_vote])\n",
      "draw_evolutionary_chart(\"key_as_string\", \"doc_count\")"
     ],
     "language": "python",
     "metadata": {},
     "outputs": [
      {
       "application/vnd.plotly.v1+json": {
        "data": [
         {
          "name": "female",
          "type": "scatter",
          "x": [
           "2013-07-01T00:00:00.000Z",
           "2013-10-01T00:00:00.000Z",
           "2014-01-01T00:00:00.000Z",
           "2014-04-01T00:00:00.000Z",
           "2014-07-01T00:00:00.000Z",
           "2014-10-01T00:00:00.000Z",
           "2015-01-01T00:00:00.000Z",
           "2015-04-01T00:00:00.000Z",
           "2015-07-01T00:00:00.000Z",
           "2015-10-01T00:00:00.000Z",
           "2016-01-01T00:00:00.000Z",
           "2016-04-01T00:00:00.000Z",
           "2016-07-01T00:00:00.000Z",
           "2016-10-01T00:00:00.000Z",
           "2017-01-01T00:00:00.000Z",
           "2017-04-01T00:00:00.000Z"
          ],
          "y": [
           3106,
           3993,
           6029,
           6798,
           9838,
           8809,
           11290,
           10822,
           14498,
           13692,
           13244,
           11330,
           12959,
           9873,
           11585,
           2374
          ]
         },
         {
          "name": "male",
          "type": "scatter",
          "x": [
           "2013-07-01T00:00:00.000Z",
           "2013-10-01T00:00:00.000Z",
           "2014-01-01T00:00:00.000Z",
           "2014-04-01T00:00:00.000Z",
           "2014-07-01T00:00:00.000Z",
           "2014-10-01T00:00:00.000Z",
           "2015-01-01T00:00:00.000Z",
           "2015-04-01T00:00:00.000Z",
           "2015-07-01T00:00:00.000Z",
           "2015-10-01T00:00:00.000Z",
           "2016-01-01T00:00:00.000Z",
           "2016-04-01T00:00:00.000Z",
           "2016-07-01T00:00:00.000Z",
           "2016-10-01T00:00:00.000Z",
           "2017-01-01T00:00:00.000Z",
           "2017-04-01T00:00:00.000Z"
          ],
          "y": [
           41379,
           45817,
           69704,
           71188,
           83858,
           71488,
           96139,
           92477,
           114730,
           109154,
           124263,
           107075,
           118588,
           87964,
           97829,
           22986
          ]
         },
         {
          "name": "unknown",
          "type": "scatter",
          "x": [
           "2013-07-01T00:00:00.000Z",
           "2013-10-01T00:00:00.000Z",
           "2014-01-01T00:00:00.000Z",
           "2014-04-01T00:00:00.000Z",
           "2014-07-01T00:00:00.000Z",
           "2014-10-01T00:00:00.000Z",
           "2015-01-01T00:00:00.000Z",
           "2015-04-01T00:00:00.000Z",
           "2015-07-01T00:00:00.000Z",
           "2015-10-01T00:00:00.000Z",
           "2016-01-01T00:00:00.000Z",
           "2016-04-01T00:00:00.000Z",
           "2016-07-01T00:00:00.000Z",
           "2016-10-01T00:00:00.000Z",
           "2017-01-01T00:00:00.000Z",
           "2017-04-01T00:00:00.000Z"
          ],
          "y": [
           6264,
           9184,
           11650,
           10535,
           12141,
           9932,
           14620,
           15387,
           22022,
           23965,
           21473,
           18841,
           21274,
           18510,
           20493,
           4327
          ]
         }
        ],
        "layout": {}
       },
       "html": [
        "<div id=\"476c2a6c-1a55-4e97-ba7f-755a1a07397e\" style=\"height: 525px; width: 100%;\" class=\"plotly-graph-div\"></div><script type=\"text/javascript\">require([\"plotly\"], function(Plotly) { window.PLOTLYENV=window.PLOTLYENV || {};window.PLOTLYENV.BASE_URL=\"https://plot.ly\";Plotly.newPlot(\"476c2a6c-1a55-4e97-ba7f-755a1a07397e\", [{\"x\": [\"2013-07-01T00:00:00.000Z\", \"2013-10-01T00:00:00.000Z\", \"2014-01-01T00:00:00.000Z\", \"2014-04-01T00:00:00.000Z\", \"2014-07-01T00:00:00.000Z\", \"2014-10-01T00:00:00.000Z\", \"2015-01-01T00:00:00.000Z\", \"2015-04-01T00:00:00.000Z\", \"2015-07-01T00:00:00.000Z\", \"2015-10-01T00:00:00.000Z\", \"2016-01-01T00:00:00.000Z\", \"2016-04-01T00:00:00.000Z\", \"2016-07-01T00:00:00.000Z\", \"2016-10-01T00:00:00.000Z\", \"2017-01-01T00:00:00.000Z\", \"2017-04-01T00:00:00.000Z\"], \"name\": \"female\", \"y\": [3106, 3993, 6029, 6798, 9838, 8809, 11290, 10822, 14498, 13692, 13244, 11330, 12959, 9873, 11585, 2374], \"type\": \"scatter\"}, {\"x\": [\"2013-07-01T00:00:00.000Z\", \"2013-10-01T00:00:00.000Z\", \"2014-01-01T00:00:00.000Z\", \"2014-04-01T00:00:00.000Z\", \"2014-07-01T00:00:00.000Z\", \"2014-10-01T00:00:00.000Z\", \"2015-01-01T00:00:00.000Z\", \"2015-04-01T00:00:00.000Z\", \"2015-07-01T00:00:00.000Z\", \"2015-10-01T00:00:00.000Z\", \"2016-01-01T00:00:00.000Z\", \"2016-04-01T00:00:00.000Z\", \"2016-07-01T00:00:00.000Z\", \"2016-10-01T00:00:00.000Z\", \"2017-01-01T00:00:00.000Z\", \"2017-04-01T00:00:00.000Z\"], \"name\": \"male\", \"y\": [41379, 45817, 69704, 71188, 83858, 71488, 96139, 92477, 114730, 109154, 124263, 107075, 118588, 87964, 97829, 22986], \"type\": \"scatter\"}, {\"x\": [\"2013-07-01T00:00:00.000Z\", \"2013-10-01T00:00:00.000Z\", \"2014-01-01T00:00:00.000Z\", \"2014-04-01T00:00:00.000Z\", \"2014-07-01T00:00:00.000Z\", \"2014-10-01T00:00:00.000Z\", \"2015-01-01T00:00:00.000Z\", \"2015-04-01T00:00:00.000Z\", \"2015-07-01T00:00:00.000Z\", \"2015-10-01T00:00:00.000Z\", \"2016-01-01T00:00:00.000Z\", \"2016-04-01T00:00:00.000Z\", \"2016-07-01T00:00:00.000Z\", \"2016-10-01T00:00:00.000Z\", \"2017-01-01T00:00:00.000Z\", \"2017-04-01T00:00:00.000Z\"], \"name\": \"unknown\", \"y\": [6264, 9184, 11650, 10535, 12141, 9932, 14620, 15387, 22022, 23965, 21473, 18841, 21274, 18510, 20493, 4327], \"type\": \"scatter\"}], {}, {\"linkText\": \"Export to plot.ly\", \"showLink\": true})});</script>"
       ],
       "metadata": {},
       "output_type": "display_data",
       "text/vnd.plotly.v1+html": "<div id=\"476c2a6c-1a55-4e97-ba7f-755a1a07397e\" style=\"height: 525px; width: 100%;\" class=\"plotly-graph-div\"></div><script type=\"text/javascript\">require([\"plotly\"], function(Plotly) { window.PLOTLYENV=window.PLOTLYENV || {};window.PLOTLYENV.BASE_URL=\"https://plot.ly\";Plotly.newPlot(\"476c2a6c-1a55-4e97-ba7f-755a1a07397e\", [{\"x\": [\"2013-07-01T00:00:00.000Z\", \"2013-10-01T00:00:00.000Z\", \"2014-01-01T00:00:00.000Z\", \"2014-04-01T00:00:00.000Z\", \"2014-07-01T00:00:00.000Z\", \"2014-10-01T00:00:00.000Z\", \"2015-01-01T00:00:00.000Z\", \"2015-04-01T00:00:00.000Z\", \"2015-07-01T00:00:00.000Z\", \"2015-10-01T00:00:00.000Z\", \"2016-01-01T00:00:00.000Z\", \"2016-04-01T00:00:00.000Z\", \"2016-07-01T00:00:00.000Z\", \"2016-10-01T00:00:00.000Z\", \"2017-01-01T00:00:00.000Z\", \"2017-04-01T00:00:00.000Z\"], \"name\": \"female\", \"y\": [3106, 3993, 6029, 6798, 9838, 8809, 11290, 10822, 14498, 13692, 13244, 11330, 12959, 9873, 11585, 2374], \"type\": \"scatter\"}, {\"x\": [\"2013-07-01T00:00:00.000Z\", \"2013-10-01T00:00:00.000Z\", \"2014-01-01T00:00:00.000Z\", \"2014-04-01T00:00:00.000Z\", \"2014-07-01T00:00:00.000Z\", \"2014-10-01T00:00:00.000Z\", \"2015-01-01T00:00:00.000Z\", \"2015-04-01T00:00:00.000Z\", \"2015-07-01T00:00:00.000Z\", \"2015-10-01T00:00:00.000Z\", \"2016-01-01T00:00:00.000Z\", \"2016-04-01T00:00:00.000Z\", \"2016-07-01T00:00:00.000Z\", \"2016-10-01T00:00:00.000Z\", \"2017-01-01T00:00:00.000Z\", \"2017-04-01T00:00:00.000Z\"], \"name\": \"male\", \"y\": [41379, 45817, 69704, 71188, 83858, 71488, 96139, 92477, 114730, 109154, 124263, 107075, 118588, 87964, 97829, 22986], \"type\": \"scatter\"}, {\"x\": [\"2013-07-01T00:00:00.000Z\", \"2013-10-01T00:00:00.000Z\", \"2014-01-01T00:00:00.000Z\", \"2014-04-01T00:00:00.000Z\", \"2014-07-01T00:00:00.000Z\", \"2014-10-01T00:00:00.000Z\", \"2015-01-01T00:00:00.000Z\", \"2015-04-01T00:00:00.000Z\", \"2015-07-01T00:00:00.000Z\", \"2015-10-01T00:00:00.000Z\", \"2016-01-01T00:00:00.000Z\", \"2016-04-01T00:00:00.000Z\", \"2016-07-01T00:00:00.000Z\", \"2016-10-01T00:00:00.000Z\", \"2017-01-01T00:00:00.000Z\", \"2017-04-01T00:00:00.000Z\"], \"name\": \"unknown\", \"y\": [6264, 9184, 11650, 10535, 12141, 9932, 14620, 15387, 22022, 23965, 21473, 18841, 21274, 18510, 20493, 4327], \"type\": \"scatter\"}], {}, {\"linkText\": \"Export to plot.ly\", \"showLink\": true})});</script>"
      }
     ],
     "prompt_number": 97
    },
    {
     "cell_type": "markdown",
     "metadata": {},
     "source": [
      "## Number of people voting"
     ]
    },
    {
     "cell_type": "code",
     "collapsed": false,
     "input": [
      "draw_evolutionary_chart(\"key_as_string\", METRIC_NAME)"
     ],
     "language": "python",
     "metadata": {},
     "outputs": [
      {
       "application/vnd.plotly.v1+json": {
        "data": [
         {
          "name": "female",
          "type": "scatter",
          "x": [
           "2013-07-01T00:00:00.000Z",
           "2013-10-01T00:00:00.000Z",
           "2014-01-01T00:00:00.000Z",
           "2014-04-01T00:00:00.000Z",
           "2014-07-01T00:00:00.000Z",
           "2014-10-01T00:00:00.000Z",
           "2015-01-01T00:00:00.000Z",
           "2015-04-01T00:00:00.000Z",
           "2015-07-01T00:00:00.000Z",
           "2015-10-01T00:00:00.000Z",
           "2016-01-01T00:00:00.000Z",
           "2016-04-01T00:00:00.000Z",
           "2016-07-01T00:00:00.000Z",
           "2016-10-01T00:00:00.000Z",
           "2017-01-01T00:00:00.000Z",
           "2017-04-01T00:00:00.000Z"
          ],
          "y": [
           85,
           94,
           117,
           139,
           160,
           158,
           198,
           222,
           246,
           250,
           277,
           262,
           284,
           228,
           221,
           115
          ]
         },
         {
          "name": "male",
          "type": "scatter",
          "x": [
           "2013-07-01T00:00:00.000Z",
           "2013-10-01T00:00:00.000Z",
           "2014-01-01T00:00:00.000Z",
           "2014-04-01T00:00:00.000Z",
           "2014-07-01T00:00:00.000Z",
           "2014-10-01T00:00:00.000Z",
           "2015-01-01T00:00:00.000Z",
           "2015-04-01T00:00:00.000Z",
           "2015-07-01T00:00:00.000Z",
           "2015-10-01T00:00:00.000Z",
           "2016-01-01T00:00:00.000Z",
           "2016-04-01T00:00:00.000Z",
           "2016-07-01T00:00:00.000Z",
           "2016-10-01T00:00:00.000Z",
           "2017-01-01T00:00:00.000Z",
           "2017-04-01T00:00:00.000Z"
          ],
          "y": [
           625,
           736,
           945,
           1038,
           1189,
           1216,
           1353,
           1404,
           1534,
           1572,
           1667,
           1626,
           1643,
           1509,
           1355,
           695
          ]
         },
         {
          "name": "unknown",
          "type": "scatter",
          "x": [
           "2013-07-01T00:00:00.000Z",
           "2013-10-01T00:00:00.000Z",
           "2014-01-01T00:00:00.000Z",
           "2014-04-01T00:00:00.000Z",
           "2014-07-01T00:00:00.000Z",
           "2014-10-01T00:00:00.000Z",
           "2015-01-01T00:00:00.000Z",
           "2015-04-01T00:00:00.000Z",
           "2015-07-01T00:00:00.000Z",
           "2015-10-01T00:00:00.000Z",
           "2016-01-01T00:00:00.000Z",
           "2016-04-01T00:00:00.000Z",
           "2016-07-01T00:00:00.000Z",
           "2016-10-01T00:00:00.000Z",
           "2017-01-01T00:00:00.000Z",
           "2017-04-01T00:00:00.000Z"
          ],
          "y": [
           119,
           131,
           172,
           176,
           172,
           197,
           221,
           240,
           326,
           313,
           355,
           391,
           419,
           421,
           389,
           165
          ]
         }
        ],
        "layout": {}
       },
       "html": [
        "<div id=\"d7419372-f056-4865-897f-cb864beb57d7\" style=\"height: 525px; width: 100%;\" class=\"plotly-graph-div\"></div><script type=\"text/javascript\">require([\"plotly\"], function(Plotly) { window.PLOTLYENV=window.PLOTLYENV || {};window.PLOTLYENV.BASE_URL=\"https://plot.ly\";Plotly.newPlot(\"d7419372-f056-4865-897f-cb864beb57d7\", [{\"x\": [\"2013-07-01T00:00:00.000Z\", \"2013-10-01T00:00:00.000Z\", \"2014-01-01T00:00:00.000Z\", \"2014-04-01T00:00:00.000Z\", \"2014-07-01T00:00:00.000Z\", \"2014-10-01T00:00:00.000Z\", \"2015-01-01T00:00:00.000Z\", \"2015-04-01T00:00:00.000Z\", \"2015-07-01T00:00:00.000Z\", \"2015-10-01T00:00:00.000Z\", \"2016-01-01T00:00:00.000Z\", \"2016-04-01T00:00:00.000Z\", \"2016-07-01T00:00:00.000Z\", \"2016-10-01T00:00:00.000Z\", \"2017-01-01T00:00:00.000Z\", \"2017-04-01T00:00:00.000Z\"], \"name\": \"female\", \"y\": [85, 94, 117, 139, 160, 158, 198, 222, 246, 250, 277, 262, 284, 228, 221, 115], \"type\": \"scatter\"}, {\"x\": [\"2013-07-01T00:00:00.000Z\", \"2013-10-01T00:00:00.000Z\", \"2014-01-01T00:00:00.000Z\", \"2014-04-01T00:00:00.000Z\", \"2014-07-01T00:00:00.000Z\", \"2014-10-01T00:00:00.000Z\", \"2015-01-01T00:00:00.000Z\", \"2015-04-01T00:00:00.000Z\", \"2015-07-01T00:00:00.000Z\", \"2015-10-01T00:00:00.000Z\", \"2016-01-01T00:00:00.000Z\", \"2016-04-01T00:00:00.000Z\", \"2016-07-01T00:00:00.000Z\", \"2016-10-01T00:00:00.000Z\", \"2017-01-01T00:00:00.000Z\", \"2017-04-01T00:00:00.000Z\"], \"name\": \"male\", \"y\": [625, 736, 945, 1038, 1189, 1216, 1353, 1404, 1534, 1572, 1667, 1626, 1643, 1509, 1355, 695], \"type\": \"scatter\"}, {\"x\": [\"2013-07-01T00:00:00.000Z\", \"2013-10-01T00:00:00.000Z\", \"2014-01-01T00:00:00.000Z\", \"2014-04-01T00:00:00.000Z\", \"2014-07-01T00:00:00.000Z\", \"2014-10-01T00:00:00.000Z\", \"2015-01-01T00:00:00.000Z\", \"2015-04-01T00:00:00.000Z\", \"2015-07-01T00:00:00.000Z\", \"2015-10-01T00:00:00.000Z\", \"2016-01-01T00:00:00.000Z\", \"2016-04-01T00:00:00.000Z\", \"2016-07-01T00:00:00.000Z\", \"2016-10-01T00:00:00.000Z\", \"2017-01-01T00:00:00.000Z\", \"2017-04-01T00:00:00.000Z\"], \"name\": \"unknown\", \"y\": [119, 131, 172, 176, 172, 197, 221, 240, 326, 313, 355, 391, 419, 421, 389, 165], \"type\": \"scatter\"}], {}, {\"linkText\": \"Export to plot.ly\", \"showLink\": true})});</script>"
       ],
       "metadata": {},
       "output_type": "display_data",
       "text/vnd.plotly.v1+html": "<div id=\"d7419372-f056-4865-897f-cb864beb57d7\" style=\"height: 525px; width: 100%;\" class=\"plotly-graph-div\"></div><script type=\"text/javascript\">require([\"plotly\"], function(Plotly) { window.PLOTLYENV=window.PLOTLYENV || {};window.PLOTLYENV.BASE_URL=\"https://plot.ly\";Plotly.newPlot(\"d7419372-f056-4865-897f-cb864beb57d7\", [{\"x\": [\"2013-07-01T00:00:00.000Z\", \"2013-10-01T00:00:00.000Z\", \"2014-01-01T00:00:00.000Z\", \"2014-04-01T00:00:00.000Z\", \"2014-07-01T00:00:00.000Z\", \"2014-10-01T00:00:00.000Z\", \"2015-01-01T00:00:00.000Z\", \"2015-04-01T00:00:00.000Z\", \"2015-07-01T00:00:00.000Z\", \"2015-10-01T00:00:00.000Z\", \"2016-01-01T00:00:00.000Z\", \"2016-04-01T00:00:00.000Z\", \"2016-07-01T00:00:00.000Z\", \"2016-10-01T00:00:00.000Z\", \"2017-01-01T00:00:00.000Z\", \"2017-04-01T00:00:00.000Z\"], \"name\": \"female\", \"y\": [85, 94, 117, 139, 160, 158, 198, 222, 246, 250, 277, 262, 284, 228, 221, 115], \"type\": \"scatter\"}, {\"x\": [\"2013-07-01T00:00:00.000Z\", \"2013-10-01T00:00:00.000Z\", \"2014-01-01T00:00:00.000Z\", \"2014-04-01T00:00:00.000Z\", \"2014-07-01T00:00:00.000Z\", \"2014-10-01T00:00:00.000Z\", \"2015-01-01T00:00:00.000Z\", \"2015-04-01T00:00:00.000Z\", \"2015-07-01T00:00:00.000Z\", \"2015-10-01T00:00:00.000Z\", \"2016-01-01T00:00:00.000Z\", \"2016-04-01T00:00:00.000Z\", \"2016-07-01T00:00:00.000Z\", \"2016-10-01T00:00:00.000Z\", \"2017-01-01T00:00:00.000Z\", \"2017-04-01T00:00:00.000Z\"], \"name\": \"male\", \"y\": [625, 736, 945, 1038, 1189, 1216, 1353, 1404, 1534, 1572, 1667, 1626, 1643, 1509, 1355, 695], \"type\": \"scatter\"}, {\"x\": [\"2013-07-01T00:00:00.000Z\", \"2013-10-01T00:00:00.000Z\", \"2014-01-01T00:00:00.000Z\", \"2014-04-01T00:00:00.000Z\", \"2014-07-01T00:00:00.000Z\", \"2014-10-01T00:00:00.000Z\", \"2015-01-01T00:00:00.000Z\", \"2015-04-01T00:00:00.000Z\", \"2015-07-01T00:00:00.000Z\", \"2015-10-01T00:00:00.000Z\", \"2016-01-01T00:00:00.000Z\", \"2016-04-01T00:00:00.000Z\", \"2016-07-01T00:00:00.000Z\", \"2016-10-01T00:00:00.000Z\", \"2017-01-01T00:00:00.000Z\", \"2017-04-01T00:00:00.000Z\"], \"name\": \"unknown\", \"y\": [119, 131, 172, 176, 172, 197, 221, 240, 326, 313, 355, 391, 419, 421, 389, 165], \"type\": \"scatter\"}], {}, {\"linkText\": \"Export to plot.ly\", \"showLink\": true})});</script>"
      }
     ],
     "prompt_number": 98
    },
    {
     "cell_type": "markdown",
     "metadata": {},
     "source": [
      "## Number of core reviews (-2 OR +2) by gender"
     ]
    },
    {
     "cell_type": "code",
     "collapsed": false,
     "input": [
      "METRIC_NAME = \"core_reviewers\"\n",
      "METRIC_FIELD = \"uuid\"\n",
      "\n",
      "filter_core_vote = Q('terms', value=[\"2\", \"-2\"])\n",
      "filter_vote = Q('term', eventtype='CHANGESET_PATCHSET_APPROVAL_Code-Review') # filter by event: vote a code review\n",
      "df = query_metric_over_time(INDEX, METRIC_NAME, METRIC_FIELD, [filter_core_vote, filter_date_4y, filter_vote])\n",
      "draw_evolutionary_chart(\"key_as_string\", \"doc_count\")"
     ],
     "language": "python",
     "metadata": {},
     "outputs": [
      {
       "application/vnd.plotly.v1+json": {
        "data": [
         {
          "name": "female",
          "type": "scatter",
          "x": [
           "2013-07-01T00:00:00.000Z",
           "2013-10-01T00:00:00.000Z",
           "2014-01-01T00:00:00.000Z",
           "2014-04-01T00:00:00.000Z",
           "2014-07-01T00:00:00.000Z",
           "2014-10-01T00:00:00.000Z",
           "2015-01-01T00:00:00.000Z",
           "2015-04-01T00:00:00.000Z",
           "2015-07-01T00:00:00.000Z",
           "2015-10-01T00:00:00.000Z",
           "2016-01-01T00:00:00.000Z",
           "2016-04-01T00:00:00.000Z",
           "2016-07-01T00:00:00.000Z",
           "2016-10-01T00:00:00.000Z",
           "2017-01-01T00:00:00.000Z",
           "2017-04-01T00:00:00.000Z"
          ],
          "y": [
           1238,
           1310,
           1881,
           1958,
           2707,
           2397,
           3640,
           4258,
           5621,
           5860,
           5406,
           5053,
           5486,
           4678,
           5606,
           1116
          ]
         },
         {
          "name": "male",
          "type": "scatter",
          "x": [
           "2013-07-01T00:00:00.000Z",
           "2013-10-01T00:00:00.000Z",
           "2014-01-01T00:00:00.000Z",
           "2014-04-01T00:00:00.000Z",
           "2014-07-01T00:00:00.000Z",
           "2014-10-01T00:00:00.000Z",
           "2015-01-01T00:00:00.000Z",
           "2015-04-01T00:00:00.000Z",
           "2015-07-01T00:00:00.000Z",
           "2015-10-01T00:00:00.000Z",
           "2016-01-01T00:00:00.000Z",
           "2016-04-01T00:00:00.000Z",
           "2016-07-01T00:00:00.000Z",
           "2016-10-01T00:00:00.000Z",
           "2017-01-01T00:00:00.000Z",
           "2017-04-01T00:00:00.000Z"
          ],
          "y": [
           21682,
           21709,
           32824,
           29865,
           35296,
           29119,
           39406,
           40612,
           48532,
           45188,
           55850,
           49389,
           62901,
           47408,
           56887,
           14421
          ]
         },
         {
          "name": "unknown",
          "type": "scatter",
          "x": [
           "2013-07-01T00:00:00.000Z",
           "2013-10-01T00:00:00.000Z",
           "2014-01-01T00:00:00.000Z",
           "2014-04-01T00:00:00.000Z",
           "2014-07-01T00:00:00.000Z",
           "2014-10-01T00:00:00.000Z",
           "2015-01-01T00:00:00.000Z",
           "2015-04-01T00:00:00.000Z",
           "2015-07-01T00:00:00.000Z",
           "2015-10-01T00:00:00.000Z",
           "2016-01-01T00:00:00.000Z",
           "2016-04-01T00:00:00.000Z",
           "2016-07-01T00:00:00.000Z",
           "2016-10-01T00:00:00.000Z",
           "2017-01-01T00:00:00.000Z",
           "2017-04-01T00:00:00.000Z"
          ],
          "y": [
           2385,
           2697,
           3821,
           2959,
           4121,
           2865,
           4615,
           4538,
           6472,
           7283,
           7858,
           6616,
           6938,
           6070,
           8455,
           2108
          ]
         }
        ],
        "layout": {}
       },
       "html": [
        "<div id=\"836b1169-e500-4610-87a5-e8e4866f1347\" style=\"height: 525px; width: 100%;\" class=\"plotly-graph-div\"></div><script type=\"text/javascript\">require([\"plotly\"], function(Plotly) { window.PLOTLYENV=window.PLOTLYENV || {};window.PLOTLYENV.BASE_URL=\"https://plot.ly\";Plotly.newPlot(\"836b1169-e500-4610-87a5-e8e4866f1347\", [{\"x\": [\"2013-07-01T00:00:00.000Z\", \"2013-10-01T00:00:00.000Z\", \"2014-01-01T00:00:00.000Z\", \"2014-04-01T00:00:00.000Z\", \"2014-07-01T00:00:00.000Z\", \"2014-10-01T00:00:00.000Z\", \"2015-01-01T00:00:00.000Z\", \"2015-04-01T00:00:00.000Z\", \"2015-07-01T00:00:00.000Z\", \"2015-10-01T00:00:00.000Z\", \"2016-01-01T00:00:00.000Z\", \"2016-04-01T00:00:00.000Z\", \"2016-07-01T00:00:00.000Z\", \"2016-10-01T00:00:00.000Z\", \"2017-01-01T00:00:00.000Z\", \"2017-04-01T00:00:00.000Z\"], \"name\": \"female\", \"y\": [1238, 1310, 1881, 1958, 2707, 2397, 3640, 4258, 5621, 5860, 5406, 5053, 5486, 4678, 5606, 1116], \"type\": \"scatter\"}, {\"x\": [\"2013-07-01T00:00:00.000Z\", \"2013-10-01T00:00:00.000Z\", \"2014-01-01T00:00:00.000Z\", \"2014-04-01T00:00:00.000Z\", \"2014-07-01T00:00:00.000Z\", \"2014-10-01T00:00:00.000Z\", \"2015-01-01T00:00:00.000Z\", \"2015-04-01T00:00:00.000Z\", \"2015-07-01T00:00:00.000Z\", \"2015-10-01T00:00:00.000Z\", \"2016-01-01T00:00:00.000Z\", \"2016-04-01T00:00:00.000Z\", \"2016-07-01T00:00:00.000Z\", \"2016-10-01T00:00:00.000Z\", \"2017-01-01T00:00:00.000Z\", \"2017-04-01T00:00:00.000Z\"], \"name\": \"male\", \"y\": [21682, 21709, 32824, 29865, 35296, 29119, 39406, 40612, 48532, 45188, 55850, 49389, 62901, 47408, 56887, 14421], \"type\": \"scatter\"}, {\"x\": [\"2013-07-01T00:00:00.000Z\", \"2013-10-01T00:00:00.000Z\", \"2014-01-01T00:00:00.000Z\", \"2014-04-01T00:00:00.000Z\", \"2014-07-01T00:00:00.000Z\", \"2014-10-01T00:00:00.000Z\", \"2015-01-01T00:00:00.000Z\", \"2015-04-01T00:00:00.000Z\", \"2015-07-01T00:00:00.000Z\", \"2015-10-01T00:00:00.000Z\", \"2016-01-01T00:00:00.000Z\", \"2016-04-01T00:00:00.000Z\", \"2016-07-01T00:00:00.000Z\", \"2016-10-01T00:00:00.000Z\", \"2017-01-01T00:00:00.000Z\", \"2017-04-01T00:00:00.000Z\"], \"name\": \"unknown\", \"y\": [2385, 2697, 3821, 2959, 4121, 2865, 4615, 4538, 6472, 7283, 7858, 6616, 6938, 6070, 8455, 2108], \"type\": \"scatter\"}], {}, {\"linkText\": \"Export to plot.ly\", \"showLink\": true})});</script>"
       ],
       "metadata": {},
       "output_type": "display_data",
       "text/vnd.plotly.v1+html": "<div id=\"836b1169-e500-4610-87a5-e8e4866f1347\" style=\"height: 525px; width: 100%;\" class=\"plotly-graph-div\"></div><script type=\"text/javascript\">require([\"plotly\"], function(Plotly) { window.PLOTLYENV=window.PLOTLYENV || {};window.PLOTLYENV.BASE_URL=\"https://plot.ly\";Plotly.newPlot(\"836b1169-e500-4610-87a5-e8e4866f1347\", [{\"x\": [\"2013-07-01T00:00:00.000Z\", \"2013-10-01T00:00:00.000Z\", \"2014-01-01T00:00:00.000Z\", \"2014-04-01T00:00:00.000Z\", \"2014-07-01T00:00:00.000Z\", \"2014-10-01T00:00:00.000Z\", \"2015-01-01T00:00:00.000Z\", \"2015-04-01T00:00:00.000Z\", \"2015-07-01T00:00:00.000Z\", \"2015-10-01T00:00:00.000Z\", \"2016-01-01T00:00:00.000Z\", \"2016-04-01T00:00:00.000Z\", \"2016-07-01T00:00:00.000Z\", \"2016-10-01T00:00:00.000Z\", \"2017-01-01T00:00:00.000Z\", \"2017-04-01T00:00:00.000Z\"], \"name\": \"female\", \"y\": [1238, 1310, 1881, 1958, 2707, 2397, 3640, 4258, 5621, 5860, 5406, 5053, 5486, 4678, 5606, 1116], \"type\": \"scatter\"}, {\"x\": [\"2013-07-01T00:00:00.000Z\", \"2013-10-01T00:00:00.000Z\", \"2014-01-01T00:00:00.000Z\", \"2014-04-01T00:00:00.000Z\", \"2014-07-01T00:00:00.000Z\", \"2014-10-01T00:00:00.000Z\", \"2015-01-01T00:00:00.000Z\", \"2015-04-01T00:00:00.000Z\", \"2015-07-01T00:00:00.000Z\", \"2015-10-01T00:00:00.000Z\", \"2016-01-01T00:00:00.000Z\", \"2016-04-01T00:00:00.000Z\", \"2016-07-01T00:00:00.000Z\", \"2016-10-01T00:00:00.000Z\", \"2017-01-01T00:00:00.000Z\", \"2017-04-01T00:00:00.000Z\"], \"name\": \"male\", \"y\": [21682, 21709, 32824, 29865, 35296, 29119, 39406, 40612, 48532, 45188, 55850, 49389, 62901, 47408, 56887, 14421], \"type\": \"scatter\"}, {\"x\": [\"2013-07-01T00:00:00.000Z\", \"2013-10-01T00:00:00.000Z\", \"2014-01-01T00:00:00.000Z\", \"2014-04-01T00:00:00.000Z\", \"2014-07-01T00:00:00.000Z\", \"2014-10-01T00:00:00.000Z\", \"2015-01-01T00:00:00.000Z\", \"2015-04-01T00:00:00.000Z\", \"2015-07-01T00:00:00.000Z\", \"2015-10-01T00:00:00.000Z\", \"2016-01-01T00:00:00.000Z\", \"2016-04-01T00:00:00.000Z\", \"2016-07-01T00:00:00.000Z\", \"2016-10-01T00:00:00.000Z\", \"2017-01-01T00:00:00.000Z\", \"2017-04-01T00:00:00.000Z\"], \"name\": \"unknown\", \"y\": [2385, 2697, 3821, 2959, 4121, 2865, 4615, 4538, 6472, 7283, 7858, 6616, 6938, 6070, 8455, 2108], \"type\": \"scatter\"}], {}, {\"linkText\": \"Export to plot.ly\", \"showLink\": true})});</script>"
      }
     ],
     "prompt_number": 99
    },
    {
     "cell_type": "markdown",
     "metadata": {},
     "source": [
      "## Number of people acting as core reviews (-2 OR +2) by gender"
     ]
    },
    {
     "cell_type": "code",
     "collapsed": false,
     "input": [
      "draw_evolutionary_chart(\"key_as_string\", METRIC_NAME)"
     ],
     "language": "python",
     "metadata": {},
     "outputs": [
      {
       "application/vnd.plotly.v1+json": {
        "data": [
         {
          "name": "female",
          "type": "scatter",
          "x": [
           "2013-07-01T00:00:00.000Z",
           "2013-10-01T00:00:00.000Z",
           "2014-01-01T00:00:00.000Z",
           "2014-04-01T00:00:00.000Z",
           "2014-07-01T00:00:00.000Z",
           "2014-10-01T00:00:00.000Z",
           "2015-01-01T00:00:00.000Z",
           "2015-04-01T00:00:00.000Z",
           "2015-07-01T00:00:00.000Z",
           "2015-10-01T00:00:00.000Z",
           "2016-01-01T00:00:00.000Z",
           "2016-04-01T00:00:00.000Z",
           "2016-07-01T00:00:00.000Z",
           "2016-10-01T00:00:00.000Z",
           "2017-01-01T00:00:00.000Z",
           "2017-04-01T00:00:00.000Z"
          ],
          "y": [
           18,
           20,
           28,
           33,
           40,
           41,
           60,
           63,
           83,
           97,
           102,
           104,
           101,
           92,
           89,
           63
          ]
         },
         {
          "name": "male",
          "type": "scatter",
          "x": [
           "2013-07-01T00:00:00.000Z",
           "2013-10-01T00:00:00.000Z",
           "2014-01-01T00:00:00.000Z",
           "2014-04-01T00:00:00.000Z",
           "2014-07-01T00:00:00.000Z",
           "2014-10-01T00:00:00.000Z",
           "2015-01-01T00:00:00.000Z",
           "2015-04-01T00:00:00.000Z",
           "2015-07-01T00:00:00.000Z",
           "2015-10-01T00:00:00.000Z",
           "2016-01-01T00:00:00.000Z",
           "2016-04-01T00:00:00.000Z",
           "2016-07-01T00:00:00.000Z",
           "2016-10-01T00:00:00.000Z",
           "2017-01-01T00:00:00.000Z",
           "2017-04-01T00:00:00.000Z"
          ],
          "y": [
           190,
           219,
           281,
           296,
           344,
           360,
           419,
           492,
           543,
           582,
           601,
           651,
           686,
           676,
           623,
           410
          ]
         },
         {
          "name": "unknown",
          "type": "scatter",
          "x": [
           "2013-07-01T00:00:00.000Z",
           "2013-10-01T00:00:00.000Z",
           "2014-01-01T00:00:00.000Z",
           "2014-04-01T00:00:00.000Z",
           "2014-07-01T00:00:00.000Z",
           "2014-10-01T00:00:00.000Z",
           "2015-01-01T00:00:00.000Z",
           "2015-04-01T00:00:00.000Z",
           "2015-07-01T00:00:00.000Z",
           "2015-10-01T00:00:00.000Z",
           "2016-01-01T00:00:00.000Z",
           "2016-04-01T00:00:00.000Z",
           "2016-07-01T00:00:00.000Z",
           "2016-10-01T00:00:00.000Z",
           "2017-01-01T00:00:00.000Z",
           "2017-04-01T00:00:00.000Z"
          ],
          "y": [
           28,
           28,
           34,
           38,
           39,
           41,
           47,
           56,
           79,
           95,
           102,
           109,
           118,
           109,
           119,
           65
          ]
         }
        ],
        "layout": {}
       },
       "html": [
        "<div id=\"c125ccd9-ae9a-414f-ac30-b361e384d382\" style=\"height: 525px; width: 100%;\" class=\"plotly-graph-div\"></div><script type=\"text/javascript\">require([\"plotly\"], function(Plotly) { window.PLOTLYENV=window.PLOTLYENV || {};window.PLOTLYENV.BASE_URL=\"https://plot.ly\";Plotly.newPlot(\"c125ccd9-ae9a-414f-ac30-b361e384d382\", [{\"x\": [\"2013-07-01T00:00:00.000Z\", \"2013-10-01T00:00:00.000Z\", \"2014-01-01T00:00:00.000Z\", \"2014-04-01T00:00:00.000Z\", \"2014-07-01T00:00:00.000Z\", \"2014-10-01T00:00:00.000Z\", \"2015-01-01T00:00:00.000Z\", \"2015-04-01T00:00:00.000Z\", \"2015-07-01T00:00:00.000Z\", \"2015-10-01T00:00:00.000Z\", \"2016-01-01T00:00:00.000Z\", \"2016-04-01T00:00:00.000Z\", \"2016-07-01T00:00:00.000Z\", \"2016-10-01T00:00:00.000Z\", \"2017-01-01T00:00:00.000Z\", \"2017-04-01T00:00:00.000Z\"], \"name\": \"female\", \"y\": [18, 20, 28, 33, 40, 41, 60, 63, 83, 97, 102, 104, 101, 92, 89, 63], \"type\": \"scatter\"}, {\"x\": [\"2013-07-01T00:00:00.000Z\", \"2013-10-01T00:00:00.000Z\", \"2014-01-01T00:00:00.000Z\", \"2014-04-01T00:00:00.000Z\", \"2014-07-01T00:00:00.000Z\", \"2014-10-01T00:00:00.000Z\", \"2015-01-01T00:00:00.000Z\", \"2015-04-01T00:00:00.000Z\", \"2015-07-01T00:00:00.000Z\", \"2015-10-01T00:00:00.000Z\", \"2016-01-01T00:00:00.000Z\", \"2016-04-01T00:00:00.000Z\", \"2016-07-01T00:00:00.000Z\", \"2016-10-01T00:00:00.000Z\", \"2017-01-01T00:00:00.000Z\", \"2017-04-01T00:00:00.000Z\"], \"name\": \"male\", \"y\": [190, 219, 281, 296, 344, 360, 419, 492, 543, 582, 601, 651, 686, 676, 623, 410], \"type\": \"scatter\"}, {\"x\": [\"2013-07-01T00:00:00.000Z\", \"2013-10-01T00:00:00.000Z\", \"2014-01-01T00:00:00.000Z\", \"2014-04-01T00:00:00.000Z\", \"2014-07-01T00:00:00.000Z\", \"2014-10-01T00:00:00.000Z\", \"2015-01-01T00:00:00.000Z\", \"2015-04-01T00:00:00.000Z\", \"2015-07-01T00:00:00.000Z\", \"2015-10-01T00:00:00.000Z\", \"2016-01-01T00:00:00.000Z\", \"2016-04-01T00:00:00.000Z\", \"2016-07-01T00:00:00.000Z\", \"2016-10-01T00:00:00.000Z\", \"2017-01-01T00:00:00.000Z\", \"2017-04-01T00:00:00.000Z\"], \"name\": \"unknown\", \"y\": [28, 28, 34, 38, 39, 41, 47, 56, 79, 95, 102, 109, 118, 109, 119, 65], \"type\": \"scatter\"}], {}, {\"linkText\": \"Export to plot.ly\", \"showLink\": true})});</script>"
       ],
       "metadata": {},
       "output_type": "display_data",
       "text/vnd.plotly.v1+html": "<div id=\"c125ccd9-ae9a-414f-ac30-b361e384d382\" style=\"height: 525px; width: 100%;\" class=\"plotly-graph-div\"></div><script type=\"text/javascript\">require([\"plotly\"], function(Plotly) { window.PLOTLYENV=window.PLOTLYENV || {};window.PLOTLYENV.BASE_URL=\"https://plot.ly\";Plotly.newPlot(\"c125ccd9-ae9a-414f-ac30-b361e384d382\", [{\"x\": [\"2013-07-01T00:00:00.000Z\", \"2013-10-01T00:00:00.000Z\", \"2014-01-01T00:00:00.000Z\", \"2014-04-01T00:00:00.000Z\", \"2014-07-01T00:00:00.000Z\", \"2014-10-01T00:00:00.000Z\", \"2015-01-01T00:00:00.000Z\", \"2015-04-01T00:00:00.000Z\", \"2015-07-01T00:00:00.000Z\", \"2015-10-01T00:00:00.000Z\", \"2016-01-01T00:00:00.000Z\", \"2016-04-01T00:00:00.000Z\", \"2016-07-01T00:00:00.000Z\", \"2016-10-01T00:00:00.000Z\", \"2017-01-01T00:00:00.000Z\", \"2017-04-01T00:00:00.000Z\"], \"name\": \"female\", \"y\": [18, 20, 28, 33, 40, 41, 60, 63, 83, 97, 102, 104, 101, 92, 89, 63], \"type\": \"scatter\"}, {\"x\": [\"2013-07-01T00:00:00.000Z\", \"2013-10-01T00:00:00.000Z\", \"2014-01-01T00:00:00.000Z\", \"2014-04-01T00:00:00.000Z\", \"2014-07-01T00:00:00.000Z\", \"2014-10-01T00:00:00.000Z\", \"2015-01-01T00:00:00.000Z\", \"2015-04-01T00:00:00.000Z\", \"2015-07-01T00:00:00.000Z\", \"2015-10-01T00:00:00.000Z\", \"2016-01-01T00:00:00.000Z\", \"2016-04-01T00:00:00.000Z\", \"2016-07-01T00:00:00.000Z\", \"2016-10-01T00:00:00.000Z\", \"2017-01-01T00:00:00.000Z\", \"2017-04-01T00:00:00.000Z\"], \"name\": \"male\", \"y\": [190, 219, 281, 296, 344, 360, 419, 492, 543, 582, 601, 651, 686, 676, 623, 410], \"type\": \"scatter\"}, {\"x\": [\"2013-07-01T00:00:00.000Z\", \"2013-10-01T00:00:00.000Z\", \"2014-01-01T00:00:00.000Z\", \"2014-04-01T00:00:00.000Z\", \"2014-07-01T00:00:00.000Z\", \"2014-10-01T00:00:00.000Z\", \"2015-01-01T00:00:00.000Z\", \"2015-04-01T00:00:00.000Z\", \"2015-07-01T00:00:00.000Z\", \"2015-10-01T00:00:00.000Z\", \"2016-01-01T00:00:00.000Z\", \"2016-04-01T00:00:00.000Z\", \"2016-07-01T00:00:00.000Z\", \"2016-10-01T00:00:00.000Z\", \"2017-01-01T00:00:00.000Z\", \"2017-04-01T00:00:00.000Z\"], \"name\": \"unknown\", \"y\": [28, 28, 34, 38, 39, 41, 47, 56, 79, 95, 102, 109, 118, 109, 119, 65], \"type\": \"scatter\"}], {}, {\"linkText\": \"Export to plot.ly\", \"showLink\": true})});</script>"
      }
     ],
     "prompt_number": 101
    },
    {
     "cell_type": "markdown",
     "metadata": {},
     "source": [
      "# GIT"
     ]
    },
    {
     "cell_type": "code",
     "collapsed": false,
     "input": [
      "INDEX = \"git_eventized\"\n",
      "filter_merges_addedlines = Q('range', addedlines={'gt': 0})\n",
      "filter_merges_removedlines = Q('range', removedlines={'gt': 0})\n",
      "filter_bots = Q('bool', must_not=[Q('match', gender_analyzed_name='Jenkins')])"
     ],
     "language": "python",
     "metadata": {},
     "outputs": [],
     "prompt_number": 102
    },
    {
     "cell_type": "markdown",
     "metadata": {},
     "source": [
      "* Evolution and trends over time [per quarter] of commits by gender\n",
      "  * Commits by gender (columns: hash, gender)"
     ]
    },
    {
     "cell_type": "code",
     "collapsed": false,
     "input": [
      "METRIC_NAME = \"commits\"\n",
      "METRIC_FIELD = \"id.keyword\"\n",
      "df = query_metric_over_time(INDEX, METRIC_NAME, METRIC_FIELD, [filter_date_4y, filter_merges_addedlines,\n",
      "                                                               filter_merges_removedlines, filter_bots])"
     ],
     "language": "python",
     "metadata": {},
     "outputs": [],
     "prompt_number": 103
    },
    {
     "cell_type": "code",
     "collapsed": false,
     "input": [
      "draw_evolutionary_chart(\"key_as_string\", METRIC_NAME)"
     ],
     "language": "python",
     "metadata": {},
     "outputs": [
      {
       "application/vnd.plotly.v1+json": {
        "data": [
         {
          "name": "female",
          "type": "scatter",
          "x": [
           "2013-07-01T00:00:00.000Z",
           "2013-10-01T00:00:00.000Z",
           "2014-01-01T00:00:00.000Z",
           "2014-04-01T00:00:00.000Z",
           "2014-07-01T00:00:00.000Z",
           "2014-10-01T00:00:00.000Z",
           "2015-01-01T00:00:00.000Z",
           "2015-04-01T00:00:00.000Z",
           "2015-07-01T00:00:00.000Z",
           "2015-10-01T00:00:00.000Z",
           "2016-01-01T00:00:00.000Z",
           "2016-04-01T00:00:00.000Z",
           "2016-07-01T00:00:00.000Z",
           "2016-10-01T00:00:00.000Z",
           "2017-01-01T00:00:00.000Z",
           "2017-04-01T00:00:00.000Z"
          ],
          "y": [
           1229,
           772,
           876,
           1013,
           1560,
           1111,
           1523,
           1498,
           1682,
           1694,
           1819,
           1696,
           1973,
           1270,
           1142,
           10
          ]
         },
         {
          "name": "male",
          "type": "scatter",
          "x": [
           "2013-07-01T00:00:00.000Z",
           "2013-10-01T00:00:00.000Z",
           "2014-01-01T00:00:00.000Z",
           "2014-04-01T00:00:00.000Z",
           "2014-07-01T00:00:00.000Z",
           "2014-10-01T00:00:00.000Z",
           "2015-01-01T00:00:00.000Z",
           "2015-04-01T00:00:00.000Z",
           "2015-07-01T00:00:00.000Z",
           "2015-10-01T00:00:00.000Z",
           "2016-01-01T00:00:00.000Z",
           "2016-04-01T00:00:00.000Z",
           "2016-07-01T00:00:00.000Z",
           "2016-10-01T00:00:00.000Z",
           "2017-01-01T00:00:00.000Z",
           "2017-04-01T00:00:00.000Z"
          ],
          "y": [
           12805,
           11860,
           14513,
           13134,
           14353,
           13043,
           16536,
           16722,
           17771,
           15092,
           18528,
           15900,
           18126,
           12073,
           10043,
           103
          ]
         },
         {
          "name": "unknown",
          "type": "scatter",
          "x": [
           "2013-07-01T00:00:00.000Z",
           "2013-10-01T00:00:00.000Z",
           "2014-01-01T00:00:00.000Z",
           "2014-04-01T00:00:00.000Z",
           "2014-07-01T00:00:00.000Z",
           "2014-10-01T00:00:00.000Z",
           "2015-01-01T00:00:00.000Z",
           "2015-04-01T00:00:00.000Z",
           "2015-07-01T00:00:00.000Z",
           "2015-10-01T00:00:00.000Z",
           "2016-01-01T00:00:00.000Z",
           "2016-04-01T00:00:00.000Z",
           "2016-07-01T00:00:00.000Z",
           "2016-10-01T00:00:00.000Z",
           "2017-01-01T00:00:00.000Z",
           "2017-04-01T00:00:00.000Z"
          ],
          "y": [
           2085,
           2439,
           3299,
           2367,
           2791,
           2686,
           3483,
           3356,
           4936,
           4773,
           4559,
           5145,
           5574,
           5190,
           4907,
           54
          ]
         }
        ],
        "layout": {}
       },
       "html": [
        "<div id=\"462c5ad1-9094-4af9-8ef6-a88f8f533dbe\" style=\"height: 525px; width: 100%;\" class=\"plotly-graph-div\"></div><script type=\"text/javascript\">require([\"plotly\"], function(Plotly) { window.PLOTLYENV=window.PLOTLYENV || {};window.PLOTLYENV.BASE_URL=\"https://plot.ly\";Plotly.newPlot(\"462c5ad1-9094-4af9-8ef6-a88f8f533dbe\", [{\"x\": [\"2013-07-01T00:00:00.000Z\", \"2013-10-01T00:00:00.000Z\", \"2014-01-01T00:00:00.000Z\", \"2014-04-01T00:00:00.000Z\", \"2014-07-01T00:00:00.000Z\", \"2014-10-01T00:00:00.000Z\", \"2015-01-01T00:00:00.000Z\", \"2015-04-01T00:00:00.000Z\", \"2015-07-01T00:00:00.000Z\", \"2015-10-01T00:00:00.000Z\", \"2016-01-01T00:00:00.000Z\", \"2016-04-01T00:00:00.000Z\", \"2016-07-01T00:00:00.000Z\", \"2016-10-01T00:00:00.000Z\", \"2017-01-01T00:00:00.000Z\", \"2017-04-01T00:00:00.000Z\"], \"name\": \"female\", \"y\": [1229, 772, 876, 1013, 1560, 1111, 1523, 1498, 1682, 1694, 1819, 1696, 1973, 1270, 1142, 10], \"type\": \"scatter\"}, {\"x\": [\"2013-07-01T00:00:00.000Z\", \"2013-10-01T00:00:00.000Z\", \"2014-01-01T00:00:00.000Z\", \"2014-04-01T00:00:00.000Z\", \"2014-07-01T00:00:00.000Z\", \"2014-10-01T00:00:00.000Z\", \"2015-01-01T00:00:00.000Z\", \"2015-04-01T00:00:00.000Z\", \"2015-07-01T00:00:00.000Z\", \"2015-10-01T00:00:00.000Z\", \"2016-01-01T00:00:00.000Z\", \"2016-04-01T00:00:00.000Z\", \"2016-07-01T00:00:00.000Z\", \"2016-10-01T00:00:00.000Z\", \"2017-01-01T00:00:00.000Z\", \"2017-04-01T00:00:00.000Z\"], \"name\": \"male\", \"y\": [12805, 11860, 14513, 13134, 14353, 13043, 16536, 16722, 17771, 15092, 18528, 15900, 18126, 12073, 10043, 103], \"type\": \"scatter\"}, {\"x\": [\"2013-07-01T00:00:00.000Z\", \"2013-10-01T00:00:00.000Z\", \"2014-01-01T00:00:00.000Z\", \"2014-04-01T00:00:00.000Z\", \"2014-07-01T00:00:00.000Z\", \"2014-10-01T00:00:00.000Z\", \"2015-01-01T00:00:00.000Z\", \"2015-04-01T00:00:00.000Z\", \"2015-07-01T00:00:00.000Z\", \"2015-10-01T00:00:00.000Z\", \"2016-01-01T00:00:00.000Z\", \"2016-04-01T00:00:00.000Z\", \"2016-07-01T00:00:00.000Z\", \"2016-10-01T00:00:00.000Z\", \"2017-01-01T00:00:00.000Z\", \"2017-04-01T00:00:00.000Z\"], \"name\": \"unknown\", \"y\": [2085, 2439, 3299, 2367, 2791, 2686, 3483, 3356, 4936, 4773, 4559, 5145, 5574, 5190, 4907, 54], \"type\": \"scatter\"}], {}, {\"linkText\": \"Export to plot.ly\", \"showLink\": true})});</script>"
       ],
       "metadata": {},
       "output_type": "display_data",
       "text/vnd.plotly.v1+html": "<div id=\"462c5ad1-9094-4af9-8ef6-a88f8f533dbe\" style=\"height: 525px; width: 100%;\" class=\"plotly-graph-div\"></div><script type=\"text/javascript\">require([\"plotly\"], function(Plotly) { window.PLOTLYENV=window.PLOTLYENV || {};window.PLOTLYENV.BASE_URL=\"https://plot.ly\";Plotly.newPlot(\"462c5ad1-9094-4af9-8ef6-a88f8f533dbe\", [{\"x\": [\"2013-07-01T00:00:00.000Z\", \"2013-10-01T00:00:00.000Z\", \"2014-01-01T00:00:00.000Z\", \"2014-04-01T00:00:00.000Z\", \"2014-07-01T00:00:00.000Z\", \"2014-10-01T00:00:00.000Z\", \"2015-01-01T00:00:00.000Z\", \"2015-04-01T00:00:00.000Z\", \"2015-07-01T00:00:00.000Z\", \"2015-10-01T00:00:00.000Z\", \"2016-01-01T00:00:00.000Z\", \"2016-04-01T00:00:00.000Z\", \"2016-07-01T00:00:00.000Z\", \"2016-10-01T00:00:00.000Z\", \"2017-01-01T00:00:00.000Z\", \"2017-04-01T00:00:00.000Z\"], \"name\": \"female\", \"y\": [1229, 772, 876, 1013, 1560, 1111, 1523, 1498, 1682, 1694, 1819, 1696, 1973, 1270, 1142, 10], \"type\": \"scatter\"}, {\"x\": [\"2013-07-01T00:00:00.000Z\", \"2013-10-01T00:00:00.000Z\", \"2014-01-01T00:00:00.000Z\", \"2014-04-01T00:00:00.000Z\", \"2014-07-01T00:00:00.000Z\", \"2014-10-01T00:00:00.000Z\", \"2015-01-01T00:00:00.000Z\", \"2015-04-01T00:00:00.000Z\", \"2015-07-01T00:00:00.000Z\", \"2015-10-01T00:00:00.000Z\", \"2016-01-01T00:00:00.000Z\", \"2016-04-01T00:00:00.000Z\", \"2016-07-01T00:00:00.000Z\", \"2016-10-01T00:00:00.000Z\", \"2017-01-01T00:00:00.000Z\", \"2017-04-01T00:00:00.000Z\"], \"name\": \"male\", \"y\": [12805, 11860, 14513, 13134, 14353, 13043, 16536, 16722, 17771, 15092, 18528, 15900, 18126, 12073, 10043, 103], \"type\": \"scatter\"}, {\"x\": [\"2013-07-01T00:00:00.000Z\", \"2013-10-01T00:00:00.000Z\", \"2014-01-01T00:00:00.000Z\", \"2014-04-01T00:00:00.000Z\", \"2014-07-01T00:00:00.000Z\", \"2014-10-01T00:00:00.000Z\", \"2015-01-01T00:00:00.000Z\", \"2015-04-01T00:00:00.000Z\", \"2015-07-01T00:00:00.000Z\", \"2015-10-01T00:00:00.000Z\", \"2016-01-01T00:00:00.000Z\", \"2016-04-01T00:00:00.000Z\", \"2016-07-01T00:00:00.000Z\", \"2016-10-01T00:00:00.000Z\", \"2017-01-01T00:00:00.000Z\", \"2017-04-01T00:00:00.000Z\"], \"name\": \"unknown\", \"y\": [2085, 2439, 3299, 2367, 2791, 2686, 3483, 3356, 4936, 4773, 4559, 5145, 5574, 5190, 4907, 54], \"type\": \"scatter\"}], {}, {\"linkText\": \"Export to plot.ly\", \"showLink\": true})});</script>"
      }
     ],
     "prompt_number": 104
    },
    {
     "cell_type": "code",
     "collapsed": false,
     "input": [
      "pie_chart_labels, pie_chart_values = query_total_piechart(INDEX, METRIC_NAME, METRIC_FIELD, \n",
      "                                                            [filter_date_4y, filter_merges_addedlines,\n",
      "                                                             filter_merges_removedlines, filter_bots])\n",
      "draw_piechart(pie_chart_labels, pie_chart_values, 'Commits by Gender (last 4 years)')"
     ],
     "language": "python",
     "metadata": {},
     "outputs": [
      {
       "application/vnd.plotly.v1+json": {
        "data": [
         {
          "labels": [
           "male",
           "NotKnown",
           "female"
          ],
          "type": "pie",
          "values": [
           219921,
           58417,
           20832
          ]
         }
        ],
        "layout": {
         "title": "Commits by Gender (last 4 years)"
        }
       },
       "html": [
        "<div id=\"6613d13e-7992-4df6-8524-f794b750ef19\" style=\"height: 525px; width: 100%;\" class=\"plotly-graph-div\"></div><script type=\"text/javascript\">require([\"plotly\"], function(Plotly) { window.PLOTLYENV=window.PLOTLYENV || {};window.PLOTLYENV.BASE_URL=\"https://plot.ly\";Plotly.newPlot(\"6613d13e-7992-4df6-8524-f794b750ef19\", [{\"values\": [219921, 58417, 20832], \"labels\": [\"male\", \"NotKnown\", \"female\"], \"type\": \"pie\"}], {\"title\": \"Commits by Gender (last 4 years)\"}, {\"linkText\": \"Export to plot.ly\", \"showLink\": true})});</script>"
       ],
       "metadata": {},
       "output_type": "display_data",
       "text/vnd.plotly.v1+html": "<div id=\"6613d13e-7992-4df6-8524-f794b750ef19\" style=\"height: 525px; width: 100%;\" class=\"plotly-graph-div\"></div><script type=\"text/javascript\">require([\"plotly\"], function(Plotly) { window.PLOTLYENV=window.PLOTLYENV || {};window.PLOTLYENV.BASE_URL=\"https://plot.ly\";Plotly.newPlot(\"6613d13e-7992-4df6-8524-f794b750ef19\", [{\"values\": [219921, 58417, 20832], \"labels\": [\"male\", \"NotKnown\", \"female\"], \"type\": \"pie\"}], {\"title\": \"Commits by Gender (last 4 years)\"}, {\"linkText\": \"Export to plot.ly\", \"showLink\": true})});</script>"
      }
     ],
     "prompt_number": 105
    },
    {
     "cell_type": "code",
     "collapsed": false,
     "input": [
      "pie_chart_labels, pie_chart_values = query_total_changesets(INDEX, METRIC_NAME, METRIC_FIELD, \n",
      "                                                            [filter_date_1y, filter_merges_addedlines,\n",
      "                                                             filter_merges_removedlines, filter_bots])\n",
      "draw_piechart(pie_chart_labels, pie_chart_values, 'Commits by Gender (last year)')"
     ],
     "language": "python",
     "metadata": {},
     "outputs": [
      {
       "application/vnd.plotly.v1+json": {
        "data": [
         {
          "labels": [
           "male",
           "NotKnown",
           "female"
          ],
          "type": "pie",
          "values": [
           40339,
           15747,
           4394
          ]
         }
        ],
        "layout": {
         "title": "Commits by Gender (last year)"
        }
       },
       "html": [
        "<div id=\"d834c37e-ae2a-41d4-85f5-0bc31ece4a76\" style=\"height: 525px; width: 100%;\" class=\"plotly-graph-div\"></div><script type=\"text/javascript\">require([\"plotly\"], function(Plotly) { window.PLOTLYENV=window.PLOTLYENV || {};window.PLOTLYENV.BASE_URL=\"https://plot.ly\";Plotly.newPlot(\"d834c37e-ae2a-41d4-85f5-0bc31ece4a76\", [{\"values\": [40339, 15747, 4394], \"labels\": [\"male\", \"NotKnown\", \"female\"], \"type\": \"pie\"}], {\"title\": \"Commits by Gender (last year)\"}, {\"linkText\": \"Export to plot.ly\", \"showLink\": true})});</script>"
       ],
       "metadata": {},
       "output_type": "display_data",
       "text/vnd.plotly.v1+html": "<div id=\"d834c37e-ae2a-41d4-85f5-0bc31ece4a76\" style=\"height: 525px; width: 100%;\" class=\"plotly-graph-div\"></div><script type=\"text/javascript\">require([\"plotly\"], function(Plotly) { window.PLOTLYENV=window.PLOTLYENV || {};window.PLOTLYENV.BASE_URL=\"https://plot.ly\";Plotly.newPlot(\"d834c37e-ae2a-41d4-85f5-0bc31ece4a76\", [{\"values\": [40339, 15747, 4394], \"labels\": [\"male\", \"NotKnown\", \"female\"], \"type\": \"pie\"}], {\"title\": \"Commits by Gender (last year)\"}, {\"linkText\": \"Export to plot.ly\", \"showLink\": true})});</script>"
      }
     ],
     "prompt_number": 106
    },
    {
     "cell_type": "markdown",
     "metadata": {},
     "source": [
      "\n",
      "* Evolution and trends [per quarter] of developers over time by gender\n",
      "  * Developers by gender (columns: name, uuid, gender)"
     ]
    },
    {
     "cell_type": "code",
     "collapsed": false,
     "input": [
      "METRIC_NAME = \"authors\"\n",
      "METRIC_FIELD = \"uuid\"\n",
      "filter_merges_addedlines = Q('range', addedlines={'gt': 0})\n",
      "filter_merges_removedlines = Q('range', removedlines={'gt': 0})\n",
      "filter_bots = Q('bool', must_not=[Q('match', gender_analyzed_name='Jenkins')])\n",
      "df = query_metric_over_time(INDEX, METRIC_NAME, METRIC_FIELD, [filter_date_4y, filter_merges_addedlines, filter_merges_removedlines, filter_bots])\n",
      "\n",
      "draw_evolutionary_chart(\"key_as_string\", METRIC_NAME)"
     ],
     "language": "python",
     "metadata": {},
     "outputs": [
      {
       "application/vnd.plotly.v1+json": {
        "data": [
         {
          "name": "female",
          "type": "scatter",
          "x": [
           "2013-07-01T00:00:00.000Z",
           "2013-10-01T00:00:00.000Z",
           "2014-01-01T00:00:00.000Z",
           "2014-04-01T00:00:00.000Z",
           "2014-07-01T00:00:00.000Z",
           "2014-10-01T00:00:00.000Z",
           "2015-01-01T00:00:00.000Z",
           "2015-04-01T00:00:00.000Z",
           "2015-07-01T00:00:00.000Z",
           "2015-10-01T00:00:00.000Z",
           "2016-01-01T00:00:00.000Z",
           "2016-04-01T00:00:00.000Z",
           "2016-07-01T00:00:00.000Z",
           "2016-10-01T00:00:00.000Z",
           "2017-01-01T00:00:00.000Z",
           "2017-04-01T00:00:00.000Z"
          ],
          "y": [
           86,
           87,
           113,
           115,
           150,
           127,
           171,
           154,
           202,
           189,
           240,
           209,
           204,
           163,
           145,
           6
          ]
         },
         {
          "name": "male",
          "type": "scatter",
          "x": [
           "2013-07-01T00:00:00.000Z",
           "2013-10-01T00:00:00.000Z",
           "2014-01-01T00:00:00.000Z",
           "2014-04-01T00:00:00.000Z",
           "2014-07-01T00:00:00.000Z",
           "2014-10-01T00:00:00.000Z",
           "2015-01-01T00:00:00.000Z",
           "2015-04-01T00:00:00.000Z",
           "2015-07-01T00:00:00.000Z",
           "2015-10-01T00:00:00.000Z",
           "2016-01-01T00:00:00.000Z",
           "2016-04-01T00:00:00.000Z",
           "2016-07-01T00:00:00.000Z",
           "2016-10-01T00:00:00.000Z",
           "2017-01-01T00:00:00.000Z",
           "2017-04-01T00:00:00.000Z"
          ],
          "y": [
           779,
           770,
           978,
           978,
           1052,
           1036,
           1220,
           1157,
           1332,
           1232,
           1418,
           1313,
           1312,
           1049,
           876,
           55
          ]
         },
         {
          "name": "unknown",
          "type": "scatter",
          "x": [
           "2013-07-01T00:00:00.000Z",
           "2013-10-01T00:00:00.000Z",
           "2014-01-01T00:00:00.000Z",
           "2014-04-01T00:00:00.000Z",
           "2014-07-01T00:00:00.000Z",
           "2014-10-01T00:00:00.000Z",
           "2015-01-01T00:00:00.000Z",
           "2015-04-01T00:00:00.000Z",
           "2015-07-01T00:00:00.000Z",
           "2015-10-01T00:00:00.000Z",
           "2016-01-01T00:00:00.000Z",
           "2016-04-01T00:00:00.000Z",
           "2016-07-01T00:00:00.000Z",
           "2016-10-01T00:00:00.000Z",
           "2017-01-01T00:00:00.000Z",
           "2017-04-01T00:00:00.000Z"
          ],
          "y": [
           182,
           209,
           228,
           232,
           259,
           224,
           300,
           290,
           377,
           339,
           403,
           393,
           434,
           360,
           347,
           17
          ]
         }
        ],
        "layout": {}
       },
       "html": [
        "<div id=\"a8d1b0ce-fb36-4de8-a1c8-45e3e4dfd703\" style=\"height: 525px; width: 100%;\" class=\"plotly-graph-div\"></div><script type=\"text/javascript\">require([\"plotly\"], function(Plotly) { window.PLOTLYENV=window.PLOTLYENV || {};window.PLOTLYENV.BASE_URL=\"https://plot.ly\";Plotly.newPlot(\"a8d1b0ce-fb36-4de8-a1c8-45e3e4dfd703\", [{\"x\": [\"2013-07-01T00:00:00.000Z\", \"2013-10-01T00:00:00.000Z\", \"2014-01-01T00:00:00.000Z\", \"2014-04-01T00:00:00.000Z\", \"2014-07-01T00:00:00.000Z\", \"2014-10-01T00:00:00.000Z\", \"2015-01-01T00:00:00.000Z\", \"2015-04-01T00:00:00.000Z\", \"2015-07-01T00:00:00.000Z\", \"2015-10-01T00:00:00.000Z\", \"2016-01-01T00:00:00.000Z\", \"2016-04-01T00:00:00.000Z\", \"2016-07-01T00:00:00.000Z\", \"2016-10-01T00:00:00.000Z\", \"2017-01-01T00:00:00.000Z\", \"2017-04-01T00:00:00.000Z\"], \"name\": \"female\", \"y\": [86, 87, 113, 115, 150, 127, 171, 154, 202, 189, 240, 209, 204, 163, 145, 6], \"type\": \"scatter\"}, {\"x\": [\"2013-07-01T00:00:00.000Z\", \"2013-10-01T00:00:00.000Z\", \"2014-01-01T00:00:00.000Z\", \"2014-04-01T00:00:00.000Z\", \"2014-07-01T00:00:00.000Z\", \"2014-10-01T00:00:00.000Z\", \"2015-01-01T00:00:00.000Z\", \"2015-04-01T00:00:00.000Z\", \"2015-07-01T00:00:00.000Z\", \"2015-10-01T00:00:00.000Z\", \"2016-01-01T00:00:00.000Z\", \"2016-04-01T00:00:00.000Z\", \"2016-07-01T00:00:00.000Z\", \"2016-10-01T00:00:00.000Z\", \"2017-01-01T00:00:00.000Z\", \"2017-04-01T00:00:00.000Z\"], \"name\": \"male\", \"y\": [779, 770, 978, 978, 1052, 1036, 1220, 1157, 1332, 1232, 1418, 1313, 1312, 1049, 876, 55], \"type\": \"scatter\"}, {\"x\": [\"2013-07-01T00:00:00.000Z\", \"2013-10-01T00:00:00.000Z\", \"2014-01-01T00:00:00.000Z\", \"2014-04-01T00:00:00.000Z\", \"2014-07-01T00:00:00.000Z\", \"2014-10-01T00:00:00.000Z\", \"2015-01-01T00:00:00.000Z\", \"2015-04-01T00:00:00.000Z\", \"2015-07-01T00:00:00.000Z\", \"2015-10-01T00:00:00.000Z\", \"2016-01-01T00:00:00.000Z\", \"2016-04-01T00:00:00.000Z\", \"2016-07-01T00:00:00.000Z\", \"2016-10-01T00:00:00.000Z\", \"2017-01-01T00:00:00.000Z\", \"2017-04-01T00:00:00.000Z\"], \"name\": \"unknown\", \"y\": [182, 209, 228, 232, 259, 224, 300, 290, 377, 339, 403, 393, 434, 360, 347, 17], \"type\": \"scatter\"}], {}, {\"linkText\": \"Export to plot.ly\", \"showLink\": true})});</script>"
       ],
       "metadata": {},
       "output_type": "display_data",
       "text/vnd.plotly.v1+html": "<div id=\"a8d1b0ce-fb36-4de8-a1c8-45e3e4dfd703\" style=\"height: 525px; width: 100%;\" class=\"plotly-graph-div\"></div><script type=\"text/javascript\">require([\"plotly\"], function(Plotly) { window.PLOTLYENV=window.PLOTLYENV || {};window.PLOTLYENV.BASE_URL=\"https://plot.ly\";Plotly.newPlot(\"a8d1b0ce-fb36-4de8-a1c8-45e3e4dfd703\", [{\"x\": [\"2013-07-01T00:00:00.000Z\", \"2013-10-01T00:00:00.000Z\", \"2014-01-01T00:00:00.000Z\", \"2014-04-01T00:00:00.000Z\", \"2014-07-01T00:00:00.000Z\", \"2014-10-01T00:00:00.000Z\", \"2015-01-01T00:00:00.000Z\", \"2015-04-01T00:00:00.000Z\", \"2015-07-01T00:00:00.000Z\", \"2015-10-01T00:00:00.000Z\", \"2016-01-01T00:00:00.000Z\", \"2016-04-01T00:00:00.000Z\", \"2016-07-01T00:00:00.000Z\", \"2016-10-01T00:00:00.000Z\", \"2017-01-01T00:00:00.000Z\", \"2017-04-01T00:00:00.000Z\"], \"name\": \"female\", \"y\": [86, 87, 113, 115, 150, 127, 171, 154, 202, 189, 240, 209, 204, 163, 145, 6], \"type\": \"scatter\"}, {\"x\": [\"2013-07-01T00:00:00.000Z\", \"2013-10-01T00:00:00.000Z\", \"2014-01-01T00:00:00.000Z\", \"2014-04-01T00:00:00.000Z\", \"2014-07-01T00:00:00.000Z\", \"2014-10-01T00:00:00.000Z\", \"2015-01-01T00:00:00.000Z\", \"2015-04-01T00:00:00.000Z\", \"2015-07-01T00:00:00.000Z\", \"2015-10-01T00:00:00.000Z\", \"2016-01-01T00:00:00.000Z\", \"2016-04-01T00:00:00.000Z\", \"2016-07-01T00:00:00.000Z\", \"2016-10-01T00:00:00.000Z\", \"2017-01-01T00:00:00.000Z\", \"2017-04-01T00:00:00.000Z\"], \"name\": \"male\", \"y\": [779, 770, 978, 978, 1052, 1036, 1220, 1157, 1332, 1232, 1418, 1313, 1312, 1049, 876, 55], \"type\": \"scatter\"}, {\"x\": [\"2013-07-01T00:00:00.000Z\", \"2013-10-01T00:00:00.000Z\", \"2014-01-01T00:00:00.000Z\", \"2014-04-01T00:00:00.000Z\", \"2014-07-01T00:00:00.000Z\", \"2014-10-01T00:00:00.000Z\", \"2015-01-01T00:00:00.000Z\", \"2015-04-01T00:00:00.000Z\", \"2015-07-01T00:00:00.000Z\", \"2015-10-01T00:00:00.000Z\", \"2016-01-01T00:00:00.000Z\", \"2016-04-01T00:00:00.000Z\", \"2016-07-01T00:00:00.000Z\", \"2016-10-01T00:00:00.000Z\", \"2017-01-01T00:00:00.000Z\", \"2017-04-01T00:00:00.000Z\"], \"name\": \"unknown\", \"y\": [182, 209, 228, 232, 259, 224, 300, 290, 377, 339, 403, 393, 434, 360, 347, 17], \"type\": \"scatter\"}], {}, {\"linkText\": \"Export to plot.ly\", \"showLink\": true})});</script>"
      }
     ],
     "prompt_number": 108
    },
    {
     "cell_type": "code",
     "collapsed": false,
     "input": [
      "pie_chart_labels, pie_chart_values = query_total_changesets(INDEX, METRIC_NAME, METRIC_FIELD, \n",
      "                                                            [filter_date_4y, filter_merges_addedlines,\n",
      "                                                             filter_merges_removedlines, filter_bots])\n",
      "draw_piechart(pie_chart_labels, pie_chart_values, 'Authors by Gender (last 4 years)')"
     ],
     "language": "python",
     "metadata": {},
     "outputs": [
      {
       "application/vnd.plotly.v1+json": {
        "data": [
         {
          "labels": [
           "male",
           "NotKnown",
           "female"
          ],
          "type": "pie",
          "values": [
           5015,
           2038,
           788
          ]
         }
        ],
        "layout": {
         "title": "Authors by Gender (last 4 years)"
        }
       },
       "html": [
        "<div id=\"115c2d51-f24d-48f9-8fbb-37b2b80c5b33\" style=\"height: 525px; width: 100%;\" class=\"plotly-graph-div\"></div><script type=\"text/javascript\">require([\"plotly\"], function(Plotly) { window.PLOTLYENV=window.PLOTLYENV || {};window.PLOTLYENV.BASE_URL=\"https://plot.ly\";Plotly.newPlot(\"115c2d51-f24d-48f9-8fbb-37b2b80c5b33\", [{\"values\": [5015, 2038, 788], \"labels\": [\"male\", \"NotKnown\", \"female\"], \"type\": \"pie\"}], {\"title\": \"Authors by Gender (last 4 years)\"}, {\"linkText\": \"Export to plot.ly\", \"showLink\": true})});</script>"
       ],
       "metadata": {},
       "output_type": "display_data",
       "text/vnd.plotly.v1+html": "<div id=\"115c2d51-f24d-48f9-8fbb-37b2b80c5b33\" style=\"height: 525px; width: 100%;\" class=\"plotly-graph-div\"></div><script type=\"text/javascript\">require([\"plotly\"], function(Plotly) { window.PLOTLYENV=window.PLOTLYENV || {};window.PLOTLYENV.BASE_URL=\"https://plot.ly\";Plotly.newPlot(\"115c2d51-f24d-48f9-8fbb-37b2b80c5b33\", [{\"values\": [5015, 2038, 788], \"labels\": [\"male\", \"NotKnown\", \"female\"], \"type\": \"pie\"}], {\"title\": \"Authors by Gender (last 4 years)\"}, {\"linkText\": \"Export to plot.ly\", \"showLink\": true})});</script>"
      }
     ],
     "prompt_number": 109
    },
    {
     "cell_type": "code",
     "collapsed": false,
     "input": [
      "pie_chart_labels, pie_chart_values = query_total_changesets(INDEX, METRIC_NAME, METRIC_FIELD, \n",
      "                                                            [filter_date_1y, filter_merges_addedlines,\n",
      "                                                             filter_merges_removedlines, filter_bots])\n",
      "draw_piechart(pie_chart_labels, pie_chart_values, 'Authors by Gender (last year)')"
     ],
     "language": "python",
     "metadata": {},
     "outputs": [
      {
       "application/vnd.plotly.v1+json": {
        "data": [
         {
          "labels": [
           "male",
           "NotKnown",
           "female"
          ],
          "type": "pie",
          "values": [
           1867,
           731,
           303
          ]
         }
        ],
        "layout": {
         "title": "Authors by Gender (last year)"
        }
       },
       "html": [
        "<div id=\"af0494e9-4bd0-4fa9-9658-21d13e61256a\" style=\"height: 525px; width: 100%;\" class=\"plotly-graph-div\"></div><script type=\"text/javascript\">require([\"plotly\"], function(Plotly) { window.PLOTLYENV=window.PLOTLYENV || {};window.PLOTLYENV.BASE_URL=\"https://plot.ly\";Plotly.newPlot(\"af0494e9-4bd0-4fa9-9658-21d13e61256a\", [{\"values\": [1867, 731, 303], \"labels\": [\"male\", \"NotKnown\", \"female\"], \"type\": \"pie\"}], {\"title\": \"Authors by Gender (last year)\"}, {\"linkText\": \"Export to plot.ly\", \"showLink\": true})});</script>"
       ],
       "metadata": {},
       "output_type": "display_data",
       "text/vnd.plotly.v1+html": "<div id=\"af0494e9-4bd0-4fa9-9658-21d13e61256a\" style=\"height: 525px; width: 100%;\" class=\"plotly-graph-div\"></div><script type=\"text/javascript\">require([\"plotly\"], function(Plotly) { window.PLOTLYENV=window.PLOTLYENV || {};window.PLOTLYENV.BASE_URL=\"https://plot.ly\";Plotly.newPlot(\"af0494e9-4bd0-4fa9-9658-21d13e61256a\", [{\"values\": [1867, 731, 303], \"labels\": [\"male\", \"NotKnown\", \"female\"], \"type\": \"pie\"}], {\"title\": \"Authors by Gender (last year)\"}, {\"linkText\": \"Export to plot.ly\", \"showLink\": true})});</script>"
      }
     ],
     "prompt_number": 110
    },
    {
     "cell_type": "markdown",
     "metadata": {},
     "source": [
      "* Evolution and trends of type of contributions (code or others) by gender over time\n",
      "  * Type of file touched by developers (columns: filetype, gender)"
     ]
    },
    {
     "cell_type": "code",
     "collapsed": false,
     "input": [
      "METRIC_NAME = \"code_files_touched\"\n",
      "METRIC_FIELD = \"id.keyword\"\n",
      "filter_merges_addedlines = Q('range', addedlines={'gt': 0})\n",
      "filter_merges_removedlines = Q('range', removedlines={'gt': 0})\n",
      "filter_bots = Q('bool', must_not=[Q('match', gender_analyzed_name='Jenkins')])\n",
      "filter_filetype = Q('term', filetype='code')\n",
      "df = query_metric_over_time(INDEX, METRIC_NAME, METRIC_FIELD, [filter_date_4y, filter_merges_addedlines,\n",
      "                                                               filter_merges_removedlines, filter_bots,\n",
      "                                                               filter_filetype])\n",
      "\n",
      "draw_evolutionary_chart(\"key_as_string\", \"doc_count\")"
     ],
     "language": "python",
     "metadata": {},
     "outputs": [
      {
       "application/vnd.plotly.v1+json": {
        "data": [
         {
          "name": "female",
          "type": "scatter",
          "x": [
           "2013-07-01T00:00:00.000Z",
           "2013-10-01T00:00:00.000Z",
           "2014-01-01T00:00:00.000Z",
           "2014-04-01T00:00:00.000Z",
           "2014-07-01T00:00:00.000Z",
           "2014-10-01T00:00:00.000Z",
           "2015-01-01T00:00:00.000Z",
           "2015-04-01T00:00:00.000Z",
           "2015-07-01T00:00:00.000Z",
           "2015-10-01T00:00:00.000Z",
           "2016-01-01T00:00:00.000Z",
           "2016-04-01T00:00:00.000Z",
           "2016-07-01T00:00:00.000Z",
           "2016-10-01T00:00:00.000Z",
           "2017-01-01T00:00:00.000Z",
           "2017-04-01T00:00:00.000Z"
          ],
          "y": [
           5265,
           2390,
           3790,
           3169,
           6287,
           3018,
           4454,
           3578,
           3439,
           3574,
           5901,
           4366,
           4530,
           2254,
           1959,
           20
          ]
         },
         {
          "name": "male",
          "type": "scatter",
          "x": [
           "2013-07-01T00:00:00.000Z",
           "2013-10-01T00:00:00.000Z",
           "2014-01-01T00:00:00.000Z",
           "2014-04-01T00:00:00.000Z",
           "2014-07-01T00:00:00.000Z",
           "2014-10-01T00:00:00.000Z",
           "2015-01-01T00:00:00.000Z",
           "2015-04-01T00:00:00.000Z",
           "2015-07-01T00:00:00.000Z",
           "2015-10-01T00:00:00.000Z",
           "2016-01-01T00:00:00.000Z",
           "2016-04-01T00:00:00.000Z",
           "2016-07-01T00:00:00.000Z",
           "2016-10-01T00:00:00.000Z",
           "2017-01-01T00:00:00.000Z",
           "2017-04-01T00:00:00.000Z"
          ],
          "y": [
           45301,
           38737,
           48526,
           49286,
           56183,
           43783,
           64506,
           48864,
           59672,
           42628,
           54531,
           41211,
           47158,
           26128,
           20102,
           421
          ]
         },
         {
          "name": "unknown",
          "type": "scatter",
          "x": [
           "2013-07-01T00:00:00.000Z",
           "2013-10-01T00:00:00.000Z",
           "2014-01-01T00:00:00.000Z",
           "2014-04-01T00:00:00.000Z",
           "2014-07-01T00:00:00.000Z",
           "2014-10-01T00:00:00.000Z",
           "2015-01-01T00:00:00.000Z",
           "2015-04-01T00:00:00.000Z",
           "2015-07-01T00:00:00.000Z",
           "2015-10-01T00:00:00.000Z",
           "2016-01-01T00:00:00.000Z",
           "2016-04-01T00:00:00.000Z",
           "2016-07-01T00:00:00.000Z",
           "2016-10-01T00:00:00.000Z",
           "2017-01-01T00:00:00.000Z",
           "2017-04-01T00:00:00.000Z"
          ],
          "y": [
           6950,
           7457,
           12069,
           6449,
           9070,
           8021,
           11140,
           6850,
           11691,
           9685,
           7628,
           8067,
           9318,
           6214,
           7122,
           62
          ]
         }
        ],
        "layout": {}
       },
       "html": [
        "<div id=\"cfd78885-bd34-4a28-839b-12669a327c71\" style=\"height: 525px; width: 100%;\" class=\"plotly-graph-div\"></div><script type=\"text/javascript\">require([\"plotly\"], function(Plotly) { window.PLOTLYENV=window.PLOTLYENV || {};window.PLOTLYENV.BASE_URL=\"https://plot.ly\";Plotly.newPlot(\"cfd78885-bd34-4a28-839b-12669a327c71\", [{\"x\": [\"2013-07-01T00:00:00.000Z\", \"2013-10-01T00:00:00.000Z\", \"2014-01-01T00:00:00.000Z\", \"2014-04-01T00:00:00.000Z\", \"2014-07-01T00:00:00.000Z\", \"2014-10-01T00:00:00.000Z\", \"2015-01-01T00:00:00.000Z\", \"2015-04-01T00:00:00.000Z\", \"2015-07-01T00:00:00.000Z\", \"2015-10-01T00:00:00.000Z\", \"2016-01-01T00:00:00.000Z\", \"2016-04-01T00:00:00.000Z\", \"2016-07-01T00:00:00.000Z\", \"2016-10-01T00:00:00.000Z\", \"2017-01-01T00:00:00.000Z\", \"2017-04-01T00:00:00.000Z\"], \"name\": \"female\", \"y\": [5265, 2390, 3790, 3169, 6287, 3018, 4454, 3578, 3439, 3574, 5901, 4366, 4530, 2254, 1959, 20], \"type\": \"scatter\"}, {\"x\": [\"2013-07-01T00:00:00.000Z\", \"2013-10-01T00:00:00.000Z\", \"2014-01-01T00:00:00.000Z\", \"2014-04-01T00:00:00.000Z\", \"2014-07-01T00:00:00.000Z\", \"2014-10-01T00:00:00.000Z\", \"2015-01-01T00:00:00.000Z\", \"2015-04-01T00:00:00.000Z\", \"2015-07-01T00:00:00.000Z\", \"2015-10-01T00:00:00.000Z\", \"2016-01-01T00:00:00.000Z\", \"2016-04-01T00:00:00.000Z\", \"2016-07-01T00:00:00.000Z\", \"2016-10-01T00:00:00.000Z\", \"2017-01-01T00:00:00.000Z\", \"2017-04-01T00:00:00.000Z\"], \"name\": \"male\", \"y\": [45301, 38737, 48526, 49286, 56183, 43783, 64506, 48864, 59672, 42628, 54531, 41211, 47158, 26128, 20102, 421], \"type\": \"scatter\"}, {\"x\": [\"2013-07-01T00:00:00.000Z\", \"2013-10-01T00:00:00.000Z\", \"2014-01-01T00:00:00.000Z\", \"2014-04-01T00:00:00.000Z\", \"2014-07-01T00:00:00.000Z\", \"2014-10-01T00:00:00.000Z\", \"2015-01-01T00:00:00.000Z\", \"2015-04-01T00:00:00.000Z\", \"2015-07-01T00:00:00.000Z\", \"2015-10-01T00:00:00.000Z\", \"2016-01-01T00:00:00.000Z\", \"2016-04-01T00:00:00.000Z\", \"2016-07-01T00:00:00.000Z\", \"2016-10-01T00:00:00.000Z\", \"2017-01-01T00:00:00.000Z\", \"2017-04-01T00:00:00.000Z\"], \"name\": \"unknown\", \"y\": [6950, 7457, 12069, 6449, 9070, 8021, 11140, 6850, 11691, 9685, 7628, 8067, 9318, 6214, 7122, 62], \"type\": \"scatter\"}], {}, {\"linkText\": \"Export to plot.ly\", \"showLink\": true})});</script>"
       ],
       "metadata": {},
       "output_type": "display_data",
       "text/vnd.plotly.v1+html": "<div id=\"cfd78885-bd34-4a28-839b-12669a327c71\" style=\"height: 525px; width: 100%;\" class=\"plotly-graph-div\"></div><script type=\"text/javascript\">require([\"plotly\"], function(Plotly) { window.PLOTLYENV=window.PLOTLYENV || {};window.PLOTLYENV.BASE_URL=\"https://plot.ly\";Plotly.newPlot(\"cfd78885-bd34-4a28-839b-12669a327c71\", [{\"x\": [\"2013-07-01T00:00:00.000Z\", \"2013-10-01T00:00:00.000Z\", \"2014-01-01T00:00:00.000Z\", \"2014-04-01T00:00:00.000Z\", \"2014-07-01T00:00:00.000Z\", \"2014-10-01T00:00:00.000Z\", \"2015-01-01T00:00:00.000Z\", \"2015-04-01T00:00:00.000Z\", \"2015-07-01T00:00:00.000Z\", \"2015-10-01T00:00:00.000Z\", \"2016-01-01T00:00:00.000Z\", \"2016-04-01T00:00:00.000Z\", \"2016-07-01T00:00:00.000Z\", \"2016-10-01T00:00:00.000Z\", \"2017-01-01T00:00:00.000Z\", \"2017-04-01T00:00:00.000Z\"], \"name\": \"female\", \"y\": [5265, 2390, 3790, 3169, 6287, 3018, 4454, 3578, 3439, 3574, 5901, 4366, 4530, 2254, 1959, 20], \"type\": \"scatter\"}, {\"x\": [\"2013-07-01T00:00:00.000Z\", \"2013-10-01T00:00:00.000Z\", \"2014-01-01T00:00:00.000Z\", \"2014-04-01T00:00:00.000Z\", \"2014-07-01T00:00:00.000Z\", \"2014-10-01T00:00:00.000Z\", \"2015-01-01T00:00:00.000Z\", \"2015-04-01T00:00:00.000Z\", \"2015-07-01T00:00:00.000Z\", \"2015-10-01T00:00:00.000Z\", \"2016-01-01T00:00:00.000Z\", \"2016-04-01T00:00:00.000Z\", \"2016-07-01T00:00:00.000Z\", \"2016-10-01T00:00:00.000Z\", \"2017-01-01T00:00:00.000Z\", \"2017-04-01T00:00:00.000Z\"], \"name\": \"male\", \"y\": [45301, 38737, 48526, 49286, 56183, 43783, 64506, 48864, 59672, 42628, 54531, 41211, 47158, 26128, 20102, 421], \"type\": \"scatter\"}, {\"x\": [\"2013-07-01T00:00:00.000Z\", \"2013-10-01T00:00:00.000Z\", \"2014-01-01T00:00:00.000Z\", \"2014-04-01T00:00:00.000Z\", \"2014-07-01T00:00:00.000Z\", \"2014-10-01T00:00:00.000Z\", \"2015-01-01T00:00:00.000Z\", \"2015-04-01T00:00:00.000Z\", \"2015-07-01T00:00:00.000Z\", \"2015-10-01T00:00:00.000Z\", \"2016-01-01T00:00:00.000Z\", \"2016-04-01T00:00:00.000Z\", \"2016-07-01T00:00:00.000Z\", \"2016-10-01T00:00:00.000Z\", \"2017-01-01T00:00:00.000Z\", \"2017-04-01T00:00:00.000Z\"], \"name\": \"unknown\", \"y\": [6950, 7457, 12069, 6449, 9070, 8021, 11140, 6850, 11691, 9685, 7628, 8067, 9318, 6214, 7122, 62], \"type\": \"scatter\"}], {}, {\"linkText\": \"Export to plot.ly\", \"showLink\": true})});</script>"
      }
     ],
     "prompt_number": 112
    },
    {
     "cell_type": "code",
     "collapsed": false,
     "input": [
      "METRIC_NAME = \"others_files_touched\"\n",
      "METRIC_FIELD = \"id.keyword\"\n",
      "filter_merges_addedlines = Q('range', addedlines={'gt': 0})\n",
      "filter_merges_removedlines = Q('range', removedlines={'gt': 0})\n",
      "filter_bots = Q('bool', must_not=[Q('match', gender_analyzed_name='Jenkins')])\n",
      "filter_filetype = Q('term', filetype='other')\n",
      "df = query_metric_over_time(INDEX, METRIC_NAME, METRIC_FIELD, [filter_date_4y, filter_merges_addedlines,\n",
      "                                                               filter_merges_removedlines, filter_bots,\n",
      "                                                               filter_filetype])\n",
      "draw_evolutionary_chart(\"key_as_string\", \"doc_count\")\n"
     ],
     "language": "python",
     "metadata": {},
     "outputs": [
      {
       "application/vnd.plotly.v1+json": {
        "data": [
         {
          "name": "female",
          "type": "scatter",
          "x": [
           "2013-07-01T00:00:00.000Z",
           "2013-10-01T00:00:00.000Z",
           "2014-01-01T00:00:00.000Z",
           "2014-04-01T00:00:00.000Z",
           "2014-07-01T00:00:00.000Z",
           "2014-10-01T00:00:00.000Z",
           "2015-01-01T00:00:00.000Z",
           "2015-04-01T00:00:00.000Z",
           "2015-07-01T00:00:00.000Z",
           "2015-10-01T00:00:00.000Z",
           "2016-01-01T00:00:00.000Z",
           "2016-04-01T00:00:00.000Z",
           "2016-07-01T00:00:00.000Z",
           "2016-10-01T00:00:00.000Z",
           "2017-01-01T00:00:00.000Z",
           "2017-04-01T00:00:00.000Z"
          ],
          "y": [
           2295,
           1430,
           1358,
           1788,
           1811,
           1326,
           2650,
           2296,
           2610,
           2887,
           1983,
           2494,
           2853,
           1865,
           1782,
           15
          ]
         },
         {
          "name": "male",
          "type": "scatter",
          "x": [
           "2013-07-01T00:00:00.000Z",
           "2013-10-01T00:00:00.000Z",
           "2014-01-01T00:00:00.000Z",
           "2014-04-01T00:00:00.000Z",
           "2014-07-01T00:00:00.000Z",
           "2014-10-01T00:00:00.000Z",
           "2015-01-01T00:00:00.000Z",
           "2015-04-01T00:00:00.000Z",
           "2015-07-01T00:00:00.000Z",
           "2015-10-01T00:00:00.000Z",
           "2016-01-01T00:00:00.000Z",
           "2016-04-01T00:00:00.000Z",
           "2016-07-01T00:00:00.000Z",
           "2016-10-01T00:00:00.000Z",
           "2017-01-01T00:00:00.000Z",
           "2017-04-01T00:00:00.000Z"
          ],
          "y": [
           19191,
           14346,
           16519,
           19387,
           21943,
           16243,
           19735,
           21371,
           24742,
           21068,
           26757,
           23196,
           27596,
           16219,
           13888,
           143
          ]
         },
         {
          "name": "unknown",
          "type": "scatter",
          "x": [
           "2013-07-01T00:00:00.000Z",
           "2013-10-01T00:00:00.000Z",
           "2014-01-01T00:00:00.000Z",
           "2014-04-01T00:00:00.000Z",
           "2014-07-01T00:00:00.000Z",
           "2014-10-01T00:00:00.000Z",
           "2015-01-01T00:00:00.000Z",
           "2015-04-01T00:00:00.000Z",
           "2015-07-01T00:00:00.000Z",
           "2015-10-01T00:00:00.000Z",
           "2016-01-01T00:00:00.000Z",
           "2016-04-01T00:00:00.000Z",
           "2016-07-01T00:00:00.000Z",
           "2016-10-01T00:00:00.000Z",
           "2017-01-01T00:00:00.000Z",
           "2017-04-01T00:00:00.000Z"
          ],
          "y": [
           80262,
           49462,
           49527,
           35428,
           11650,
           7974,
           10675,
           10700,
           13176,
           12596,
           12219,
           12535,
           10647,
           9225,
           8417,
           110
          ]
         }
        ],
        "layout": {}
       },
       "html": [
        "<div id=\"3622c3d8-dac9-453f-8e7f-c841853c5019\" style=\"height: 525px; width: 100%;\" class=\"plotly-graph-div\"></div><script type=\"text/javascript\">require([\"plotly\"], function(Plotly) { window.PLOTLYENV=window.PLOTLYENV || {};window.PLOTLYENV.BASE_URL=\"https://plot.ly\";Plotly.newPlot(\"3622c3d8-dac9-453f-8e7f-c841853c5019\", [{\"x\": [\"2013-07-01T00:00:00.000Z\", \"2013-10-01T00:00:00.000Z\", \"2014-01-01T00:00:00.000Z\", \"2014-04-01T00:00:00.000Z\", \"2014-07-01T00:00:00.000Z\", \"2014-10-01T00:00:00.000Z\", \"2015-01-01T00:00:00.000Z\", \"2015-04-01T00:00:00.000Z\", \"2015-07-01T00:00:00.000Z\", \"2015-10-01T00:00:00.000Z\", \"2016-01-01T00:00:00.000Z\", \"2016-04-01T00:00:00.000Z\", \"2016-07-01T00:00:00.000Z\", \"2016-10-01T00:00:00.000Z\", \"2017-01-01T00:00:00.000Z\", \"2017-04-01T00:00:00.000Z\"], \"name\": \"female\", \"y\": [2295, 1430, 1358, 1788, 1811, 1326, 2650, 2296, 2610, 2887, 1983, 2494, 2853, 1865, 1782, 15], \"type\": \"scatter\"}, {\"x\": [\"2013-07-01T00:00:00.000Z\", \"2013-10-01T00:00:00.000Z\", \"2014-01-01T00:00:00.000Z\", \"2014-04-01T00:00:00.000Z\", \"2014-07-01T00:00:00.000Z\", \"2014-10-01T00:00:00.000Z\", \"2015-01-01T00:00:00.000Z\", \"2015-04-01T00:00:00.000Z\", \"2015-07-01T00:00:00.000Z\", \"2015-10-01T00:00:00.000Z\", \"2016-01-01T00:00:00.000Z\", \"2016-04-01T00:00:00.000Z\", \"2016-07-01T00:00:00.000Z\", \"2016-10-01T00:00:00.000Z\", \"2017-01-01T00:00:00.000Z\", \"2017-04-01T00:00:00.000Z\"], \"name\": \"male\", \"y\": [19191, 14346, 16519, 19387, 21943, 16243, 19735, 21371, 24742, 21068, 26757, 23196, 27596, 16219, 13888, 143], \"type\": \"scatter\"}, {\"x\": [\"2013-07-01T00:00:00.000Z\", \"2013-10-01T00:00:00.000Z\", \"2014-01-01T00:00:00.000Z\", \"2014-04-01T00:00:00.000Z\", \"2014-07-01T00:00:00.000Z\", \"2014-10-01T00:00:00.000Z\", \"2015-01-01T00:00:00.000Z\", \"2015-04-01T00:00:00.000Z\", \"2015-07-01T00:00:00.000Z\", \"2015-10-01T00:00:00.000Z\", \"2016-01-01T00:00:00.000Z\", \"2016-04-01T00:00:00.000Z\", \"2016-07-01T00:00:00.000Z\", \"2016-10-01T00:00:00.000Z\", \"2017-01-01T00:00:00.000Z\", \"2017-04-01T00:00:00.000Z\"], \"name\": \"unknown\", \"y\": [80262, 49462, 49527, 35428, 11650, 7974, 10675, 10700, 13176, 12596, 12219, 12535, 10647, 9225, 8417, 110], \"type\": \"scatter\"}], {}, {\"linkText\": \"Export to plot.ly\", \"showLink\": true})});</script>"
       ],
       "metadata": {},
       "output_type": "display_data",
       "text/vnd.plotly.v1+html": "<div id=\"3622c3d8-dac9-453f-8e7f-c841853c5019\" style=\"height: 525px; width: 100%;\" class=\"plotly-graph-div\"></div><script type=\"text/javascript\">require([\"plotly\"], function(Plotly) { window.PLOTLYENV=window.PLOTLYENV || {};window.PLOTLYENV.BASE_URL=\"https://plot.ly\";Plotly.newPlot(\"3622c3d8-dac9-453f-8e7f-c841853c5019\", [{\"x\": [\"2013-07-01T00:00:00.000Z\", \"2013-10-01T00:00:00.000Z\", \"2014-01-01T00:00:00.000Z\", \"2014-04-01T00:00:00.000Z\", \"2014-07-01T00:00:00.000Z\", \"2014-10-01T00:00:00.000Z\", \"2015-01-01T00:00:00.000Z\", \"2015-04-01T00:00:00.000Z\", \"2015-07-01T00:00:00.000Z\", \"2015-10-01T00:00:00.000Z\", \"2016-01-01T00:00:00.000Z\", \"2016-04-01T00:00:00.000Z\", \"2016-07-01T00:00:00.000Z\", \"2016-10-01T00:00:00.000Z\", \"2017-01-01T00:00:00.000Z\", \"2017-04-01T00:00:00.000Z\"], \"name\": \"female\", \"y\": [2295, 1430, 1358, 1788, 1811, 1326, 2650, 2296, 2610, 2887, 1983, 2494, 2853, 1865, 1782, 15], \"type\": \"scatter\"}, {\"x\": [\"2013-07-01T00:00:00.000Z\", \"2013-10-01T00:00:00.000Z\", \"2014-01-01T00:00:00.000Z\", \"2014-04-01T00:00:00.000Z\", \"2014-07-01T00:00:00.000Z\", \"2014-10-01T00:00:00.000Z\", \"2015-01-01T00:00:00.000Z\", \"2015-04-01T00:00:00.000Z\", \"2015-07-01T00:00:00.000Z\", \"2015-10-01T00:00:00.000Z\", \"2016-01-01T00:00:00.000Z\", \"2016-04-01T00:00:00.000Z\", \"2016-07-01T00:00:00.000Z\", \"2016-10-01T00:00:00.000Z\", \"2017-01-01T00:00:00.000Z\", \"2017-04-01T00:00:00.000Z\"], \"name\": \"male\", \"y\": [19191, 14346, 16519, 19387, 21943, 16243, 19735, 21371, 24742, 21068, 26757, 23196, 27596, 16219, 13888, 143], \"type\": \"scatter\"}, {\"x\": [\"2013-07-01T00:00:00.000Z\", \"2013-10-01T00:00:00.000Z\", \"2014-01-01T00:00:00.000Z\", \"2014-04-01T00:00:00.000Z\", \"2014-07-01T00:00:00.000Z\", \"2014-10-01T00:00:00.000Z\", \"2015-01-01T00:00:00.000Z\", \"2015-04-01T00:00:00.000Z\", \"2015-07-01T00:00:00.000Z\", \"2015-10-01T00:00:00.000Z\", \"2016-01-01T00:00:00.000Z\", \"2016-04-01T00:00:00.000Z\", \"2016-07-01T00:00:00.000Z\", \"2016-10-01T00:00:00.000Z\", \"2017-01-01T00:00:00.000Z\", \"2017-04-01T00:00:00.000Z\"], \"name\": \"unknown\", \"y\": [80262, 49462, 49527, 35428, 11650, 7974, 10675, 10700, 13176, 12596, 12219, 12535, 10647, 9225, 8417, 110], \"type\": \"scatter\"}], {}, {\"linkText\": \"Export to plot.ly\", \"showLink\": true})});</script>"
      }
     ],
     "prompt_number": 113
    }
   ],
   "metadata": {}
  }
 ]
}