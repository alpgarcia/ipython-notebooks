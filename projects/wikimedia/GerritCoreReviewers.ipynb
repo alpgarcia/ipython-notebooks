{
 "metadata": {
  "name": ""
 },
 "nbformat": 3,
 "nbformat_minor": 0,
 "worksheets": [
  {
   "cells": [
    {
     "cell_type": "code",
     "collapsed": false,
     "input": [
      "%pylab inline"
     ],
     "language": "python",
     "metadata": {},
     "outputs": [
      {
       "output_type": "stream",
       "stream": "stdout",
       "text": [
        "Populating the interactive namespace from numpy and matplotlib\n"
       ]
      },
      {
       "output_type": "stream",
       "stream": "stderr",
       "text": [
        "WARNING: pylab import has clobbered these variables: ['datetime']\n",
        "`%pylab --no-import-all` prevents importing * from pylab and numpy\n"
       ]
      }
     ],
     "prompt_number": 14
    },
    {
     "cell_type": "code",
     "collapsed": false,
     "input": [
      "from vizgrimoire.metrics.query_builder import SCRQuery\n",
      "from vizgrimoire.metrics.metrics_filter import MetricFilters\n",
      "import vizgrimoire.metrics.scr_metrics as scr"
     ],
     "language": "python",
     "metadata": {},
     "outputs": [],
     "prompt_number": 15
    },
    {
     "cell_type": "code",
     "collapsed": false,
     "input": [
      "#database object\n",
      "user=\"root\"\n",
      "password=\"\"\n",
      "scr_db = \"wikimedia_gerrit_20150224\"\n",
      "identities_db =\"wikimedia_git_20150224\"\n",
      "people_out = [\"Translation updater bot\", \"\", \"\", \"\"]\n",
      "dbcon=SCRQuery(user, password, scr_db, identities_db)"
     ],
     "language": "python",
     "metadata": {},
     "outputs": [],
     "prompt_number": 16
    },
    {
     "cell_type": "code",
     "collapsed": false,
     "input": [
      "#metrics filter object\n",
      "period = MetricFilters.PERIOD_MONTH\n",
      "startdate=\"'2013-01-01'\"\n",
      "enddate=\"'2015-03-01'\"\n",
      "\n",
      "filters = MetricFilters(period, startdate, enddate, [\"autoreviews\", \"fake\"])\n"
     ],
     "language": "python",
     "metadata": {},
     "outputs": [],
     "prompt_number": 17
    },
    {
     "cell_type": "code",
     "collapsed": false,
     "input": [
      "reviewers = scr.ActiveCoreReviewers(dbcon, filters)"
     ],
     "language": "python",
     "metadata": {},
     "outputs": [],
     "prompt_number": 18
    },
    {
     "cell_type": "code",
     "collapsed": false,
     "input": [
      "reviewers.get_agg()\n",
      "#get query: reviewers._get_sql(False)"
     ],
     "language": "python",
     "metadata": {},
     "outputs": [
      {
       "metadata": {},
       "output_type": "pyout",
       "prompt_number": 19,
       "text": [
        "{'core_reviewers': 295L}"
       ]
      }
     ],
     "prompt_number": 19
    },
    {
     "cell_type": "code",
     "collapsed": false,
     "input": [
      "from datetime import datetime\n",
      "dates = []\n",
      "unixtime = reviewers.get_ts()[\"unixtime\"]\n",
      "for i in unixtime:\n",
      "    dates.append(datetime.fromtimestamp(float(i)))\n",
      "ts = reviewers.get_ts()"
     ],
     "language": "python",
     "metadata": {},
     "outputs": [],
     "prompt_number": 20
    },
    {
     "cell_type": "code",
     "collapsed": false,
     "input": [
      "fig = plt.figure()\n",
      "plot(dates, ts[\"core_reviewers\"])\n",
      "fig.autofmt_xdate()"
     ],
     "language": "python",
     "metadata": {},
     "outputs": [
      {
       "metadata": {},
       "output_type": "display_data",
       "png": "[encoded data removed]",
       "text": [
        "<matplotlib.figure.Figure at 0x7f03af5433d0>"
       ]
      }
     ],
     "prompt_number": 21
    },
    {
     "cell_type": "code",
     "collapsed": false,
     "input": [
      "period = MetricFilters.PERIOD_MONTH\n",
      "startdate=\"'2015-01-24'\"\n",
      "enddate=\"'2015-02-24'\"\n",
      "\n",
      "filters = MetricFilters(period, startdate, enddate, [\"autoreviews\", \"fake\"])\n",
      "reviewers = scr.ActiveCoreReviewers(dbcon, filters)\n",
      "\n",
      "    "
     ],
     "language": "python",
     "metadata": {},
     "outputs": [],
     "prompt_number": 22
    },
    {
     "cell_type": "code",
     "collapsed": false,
     "input": [
      "list_reviewers = reviewers.get_list()"
     ],
     "language": "python",
     "metadata": {},
     "outputs": [
      {
       "output_type": "stream",
       "stream": "stdout",
       "text": [
        "select up.id as id , up.identifier as identifier , count(distinct(ch.id)) as reviews from issues_ext_gerrit ieg , issues i , changes ch , wikimedia_git_20150224.upeople up , people_upeople pup where field = 'Code-Review' and changed_on < '2015-02-24' and ieg.issue_id = i.id and changed_on >= '2015-01-24' and ch.issue_id = i.id and pup.upeople_id = up.id and (ch.new_value = -2 or ch.new_value = 2) and ch.changed_by  = pup.people_id and ieg.branch like '%master%' and i.id not in\n",
        "                       (select distinct(i.id) as issue_id\n",
        "                       from issues i,\n",
        "                            changes ch\n",
        "                       where i.submitted_by = ch.changed_by and\n",
        "                             i.id = ch.issue_id and\n",
        "                             ch.field = 'status' and\n",
        "                             ch.new_value = 'MERGED')\n",
        "                     group by up.id, up.identifier order by count(distinct(ch.id)) desc \n"
       ]
      }
     ],
     "prompt_number": 23
    },
    {
     "cell_type": "code",
     "collapsed": false,
     "input": [
      "#Now adding to the query the affiliation\n",
      "query = \"\"\"select up.id as id , up.identifier as identifier , c.name as company, count(distinct(ch.id)) as reviews\n",
      "           from issues_ext_gerrit ieg , issues i , changes ch , \n",
      "                wikimedia_git_20150224.upeople up , people_upeople pup, \n",
      "                wikimedia_git_20150224.upeople_companies upc, wikimedia_git_20150224.companies c\n",
      "           where field = 'Code-Review' and changed_on < '2015-02-24' and ieg.issue_id = i.id and changed_on >= '2015-01-24' and \n",
      "                 ch.issue_id = i.id and pup.upeople_id = up.id and (ch.new_value = -2 or ch.new_value = 2) and \n",
      "                 ch.changed_by  = pup.people_id and ieg.branch like '%master%' and \n",
      "                 up.id = upc.upeople_id and upc.company_id = c.id and\n",
      "                 i.id not in\n",
      "                       (select distinct(i.id) as issue_id\n",
      "                       from issues i,\n",
      "                            changes ch\n",
      "                       where i.submitted_by = ch.changed_by and\n",
      "                             i.id = ch.issue_id and\n",
      "                             ch.field = 'status' and\n",
      "                             ch.new_value = 'MERGED')\n",
      "                     group by up.id, up.identifier order by count(distinct(ch.id)) desc \n",
      "        \"\"\"\n",
      "list_affs = reviewers.db.ExecuteQuery(query)"
     ],
     "language": "python",
     "metadata": {},
     "outputs": [],
     "prompt_number": 24
    },
    {
     "cell_type": "code",
     "collapsed": false,
     "input": [
      "for i in range(0,len(list_affs[\"id\"])):\n",
      "    identifier = list_affs[\"identifier\"][i]\n",
      "    company = list_affs[\"company\"][i]\n",
      "    reviews = list_affs[\"reviews\"][i]\n",
      "    print identifier.split('@')[0] + \",\" + company + \",\" + str(reviews)"
     ],
     "language": "python",
     "metadata": {},
     "outputs": [
      {
       "output_type": "stream",
       "stream": "stdout",
       "text": [
        "legoktm,Independent,214\n",
        "jforrester,Unknown,118\n",
        "Catrope,Wikimedia Foundation,111\n",
        "hoo,Unknown,80\n",
        "Ed S,Unknown,74\n",
        "Bartosz Dziewo\u0144ski,Independent,68\n",
        "Adrian Lang,Unknown,58\n",
        "Trevor Parscal,Wikimedia Foundation,53\n",
        "jayvdb,Unknown,45\n",
        "Sam Reed,Wikimedia Foundation,43\n",
        "Matthew Flaschen,Wikimedia Foundation,42\n",
        "Niklas Laxstr\u00f6m,Wikimedia Foundation,42\n",
        "Phuedx,Unknown,39\n",
        "ssastry,Unknown,38\n",
        "Bryan Davis,Wikimedia Foundation,35\n",
        "Krinkle,Wikimedia Foundation,35\n",
        "zfilipin,Unknown,34\n",
        "Umherirrender,Unknown,33\n",
        "thiemowmde,Wikimedia Deutschland,33\n",
        "Santhosh Thottingal,Wikimedia Foundation,33\n",
        "bmansurov,Unknown,31\n",
        "MaxSem,Wikimedia Foundation,29\n",
        "mlitn,Wikimedia Foundation,28\n",
        "Arlolra,Wikimedia Foundation,27\n",
        "krenair,Unknown,26\n",
        "siebrand,Unknown,25\n",
        "Anomie,Wikimedia Foundation,25\n",
        "ebernhardson,Unknown,25\n",
        "jsahleen,Unknown,24\n",
        "Fabian Neundorf,Unknown,23\n",
        "Jon Robson,Wikimedia Foundation,22\n",
        "Chad,Wikimedia Foundation,21\n",
        "Gilles Dubuc,Wikimedia Foundation,21\n",
        "Adam Roses Wight,Wikimedia Foundation,19\n",
        "ori,Unknown,19\n",
        "isarra,Unknown,19\n",
        "amire80,Wikimedia Foundation,18\n",
        "florianschmidtwelzow,Unknown,18\n",
        "rmoen,Unknown,17\n",
        "hashar,Unknown,17\n",
        "jeroendedauw,Wikimedia Deutschland,17\n",
        "MarkTraceur,Wikimedia Foundation,15\n",
        "Aaron Schulz,Wikimedia Foundation,14\n",
        "dbrant,Unknown,14\n",
        "JanZerebecki,Unknown,13\n",
        "xqt,Independent,13\n",
        "bsitzmann,Unknown,13\n",
        "mhurd,Unknown,13\n",
        "aude,Unknown,13\n",
        "Henning Snater,Unknown,13\n",
        "dr0ptp4kt,Unknown,13\n",
        "kaldari,Wikimedia Foundation,11\n",
        "addshore,Independent,11\n",
        "daniel,Unknown,11\n",
        "jhernandez,Unknown,9\n",
        "TTO,Unknown,9\n",
        "marcoil,Unknown,9\n",
        "KartikMistry,Unknown,8\n",
        "Ejegg,Unknown,8\n",
        "Chris McMahon,Wikimedia Foundation,8\n",
        "Andrew Garrett,Wikimedia Foundation,8\n",
        "Mooeypoo,Unknown,7\n",
        "Brion Vibber,Wikimedia Foundation,7\n",
        "Robert Vogel,Unknown,7\n",
        "Gabriel Wicke,Wikimedia Foundation,6\n",
        "Gergo Tisza,Unknown,6\n",
        "Andrew Green,Wikimedia Foundation,5\n",
        "yurik,Unknown,5\n",
        "Jack Phoenix,Unknown,5\n",
        "Merlijn van Deen,Independent,5\n",
        "Tim Starling,Wikimedia Foundation,4\n",
        "Dan Duvall,Unknown,4\n",
        "Mpaa,Unknown,4\n",
        "milimetric,Unknown,4\n",
        "ryasmeen,Unknown,4\n",
        "yuvipanda,Unknown,4\n",
        "gnosygnu,Unknown,3\n",
        "hartman,Unknown,3\n",
        "Moritz Schubotz,Unknown,3\n",
        "Alexandros Kosiaris,Wikimedia Foundation,3\n",
        "tpt,Independent,3\n",
        "Jackmcbarn,Unknown,3\n",
        "Andrew,Unknown,2\n",
        "Deskana,Unknown,2\n",
        "ladsgroup,Unknown,2\n",
        "wirth,Unknown,2\n",
        "csteipp,Unknown,2\n",
        "Tyler Anthony Romeo,Independent,2\n",
        "tamaraslosarek,Unknown,2\n",
        "Mukunda Modell,Unknown,2\n",
        "nuria,Unknown,2\n",
        "wctaiwan,Unknown,2\n",
        "tonythomas01,Unknown,2\n",
        "Yaron Koren,WikiWorks,2\n",
        "Raimond Spekking,Independent,2\n",
        "Katie Horn,Wikimedia Foundation,2\n",
        "dzahn,Unknown,2\n",
        "jonas.keutel,Unknown,1\n",
        "mark,Unknown,1\n",
        "Malvineous,Unknown,1\n",
        "Foxtrott,Unknown,1\n",
        "MZMcBride,Unknown,1\n",
        "PleaseStand,Unknown,1\n",
        "cicalese,Unknown,1\n",
        "otto,Unknown,1\n",
        "Pigpen,Unknown,1\n",
        "mwjames,Unknown,1\n",
        "prtksxna,Unknown,1\n",
        "Manybubbles,Wikimedia Foundation,1\n",
        "Marcel Ruiz Forns,Unknown,1\n",
        "tosfos,Unknown,1\n",
        "ricordisamoa,Unknown,1\n",
        "pginer,Unknown,1\n",
        "soeren.oldag,Unknown,1\n",
        "Mobrovac,Unknown,1\n",
        "JoelKP,Unknown,1\n",
        "cscott,Unknown,1\n",
        "Hypergrove,Unknown,1\n",
        "rush,Unknown,1\n",
        "Felipe Schenone,Unknown,1\n",
        "russblau,Unknown,1\n",
        "mah,Unknown,1\n",
        "pcoombe,Unknown,1\n",
        "o0lilu0o1980,Unknown,1\n",
        "Marielle Volz,Unknown,1\n",
        "Tweichart,Unknown,1\n",
        "filippo,Unknown,1\n",
        "Giuseppe Lavagetto,Unknown,1\n"
       ]
      }
     ],
     "prompt_number": 25
    },
    {
     "cell_type": "code",
     "collapsed": false,
     "input": [],
     "language": "python",
     "metadata": {},
     "outputs": []
    }
   ],
   "metadata": {}
  }
 ]
}