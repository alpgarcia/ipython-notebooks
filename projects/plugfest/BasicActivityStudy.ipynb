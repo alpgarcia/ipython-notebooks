{
 "metadata": {
  "name": ""
 },
 "nbformat": 3,
 "nbformat_minor": 0,
 "worksheets": [
  {
   "cells": [
    {
     "cell_type": "heading",
     "level": 1,
     "metadata": {},
     "source": [
      "Protocols Plugfest Activity Data"
     ]
    },
    {
     "cell_type": "markdown",
     "metadata": {},
     "source": [
      "This notebook aims at providing a small set of metrics focused on activity. For this, three repositories are analyzed: Samba, OpenLDAP, OpenChange and LibreOffice.\n",
      "\n",
      "Databases used are available at http://projects.bitergia.com/zentyal-dashboard/browser/data/db/\n",
      "\n",
      "The metrics to be calculated for this analysis are activity and community.\n",
      "\n",
      "Activity:\n",
      "\n",
      "* Measured as commits\n",
      "* Measured as number of files\n",
      "* Measured as number of added and removed lines\n",
      "\n",
      "Community:\n",
      "\n",
      "* Measured as authors\n",
      "* Measured as the onion model\n",
      "* Measured as avg number of authors per month\n",
      "\n",
      "Trends:\n",
      "\n",
      "* Measured as trends in commits\n",
      "* Measured as trends in authors\n",
      "* Measured as trends in added/removed lines\n"
     ]
    },
    {
     "cell_type": "heading",
     "level": 2,
     "metadata": {},
     "source": [
      "Imports and instantiation of main db and filters objects"
     ]
    },
    {
     "cell_type": "code",
     "collapsed": false,
     "input": [
      "%pylab inline"
     ],
     "language": "python",
     "metadata": {},
     "outputs": [
      {
       "output_type": "stream",
       "stream": "stdout",
       "text": [
        "Populating the interactive namespace from numpy and matplotlib\n"
       ]
      }
     ],
     "prompt_number": 25
    },
    {
     "cell_type": "code",
     "collapsed": false,
     "input": [
      "from vizgrimoire.metrics.query_builder import SCMQuery\n",
      "from vizgrimoire.metrics.metrics_filter import MetricFilters\n",
      "import vizgrimoire.metrics.scm_metrics as scm"
     ],
     "language": "python",
     "metadata": {},
     "outputs": [],
     "prompt_number": 26
    },
    {
     "cell_type": "code",
     "collapsed": false,
     "input": [
      "#database object\n",
      "user=\"root\"\n",
      "password=\"\"\n",
      "scm_db = \"zentyal_data_plugfest\"\n",
      "identities_db =\"zentyal_data_plugfest\"\n",
      "dbcon=SCMQuery(user, password, scm_db, identities_db)"
     ],
     "language": "python",
     "metadata": {},
     "outputs": [],
     "prompt_number": 27
    },
    {
     "cell_type": "code",
     "collapsed": false,
     "input": [
      "period = MetricFilters.PERIOD_MONTH\n",
      "startdate = \"'2010-01-01'\"\n",
      "enddate = \"'2015-03-20'\"\n",
      "\n",
      "filters = MetricFilters(period, startdate, enddate)"
     ],
     "language": "python",
     "metadata": {},
     "outputs": [],
     "prompt_number": 28
    },
    {
     "cell_type": "heading",
     "level": 2,
     "metadata": {},
     "source": [
      "List of available repositories"
     ]
    },
    {
     "cell_type": "code",
     "collapsed": false,
     "input": [
      "repos = scm.Repositories(dbcon, filters)"
     ],
     "language": "python",
     "metadata": {},
     "outputs": [],
     "prompt_number": 29
    },
    {
     "cell_type": "code",
     "collapsed": false,
     "input": [
      "repos.get_list()"
     ],
     "language": "python",
     "metadata": {},
     "outputs": [
      {
       "metadata": {},
       "output_type": "pyout",
       "prompt_number": 30,
       "text": [
        "{'name': ['core.git', 'samba.git', 'openldap.git', 'openchange.git'],\n",
        " 'total': [136529L, 48372L, 5036L, 4443L]}"
       ]
      }
     ],
     "prompt_number": 30
    },
    {
     "cell_type": "raw",
     "metadata": {},
     "source": [
      "Where LibreOffice is \"core.git\", Samba is \"samba.git\", Open Change is \"openchange.git\" and OpenLDAP is \"openldap.git\"."
     ]
    },
    {
     "cell_type": "heading",
     "level": 2,
     "metadata": {},
     "source": [
      "Retrieving metrics per repository"
     ]
    },
    {
     "cell_type": "code",
     "collapsed": false,
     "input": [
      "repositories = repos.get_list()[\"name\"]"
     ],
     "language": "python",
     "metadata": {},
     "outputs": [],
     "prompt_number": 31
    },
    {
     "cell_type": "code",
     "collapsed": false,
     "input": [
      "for repo_name in repositories:\n",
      "    print \"\\n\\n\"\n",
      "    print repo_name\n",
      "    repo_filters = filters.copy()\n",
      "    repo_filters.add_filter(MetricFilters.REPOSITORY, repo_name)\n",
      "    \n",
      "    #Instantiate classes\n",
      "    commits = scm.Commits(dbcon, repo_filters)\n",
      "    authors = scm.Authors(dbcon, repo_filters)\n",
      "    files = scm.Files(dbcon, repo_filters)\n",
      "    added_lines = scm.AddedLines(dbcon, repo_filters)\n",
      "    removed_lines = scm.RemovedLines(dbcon, repo_filters)\n",
      "    \n",
      "    #Calculate metrics\n",
      "    print commits.get_trends(filters.enddate, 365)\n",
      "    print authors.get_trends(filters.enddate, 365)\n",
      "    print files.get_trends(filters.enddate, 365)\n",
      "    print added_lines.get_trends(filters.enddate, 365)\n",
      "    print removed_lines.get_trends(filters.enddate, 365)"
     ],
     "language": "python",
     "metadata": {},
     "outputs": [
      {
       "output_type": "stream",
       "stream": "stdout",
       "text": [
        "\n",
        "\n",
        "\n",
        "core.git\n",
        "{'percentage_commits_365': 0, 'commits_365': 33898, 'diff_netcommits_365': 249}\n",
        "{'authors_365': 269, 'diff_netauthors_365': -59, 'percentage_authors_365': 17}\n",
        "{'files_365': 103381, 'diff_netfiles_365': -1785, 'percentage_files_365': 1}\n",
        "{'added_lines_365': 2461776, 'diff_netadded_lines_365': -1499151, 'percentage_added_lines_365': 37}\n",
        "{'removed_lines_365': 2515962, 'diff_netremoved_lines_365': -1009120, 'percentage_removed_lines_365': 28}\n",
        "\n",
        "\n",
        "\n",
        "samba.git\n",
        "{'percentage_commits_365': 25, 'commits_365': 4919, 'diff_netcommits_365': -1689}\n",
        "{'authors_365': 71, 'diff_netauthors_365': -11, 'percentage_authors_365': 13}\n",
        "{'files_365': 4280, 'diff_netfiles_365': 742, 'percentage_files_365': 20}\n",
        "{'added_lines_365': 427640, 'diff_netadded_lines_365': -75029, 'percentage_added_lines_365': 14}\n",
        "{'removed_lines_365': 304138, 'diff_netremoved_lines_365': 166145, 'percentage_removed_lines_365': 120}\n",
        "\n",
        "\n",
        "\n",
        "openldap.git\n",
        "{'percentage_commits_365': 39, 'commits_365': 947, 'diff_netcommits_365': 270}\n",
        "{'authors_365': 16, 'diff_netauthors_365': -4, 'percentage_authors_365': 19}\n",
        "{'files_365': 3500, 'diff_netfiles_365': -6, 'percentage_files_365': 0}\n",
        "{'added_lines_365': 27314, 'diff_netadded_lines_365': 10113, 'percentage_added_lines_365': 58}\n",
        "{'removed_lines_365': 19564, 'diff_netremoved_lines_365': 8731, 'percentage_removed_lines_365': 80}\n",
        "\n",
        "\n",
        "\n",
        "openchange.git\n",
        "{'percentage_commits_365': 108, 'commits_365': 1452, 'diff_netcommits_365': 756}\n",
        "{'authors_365': 20, 'diff_netauthors_365': 4, 'percentage_authors_365': 25}\n",
        "{'files_365': 916, 'diff_netfiles_365': 587, 'percentage_files_365': 178}\n",
        "{'added_lines_365': 106196, 'diff_netadded_lines_365': 38236, 'percentage_added_lines_365': 56}\n",
        "{'removed_lines_365': 43812, 'diff_netremoved_lines_365': -3438, 'percentage_removed_lines_365': 7}\n"
       ]
      }
     ],
     "prompt_number": 32
    },
    {
     "cell_type": "code",
     "collapsed": false,
     "input": [],
     "language": "python",
     "metadata": {},
     "outputs": []
    }
   ],
   "metadata": {}
  }
 ]
}