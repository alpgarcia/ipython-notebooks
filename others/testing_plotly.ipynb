{
 "metadata": {
  "name": "",
  "signature": "sha256:0207de7bf1a7a82428bfb2f30d66306ca35cff7c6e9730373ddeb439db679cc9"
 },
 "nbformat": 3,
 "nbformat_minor": 0,
 "worksheets": [
  {
   "cells": [
    {
     "cell_type": "code",
     "collapsed": false,
     "input": [
      "from elasticsearch import Elasticsearch\n",
      "import certifi\n",
      "import plotly.plotly as py\n",
      "from plotly.offline import download_plotlyjs, init_notebook_mode, plot, iplot\n",
      "\n",
      "import pandas\n",
      "\n",
      "\n"
     ],
     "language": "python",
     "metadata": {},
     "outputs": [],
     "prompt_number": 5
    },
    {
     "cell_type": "code",
     "collapsed": false,
     "input": [],
     "language": "python",
     "metadata": {},
     "outputs": [],
     "prompt_number": 5
    },
    {
     "cell_type": "code",
     "collapsed": false,
     "input": [
      "fake_df = pandas.DataFrame()\n",
      "fake_df[\"age\"] = [1,2,3,4,5,6,7]\n",
      "fake_df[\"height\"] = [11, 22, 33, 44, 55, 66, 77]"
     ],
     "language": "python",
     "metadata": {},
     "outputs": [],
     "prompt_number": 6
    },
    {
     "cell_type": "code",
     "collapsed": false,
     "input": [],
     "language": "python",
     "metadata": {},
     "outputs": [],
     "prompt_number": 6
    },
    {
     "cell_type": "code",
     "collapsed": false,
     "input": [
      "init_notebook_mode(connected=True)"
     ],
     "language": "python",
     "metadata": {},
     "outputs": [
      {
       "html": [
        "<script>requirejs.config({paths: { 'plotly': ['https://cdn.plot.ly/plotly-latest.min']},});if(!window.Plotly) {{require(['plotly'],function(plotly) {window.Plotly=plotly;});}}</script>"
       ],
       "metadata": {},
       "output_type": "display_data",
       "text/vnd.plotly.v1+html": "<script>requirejs.config({paths: { 'plotly': ['https://cdn.plot.ly/plotly-latest.min']},});if(!window.Plotly) {{require(['plotly'],function(plotly) {window.Plotly=plotly;});}}</script>"
      }
     ],
     "prompt_number": 7
    },
    {
     "cell_type": "code",
     "collapsed": false,
     "input": [
      "iplot([{\n",
      "    'x':fake_df[\"age\"],\n",
      "    'y':fake_df[\"height\"]\n",
      "}])\n",
      "# Using only plot and not iplot creates and HTML page with JS to play with the chart"
     ],
     "language": "python",
     "metadata": {},
     "outputs": [
      {
       "application/vnd.plotly.v1+json": {
        "data": [
         {
          "x": [
           1,
           2,
           3,
           4,
           5,
           6,
           7
          ],
          "y": [
           11,
           22,
           33,
           44,
           55,
           66,
           77
          ]
         }
        ],
        "layout": {}
       },
       "html": [
        "<div id=\"895a59a1-775d-421c-8ed8-1da56e77a984\" style=\"height: 525px; width: 100%;\" class=\"plotly-graph-div\"></div><script type=\"text/javascript\">require([\"plotly\"], function(Plotly) { window.PLOTLYENV=window.PLOTLYENV || {};window.PLOTLYENV.BASE_URL=\"https://plot.ly\";Plotly.newPlot(\"895a59a1-775d-421c-8ed8-1da56e77a984\", [{\"x\": [1, 2, 3, 4, 5, 6, 7], \"y\": [11, 22, 33, 44, 55, 66, 77]}], {}, {\"showLink\": true, \"linkText\": \"Export to plot.ly\"})});</script>"
       ],
       "metadata": {},
       "output_type": "display_data",
       "text/vnd.plotly.v1+html": "<div id=\"895a59a1-775d-421c-8ed8-1da56e77a984\" style=\"height: 525px; width: 100%;\" class=\"plotly-graph-div\"></div><script type=\"text/javascript\">require([\"plotly\"], function(Plotly) { window.PLOTLYENV=window.PLOTLYENV || {};window.PLOTLYENV.BASE_URL=\"https://plot.ly\";Plotly.newPlot(\"895a59a1-775d-421c-8ed8-1da56e77a984\", [{\"x\": [1, 2, 3, 4, 5, 6, 7], \"y\": [11, 22, 33, 44, 55, 66, 77]}], {}, {\"showLink\": true, \"linkText\": \"Export to plot.ly\"})});</script>"
      }
     ],
     "prompt_number": 8
    },
    {
     "cell_type": "code",
     "collapsed": false,
     "input": [
      "import plotly\n",
      "import plotly.graph_objs\n",
      "\n",
      "plotly.offline.iplot({\n",
      "\"data\": [\n",
      "    plotly.graph_objs.Bar(x=fake_df[\"age\"],y=fake_df[\"height\"])\n",
      "],\n",
      "\"layout\": {\n",
      "    \"title\":\"test title\",\n",
      "    \"xaxis\":{\"title\":\"x axis\"},\n",
      "    \"yaxis\":{\"title\":\"y axis\"}\n",
      "}\n",
      "})"
     ],
     "language": "python",
     "metadata": {},
     "outputs": [
      {
       "application/vnd.plotly.v1+json": {
        "data": [
         {
          "type": "bar",
          "x": [
           1,
           2,
           3,
           4,
           5,
           6,
           7
          ],
          "y": [
           11,
           22,
           33,
           44,
           55,
           66,
           77
          ]
         }
        ],
        "layout": {
         "title": "test title",
         "xaxis": {
          "title": "x axis"
         },
         "yaxis": {
          "title": "y axis"
         }
        }
       },
       "html": [
        "<div id=\"a0981912-cc42-4fce-b071-56fe9d26e2e0\" style=\"height: 525px; width: 100%;\" class=\"plotly-graph-div\"></div><script type=\"text/javascript\">require([\"plotly\"], function(Plotly) { window.PLOTLYENV=window.PLOTLYENV || {};window.PLOTLYENV.BASE_URL=\"https://plot.ly\";Plotly.newPlot(\"a0981912-cc42-4fce-b071-56fe9d26e2e0\", [{\"type\": \"bar\", \"y\": [11, 22, 33, 44, 55, 66, 77], \"x\": [1, 2, 3, 4, 5, 6, 7]}], {\"yaxis\": {\"title\": \"y axis\"}, \"title\": \"test title\", \"xaxis\": {\"title\": \"x axis\"}}, {\"showLink\": true, \"linkText\": \"Export to plot.ly\"})});</script>"
       ],
       "metadata": {},
       "output_type": "display_data",
       "text/vnd.plotly.v1+html": "<div id=\"a0981912-cc42-4fce-b071-56fe9d26e2e0\" style=\"height: 525px; width: 100%;\" class=\"plotly-graph-div\"></div><script type=\"text/javascript\">require([\"plotly\"], function(Plotly) { window.PLOTLYENV=window.PLOTLYENV || {};window.PLOTLYENV.BASE_URL=\"https://plot.ly\";Plotly.newPlot(\"a0981912-cc42-4fce-b071-56fe9d26e2e0\", [{\"type\": \"bar\", \"y\": [11, 22, 33, 44, 55, 66, 77], \"x\": [1, 2, 3, 4, 5, 6, 7]}], {\"yaxis\": {\"title\": \"y axis\"}, \"title\": \"test title\", \"xaxis\": {\"title\": \"x axis\"}}, {\"showLink\": true, \"linkText\": \"Export to plot.ly\"})});</script>"
      }
     ],
     "prompt_number": 12
    },
    {
     "cell_type": "code",
     "collapsed": false,
     "input": [],
     "language": "python",
     "metadata": {},
     "outputs": []
    }
   ],
   "metadata": {}
  }
 ]
}