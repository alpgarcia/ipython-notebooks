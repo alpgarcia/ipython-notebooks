{
 "metadata": {
  "name": "",
  "signature": "sha256:519e1ff1dd74c6cbf4f730f06a9fd05bf1a456dec6c35660baba165c827c9152"
 },
 "nbformat": 3,
 "nbformat_minor": 0,
 "worksheets": [
  {
   "cells": [
    {
     "cell_type": "code",
     "collapsed": false,
     "input": [
      "from elasticsearch import Elasticsearch\n",
      "from elasticsearch_dsl import Search\n",
      "from datetime import datetime\n",
      "\n",
      "client = Elasticsearch([\"http://127.0.0.1:9200\"])\n",
      "\n",
      "#s = Search(using=client, index=\"git-apachecon\")"
     ],
     "language": "python",
     "metadata": {},
     "outputs": [],
     "prompt_number": 53
    },
    {
     "cell_type": "markdown",
     "metadata": {},
     "source": [
      "Introduction\n",
      "------------\n",
      "\n",
      "Usual metrics needed for reports are either basic to give a context, or advanced to provide extra points of view helpful in somehow to the managers, developers and others.\n",
      "\n",
      "This is an example of how to produce some basic development metrics using elasticsearch dsl"
     ]
    },
    {
     "cell_type": "markdown",
     "metadata": {},
     "source": [
      "Commits\n",
      "--------\n",
      "\n",
      "Some examples:\n",
      "* Number of commits\n",
      "* Number of commits filtered by an initial and final date\n",
      "* Evolution of commits in a monthly basis\n",
      "* Evolution of commits in a quarter basic\n",
      "* Main authors by number of commits\n",
      "* Main repositories by number of commits\n",
      "* Main authors by number of commits and filtered by an initial date\n",
      "* Main repositories by number of commits and filtered by an initial date"
     ]
    },
    {
     "cell_type": "code",
     "collapsed": false,
     "input": [
      "# COUNTING UNIQUE COMMITS\n",
      "s = Search(using=client, index=\"git-apachecon\")\n",
      "#s.count()\n",
      "#but we need to count unique commits:\n",
      "s.aggs.metric('commits', 'cardinality', field='hash')\n",
      "result = s.execute()\n",
      "result.to_dict()[\"aggregations\"]\n",
      "#TODO: need to check where to add the size = 0 to avoid using 'aggregations' in the dict."
     ],
     "language": "python",
     "metadata": {},
     "outputs": [
      {
       "metadata": {},
       "output_type": "pyout",
       "prompt_number": 71,
       "text": [
        "{u'commits': {u'value': 185332}}"
       ]
      }
     ],
     "prompt_number": 71
    },
    {
     "cell_type": "code",
     "collapsed": false,
     "input": [
      "# COUNTING UNIQUE COMMITS FILTERED BY DATE\n",
      "s = Search(using=client, index=\"git-apachecon\").filter('range', author_date={'gt': datetime(2015, 12, 12)})\n",
      "s.aggs.metric('commits', 'cardinality', field='hash')\n",
      "result = s.execute()\n",
      "result.to_dict()[\"aggregations\"]"
     ],
     "language": "python",
     "metadata": {},
     "outputs": [
      {
       "metadata": {},
       "output_type": "pyout",
       "prompt_number": 72,
       "text": [
        "{u'commits': {u'value': 27682}}"
       ]
      }
     ],
     "prompt_number": 72
    },
    {
     "cell_type": "code",
     "collapsed": false,
     "input": [
      "# COUNTING COMMITS FILTERED BY DATE AND GROUPED BY QUARTER\n",
      "s = Search(using=client, index=\"git-apachecon\").filter('range', author_date={'gt': datetime(2015, 1, 1)})\n",
      "#s = s.filter('range', created={'gte': datetime(1999, 1, 1)})\n",
      "s.aggs.bucket('histogram', 'date_histogram', field='author_date', interval='quarter')\n",
      "result = s.execute()\n",
      "result.to_dict()[\"aggregations\"]"
     ],
     "language": "python",
     "metadata": {},
     "outputs": [
      {
       "metadata": {},
       "output_type": "pyout",
       "prompt_number": 73,
       "text": [
        "{u'histogram': {u'buckets': [{u'doc_count': 8019,\n",
        "    u'key': 1420070400000,\n",
        "    u'key_as_string': u'2015-01-01T00:00:00.000Z'},\n",
        "   {u'doc_count': 10515,\n",
        "    u'key': 1427846400000,\n",
        "    u'key_as_string': u'2015-04-01T00:00:00.000Z'},\n",
        "   {u'doc_count': 8213,\n",
        "    u'key': 1435708800000,\n",
        "    u'key_as_string': u'2015-07-01T00:00:00.000Z'},\n",
        "   {u'doc_count': 8660,\n",
        "    u'key': 1443657600000,\n",
        "    u'key_as_string': u'2015-10-01T00:00:00.000Z'},\n",
        "   {u'doc_count': 7238,\n",
        "    u'key': 1451606400000,\n",
        "    u'key_as_string': u'2016-01-01T00:00:00.000Z'},\n",
        "   {u'doc_count': 9142,\n",
        "    u'key': 1459468800000,\n",
        "    u'key_as_string': u'2016-04-01T00:00:00.000Z'},\n",
        "   {u'doc_count': 6970,\n",
        "    u'key': 1467331200000,\n",
        "    u'key_as_string': u'2016-07-01T00:00:00.000Z'},\n",
        "   {u'doc_count': 3159,\n",
        "    u'key': 1475280000000,\n",
        "    u'key_as_string': u'2016-10-01T00:00:00.000Z'}]}}"
       ]
      }
     ],
     "prompt_number": 73
    },
    {
     "cell_type": "code",
     "collapsed": false,
     "input": [
      "# COUNTING COMMITS FILTERED BY DATE, GROUPED BY QUARTER AND THE UNIQUE ONES\n",
      "s = Search(using=client, index=\"git-apachecon\").filter('range', author_date={'gt': datetime(2015, 1, 1)})\n",
      "#s = s.filter('range', created={'gte': datetime(1999, 1, 1)})\n",
      "s.aggs.bucket('histogram', 'date_histogram', field='author_date', interval='quarter').metric('commits', 'cardinality', field='hash')\n",
      "result = s.execute()\n",
      "result.to_dict()[\"aggregations\"]"
     ],
     "language": "python",
     "metadata": {},
     "outputs": [
      {
       "metadata": {},
       "output_type": "pyout",
       "prompt_number": 74,
       "text": [
        "{u'histogram': {u'buckets': [{u'commits': {u'value': 8096},\n",
        "    u'doc_count': 8019,\n",
        "    u'key': 1420070400000,\n",
        "    u'key_as_string': u'2015-01-01T00:00:00.000Z'},\n",
        "   {u'commits': {u'value': 10250},\n",
        "    u'doc_count': 10515,\n",
        "    u'key': 1427846400000,\n",
        "    u'key_as_string': u'2015-04-01T00:00:00.000Z'},\n",
        "   {u'commits': {u'value': 8052},\n",
        "    u'doc_count': 8213,\n",
        "    u'key': 1435708800000,\n",
        "    u'key_as_string': u'2015-07-01T00:00:00.000Z'},\n",
        "   {u'commits': {u'value': 8583},\n",
        "    u'doc_count': 8660,\n",
        "    u'key': 1443657600000,\n",
        "    u'key_as_string': u'2015-10-01T00:00:00.000Z'},\n",
        "   {u'commits': {u'value': 7166},\n",
        "    u'doc_count': 7238,\n",
        "    u'key': 1451606400000,\n",
        "    u'key_as_string': u'2016-01-01T00:00:00.000Z'},\n",
        "   {u'commits': {u'value': 9466},\n",
        "    u'doc_count': 9142,\n",
        "    u'key': 1459468800000,\n",
        "    u'key_as_string': u'2016-04-01T00:00:00.000Z'},\n",
        "   {u'commits': {u'value': 7012},\n",
        "    u'doc_count': 6970,\n",
        "    u'key': 1467331200000,\n",
        "    u'key_as_string': u'2016-07-01T00:00:00.000Z'},\n",
        "   {u'commits': {u'value': 3161},\n",
        "    u'doc_count': 3159,\n",
        "    u'key': 1475280000000,\n",
        "    u'key_as_string': u'2016-10-01T00:00:00.000Z'}]}}"
       ]
      }
     ],
     "prompt_number": 74
    },
    {
     "cell_type": "code",
     "collapsed": false,
     "input": [
      "# COUNTING UNIQUE COMMITS FILTERED BY DATE AND GROUPED BY REPOSITORY\n",
      "s = Search(using=client, index=\"git-apachecon\").filter('range', author_date={'gt': datetime(2015, 12, 12)})\n",
      "s.aggs.bucket('by_repo', 'terms', field='repo_name').metric('commits', 'cardinality', field='hash')\n",
      "result = s.execute()\n",
      "result.to_dict()[\"aggregations\"]"
     ],
     "language": "python",
     "metadata": {},
     "outputs": [
      {
       "metadata": {},
       "output_type": "pyout",
       "prompt_number": 77,
       "text": [
        "{u'by_repo': {u'buckets': [{u'commits': {u'value': 7583},\n",
        "    u'doc_count': 7644,\n",
        "    u'key': u'https://github.com/apache/ambari.git'},\n",
        "   {u'commits': {u'value': 6474},\n",
        "    u'doc_count': 6559,\n",
        "    u'key': u'https://github.com/apache/hadoop.git'},\n",
        "   {u'commits': {u'value': 5950},\n",
        "    u'doc_count': 6057,\n",
        "    u'key': u'https://github.com/apache/spark.git'},\n",
        "   {u'commits': {u'value': 3897},\n",
        "    u'doc_count': 3718,\n",
        "    u'key': u'https://github.com/apache/hbase.git'},\n",
        "   {u'commits': {u'value': 2299},\n",
        "    u'doc_count': 2339,\n",
        "    u'key': u'https://github.com/apache/hive.git'},\n",
        "   {u'commits': {u'value': 556},\n",
        "    u'doc_count': 533,\n",
        "    u'key': u'https://github.com/apache/tez.git'},\n",
        "   {u'commits': {u'value': 293},\n",
        "    u'doc_count': 274,\n",
        "    u'key': u'https://github.com/apache/pig.git'},\n",
        "   {u'commits': {u'value': 260},\n",
        "    u'doc_count': 268,\n",
        "    u'key': u'https://github.com/apache/mahout.git'},\n",
        "   {u'commits': {u'value': 216},\n",
        "    u'doc_count': 210,\n",
        "    u'key': u'https://github.com/apache/avro.git'},\n",
        "   {u'commits': {u'value': 208},\n",
        "    u'doc_count': 200,\n",
        "    u'key': u'https://github.com/apache/zookeeper.git'}],\n",
        "  u'doc_count_error_upper_bound': 0,\n",
        "  u'sum_other_doc_count': 33}}"
       ]
      }
     ],
     "prompt_number": 77
    },
    {
     "cell_type": "code",
     "collapsed": false,
     "input": [
      "# COUNTING UNIQUE COMMITS FILTERED BY DATE AND GROUPED BY AUTHOR\n",
      "s = Search(using=client, index=\"git-apachecon\").filter('range', author_date={'gt': datetime(2015, 12, 12)})\n",
      "s.aggs.bucket('by_repo', 'terms', field='author_name').metric('commits', 'cardinality', field='hash')\n",
      "result = s.execute()\n",
      "result.to_dict()[\"aggregations\"]"
     ],
     "language": "python",
     "metadata": {},
     "outputs": [
      {
       "metadata": {},
       "output_type": "pyout",
       "prompt_number": 105,
       "text": [
        "{u'by_repo': {u'buckets': [{u'commits': {u'value': 809},\n",
        "    u'doc_count': 760,\n",
        "    u'key': u'tedyu'},\n",
        "   {u'commits': {u'value': 685}, u'doc_count': 671, u'key': u'Andrew Onishuk'},\n",
        "   {u'commits': {u'value': 543}, u'doc_count': 542, u'key': u'Akira Ajisaka'},\n",
        "   {u'commits': {u'value': 428}, u'doc_count': 414, u'key': u'stack'},\n",
        "   {u'commits': {u'value': 413}, u'doc_count': 400, u'key': u'Alex Antonenko'},\n",
        "   {u'commits': {u'value': 394}, u'doc_count': 387, u'key': u'Jason Lowe'},\n",
        "   {u'commits': {u'value': 347}, u'doc_count': 365, u'key': u'Reynold Xin'},\n",
        "   {u'commits': {u'value': 388}, u'doc_count': 362, u'key': u'Kihwal Lee'},\n",
        "   {u'commits': {u'value': 357}, u'doc_count': 360, u'key': u'Sumit Mohanty'},\n",
        "   {u'commits': {u'value': 333},\n",
        "    u'doc_count': 332,\n",
        "    u'key': u'Jonathan Hurley'}],\n",
        "  u'doc_count_error_upper_bound': 165,\n",
        "  u'sum_other_doc_count': 23242}}"
       ]
      }
     ],
     "prompt_number": 105
    },
    {
     "cell_type": "code",
     "collapsed": false,
     "input": [
      "# PRINT QUERY\n",
      "s = Search(using=client, index=\"git-apachecon\").filter('range', author_date={'gt': datetime(2015, 12, 12)})\n",
      "s.aggs.bucket('by_repo', 'terms', field='author_name').metric('commits', 'cardinality', field='hash')\n",
      "s.to_dict()"
     ],
     "language": "python",
     "metadata": {},
     "outputs": [
      {
       "metadata": {},
       "output_type": "pyout",
       "prompt_number": 112,
       "text": [
        "Terms(aggs={'commits': Cardinality(field='hash')}, field='author_name')"
       ]
      }
     ],
     "prompt_number": 112
    },
    {
     "cell_type": "code",
     "collapsed": false,
     "input": [
      "# USE QUERY\n",
      "s.from_dict(dict({'aggs': {'by_repo': {'aggs': {'commits': {'cardinality': {'field': 'hash'}}},'terms': {'field': 'author_name'}}},'query': {'bool': {'filter': [{'range': {'author_date': {'gt': '2015-12-12'}}}]}}}))\n",
      "result=s.execute()\n",
      "result.to_dict()[\"aggregations\"]"
     ],
     "language": "python",
     "metadata": {},
     "outputs": [
      {
       "metadata": {},
       "output_type": "pyout",
       "prompt_number": 123,
       "text": [
        "{u'by_repo': {u'buckets': [{u'commits': {u'value': 809},\n",
        "    u'doc_count': 760,\n",
        "    u'key': u'tedyu'},\n",
        "   {u'commits': {u'value': 685}, u'doc_count': 671, u'key': u'Andrew Onishuk'},\n",
        "   {u'commits': {u'value': 543}, u'doc_count': 542, u'key': u'Akira Ajisaka'},\n",
        "   {u'commits': {u'value': 428}, u'doc_count': 414, u'key': u'stack'},\n",
        "   {u'commits': {u'value': 413}, u'doc_count': 400, u'key': u'Alex Antonenko'},\n",
        "   {u'commits': {u'value': 394}, u'doc_count': 387, u'key': u'Jason Lowe'},\n",
        "   {u'commits': {u'value': 347}, u'doc_count': 365, u'key': u'Reynold Xin'},\n",
        "   {u'commits': {u'value': 388}, u'doc_count': 362, u'key': u'Kihwal Lee'},\n",
        "   {u'commits': {u'value': 357}, u'doc_count': 360, u'key': u'Sumit Mohanty'},\n",
        "   {u'commits': {u'value': 333},\n",
        "    u'doc_count': 332,\n",
        "    u'key': u'Jonathan Hurley'}],\n",
        "  u'doc_count_error_upper_bound': 165,\n",
        "  u'sum_other_doc_count': 23242}}"
       ]
      }
     ],
     "prompt_number": 123
    },
    {
     "cell_type": "code",
     "collapsed": false,
     "input": [],
     "language": "python",
     "metadata": {},
     "outputs": []
    }
   ],
   "metadata": {}
  }
 ]
}