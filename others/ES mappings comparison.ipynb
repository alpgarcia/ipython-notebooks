{
 "metadata": {
  "name": "",
  "signature": "sha256:19837a9747a6dba82aa910d82eeab52a0d1305fc1c79efcc9745a57fbf3c7751"
 },
 "nbformat": 3,
 "nbformat_minor": 0,
 "worksheets": [
  {
   "cells": [
    {
     "cell_type": "code",
     "collapsed": false,
     "input": [
      "from elasticsearch import Elasticsearch\n",
      "from datetime import datetime\n",
      "from elasticsearch_dsl import Mapping"
     ],
     "language": "python",
     "metadata": {},
     "outputs": [],
     "prompt_number": 1
    },
    {
     "cell_type": "markdown",
     "metadata": {},
     "source": [
      "Mappings comparison\n",
      "-------------------\n",
      "\n",
      "Small test to compare two mappings."
     ]
    },
    {
     "cell_type": "code",
     "collapsed": false,
     "input": [
      "# Retrieve mapping from a Git\n",
      "client = Elasticsearch([\"http://127.0.0.1:9200\"])\n",
      "m = Mapping.from_es('git-apachecon', 'item', using=client)\n",
      "dict_git_apachecon = m.to_dict()"
     ],
     "language": "python",
     "metadata": {},
     "outputs": [],
     "prompt_number": 19
    },
    {
     "cell_type": "code",
     "collapsed": false,
     "input": [
      "# Retrieve mapping from the same Git\n",
      "client = Elasticsearch([\"http://127.0.0.1:9200\"])\n",
      "m = Mapping.from_es('git-apachecon', 'item', using=client)\n",
      "dict_git_apachecon_copy = m.to_dict()"
     ],
     "language": "python",
     "metadata": {},
     "outputs": [],
     "prompt_number": 20
    },
    {
     "cell_type": "code",
     "collapsed": false,
     "input": [
      "# Retrieve mapping from another Git\n",
      "client = Elasticsearch([\"http://127.0.0.1:9200\"])\n",
      "m = Mapping.from_es('git', 'item', using=client)\n",
      "dict_git = m.to_dict()"
     ],
     "language": "python",
     "metadata": {},
     "outputs": [],
     "prompt_number": 21
    },
    {
     "cell_type": "code",
     "collapsed": false,
     "input": [
      "#Compare dictionaries\n",
      "git_apachecon_keys = dict_git_apachecon['item']['properties'].keys()\n",
      "git_apachecon_keys_copy = dict_git_apachecon_copy['item']['properties'].keys()\n",
      "git_keys = dict_git['item']['properties'].keys()"
     ],
     "language": "python",
     "metadata": {},
     "outputs": [],
     "prompt_number": 22
    },
    {
     "cell_type": "code",
     "collapsed": false,
     "input": [
      "git_apachecon_keys.sort()\n",
      "git_apachecon_keys_copy.sort()\n",
      "git_keys.sort()\n"
     ],
     "language": "python",
     "metadata": {},
     "outputs": [],
     "prompt_number": 23
    },
    {
     "cell_type": "code",
     "collapsed": false,
     "input": [
      "git_apachecon_keys == git_apachecon_keys_copy"
     ],
     "language": "python",
     "metadata": {},
     "outputs": [
      {
       "metadata": {},
       "output_type": "pyout",
       "prompt_number": 24,
       "text": [
        "True"
       ]
      }
     ],
     "prompt_number": 24
    },
    {
     "cell_type": "code",
     "collapsed": false,
     "input": [
      "git_apachecon_keys == git_keys"
     ],
     "language": "python",
     "metadata": {},
     "outputs": [
      {
       "metadata": {},
       "output_type": "pyout",
       "prompt_number": 25,
       "text": [
        "False"
       ]
      }
     ],
     "prompt_number": 25
    },
    {
     "cell_type": "code",
     "collapsed": false,
     "input": [],
     "language": "python",
     "metadata": {},
     "outputs": []
    }
   ],
   "metadata": {}
  }
 ]
}