{
 "metadata": {
  "name": ""
 },
 "nbformat": 3,
 "nbformat_minor": 0,
 "worksheets": [
  {
   "cells": [
    {
     "cell_type": "code",
     "collapsed": false,
     "input": [
      "%pylab inline"
     ],
     "language": "python",
     "metadata": {},
     "outputs": [
      {
       "output_type": "stream",
       "stream": "stdout",
       "text": [
        "Populating the interactive namespace from numpy and matplotlib\n"
       ]
      }
     ],
     "prompt_number": 1
    },
    {
     "cell_type": "code",
     "collapsed": false,
     "input": [
      "# Database access\n",
      "from vizgrimoire.metrics.query_builder import SCMQuery, ITSQuery\n",
      "# Filters to apply\n",
      "from vizgrimoire.metrics.metrics_filter import MetricFilters\n",
      "# Let's start playing with git activity metrics\n",
      "import vizgrimoire.metrics.scm_metrics as scm"
     ],
     "language": "python",
     "metadata": {},
     "outputs": [],
     "prompt_number": 2
    },
    {
     "cell_type": "code",
     "collapsed": false,
     "input": [
      "# Instantiate database access\n",
      "# Playing with OpenStack source code database (MySQL) at \n",
      "#  http://activity.openstack.org/dash/browser/data/db/source_code.mysql.7z\n",
      "# Database named as openstack_source_code_fosdem2015\n",
      "\n",
      "user = \"root\"\n",
      "password = \"\"\n",
      "source_code_db = \"openstack_source_code_fosdem2015\"\n",
      "identities_db = \"openstack_source_code_fosdem2015\"\n",
      "\n",
      "dbcon = SCMQuery(user, password, source_code_db, identities_db)"
     ],
     "language": "python",
     "metadata": {},
     "outputs": [],
     "prompt_number": 3
    },
    {
     "cell_type": "code",
     "collapsed": false,
     "input": [
      "# Instantiate some filters to play with\n",
      "period = MetricFilters.PERIOD_MONTH\n",
      "startdate = \"'2014-01-01'\"\n",
      "enddate = \"'2015-01-01'\"\n",
      "\n",
      "# basic filter\n",
      "filters = MetricFilters(period, startdate, enddate)\n",
      "# company filter\n",
      "filters_company = MetricFilters(period, startdate, enddate)\n",
      "filters_company.add_filter(MetricFilters.COMPANY, \"Red Hat\")\n",
      "# company and repo filter\n",
      "filters_repo_com = MetricFilters(period, startdate, enddate)\n",
      "filters_repo_com.add_filter(MetricFilters.COMPANY, \"Red Hat\")\n",
      "filters_repo_com.add_filter(MetricFilters.REPOSITORY, \"nova.git\")"
     ],
     "language": "python",
     "metadata": {},
     "outputs": [],
     "prompt_number": 4
    },
    {
     "cell_type": "heading",
     "level": 2,
     "metadata": {},
     "source": [
      "Playing with commits"
     ]
    },
    {
     "cell_type": "code",
     "collapsed": false,
     "input": [
      "# Retrieving data for each filter.\n",
      "# Let's start with commits\n",
      "commits = scm.Commits(dbcon, filters)\n",
      "commits.get_agg()"
     ],
     "language": "python",
     "metadata": {},
     "outputs": [
      {
       "metadata": {},
       "output_type": "pyout",
       "prompt_number": 5,
       "text": [
        "{'commits': 53034L}"
       ]
      }
     ],
     "prompt_number": 5
    },
    {
     "cell_type": "code",
     "collapsed": false,
     "input": [
      "commits.get_ts()"
     ],
     "language": "python",
     "metadata": {},
     "outputs": [
      {
       "metadata": {},
       "output_type": "pyout",
       "prompt_number": 6,
       "text": [
        "{'commits': [4826L,\n",
        "  5273L,\n",
        "  5182L,\n",
        "  4318L,\n",
        "  3645L,\n",
        "  4589L,\n",
        "  4824L,\n",
        "  4970L,\n",
        "  5050L,\n",
        "  4115L,\n",
        "  3006L,\n",
        "  3236L],\n",
        " 'date': ['Jan 2014',\n",
        "  'Feb 2014',\n",
        "  'Mar 2014',\n",
        "  'Apr 2014',\n",
        "  'May 2014',\n",
        "  'Jun 2014',\n",
        "  'Jul 2014',\n",
        "  'Aug 2014',\n",
        "  'Sep 2014',\n",
        "  'Oct 2014',\n",
        "  'Nov 2014',\n",
        "  'Dec 2014'],\n",
        " 'id': [0, 1, 2, 3, 4, 5, 6, 7, 8, 9, 10, 11],\n",
        " 'month': [24169L,\n",
        "  24170L,\n",
        "  24171L,\n",
        "  24172L,\n",
        "  24173L,\n",
        "  24174L,\n",
        "  24175L,\n",
        "  24176L,\n",
        "  24177L,\n",
        "  24178L,\n",
        "  24179L,\n",
        "  24180L],\n",
        " 'unixtime': [u'1388534400',\n",
        "  u'1391212800',\n",
        "  u'1393632000',\n",
        "  u'1396310400',\n",
        "  u'1398902400',\n",
        "  u'1401580800',\n",
        "  u'1404172800',\n",
        "  u'1406851200',\n",
        "  u'1409529600',\n",
        "  u'1412121600',\n",
        "  u'1414800000',\n",
        "  u'1417392000']}"
       ]
      }
     ],
     "prompt_number": 6
    },
    {
     "cell_type": "code",
     "collapsed": false,
     "input": [
      "plot(commits.get_ts()[\"commits\"])"
     ],
     "language": "python",
     "metadata": {},
     "outputs": [
      {
       "metadata": {},
       "output_type": "pyout",
       "prompt_number": 7,
       "text": [
        "[<matplotlib.lines.Line2D at 0x7fd85ad018d0>]"
       ]
      },
      {
       "metadata": {},
       "output_type": "display_data",
       "png": "[encoded data removed]",
       "text": [
        "<matplotlib.figure.Figure at 0x7fd85bcc8950>"
       ]
      }
     ],
     "prompt_number": 7
    },
    {
     "cell_type": "code",
     "collapsed": false,
     "input": [
      "# Let's use another filter\n",
      "commits_redhat = scm.Commits(dbcon, filters_company)"
     ],
     "language": "python",
     "metadata": {},
     "outputs": [],
     "prompt_number": 8
    },
    {
     "cell_type": "code",
     "collapsed": false,
     "input": [
      "commits_redhat.get_agg()"
     ],
     "language": "python",
     "metadata": {},
     "outputs": [
      {
       "metadata": {},
       "output_type": "pyout",
       "prompt_number": 9,
       "text": [
        "{'commits': 6551L}"
       ]
      }
     ],
     "prompt_number": 9
    },
    {
     "cell_type": "code",
     "collapsed": false,
     "input": [
      "plot(commits_redhat.get_ts()[\"commits\"])"
     ],
     "language": "python",
     "metadata": {},
     "outputs": [
      {
       "metadata": {},
       "output_type": "pyout",
       "prompt_number": 10,
       "text": [
        "[<matplotlib.lines.Line2D at 0x7fd85abee350>]"
       ]
      },
      {
       "metadata": {},
       "output_type": "display_data",
       "png": "[encoded data removed]",
       "text": [
        "<matplotlib.figure.Figure at 0x7fd85acac290>"
       ]
      }
     ],
     "prompt_number": 10
    },
    {
     "cell_type": "code",
     "collapsed": false,
     "input": [
      "# Let's focus on an organization and a repository\n",
      "commits_redhat_nova = scm.Commits(dbcon, filters_repo_com)\n",
      "filters_repo_com.type_analysis"
     ],
     "language": "python",
     "metadata": {},
     "outputs": [
      {
       "metadata": {},
       "output_type": "pyout",
       "prompt_number": 11,
       "text": [
        "['company,repository', \"'Red Hat','nova.git'\"]"
       ]
      }
     ],
     "prompt_number": 11
    },
    {
     "cell_type": "code",
     "collapsed": false,
     "input": [
      "#Example of sql\n",
      "commits_redhat_nova._get_sql(True)"
     ],
     "language": "python",
     "metadata": {},
     "outputs": [
      {
       "metadata": {},
       "output_type": "pyout",
       "prompt_number": 12,
       "text": [
        "\"SELECT YEAR( s.author_date )*12+MONTH( s.author_date ) AS month, count(distinct(s.rev)) as commits FROM openstack_source_code_fosdem2015.upeople_companies upcom , openstack_source_code_fosdem2015.companies com , scmlog s , people_upeople pup , repositories r WHERE  s.author_date >='2014-01-01' AND  s.author_date <'2015-01-01' AND r.name ='nova.git' and s.id IN (select distinct(a.commit_id) from actions a) and upcom.company_id = com.id and com.name ='Red Hat' and s.author_date >= upcom.init and pup.upeople_id = upcom.upeople_id and r.id = s.repository_id and s.author_id = pup.people_id and s.author_date < upcom.end GROUP BY  YEAR( s.author_date ),MONTH( s.author_date ) ORDER BY YEAR( s.author_date ),MONTH( s.author_date )\""
       ]
      }
     ],
     "prompt_number": 12
    },
    {
     "cell_type": "code",
     "collapsed": false,
     "input": [
      "plot(commits_redhat_nova.get_ts()[\"commits\"])"
     ],
     "language": "python",
     "metadata": {},
     "outputs": [
      {
       "metadata": {},
       "output_type": "pyout",
       "prompt_number": 13,
       "text": [
        "[<matplotlib.lines.Line2D at 0x7fd85ab2a990>]"
       ]
      },
      {
       "metadata": {},
       "output_type": "display_data",
       "png": "[encoded data removed]",
       "text": [
        "<matplotlib.figure.Figure at 0x7fd85aba2e90>"
       ]
      }
     ],
     "prompt_number": 13
    },
    {
     "cell_type": "heading",
     "level": 2,
     "metadata": {},
     "source": [
      "Playing with Authors"
     ]
    },
    {
     "cell_type": "code",
     "collapsed": false,
     "input": [
      "authors = scm.Authors(dbcon, filters)"
     ],
     "language": "python",
     "metadata": {},
     "outputs": [],
     "prompt_number": 14
    },
    {
     "cell_type": "code",
     "collapsed": false,
     "input": [
      "authors.get_agg()"
     ],
     "language": "python",
     "metadata": {},
     "outputs": [
      {
       "metadata": {},
       "output_type": "pyout",
       "prompt_number": 15,
       "text": [
        "{'authors': 1994L}"
       ]
      }
     ],
     "prompt_number": 15
    },
    {
     "cell_type": "code",
     "collapsed": false,
     "input": [
      "plot(authors.get_ts()[\"authors\"])"
     ],
     "language": "python",
     "metadata": {},
     "outputs": [
      {
       "metadata": {},
       "output_type": "pyout",
       "prompt_number": 16,
       "text": [
        "[<matplotlib.lines.Line2D at 0x7fd85aa56a50>]"
       ]
      },
      {
       "metadata": {},
       "output_type": "display_data",
       "png": "[encoded data removed]",
       "text": [
        "<matplotlib.figure.Figure at 0x7fd85ab429d0>"
       ]
      }
     ],
     "prompt_number": 16
    },
    {
     "cell_type": "code",
     "collapsed": false,
     "input": [
      "# let's list top 10 authors\n",
      "authors.get_list()"
     ],
     "language": "python",
     "metadata": {},
     "outputs": [
      {
       "metadata": {},
       "output_type": "pyout",
       "prompt_number": 17,
       "text": [
        "{'authors': ['Jenkins',\n",
        "  'OpenStack Project Creator',\n",
        "  'Andreas Jaeger',\n",
        "  'OpenStack Jenkins',\n",
        "  'Jeremy Stanley',\n",
        "  'James E. Blair',\n",
        "  'Sean Dague',\n",
        "  'Clark Boylan',\n",
        "  'Kevin Benton',\n",
        "  'Christian Berendt'],\n",
        " 'commits': [39333L, 2548L, 1605L, 930L, 903L, 875L, 806L, 702L, 654L, 560L],\n",
        " 'id': [2L, 239L, 194L, 135L, 294L, 15L, 49L, 7L, 567L, 361L]}"
       ]
      }
     ],
     "prompt_number": 17
    },
    {
     "cell_type": "code",
     "collapsed": false,
     "input": [
      "# Let's remove some bots\n",
      "filters.people_out = [\"Jenkins\",\"OpenStack Jenkins\", \"OpenStack Project Creator\"]"
     ],
     "language": "python",
     "metadata": {},
     "outputs": [],
     "prompt_number": 18
    },
    {
     "cell_type": "code",
     "collapsed": false,
     "input": [
      "authors = scm.Authors(dbcon, filters)"
     ],
     "language": "python",
     "metadata": {},
     "outputs": [],
     "prompt_number": 19
    },
    {
     "cell_type": "code",
     "collapsed": false,
     "input": [
      "authors.get_list()"
     ],
     "language": "python",
     "metadata": {},
     "outputs": [
      {
       "metadata": {},
       "output_type": "pyout",
       "prompt_number": 20,
       "text": [
        "{'authors': ['Andreas Jaeger',\n",
        "  'Jeremy Stanley',\n",
        "  'James E. Blair',\n",
        "  'Sean Dague',\n",
        "  'Clark Boylan',\n",
        "  'Kevin Benton',\n",
        "  'Christian Berendt',\n",
        "  'Joshua Harlow',\n",
        "  'Brant Knudson',\n",
        "  'Joe Gordon'],\n",
        " 'commits': [1605L, 903L, 875L, 806L, 702L, 654L, 560L, 537L, 514L, 508L],\n",
        " 'id': [194L, 294L, 15L, 49L, 7L, 567L, 361L, 159L, 391L, 36L]}"
       ]
      }
     ],
     "prompt_number": 20
    },
    {
     "cell_type": "heading",
     "level": 2,
     "metadata": {},
     "source": [
      "More in depth analysis: community structure"
     ]
    },
    {
     "cell_type": "code",
     "collapsed": false,
     "input": [
      "# This community structure analysis characterizes developers\n",
      "# by their activity.\n",
      "# Core developers are those committing the 80% of the changes\n",
      "# Regular developers are those committing the next 15% of the changes\n",
      "# And occasional ones are those committing the rest 5%\n",
      "from vizgrimoire.analysis.onion_model import CommunityStructure"
     ],
     "language": "python",
     "metadata": {},
     "outputs": [],
     "prompt_number": 21
    },
    {
     "cell_type": "code",
     "collapsed": false,
     "input": [
      "onion = CommunityStructure(dbcon, filters)"
     ],
     "language": "python",
     "metadata": {},
     "outputs": [],
     "prompt_number": 22
    },
    {
     "cell_type": "code",
     "collapsed": false,
     "input": [
      "print onion.result()"
     ],
     "language": "python",
     "metadata": {},
     "outputs": [
      {
       "output_type": "stream",
       "stream": "stdout",
       "text": [
        "{'occasional': 1247, 'core': 224, 'regular': 523}\n"
       ]
      }
     ],
     "prompt_number": 23
    },
    {
     "cell_type": "heading",
     "level": 2,
     "metadata": {},
     "source": [
      "Let's focus on ticketing activity (and efficiency)"
     ]
    },
    {
     "cell_type": "code",
     "collapsed": false,
     "input": [
      "import vizgrimoire.metrics.its_metrics as its"
     ],
     "language": "python",
     "metadata": {},
     "outputs": [],
     "prompt_number": 24
    },
    {
     "cell_type": "code",
     "collapsed": false,
     "input": [
      "# Instantiate database access\n",
      "# Playing with OpenStack tickets database (MySQL) at \n",
      "#  http://activity.openstack.org/dash/browser/data/db/tickets.mysql.7z\n",
      "# Database named as openstack_tickets_fosdem2015\n",
      "\n",
      "user = \"root\"\n",
      "password = \"\"\n",
      "source_code_db = \"openstack_tickets_fosdem2015\"\n",
      "identities_db = \"openstack_source_code_fosdem2015\"\n",
      "\n",
      "dbcon = ITSQuery(user, password, source_code_db, identities_db)"
     ],
     "language": "python",
     "metadata": {},
     "outputs": [],
     "prompt_number": 25
    },
    {
     "cell_type": "code",
     "collapsed": false,
     "input": [
      "# Instantiate some filters to play with\n",
      "period = MetricFilters.PERIOD_MONTH\n",
      "startdate = \"'2010-01-01'\"\n",
      "enddate = \"'2012-01-01'\"\n",
      "\n",
      "# basic filter\n",
      "filters = MetricFilters(period, startdate, enddate)"
     ],
     "language": "python",
     "metadata": {},
     "outputs": [],
     "prompt_number": 30
    },
    {
     "cell_type": "code",
     "collapsed": false,
     "input": [
      "from vizgrimoire.ITS import ITS\n",
      "ITS.set_backend(\"lp\")\n",
      "closed_tickets = its.Closed(dbcon, filters)\n",
      "opened_tickets = its.Opened(dbcon, filters)"
     ],
     "language": "python",
     "metadata": {},
     "outputs": [],
     "prompt_number": 31
    },
    {
     "cell_type": "code",
     "collapsed": false,
     "input": [
      "closed_tickets.get_agg()"
     ],
     "language": "python",
     "metadata": {},
     "outputs": [
      {
       "metadata": {},
       "output_type": "pyout",
       "prompt_number": 32,
       "text": [
        "{'closed': 2038L}"
       ]
      }
     ],
     "prompt_number": 32
    },
    {
     "cell_type": "code",
     "collapsed": false,
     "input": [
      "opened_tickets.get_agg()"
     ],
     "language": "python",
     "metadata": {},
     "outputs": [
      {
       "metadata": {},
       "output_type": "pyout",
       "prompt_number": 33,
       "text": [
        "{'opened': 4040L}"
       ]
      }
     ],
     "prompt_number": 33
    },
    {
     "cell_type": "code",
     "collapsed": false,
     "input": [
      "# Let's see the efficienciy of the community closing tickets (BMI index)\n",
      "# This is calculated as the percentage of tickets closed out of the \n",
      "# opened ones. Values over 100, indicates that the community is closing\n",
      "# more tickets than opening.\n",
      "bmi = its.BMIIndex(dbcon, filters)\n",
      "plot(bmi.get_ts()[\"bmitickets\"])"
     ],
     "language": "python",
     "metadata": {},
     "outputs": [
      {
       "metadata": {},
       "output_type": "pyout",
       "prompt_number": 34,
       "text": [
        "[<matplotlib.lines.Line2D at 0x7fd85a8d0590>]"
       ]
      },
      {
       "metadata": {},
       "output_type": "display_data",
       "png": "[encoded data removed]",
       "text": [
        "<matplotlib.figure.Figure at 0x7fd85aa71a50>"
       ]
      }
     ],
     "prompt_number": 34
    },
    {
     "cell_type": "code",
     "collapsed": false,
     "input": [
      "# Let's look for a specific project: all integrated projects in OpenStack\n",
      "filters.add_filter(filters.PROJECT, \"integrated\")"
     ],
     "language": "python",
     "metadata": {},
     "outputs": [],
     "prompt_number": 35
    },
    {
     "cell_type": "code",
     "collapsed": false,
     "input": [
      "bmi = its.BMIIndex(dbcon, filters)"
     ],
     "language": "python",
     "metadata": {},
     "outputs": [],
     "prompt_number": 36
    },
    {
     "cell_type": "code",
     "collapsed": false,
     "input": [
      "plot(bmi.get_ts()[\"bmitickets\"])"
     ],
     "language": "python",
     "metadata": {},
     "outputs": [
      {
       "metadata": {},
       "output_type": "pyout",
       "prompt_number": 37,
       "text": [
        "[<matplotlib.lines.Line2D at 0x7fd85a87ddd0>]"
       ]
      },
      {
       "metadata": {},
       "output_type": "display_data",
       "png": "[encoded data removed]",
       "text": [
        "<matplotlib.figure.Figure at 0x7fd85aae6810>"
       ]
      }
     ],
     "prompt_number": 37
    },
    {
     "cell_type": "code",
     "collapsed": false,
     "input": [],
     "language": "python",
     "metadata": {},
     "outputs": [],
     "prompt_number": 33
    },
    {
     "cell_type": "code",
     "collapsed": false,
     "input": [],
     "language": "python",
     "metadata": {},
     "outputs": []
    }
   ],
   "metadata": {}
  }
 ]
}