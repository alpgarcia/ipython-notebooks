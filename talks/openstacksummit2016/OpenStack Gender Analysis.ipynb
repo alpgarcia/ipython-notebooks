{
 "metadata": {
  "name": "",
  "signature": "sha256:a003dffa70a42d5347dcdd9d98ae60d1b3dcbb785cf28d0dc5d2625cf2d30494"
 },
 "nbformat": 3,
 "nbformat_minor": 0,
 "worksheets": [
  {
   "cells": [
    {
     "cell_type": "code",
     "collapsed": false,
     "input": [
      "# Elastic search library\n",
      "from elasticsearch import Elasticsearch, helpers\n",
      "# python-mysql database access\n",
      "import MySQLdb\n",
      "import logging\n",
      "import pandas\n",
      "from ConfigParser import SafeConfigParser"
     ],
     "language": "python",
     "metadata": {},
     "outputs": [],
     "prompt_number": 1
    },
    {
     "cell_type": "code",
     "collapsed": false,
     "input": [
      "#databases\n",
      "GERRIT_DB = \"openstack_gender_gerrit\"\n",
      "GIT_DB = \"openstack_gender_source_code\"\n",
      "PROJECTS_DB = \"openstack_gender_projects\"\n",
      "SH_DB = \"openstack_gender_sortinghat\"\n",
      "GENDER_DB = \"openstack_gender_genderize\"\n"
     ],
     "language": "python",
     "metadata": {},
     "outputs": [],
     "prompt_number": 2
    },
    {
     "cell_type": "code",
     "collapsed": false,
     "input": [
      "# Config file for ElasticSearch connection\n",
      "parser = SafeConfigParser()\n",
      "conf_file = 'settings'\n",
      "fd = open(conf_file, 'r')\n",
      "parser.readfp(fd)\n",
      "fd.close()\n",
      "\n",
      "sections = parser.sections()\n",
      "for section in sections:\n",
      "    options = parser.options(section)\n",
      "    for option in options:\n",
      "        if option == 'user': user = parser.get(section, option)\n",
      "        if option == 'password': password = parser.get(section, option)\n",
      "        if option == 'host': host = parser.get(section, option)\n",
      "        if option == 'port': port = parser.get(section, option)\n",
      "        if option == 'path': path = parser.get(section, option)\n"
     ],
     "language": "python",
     "metadata": {},
     "outputs": [],
     "prompt_number": 3
    },
    {
     "cell_type": "code",
     "collapsed": false,
     "input": [
      "#database connection \n",
      "\n",
      "def connect(database):\n",
      "   user = \"root\"\n",
      "   password = \"\"\n",
      "   host = \"localhost\"\n",
      "   db = database\n",
      "\n",
      "   try:\n",
      "      db = MySQLdb.connect(user = user, passwd = password, db = db, charset='utf8')\n",
      "      return db, db.cursor()\n",
      "   except:\n",
      "      logging.error(\"Database connection error\")\n",
      "      raise\n",
      "        \n",
      "\n",
      "\n",
      "def execute_query(connector, query):\n",
      "   results = int (connector.execute(query))\n",
      "   cont = 0\n",
      "   if results > 0:\n",
      "      result1 = connector.fetchall()\n",
      "      return result1\n",
      "   else:\n",
      "      return []\n",
      "    \n",
      "\n",
      "#db, cursor = connect()"
     ],
     "language": "python",
     "metadata": {},
     "outputs": [],
     "prompt_number": 4
    },
    {
     "cell_type": "code",
     "collapsed": false,
     "input": [
      "# Insert data in ElasticSearch\n",
      "def to_json(row, columns):\n",
      "    # Function that translates from tuple to JSON doc\n",
      "    doc = {}\n",
      "    \n",
      "    for column in columns:\n",
      "       \n",
      "        value = row[columns.index(column) + 1] \n",
      "       \n",
      "        try:\n",
      "            doc[column] = value\n",
      "        except:\n",
      "            doc[column] = \"\"\n",
      "   \n",
      "    return doc\n",
      "\n",
      "def insert_data(uniq_id, all_data, index):\n",
      "\n",
      "    import numpy\n",
      "    \n",
      "    columns = all_data.columns.values.tolist()\n",
      "    print columns\n",
      "    bulk_doc = []\n",
      "    for row in all_data.itertuples():\n",
      "        # Let's insert into ES each tuple found in the dataset\n",
      "        uniq_id = uniq_id + 1\n",
      "        doc = to_json(row, columns)\n",
      "        header = {\n",
      "            \"_index\": index,\n",
      "            \"_type\": \"event\",\n",
      "            \"_id\": uniq_id,\n",
      "            \"_source\": doc\n",
      "        }\n",
      "\n",
      "        if numpy.isnan(header[\"_source\"][\"dev_gender_probability\"]): header[\"_source\"][\"dev_gender_probability\"] = 0.0\n",
      "        bulk_doc.append(header)\n",
      "        if uniq_id % 10000 == 0:\n",
      "            try:\n",
      "                helpers.bulk(es2, bulk_doc)\n",
      "            except:\n",
      "                print \"error\"\n",
      "            bulk_doc = []\n",
      "            \n",
      "    return uniq_id"
     ],
     "language": "python",
     "metadata": {},
     "outputs": [],
     "prompt_number": 16
    },
    {
     "cell_type": "code",
     "collapsed": false,
     "input": [
      "db_gerrit, cursor_gerrit = connect(GERRIT_DB)\n",
      "db_git, cursor_git = connect(GIT_DB)"
     ],
     "language": "python",
     "metadata": {},
     "outputs": [],
     "prompt_number": 6
    },
    {
     "cell_type": "code",
     "collapsed": false,
     "input": [
      "# Retrieving data from Git, with gender, and project info.\n",
      "# name, email, uuid, gender, eventtype, date, files, added_lines, removed_lines, project, repository)\n",
      "query = \"\"\" select distinct pro.uuid as dev_uuid, \n",
      "                            pro.name as dev_name, \n",
      "                            pro.email as dev_email, \n",
      "                            pro.gender as dev_gender, \n",
      "                            TRUNCATE(pro.probability*100, 0) as dev_gender_probability, \n",
      "                            'commit' as eventtype,\n",
      "                            s.rev as id, \n",
      "                            a.file_id as file_id,\n",
      "                            ft.type as file_type,\n",
      "                            cl.added, \n",
      "                            cl.removed, \n",
      "                            0 as review_value,\n",
      "                            s.date as date, \n",
      "                            t.min_date as min_date,\n",
      "                            t.max_date as max_date,\n",
      "                            projects.id as project_name, \n",
      "                            re.name as repository_name\n",
      "            from actions a, \n",
      "                 file_types ft,\n",
      "                 scmlog s, \n",
      "                 commits_lines cl, \n",
      "                 people_uidentities puid, \n",
      "                 repositories re,\n",
      "                 openstack_gender_genderize.profiles pro, \n",
      "                 openstack_gender_projects.projects projects, \n",
      "                 openstack_gender_projects.project_repositories as prorep,\n",
      "                 (select puid.uuid,\n",
      "                         min(s.date) as min_date,\n",
      "                         max(s.date) as max_date\n",
      "                  from scmlog s,\n",
      "                       people_uidentities puid\n",
      "                  where s.author_id = puid.people_id\n",
      "                  group by puid.uuid) t\n",
      "            where a.commit_id=s.id and\n",
      "                  a.file_id = ft.file_id and\n",
      "                  cl.commit_id = s.id and \n",
      "                  s.author_id=puid.people_id and \n",
      "                  puid.uuid = pro.uuid and \n",
      "                  s.repository_id = re.id and \n",
      "                  re.uri = prorep.repository_name and \n",
      "                  prorep.project_id = projects.project_id and\n",
      "                  pro.uuid = t.uuid\n",
      "             \"\"\"\n",
      "\n"
     ],
     "language": "python",
     "metadata": {},
     "outputs": [],
     "prompt_number": 7
    },
    {
     "cell_type": "code",
     "collapsed": false,
     "input": [
      "git_data = execute_query(cursor_git, query)"
     ],
     "language": "python",
     "metadata": {},
     "outputs": [],
     "prompt_number": 8
    },
    {
     "cell_type": "code",
     "collapsed": false,
     "input": [
      "git_data_list = list(git_data)\n",
      "git_data_df = pandas.DataFrame(git_data_list, columns=[\"dev_uuid\", \"dev_name\", \"dev_email\", \"dev_gender\", \n",
      "                                                       \"dev_gender_probability\", \"eventtype\", \"id\", \"file_id\", \n",
      "                                                       \"file_type\", \"added_lines\", \"removed_lines\", \"review_value\", \n",
      "                                                       \"date\", \"min_date\", \"max_date\", \"project_name\", \"repository_name\"])"
     ],
     "language": "python",
     "metadata": {},
     "outputs": [],
     "prompt_number": 9
    },
    {
     "cell_type": "code",
     "collapsed": false,
     "input": [
      "len(git_data_df)"
     ],
     "language": "python",
     "metadata": {},
     "outputs": [
      {
       "metadata": {},
       "output_type": "pyout",
       "prompt_number": 10,
       "text": [
        "1517563"
       ]
      }
     ],
     "prompt_number": 10
    },
    {
     "cell_type": "code",
     "collapsed": false,
     "input": [
      "INDEX = 'openstack-gender'\n",
      "\n",
      "# Building the ES connection\n",
      "connection = \"http://\" + user + \":\" + password + \"@\" + host + \":\" + port + \"/\" + path\n",
      "\n",
      "#es2 = Elasticsearch([connection])\n",
      "es2 = Elasticsearch([\"http://localhost:9200\"])\n",
      "\n",
      "# Creating the index\n",
      "es2.indices.create(index=INDEX)"
     ],
     "language": "python",
     "metadata": {},
     "outputs": [
      {
       "metadata": {},
       "output_type": "pyout",
       "prompt_number": 15,
       "text": [
        "{u'acknowledged': True}"
       ]
      }
     ],
     "prompt_number": 15
    },
    {
     "cell_type": "code",
     "collapsed": false,
     "input": [
      "uniq_id = 0\n",
      "uniq_id = insert_data(uniq_id, git_data_df, INDEX)\n",
      "git_data_df = None\n",
      "git_data_list = None\n",
      "git_data = None\n"
     ],
     "language": "python",
     "metadata": {},
     "outputs": [
      {
       "output_type": "stream",
       "stream": "stdout",
       "text": [
        "['dev_uuid', 'dev_name', 'dev_email', 'dev_gender', 'dev_gender_probability', 'eventtype', 'id', 'file_id', 'file_type', 'added_lines', 'removed_lines', 'review_value', 'date', 'min_date', 'max_date', 'project_name', 'repository_name']\n"
       ]
      }
     ],
     "prompt_number": 17
    },
    {
     "cell_type": "code",
     "collapsed": false,
     "input": [],
     "language": "python",
     "metadata": {},
     "outputs": [],
     "prompt_number": 169
    },
    {
     "cell_type": "code",
     "collapsed": false,
     "input": [
      "query = \"\"\" select distinct pro.uuid as dev_uuid, \n",
      "                            pro.name as dev_name, \n",
      "                            pro.email as dev_email, \n",
      "                            pro.gender as dev_gender, \n",
      "                            pro.probability as dev_gender_probability, \n",
      "                            ch.field as eventtype,\n",
      "                            i.issue as id,\n",
      "                            -1 as file_id,\n",
      "                            \"na\" as file_type,\n",
      "                            -1 as added_lines,\n",
      "                            -1 as removed_lines,\n",
      "                            new_value as review_value,\n",
      "                            ch.changed_on as date,\n",
      "                            t.min_date as min_date,\n",
      "                            t.max_date as max_date,\n",
      "                            projects.id as project_name, \n",
      "                            t.url as repository_name \n",
      "             from issues i, \n",
      "                  changes ch, \n",
      "                  people_uidentities puid, \n",
      "                  trackers t, \n",
      "                  openstack_gender_genderize.profiles pro, \n",
      "                  openstack_gender_projects.projects projects, \n",
      "                  openstack_gender_projects.project_repositories as prorep,\n",
      "                  (select puid.uuid, \n",
      "                          min(changed_on) as min_date,\n",
      "                          max(changed_on) as max_date \n",
      "                   from changes,\n",
      "                        people_uidentities puid \n",
      "                   where changes.changed_by = puid.people_id\n",
      "                   group by puid.uuid) t\n",
      "             where i.id=ch.issue_id and \n",
      "                   ch.changed_by=puid.people_id  and \n",
      "                   puid.uuid = pro.uuid and \n",
      "                   i.tracker_id = t.id and \n",
      "                   t.url = prorep.repository_name and \n",
      "                   prorep.project_id = projects.project_id and \n",
      "                   (ch.field='Code-Review' or ch.field='Upload') and\n",
      "                   pro.uuid = t.uuid\n",
      "             \"\"\"\n"
     ],
     "language": "python",
     "metadata": {},
     "outputs": [],
     "prompt_number": 18
    },
    {
     "cell_type": "code",
     "collapsed": false,
     "input": [
      "gerrit_data = execute_query(cursor_gerrit, query)"
     ],
     "language": "python",
     "metadata": {},
     "outputs": [],
     "prompt_number": 19
    },
    {
     "cell_type": "code",
     "collapsed": false,
     "input": [
      "gerrit_data_list = list(gerrit_data)\n",
      "gerrit_data_df = pandas.DataFrame(gerrit_data_list, columns=[\"dev_uuid\", \"dev_name\", \"dev_email\", \"dev_gender\", \n",
      "                                                       \"dev_gender_probability\", \"eventtype\", \"id\", \"file_id\", \n",
      "                                                       \"file_type\", \"added_lines\", \"removed_lines\", \"review_value\", \n",
      "                                                       \"date\", \"min_date\", \"max_date\", \"project_name\", \"repository_name\"])"
     ],
     "language": "python",
     "metadata": {},
     "outputs": [],
     "prompt_number": 20
    },
    {
     "cell_type": "code",
     "collapsed": false,
     "input": [
      "#all_data = pandas.concat([git_data_df, gerrit_data_df])"
     ],
     "language": "python",
     "metadata": {},
     "outputs": [],
     "prompt_number": 21
    },
    {
     "cell_type": "code",
     "collapsed": false,
     "input": [
      "len(gerrit_data_df)"
     ],
     "language": "python",
     "metadata": {},
     "outputs": [
      {
       "metadata": {},
       "output_type": "pyout",
       "prompt_number": 22,
       "text": [
        "1700121"
       ]
      }
     ],
     "prompt_number": 22
    },
    {
     "cell_type": "code",
     "collapsed": false,
     "input": [
      "uniq_id = insert_data(uniq_id, gerrit_data_df, INDEX)"
     ],
     "language": "python",
     "metadata": {},
     "outputs": [
      {
       "output_type": "stream",
       "stream": "stdout",
       "text": [
        "['dev_uuid', 'dev_name', 'dev_email', 'dev_gender', 'dev_gender_probability', 'eventtype', 'id', 'file_id', 'file_type', 'added_lines', 'removed_lines', 'review_value', 'date', 'min_date', 'max_date', 'project_name', 'repository_name']\n"
       ]
      }
     ],
     "prompt_number": 23
    },
    {
     "cell_type": "code",
     "collapsed": false,
     "input": [
      "len(gerrit_data_df)"
     ],
     "language": "python",
     "metadata": {},
     "outputs": [
      {
       "metadata": {},
       "output_type": "pyout",
       "prompt_number": 24,
       "text": [
        "1700121"
       ]
      }
     ],
     "prompt_number": 24
    },
    {
     "cell_type": "code",
     "collapsed": false,
     "input": [
      "uniq_id"
     ],
     "language": "python",
     "metadata": {},
     "outputs": [
      {
       "metadata": {},
       "output_type": "pyout",
       "prompt_number": 20,
       "text": [
        "3217684"
       ]
      }
     ],
     "prompt_number": 20
    },
    {
     "cell_type": "code",
     "collapsed": false,
     "input": [],
     "language": "python",
     "metadata": {},
     "outputs": []
    }
   ],
   "metadata": {}
  }
 ]
}