{
 "metadata": {
  "name": "",
  "signature": "sha256:cc92241db8f2b715ab7da87bfe9c688fb63a8e0b1d1506476db0fd561a761494"
 },
 "nbformat": 3,
 "nbformat_minor": 0,
 "worksheets": [
  {
   "cells": [
    {
     "cell_type": "code",
     "collapsed": false,
     "input": [
      "# Elastic search library\n",
      "from elasticsearch import Elasticsearch, helpers\n",
      "import logging\n",
      "import pandas\n",
      "from elasticsearch_dsl import Search, Q"
     ],
     "language": "python",
     "metadata": {},
     "outputs": [],
     "prompt_number": 1
    },
    {
     "cell_type": "code",
     "collapsed": false,
     "input": [
      "INDEX = 'git'\n",
      "\n",
      "es2 = Elasticsearch([\"localhost:9200\"])\n"
     ],
     "language": "python",
     "metadata": {},
     "outputs": [],
     "prompt_number": 3
    },
    {
     "cell_type": "code",
     "collapsed": false,
     "input": [
      "s = Search(using=es2, index=INDEX).query(\"match\", dev_name=\"dazzachan\")"
     ],
     "language": "python",
     "metadata": {},
     "outputs": [],
     "prompt_number": 48
    },
    {
     "cell_type": "code",
     "collapsed": false,
     "input": [
      "response = s.execute()\n",
      "d = response.to_dict()\n",
      "print d.keys()\n",
      "response = s[0:int(d[\"hits\"][\"total\"])].execute()\n",
      "d = response.to_dict()"
     ],
     "language": "python",
     "metadata": {},
     "outputs": [
      {
       "output_type": "stream",
       "stream": "stdout",
       "text": [
        "[u'hits', u'_shards', u'took', u'timed_out']\n"
       ]
      }
     ],
     "prompt_number": 49
    },
    {
     "cell_type": "code",
     "collapsed": false,
     "input": [
      "for value in d[\"hits\"][\"hits\"]:\n",
      "    new_dict = value.copy()\n",
      "    new_dict[\"_source\"][\"dev_gender\"] = \"male\"\n",
      "    new_dict[\"_source\"][\"dev_probability\"] = 100\n",
      "    res = es2.index(index=\"openstack-gender\", doc_type='event', id=new_dict[\"_id\"], body=new_dict[\"_source\"])\n"
     ],
     "language": "python",
     "metadata": {},
     "outputs": [],
     "prompt_number": 51
    },
    {
     "cell_type": "code",
     "collapsed": false,
     "input": [],
     "language": "python",
     "metadata": {},
     "outputs": [
      {
       "output_type": "stream",
       "stream": "stdout",
       "text": [
        "1518\n"
       ]
      }
     ],
     "prompt_number": 50
    },
    {
     "cell_type": "code",
     "collapsed": false,
     "input": [],
     "language": "python",
     "metadata": {},
     "outputs": [],
     "prompt_number": 50
    },
    {
     "cell_type": "code",
     "collapsed": false,
     "input": [],
     "language": "python",
     "metadata": {},
     "outputs": [
      {
       "output_type": "stream",
       "stream": "stdout",
       "text": [
        "[u'hits', u'_shards', u'took', u'timed_out']\n"
       ]
      }
     ],
     "prompt_number": 51
    },
    {
     "cell_type": "code",
     "collapsed": false,
     "input": [],
     "language": "python",
     "metadata": {},
     "outputs": []
    }
   ],
   "metadata": {}
  }
 ]
}